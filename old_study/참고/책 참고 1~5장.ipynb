{
 "cells": [
  {
   "cell_type": "code",
   "execution_count": 8,
   "metadata": {
    "collapsed": true
   },
   "outputs": [],
   "source": [
    "# 불러올 모듈(라이브러리)을 다운받고, 위치를 tmp 안에 넣으세요.\n",
    "# ex) tmp : C:\\\n",
    "def load_modules(tmp):\n",
    "    import sys\n",
    "    sys.path.insert(0,tmp)"
   ]
  },
  {
   "cell_type": "code",
   "execution_count": 13,
   "metadata": {
    "collapsed": true
   },
   "outputs": [],
   "source": [
    "load_modules('/home/ki/git/MLBook_source/linear')\n",
    "import pcn\n",
    "import pylab as pl\n",
    "import numpy as np\n",
    "from numpy import *\n",
    "import pandas as pd"
   ]
  },
  {
   "cell_type": "code",
   "execution_count": 14,
   "metadata": {},
   "outputs": [],
   "source": [
    "pima=pd.read_csv('https://archive.ics.uci.edu/ml/machine-learning-databases/pima-indians-diabetes/pima-indians-diabetes.data',header=None)"
   ]
  },
  {
   "cell_type": "code",
   "execution_count": 15,
   "metadata": {
    "collapsed": true
   },
   "outputs": [],
   "source": [
    "pima=np.array(pima)"
   ]
  },
  {
   "cell_type": "code",
   "execution_count": 17,
   "metadata": {},
   "outputs": [
    {
     "name": "stdout",
     "output_type": "stream",
     "text": [
      "Output on original data\n",
      "[[ 350.  115.]\n",
      " [ 130.  146.]]\n",
      "0.669365721997\n",
      "Output after preprocessing of data\n",
      "[[ 239.  127.]\n",
      " [   0.    0.]]\n",
      "0.653005464481\n"
     ]
    },
    {
     "name": "stderr",
     "output_type": "stream",
     "text": [
      "/home/ki/anaconda2/envs/tensorflow/lib/python2.7/site-packages/ipykernel_launcher.py:16: RuntimeWarning: invalid value encountered in divide\n",
      "  app.launch_new_instance()\n",
      "/home/ki/git/MLBook_source/linear/pcn.py:59: RuntimeWarning: invalid value encountered in greater\n",
      "  return where(outputs>0,1,0)\n",
      "/home/ki/git/MLBook_source/linear/pcn.py:74: RuntimeWarning: invalid value encountered in greater\n",
      "  outputs = where(outputs>0,1,0)\n"
     ]
    }
   ],
   "source": [
    "print \"Output on original data\"\n",
    "p = pcn.pcn(pima[:,:8],pima[:,8:9])\n",
    "p.pcntrain(pima[:,:8],pima[:,8:9],0.25,100)\n",
    "p.confmat(pima[:,:8],pima[:,8:9])\n",
    "\n",
    "# Various preprocessing steps\n",
    "pima[where(pima[:,0]>8),0] = 8\n",
    "\n",
    "pima[where(pima[:,7]<=30),7] = 1\n",
    "pima[where((pima[:,7]>30) & (pima[:,7]<=40)),7] = 2\n",
    "pima[where((pima[:,7]>40) & (pima[:,7]<=50)),7] = 3\n",
    "pima[where((pima[:,7]>50) & (pima[:,7]<=60)),7] = 4\n",
    "pima[where(pima[:,7]>60)] = 5\n",
    "\n",
    "pima[:,:8] = pima[:,:8]-pima[:,:8].mean(axis=0)\n",
    "pima[:,:8] = pima[:,:8]/pima[:,:8].var(axis=0)\n",
    "\n",
    "#print pima.mean(axis=0)\n",
    "#print pima.var(axis=0)\n",
    "#print pima.max(axis=0)\n",
    "#print pima.min(axis=0)\n",
    "\n",
    "trainin = pima[::2,:8]\n",
    "testin = pima[1::2,:8]\n",
    "traintgt = pima[::2,8:9]\n",
    "testtgt = pima[1::2,8:9]\n",
    "\n",
    "# Perceptron training on the preprocessed dataset\n",
    "print \"Output after preprocessing of data\"\n",
    "p1 = pcn.pcn(trainin,traintgt)\n",
    "p1.pcntrain(trainin,traintgt,0.25,100)\n",
    "p1.confmat(testin,testtgt)"
   ]
  },
  {
   "cell_type": "code",
   "execution_count": null,
   "metadata": {
    "collapsed": true
   },
   "outputs": [],
   "source": []
  }
 ],
 "metadata": {
  "kernelspec": {
   "display_name": "Python 2",
   "language": "python",
   "name": "python2"
  },
  "language_info": {
   "codemirror_mode": {
    "name": "ipython",
    "version": 2
   },
   "file_extension": ".py",
   "mimetype": "text/x-python",
   "name": "python",
   "nbconvert_exporter": "python",
   "pygments_lexer": "ipython2",
   "version": "2.7.13"
  }
 },
 "nbformat": 4,
 "nbformat_minor": 2
}
