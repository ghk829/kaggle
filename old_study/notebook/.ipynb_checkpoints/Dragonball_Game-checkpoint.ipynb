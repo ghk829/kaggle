{
 "cells": [
  {
   "cell_type": "code",
   "execution_count": 77,
   "metadata": {},
   "outputs": [],
   "source": [
    "class user1:\n",
    "    attacks = [1,3,5];\n",
    "    name = \"KKH\";\n",
    "    # -1 :막기\n",
    "    # 0 : 으\n",
    "    # 1 : 파\n",
    "    # 3 : 에너지파 3>>1 그러나,막기로 막을 수 있음\n",
    "    # 5 : 원기옥 \n",
    "    status = 0;\n",
    "    # 기 상태\n",
    "    energy = 0;\n",
    "    strategy = [0,0,0,3,0,0];\n",
    "    other = None;\n",
    "    def __init__(self):\n",
    "        pass\n",
    "    def next_step(self,step):\n",
    "        # 정의해야 할 Method\n",
    "        self.status = self.strategy[step]\n",
    "        if self.status == 0:\n",
    "            self.energy+=1;\n",
    "        elif self.status in self.attacks:\n",
    "            if self.energy < self.status:\n",
    "                self.status = 0;\n",
    "                self.energy+=1;\n",
    "            else:\n",
    "                self.energy-=self.status;"
   ]
  },
  {
   "cell_type": "code",
   "execution_count": 78,
   "metadata": {
    "collapsed": true
   },
   "outputs": [],
   "source": [
    "class user2:\n",
    "    attacks = [1,3,5];\n",
    "    name = \"SHS\";\n",
    "    # -1 :막기\n",
    "    # 0 : 으\n",
    "    # 1 : 파\n",
    "    # 3 : 에너지파 3>>1 그러나,막기로 막을 수 있음\n",
    "    # 5 : 원기옥 \n",
    "    status = 0;\n",
    "    # 기 상태\n",
    "    energy = 0;\n",
    "    strategy = [0,0,-1,-1,1,1];\n",
    "    other = None;\n",
    "    def __init__(self):\n",
    "        pass\n",
    "    def next_step(self,step):\n",
    "        # 정의해야 할 Method\n",
    "        self.status = self.strategy[step]\n",
    "        if self.status == 0:\n",
    "            self.energy+=1;\n",
    "        elif self.status in self.attacks:\n",
    "            if self.energy < self.status:\n",
    "                self.status = 0;\n",
    "                self.energy+=1;\n",
    "            else:\n",
    "                self.energy-=self.status;"
   ]
  },
  {
   "cell_type": "code",
   "execution_count": 79,
   "metadata": {
    "collapsed": true
   },
   "outputs": [],
   "source": [
    "a = user1();\n",
    "b = user2();"
   ]
  },
  {
   "cell_type": "code",
   "execution_count": 80,
   "metadata": {
    "collapsed": true
   },
   "outputs": [],
   "source": [
    "a.other = b ;\n",
    "b.other = a ; "
   ]
  },
  {
   "cell_type": "code",
   "execution_count": 81,
   "metadata": {},
   "outputs": [
    {
     "name": "stdout",
     "output_type": "stream",
     "text": [
      "SHS Win!\n"
     ]
    }
   ],
   "source": [
    "# main\n",
    "attacks = [1,3,5];\n",
    "for i in range(5):\n",
    "    a.next_step(i);\n",
    "    a.other.next_step(i);\n",
    "    if a.status == 5:\n",
    "        print(a.name+\" Win!\");\n",
    "    elif a.other.status ==5:\n",
    "        print(a.other.name+\" Win!\")\n",
    "        \n",
    "    if(a.status in attacks)and(a.other.status in attacks):\n",
    "        if a.status < a.other.status:\n",
    "            print(a.other.name+\" Win!\");\n",
    "            break;\n",
    "        elif a.status > a.other.status:\n",
    "            print(a.name+\" Win!\")\n",
    "            break;\n",
    "        else :\n",
    "            pass\n",
    "    if (a.status ==0 and (a.other.status in attacks))|((a.status in attacks) and a.other.status==0):\n",
    "        if a.status ==0:\n",
    "            print(a.other.name+\" Win!\")\n",
    "            break;\n",
    "        else:\n",
    "            print(a.name+\" Win!\")\n",
    "            break;"
   ]
  },
  {
   "cell_type": "code",
   "execution_count": null,
   "metadata": {
    "collapsed": true
   },
   "outputs": [],
   "source": []
  }
 ],
 "metadata": {
  "kernelspec": {
   "display_name": "Python 3",
   "language": "python",
   "name": "python3"
  },
  "language_info": {
   "codemirror_mode": {
    "name": "ipython",
    "version": 3
   },
   "file_extension": ".py",
   "mimetype": "text/x-python",
   "name": "python",
   "nbconvert_exporter": "python",
   "pygments_lexer": "ipython3",
   "version": "3.6.3"
  }
 },
 "nbformat": 4,
 "nbformat_minor": 2
}
