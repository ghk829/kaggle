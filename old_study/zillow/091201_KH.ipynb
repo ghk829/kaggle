{
 "cells": [
  {
   "cell_type": "code",
   "execution_count": 1,
   "metadata": {
    "collapsed": true
   },
   "outputs": [],
   "source": [
    "import pandas as pd\n",
    "from sklearn.preprocessing import LabelEncoder"
   ]
  },
  {
   "cell_type": "code",
   "execution_count": 2,
   "metadata": {},
   "outputs": [
    {
     "name": "stderr",
     "output_type": "stream",
     "text": [
      "/home/ghk829/miniconda2/lib/python2.7/site-packages/IPython/core/interactiveshell.py:2717: DtypeWarning: Columns (22,32,34,49,55) have mixed types. Specify dtype option on import or set low_memory=False.\n",
      "  interactivity=interactivity, compiler=compiler, result=result)\n"
     ]
    }
   ],
   "source": [
    "df_2=pd.read_csv('/home/ghk829/zillow_data/properties_2016.csv')"
   ]
  },
  {
   "cell_type": "code",
   "execution_count": 6,
   "metadata": {
    "collapsed": true
   },
   "outputs": [],
   "source": [
    "def pd_change_category_by_names(data_frame,names):\n",
    "    for i,col_name in enumerate(data_frame.dtypes.index):\n",
    "        if col_name in names:\n",
    "            data_frame[col_name] = data_frame[col_name].astype('category')\n",
    "            print col_name+\" is changed to category\"\n",
    "            print \"---------------------------------\"\n",
    "    print data_frame.dtypes"
   ]
  },
  {
   "cell_type": "code",
   "execution_count": 8,
   "metadata": {
    "collapsed": true
   },
   "outputs": [],
   "source": [
    "names=['rawcensustractandblock',\n",
    "'censustractandblock',\n",
    "'regionidzip',\n",
    "'regionidcity',\n",
    "'regionidcounty',\n",
    "'fips',\n",
    "'propertycountylandusecode',\n",
    "'propertyzoningdesc',\n",
    "'propertylandusetypeid',\n",
    "      'hashottuborspa',\n",
    "'fireplaceflag',\n",
    "'taxdelinquencyflag',\n",
    "'latitude',\n",
    "'longitude']"
   ]
  },
  {
   "cell_type": "code",
   "execution_count": 9,
   "metadata": {
    "scrolled": true
   },
   "outputs": [
    {
     "name": "stdout",
     "output_type": "stream",
     "text": [
      "fips is changed to category\n",
      "---------------------------------\n",
      "hashottuborspa is changed to category\n",
      "---------------------------------\n",
      "latitude is changed to category\n",
      "---------------------------------\n",
      "longitude is changed to category\n",
      "---------------------------------\n",
      "propertycountylandusecode is changed to category\n",
      "---------------------------------\n",
      "propertylandusetypeid is changed to category\n",
      "---------------------------------\n",
      "propertyzoningdesc is changed to category\n",
      "---------------------------------\n",
      "rawcensustractandblock is changed to category\n",
      "---------------------------------\n",
      "regionidcity is changed to category\n",
      "---------------------------------\n",
      "regionidcounty is changed to category\n",
      "---------------------------------\n",
      "regionidzip is changed to category\n",
      "---------------------------------\n",
      "fireplaceflag is changed to category\n",
      "---------------------------------\n",
      "taxdelinquencyflag is changed to category\n",
      "---------------------------------\n",
      "censustractandblock is changed to category\n",
      "---------------------------------\n",
      "parcelid                           int64\n",
      "airconditioningtypeid            float64\n",
      "architecturalstyletypeid         float64\n",
      "basementsqft                     float64\n",
      "bathroomcnt                      float64\n",
      "bedroomcnt                       float64\n",
      "buildingclasstypeid              float64\n",
      "buildingqualitytypeid            float64\n",
      "calculatedbathnbr                float64\n",
      "decktypeid                       float64\n",
      "finishedfloor1squarefeet         float64\n",
      "calculatedfinishedsquarefeet     float64\n",
      "finishedsquarefeet12             float64\n",
      "finishedsquarefeet13             float64\n",
      "finishedsquarefeet15             float64\n",
      "finishedsquarefeet50             float64\n",
      "finishedsquarefeet6              float64\n",
      "fips                            category\n",
      "fireplacecnt                     float64\n",
      "fullbathcnt                      float64\n",
      "garagecarcnt                     float64\n",
      "garagetotalsqft                  float64\n",
      "hashottuborspa                  category\n",
      "heatingorsystemtypeid            float64\n",
      "latitude                        category\n",
      "longitude                       category\n",
      "lotsizesquarefeet                float64\n",
      "poolcnt                          float64\n",
      "poolsizesum                      float64\n",
      "pooltypeid10                     float64\n",
      "pooltypeid2                      float64\n",
      "pooltypeid7                      float64\n",
      "propertycountylandusecode       category\n",
      "propertylandusetypeid           category\n",
      "propertyzoningdesc              category\n",
      "rawcensustractandblock          category\n",
      "regionidcity                    category\n",
      "regionidcounty                  category\n",
      "regionidneighborhood             float64\n",
      "regionidzip                     category\n",
      "roomcnt                          float64\n",
      "storytypeid                      float64\n",
      "threequarterbathnbr              float64\n",
      "typeconstructiontypeid           float64\n",
      "unitcnt                          float64\n",
      "yardbuildingsqft17               float64\n",
      "yardbuildingsqft26               float64\n",
      "yearbuilt                        float64\n",
      "numberofstories                  float64\n",
      "fireplaceflag                   category\n",
      "structuretaxvaluedollarcnt       float64\n",
      "taxvaluedollarcnt                float64\n",
      "assessmentyear                   float64\n",
      "landtaxvaluedollarcnt            float64\n",
      "taxamount                        float64\n",
      "taxdelinquencyflag              category\n",
      "taxdelinquencyyear               float64\n",
      "censustractandblock             category\n",
      "dtype: object\n"
     ]
    }
   ],
   "source": [
    "pd_change_category_by_names(df_2,names)"
   ]
  },
  {
   "cell_type": "code",
   "execution_count": 11,
   "metadata": {
    "collapsed": true
   },
   "outputs": [],
   "source": [
    "df_2=df_2.drop('assessmentyear',axis=1)"
   ]
  },
  {
   "cell_type": "code",
   "execution_count": 16,
   "metadata": {
    "collapsed": true
   },
   "outputs": [],
   "source": [
    "import math\n",
    "df_2['latitude']= df_2['latitude'].apply(lambda x: math.log(x))"
   ]
  },
  {
   "cell_type": "code",
   "execution_count": 22,
   "metadata": {
    "collapsed": true
   },
   "outputs": [],
   "source": [
    "df_2['longtitude']=df_2['longitude'].apply(lambda x: math.log(abs(x)))"
   ]
  },
  {
   "cell_type": "code",
   "execution_count": 23,
   "metadata": {
    "collapsed": true
   },
   "outputs": [],
   "source": [
    "df_1=pd.read_csv('/home/ghk829/zillow_data/train_2016_v2.csv')"
   ]
  },
  {
   "cell_type": "code",
   "execution_count": 24,
   "metadata": {
    "collapsed": true
   },
   "outputs": [],
   "source": [
    "train_df = pd.merge(df_1, df_2, on='parcelid', how='left')"
   ]
  },
  {
   "cell_type": "code",
   "execution_count": 50,
   "metadata": {
    "collapsed": true
   },
   "outputs": [],
   "source": [
    "import seaborn as sns\n",
    "import matplotlib.pyplot as plt"
   ]
  },
  {
   "cell_type": "code",
   "execution_count": 59,
   "metadata": {},
   "outputs": [
    {
     "data": {
      "image/png": "[encoded data removed]",
      "text/plain": [
       "<matplotlib.figure.Figure at 0x7fba32616850>"
      ]
     },
     "metadata": {},
     "output_type": "display_data"
    }
   ],
   "source": [
    "sns.boxplot(x=addNA(train_df['storytypeid']), y=train_df['logerror'],palette=\"PRGn\")\n",
    "plt.show()"
   ]
  },
  {
   "cell_type": "code",
   "execution_count": 60,
   "metadata": {},
   "outputs": [
    {
     "data": {
      "image/png": "[encoded data removed]",
      "text/plain": [
       "<matplotlib.figure.Figure at 0x7fba324dc210>"
      ]
     },
     "metadata": {},
     "output_type": "display_data"
    }
   ],
   "source": [
    "sns.boxplot(x=addNA(train_df['pooltypeid2']),y=\"logerror\",data=train_df)\n",
    "plt.show()"
   ]
  },
  {
   "cell_type": "code",
   "execution_count": null,
   "metadata": {
    "collapsed": true
   },
   "outputs": [],
   "source": []
  }
 ],
 "metadata": {
  "kernelspec": {
   "display_name": "Python 2",
   "language": "python",
   "name": "python2"
  },
  "language_info": {
   "codemirror_mode": {
    "name": "ipython",
    "version": 2
   },
   "file_extension": ".py",
   "mimetype": "text/x-python",
   "name": "python",
   "nbconvert_exporter": "python",
   "pygments_lexer": "ipython2",
   "version": "2.7.13"
  }
 },
 "nbformat": 4,
 "nbformat_minor": 2
}
