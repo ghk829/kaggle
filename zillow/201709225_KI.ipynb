{
 "cells": [
  {
   "cell_type": "markdown",
   "metadata": {
    "_cell_guid": "44d4651a-29cf-4270-b92d-fa6fd8edcea6",
    "_uuid": "e117e591afa2c36903fd5a581ddbbe097f1df4d4"
   },
   "source": [
    "**Dealing with Missing Values**\n",
    "\n",
    "One of the first steps in building a good predictive model is to carefully handle missing values at the start. \n",
    "There's quite a lot of missing data in this dataset, so in this kernel I've illustrated various ways that we can impute missing values by carefully using the data we already have and I've outlined some key assumptions and rationale made in filling these missing values.\n",
    "\n",
    "I think some of these approaches are better than filling in missing values with the medians for the fields (for example) or letting models deal with them in their default manner (xgboost for instance will have all the missing values as another category)\n",
    "\n",
    "After investigating the data in some detail there also appears to be some fields which represent similar if not the same information which I think we can probably be remove as they are redundant. \n",
    "\n",
    "There are also potentially some inconsistent fields and potentially incorrect data that I discovered on the way and outlined this in this notebook\n",
    "\n",
    "The approaches use to deal with missing values also have to be made to the test data consistently - but I've not illustrated here in the interest of the kernel speed.\n",
    "\n",
    "Ideally after each step taken to deal with missing values you would probably want to carry out some cross-validation to see if it has helped improve your model - I haven't done this here but it would be interested to know if any of the adjustments do help improve the score so please comment if they do!\n",
    "\n",
    "As always if you found the kernel useful please upvote :) "
   ]
  },
  {
   "cell_type": "code",
   "execution_count": 99,
   "metadata": {
    "_cell_guid": "859bd85e-a886-4a5a-bb18-a6efee0010c7",
    "_uuid": "b71062412ed7a39b993a20b756b9d4fdb9a78426",
    "collapsed": true
   },
   "outputs": [],
   "source": [
    "# This Python 3 environment comes with many helpful analytics libraries installed\n",
    "# It is defined by the kaggle/python docker image: https://github.com/kaggle/docker-python\n",
    "# For example, here's several helpful packages to load in \n",
    "\n",
    "import numpy as np # linear algebra\n",
    "import pandas as pd # data processing, CSV file I/O (e.g. pd.read_csv)\n",
    "from sklearn import neighbors\n",
    "import seaborn as sns\n",
    "from sklearn.neighbors import KNeighborsRegressor\n",
    "from sklearn.preprocessing import OneHotEncoder\n",
    "from sklearn.preprocessing import StandardScaler\n",
    "from sklearn.preprocessing import LabelEncoder\n",
    "\n",
    "import matplotlib.pyplot as plt\n",
    "# Input data files are available in the \"../input/\" directory.\n",
    "# For example, running this (by clicking run or pressing Shift+Enter) will list the files in the input directory\n",
    "\n",
    "\n",
    "# Any results you write to the current directory are saved as output."
   ]
  },
  {
   "cell_type": "code",
   "execution_count": 100,
   "metadata": {},
   "outputs": [],
   "source": [
    "import os\n",
    "os.getcwd()\n",
    "os.chdir('/home/ghk829/zillow_data')"
   ]
  },
  {
   "cell_type": "code",
   "execution_count": null,
   "metadata": {
    "_cell_guid": "fb6663ad-72aa-4224-9585-79cad44bb0a3",
    "_uuid": "136942079e1bb90fbb48402ea0a4c4537a69a7b8"
   },
   "outputs": [],
   "source": [
    "#Start of by reading in the data and merging the datasets\n",
    "prop = pd.read_csv('./properties_2016.csv')\n",
    "train = pd.read_csv(\"./train_2016_v2.csv\")\n",
    "\n",
    "for c, dtype in zip(prop.columns, prop.dtypes):\t\n",
    "    if dtype == np.float64:\t\t\n",
    "        prop[c] = prop[c].astype(np.float32)\n",
    "\n",
    "df_train = train.merge(prop, how='left', on='parcelid')\n",
    "del prop, train\n",
    "df_train = df_train.drop(['parcelid', 'transactiondate'], axis=1)\n"
   ]
  },
  {
   "cell_type": "code",
   "execution_count": null,
   "metadata": {
    "_cell_guid": "45797c73-0fca-44ee-9dd1-33948cc8aad7",
    "_uuid": "5776538d8b966a732582288a2d9abc3c07646e6d"
   },
   "outputs": [],
   "source": [
    "#Identify numerical columns to produce a heatmap\n",
    "catcols = ['airconditioningtypeid','architecturalstyletypeid','buildingqualitytypeid','buildingclasstypeid','decktypeid','fips','hashottuborspa','heatingorsystemtypeid','pooltypeid10','pooltypeid2','pooltypeid7','propertycountylandusecode','propertylandusetypeid','propertyzoningdesc','rawcensustractandblock','regionidcity','regionidcounty','regionidneighborhood','regionidzip','storytypeid','typeconstructiontypeid','yearbuilt','taxdelinquencyflag']\n",
    "numcols = [x for x in df_train.columns if x not in catcols]\n",
    "\n",
    "#Lets start by plotting a heatmap to determine if any variables are correlated\n",
    "plt.figure(figsize = (12,8))\n",
    "sns.heatmap(data=df_train[numcols].corr())\n",
    "plt.show()\n",
    "plt.gcf().clear()"
   ]
  },
  {
   "cell_type": "markdown",
   "metadata": {
    "_cell_guid": "4c59783b-3781-4157-a5ce-ab71984c138a",
    "_uuid": "11315617471102d30266a6e8533d640a7c02843d"
   },
   "source": [
    "Let's start by removing some 'potentially' redundant variables\n",
    "\n",
    "The following are all very strongly correlated as can be seen by the dark red path in the heatmap:\n",
    "'calculatedfinishedsquarefeet'\n",
    "'finishedsquarefeet12'\n",
    "'finishedsquarefeet13'\n",
    "'finishedsquarefeet15'\n",
    "'finishedsquarefeet6'\n",
    "\n",
    "By looking at the claims description they represent very similair pieces of information (the area of the property) lets pick the one with the fewest number of missing values and drop the rest. Let's plot the missing values first."
   ]
  },
  {
   "cell_type": "code",
   "execution_count": null,
   "metadata": {
    "_cell_guid": "7288c403-6102-45b1-98c3-9132ef508404",
    "_uuid": "d27835fce1f19a272e0b8e617fd2552c0f4c489a"
   },
   "outputs": [],
   "source": [
    "missing_df = df_train.isnull().sum(axis=0).reset_index()\n",
    "missing_df.columns = ['column_name', 'missing_count']\n",
    "missing_df = missing_df.loc[missing_df['missing_count']>0]\n",
    "missing_df = missing_df.sort_values(by='missing_count')\n",
    "\n",
    "ind = np.arange(missing_df.shape[0])\n",
    "width = 0.9\n",
    "fig, ax = plt.subplots(figsize=(12,18))\n",
    "rects = ax.barh(ind, missing_df.missing_count.values, color='blue')\n",
    "ax.set_yticks(ind)\n",
    "ax.set_yticklabels(missing_df.column_name.values, rotation='horizontal')\n",
    "ax.set_xlabel(\"Count of missing values\")\n",
    "ax.set_title(\"Number of missing values in each column\")\n",
    "plt.show()\n",
    "\n"
   ]
  },
  {
   "cell_type": "markdown",
   "metadata": {
    "_cell_guid": "3d372276-4896-4274-a69c-b51c5c349c74",
    "_uuid": "726fe3068e09a859762f966e9cd80e30f4dd9025"
   },
   "source": [
    "Let's start off by potentially removing some 'redundant' variables and then some others ones which are 'easy' to fix"
   ]
  },
  {
   "cell_type": "code",
   "execution_count": null,
   "metadata": {
    "_cell_guid": "372ddaed-762d-461c-a749-3f40f20bccc8",
    "_uuid": "e57adcb28509ce9834423f16dd3ef0a4e592493f",
    "collapsed": true
   },
   "outputs": [],
   "source": [
    "#'calculatedfinishedsquarefeet' has the fewest missing values so lets remove the others, note also that except for 'finishedsquarefeet12' the rest have large amount of missing values anyways. \n",
    "#Also if you look at my script in https://www.kaggle.com/nikunjm88/creating-additional-features 'calculatedfinishedsquarefeet' appears to be the most important variable\n",
    "dropcols = ['finishedsquarefeet12','finishedsquarefeet13', 'finishedsquarefeet15','finishedsquarefeet6']\n",
    "\n",
    "#finishedsquarefeet50 and finishedfloor1squarefeet are the exactly the same information according to the dictionary descriptions, lets remove finishedsquarefeet50 as it has more missing values\n",
    "dropcols.append('finishedsquarefeet50')\n",
    "\n",
    "#'bathroomcnt' and 'calculatedbathnbr' and 'fullbathcnt' seem to be the same information aswell according to the dictionary descriptions. Choose 'bathroomcnt' as has no missing values, so remove the other two\n",
    "dropcols.append('calculatedbathnbr')\n",
    "dropcols.append('fullbathcnt')\n"
   ]
  },
  {
   "cell_type": "code",
   "execution_count": 20,
   "metadata": {
    "_cell_guid": "8698a8f6-5061-49b7-b122-460db1ba8fa1",
    "_uuid": "1743b92255a9258b4cd537f51223372b060e2128"
   },
   "outputs": [
    {
     "name": "stdout",
     "output_type": "stream",
     "text": [
      "None    87910\n",
      "True     2365\n",
      "Name: hashottuborspa, dtype: int64\n",
      "1.0    1161\n",
      "Name: pooltypeid10, dtype: int64\n"
     ]
    }
   ],
   "source": [
    "#The below variables are flags and lets assume if they are NA's it means the object does not exist so lets fix this\n",
    "index = df_train.hashottuborspa.isnull()\n",
    "df_train.loc[index,'hashottuborspa'] = \"None\"\n",
    "\n",
    "# pooltypeid10(does home have a Spa or hot tub) seems to be inconcistent with the 'hashottuborspa' field - these two fields should have the same information I assume?\n",
    "print(df_train.hashottuborspa.value_counts())\n",
    "print(df_train.pooltypeid10.value_counts())\n",
    "\n",
    "#lets remove 'pooltypeid10' as has more missing values\n",
    "dropcols.append('pooltypeid10')\n",
    "\n",
    "#Assume if the pooltype id is null then pool/hottub doesnt exist \n",
    "index = df_train.pooltypeid2.isnull()\n",
    "df_train.loc[index,'pooltypeid2'] = 0\n",
    "\n",
    "index = df_train.pooltypeid7.isnull()\n",
    "df_train.loc[index,'pooltypeid7'] = 0\n",
    "\n",
    "index = df_train.poolcnt.isnull()\n",
    "df_train.loc[index,'poolcnt'] = 0\n",
    "\n"
   ]
  },
  {
   "cell_type": "code",
   "execution_count": 21,
   "metadata": {
    "_cell_guid": "f40db0e5-3c6c-4cd9-9b03-3b41574835b6",
    "_uuid": "4a9a888d63f91aa17b0708c430acd0839d8d7115"
   },
   "outputs": [
    {
     "name": "stdout",
     "output_type": "stream",
     "text": [
      "89306\n",
      "0.0    72374\n",
      "1.0    17901\n",
      "Name: poolcnt, dtype: int64\n"
     ]
    }
   ],
   "source": [
    "#Theres more missing values in the 'poolsizesum' then in 'poolcnt', Let's fill in median values for poolsizesum where pool count is >0 and missing. I think this is sensible assumption as residential pool sizes are fairly standard size I guess in the U.S.\n",
    "#Also the poolsizesum doesn't seem to be much of an important variable (https://www.kaggle.com/nikunjm88/creating-additional-features) so imputing with the median hopefully won't cause too much of an issue\n",
    "print(df_train.poolsizesum.isnull().sum())\n",
    "print(df_train.poolcnt.value_counts())\n",
    "\n",
    "#Fill in those properties that have a pool with median pool value\n",
    "poolsizesum_median = df_train.loc[df_train['poolcnt'] > 0, 'poolsizesum'].median()\n",
    "df_train.loc[(df_train['poolcnt'] > 0) & (df_train['poolsizesum'].isnull()), 'poolsizesum'] = poolsizesum_median\n",
    "\n",
    "#If it doesn't have a pool then poolsizesum is 0 by default\n",
    "df_train.loc[(df_train['poolcnt'] == 0), 'poolsizesum'] = 0\n",
    "\n"
   ]
  },
  {
   "cell_type": "code",
   "execution_count": 22,
   "metadata": {
    "_cell_guid": "2ecdb041-57e0-4155-aaea-e3bde9215e0a",
    "_uuid": "d852f1724594e9eb035f946cb5356453fa7286c9"
   },
   "outputs": [
    {
     "name": "stdout",
     "output_type": "stream",
     "text": [
      "90053\n",
      "80668\n"
     ]
    }
   ],
   "source": [
    "#There seems to be inconsistency between the fireplaceflag and fireplace cnt - my guess is that these should be the same\n",
    "print(df_train.fireplaceflag.isnull().sum())\n",
    "print(df_train.fireplacecnt.isnull().sum())\n",
    "\n",
    "#There seems to be 80668 properties without fireplace according to the 'fireplacecnt' but the 'fireplace flag' says they are 90053 missing values\n",
    "#Lets instead create the fireplaceflag from scratch using 'fireplacecnt' as there are less missing values here\n",
    "df_train['fireplaceflag']= \"No\"\n",
    "df_train.loc[df_train['fireplacecnt']>0,'fireplaceflag']= \"Yes\"\n",
    "\n",
    "index = df_train.fireplacecnt.isnull()\n",
    "df_train.loc[index,'fireplacecnt'] = 0\n",
    "\n",
    "#Tax deliquency flag - assume if it is null then doesn't exist\n",
    "index = df_train.taxdelinquencyflag.isnull()\n",
    "df_train.loc[index,'taxdelinquencyflag'] = \"None\"\n",
    "\n"
   ]
  },
  {
   "cell_type": "code",
   "execution_count": 23,
   "metadata": {
    "_cell_guid": "9674a6c7-d5dd-4ba2-9866-4a39934cb728",
    "_uuid": "ce5bc928baed8b4d2a46279ea6345a1ac79dc122"
   },
   "outputs": [
    {
     "name": "stdout",
     "output_type": "stream",
     "text": [
      "60338\n",
      "60338\n"
     ]
    }
   ],
   "source": [
    "#Same number of missing values between garage count and garage size - assume this is because when there are properties with no garages then both variables are NA\n",
    "print(df_train.garagecarcnt.isnull().sum())\n",
    "print(df_train.garagetotalsqft.isnull().sum())\n",
    "\n",
    "#Assume if Null in garage count it means there are no garages\n",
    "index = df_train.garagecarcnt.isnull()\n",
    "df_train.loc[index,'garagecarcnt'] = 0\n",
    "\n",
    "#Likewise no garage means the size is 0 by default\n",
    "index = df_train.garagetotalsqft.isnull()\n",
    "df_train.loc[index,'garagetotalsqft'] = 0\n",
    "\n",
    "#Let's fill in some missing values using the most common value for those variables where this might be a sensible approach\n",
    "#AC Type - Mostly 1's, which corresponds to central AC. Reasonable to assume most other properties are similar.\n",
    "df_train['airconditioningtypeid'].value_counts()\n",
    "index = df_train.airconditioningtypeid.isnull()\n",
    "df_train.loc[index,'airconditioningtypeid'] = 1\n",
    "\n"
   ]
  },
  {
   "cell_type": "code",
   "execution_count": 24,
   "metadata": {
    "_cell_guid": "d5727552-cacd-4d50-9284-3276788d4f03",
    "_uuid": "c8bbfe333cfde2aed9bea575bb2bd7a5673bcd35"
   },
   "outputs": [
    {
     "name": "stdout",
     "output_type": "stream",
     "text": [
      "2.0     38303\n",
      "7.0     15519\n",
      "24.0     1071\n",
      "6.0       970\n",
      "20.0       97\n",
      "13.0       76\n",
      "18.0       25\n",
      "1.0        13\n",
      "14.0        2\n",
      "10.0        2\n",
      "11.0        1\n",
      "12.0        1\n",
      "Name: heatingorsystemtypeid, dtype: int64\n"
     ]
    }
   ],
   "source": [
    "#heating or system - Mostly 2, which corresponds to central heating so seems reasonable to assume most other properties have central heating  \n",
    "print(df_train['heatingorsystemtypeid'].value_counts())\n",
    "index = df_train.heatingorsystemtypeid.isnull()\n",
    "df_train.loc[index,'heatingorsystemtypeid'] = 2\n"
   ]
  },
  {
   "cell_type": "code",
   "execution_count": 25,
   "metadata": {
    "_cell_guid": "04636d05-72c0-4766-99ef-2a7db515766d",
    "_uuid": "54996bd68351778f614f612513a297b1e114e1b4"
   },
   "outputs": [
    {
     "name": "stdout",
     "output_type": "stream",
     "text": [
      "1.0    11912\n",
      "2.0       90\n",
      "3.0        6\n",
      "4.0        1\n",
      "Name: threequarterbathnbr, dtype: int64\n"
     ]
    }
   ],
   "source": [
    "# 'threequarterbathnbr' - not an important variable according to https://www.kaggle.com/nikunjm88/creating-additional-features, so fill with most common value\n",
    "print(df_train['threequarterbathnbr'].value_counts())\n",
    "index = df_train.threequarterbathnbr.isnull()\n",
    "df_train.loc[index,'threequarterbathnbr'] = 1\n"
   ]
  },
  {
   "cell_type": "markdown",
   "metadata": {
    "_cell_guid": "27512eb2-9e9c-4cb7-84b7-9da3485011b8",
    "_uuid": "5c7641cf7542f07da457e0c4f268d12ff1e2dbe1"
   },
   "source": [
    "There's still fields with alot of data missing. Let's remove fields that have 97% missing values. 97% is quite subjective, but if you look at https://www.kaggle.com/nikunjm88/creating-additional-features, the variables with more than 97% missing values do not appear to be that important anyways\n"
   ]
  },
  {
   "cell_type": "code",
   "execution_count": 26,
   "metadata": {
    "_cell_guid": "b7152b0e-c1e8-4ad2-991e-e6b66f970e56",
    "_uuid": "17e0eb07baaceea33c0d980d1584b100e996a8ec"
   },
   "outputs": [
    {
     "name": "stdout",
     "output_type": "stream",
     "text": [
      "                           field  proportion\n",
      "6            buildingclasstypeid    0.999823\n",
      "13          finishedsquarefeet13    0.999634\n",
      "3                   basementsqft    0.999524\n",
      "41                   storytypeid    0.999524\n",
      "46            yardbuildingsqft26    0.998948\n",
      "2       architecturalstyletypeid    0.997109\n",
      "43        typeconstructiontypeid    0.996688\n",
      "16           finishedsquarefeet6    0.995336\n",
      "9                     decktypeid    0.992711\n",
      "29                  pooltypeid10    0.987139\n",
      "56            taxdelinquencyyear    0.980249\n",
      "45            yardbuildingsqft17    0.970690\n",
      "14          finishedsquarefeet15    0.960521\n",
      "10      finishedfloor1squarefeet    0.924054\n",
      "15          finishedsquarefeet50    0.924054\n",
      "48               numberofstories    0.772141\n",
      "38          regionidneighborhood    0.601086\n",
      "7          buildingqualitytypeid    0.364564\n",
      "34            propertyzoningdesc    0.354052\n",
      "44                       unitcnt    0.353608\n",
      "26             lotsizesquarefeet    0.112434\n",
      "12          finishedsquarefeet12    0.051831\n",
      "36                  regionidcity    0.019972\n",
      "19                   fullbathcnt    0.013093\n",
      "8              calculatedbathnbr    0.013093\n",
      "47                     yearbuilt    0.008374\n",
      "11  calculatedfinishedsquarefeet    0.007322\n",
      "57           censustractandblock    0.006702\n",
      "50    structuretaxvaluedollarcnt    0.004209\n",
      "39                   regionidzip    0.000388\n",
      "54                     taxamount    0.000066\n",
      "32     propertycountylandusecode    0.000011\n",
      "53         landtaxvaluedollarcnt    0.000011\n",
      "51             taxvaluedollarcnt    0.000011\n",
      "28                   poolsizesum    0.000000\n",
      "21               garagetotalsqft    0.000000\n",
      "4                    bathroomcnt    0.000000\n",
      "55            taxdelinquencyflag    0.000000\n",
      "52                assessmentyear    0.000000\n",
      "49                 fireplaceflag    0.000000\n",
      "5                     bedroomcnt    0.000000\n",
      "17                          fips    0.000000\n",
      "18                  fireplacecnt    0.000000\n",
      "20                  garagecarcnt    0.000000\n",
      "22                hashottuborspa    0.000000\n",
      "1          airconditioningtypeid    0.000000\n",
      "42           threequarterbathnbr    0.000000\n",
      "23         heatingorsystemtypeid    0.000000\n",
      "40                       roomcnt    0.000000\n",
      "24                      latitude    0.000000\n",
      "37                regionidcounty    0.000000\n",
      "25                     longitude    0.000000\n",
      "35        rawcensustractandblock    0.000000\n",
      "27                       poolcnt    0.000000\n",
      "33         propertylandusetypeid    0.000000\n",
      "31                   pooltypeid7    0.000000\n",
      "30                   pooltypeid2    0.000000\n",
      "0                       logerror    0.000000\n"
     ]
    }
   ],
   "source": [
    "missingvalues_prop = (df_train.isnull().sum()/len(df_train)).reset_index()\n",
    "missingvalues_prop.columns = ['field','proportion']\n",
    "missingvalues_prop = missingvalues_prop.sort_values(by = 'proportion', ascending = False)\n",
    "print(missingvalues_prop)\n",
    "missingvaluescols = missingvalues_prop[missingvalues_prop['proportion'] > 0.97].field.tolist()\n",
    "dropcols = dropcols + missingvaluescols\n",
    "df_train = df_train.drop(dropcols, axis=1)\n"
   ]
  },
  {
   "cell_type": "markdown",
   "metadata": {
    "_cell_guid": "d93fd263-f885-49f1-9e29-57cd8cebda74",
    "_uuid": "f8fe7ae25b399ef0b5dd15a1233bae4990f158b7"
   },
   "source": [
    "There's quite a few variables which are probably dependant on longtitude and latitude data\n",
    "Lets try fill in some of the missing variables using geographically nearby properties (by using the longtitude and latitude information)\n",
    "I've used the k-nearest neighbours function from https://www.kaggle.com/auroralht/restoring-the-missing-geo-data with some minor amendments\n"
   ]
  },
  {
   "cell_type": "code",
   "execution_count": 27,
   "metadata": {
    "_cell_guid": "b633784e-8eff-4a7e-ad9f-449da175365d",
    "_uuid": "24f8fa12310191b6c9f6d8a55afd3204ca8d58c1",
    "collapsed": true
   },
   "outputs": [],
   "source": [
    "def fillna_knn( df, base, target, fraction = 1, threshold = 10, n_neighbors = 5 ):\n",
    "    assert isinstance( base , list ) or isinstance( base , np.ndarray ) and isinstance( target, str ) \n",
    "    whole = [ target ] + base\n",
    "    \n",
    "    miss = df[target].isnull()\n",
    "    notmiss = ~miss \n",
    "    nummiss = miss.sum()\n",
    "    \n",
    "    enc = OneHotEncoder()\n",
    "    X_target = df.loc[ notmiss, whole ].sample( frac = fraction )\n",
    "    \n",
    "    enc.fit( X_target[ target ].unique().reshape( (-1,1) ) )\n",
    "    \n",
    "    Y = enc.transform( X_target[ target ].values.reshape((-1,1)) ).toarray()\n",
    "    X = X_target[ base  ]\n",
    "    \n",
    "    print( 'fitting' )\n",
    "    n_neighbors = n_neighbors\n",
    "    clf = neighbors.KNeighborsClassifier( n_neighbors, weights = 'uniform' )\n",
    "    clf.fit( X, Y )\n",
    "    \n",
    "    print( 'the shape of active features: ' ,enc.active_features_.shape )\n",
    "    \n",
    "    print( 'predicting' )\n",
    "    Z = clf.predict(df.loc[miss, base])\n",
    "    \n",
    "    numunperdicted = Z[:,0].sum()\n",
    "    if numunperdicted / nummiss *100 < threshold :\n",
    "        print( 'writing result to df' )    \n",
    "        df.loc[ miss, target ]  = np.dot( Z , enc.active_features_ )\n",
    "        print( 'num of unperdictable data: ', numunperdicted )\n",
    "        return enc\n",
    "    else:\n",
    "        print( 'out of threshold: {}% > {}%'.format( numunperdicted / nummiss *100 , threshold ) )\n",
    "\n",
    "#function to deal with variables that are actually string/categories\n",
    "def zoningcode2int( df, target ):\n",
    "    storenull = df[ target ].isnull()\n",
    "    enc = LabelEncoder( )\n",
    "    df[ target ] = df[ target ].astype( str )\n",
    "\n",
    "    print('fit and transform')\n",
    "    df[ target ]= enc.fit_transform( df[ target ].values )\n",
    "    print( 'num of categories: ', enc.classes_.shape  )\n",
    "    df.loc[ storenull, target ] = np.nan\n",
    "    print('recover the nan value')\n",
    "    return enc\n"
   ]
  },
  {
   "cell_type": "markdown",
   "metadata": {
    "_cell_guid": "75be2967-4996-4e9a-912d-469575167c3e",
    "_uuid": "1cbd428072e5721579fed3f64adc09d9f82a027c"
   },
   "source": [
    "We use k nearest neighbours to fill in blanks for some of the variables that might be be able to be filled in using geographically nearby properties \n",
    "Please note - I've put fraction size as 0.15 so the kernel does not time out. In reality I suspect you probably want to use fraction = 1 (all the data)\n",
    "You will also probably want to use some sort of cross validation technique to select the appropriate value of k. I've used k=1 so its quick to run.\n"
   ]
  },
  {
   "cell_type": "code",
   "execution_count": 28,
   "metadata": {
    "_cell_guid": "7e75eb17-2c18-465a-9ad0-192d37e36311",
    "_uuid": "69bfec676ce1b03959ef57970b2f26b317f62539"
   },
   "outputs": [
    {
     "name": "stdout",
     "output_type": "stream",
     "text": [
      "fitting\n",
      "('the shape of active features: ', (6,))\n",
      "predicting\n",
      "out of threshold: 13.9801282246% > 10%\n",
      "fit and transform\n",
      "('num of categories: ', (78,))\n",
      "recover the nan value\n",
      "fitting\n",
      "('the shape of active features: ', (50,))\n",
      "predicting\n",
      "writing result to df\n",
      "('num of unperdictable data: ', 0.0)\n",
      "fit and transform\n",
      "('num of categories: ', (1997,))\n",
      "recover the nan value\n",
      "fitting\n",
      "('the shape of active features: ', (1053,))\n",
      "predicting\n",
      "writing result to df\n",
      "('num of unperdictable data: ', 0.0)\n",
      "fitting\n",
      "('the shape of active features: ', (168,))\n",
      "predicting\n",
      "writing result to df\n",
      "('num of unperdictable data: ', 2.0)\n",
      "fitting\n",
      "('the shape of active features: ', (385,))\n",
      "predicting\n",
      "writing result to df\n",
      "('num of unperdictable data: ', 189.0)\n",
      "fitting\n",
      "('the shape of active features: ', (377,))\n",
      "predicting\n",
      "writing result to df\n",
      "('num of unperdictable data: ', 0.0)\n",
      "fitting\n",
      "('the shape of active features: ', (4,))\n",
      "predicting\n",
      "out of threshold: 14.9113464069% > 10%\n",
      "fitting\n",
      "('the shape of active features: ', (124,))\n",
      "predicting\n",
      "writing result to df\n",
      "('num of unperdictable data: ', 0.0)\n",
      "fitting\n",
      "('the shape of active features: ', (7116,))\n",
      "predicting\n",
      "writing result to df\n",
      "('num of unperdictable data: ', 1.0)\n"
     ]
    },
    {
     "data": {
      "text/plain": [
       "OneHotEncoder(categorical_features='all', dtype=<type 'numpy.float64'>,\n",
       "       handle_unknown='error', n_values='auto', sparse=True)"
      ]
     },
     "execution_count": 28,
     "metadata": {},
     "output_type": "execute_result"
    }
   ],
   "source": [
    "#buildingqualitytypeid - assume it is the similar to the nearest property. Probably makes senses if its a property in a block of flats, i.e if block was built all at the same time and therefore all flats will have similar quality \n",
    "#Use the same logic for propertycountylandusecode (assume it is same as nearest property i.e two properties right next to each other are likely to have the same code) & propertyzoningdesc. \n",
    "#These assumptions are only reasonable if you actually have nearby properties to the one with the missing value\n",
    "\n",
    "fillna_knn( df = df_train,\n",
    "                  base = [ 'latitude', 'longitude' ] ,\n",
    "                  target = 'buildingqualitytypeid', fraction = 0.15, n_neighbors = 1 )\n",
    "\n",
    "\n",
    "zoningcode2int( df = df_train,\n",
    "                            target = 'propertycountylandusecode' )\n",
    "fillna_knn( df = df_train,\n",
    "                  base = [ 'latitude', 'longitude' ] ,\n",
    "                  target = 'propertycountylandusecode', fraction = 0.15, n_neighbors = 1 )\n",
    "\n",
    "zoningcode2int( df = df_train,\n",
    "                            target = 'propertyzoningdesc' )\n",
    "\n",
    "fillna_knn( df = df_train,\n",
    "                  base = [ 'latitude', 'longitude' ] ,\n",
    "                  target = 'propertyzoningdesc', fraction = 0.15, n_neighbors = 1 )\n",
    "\n",
    "#regionidcity, regionidneighborhood & regionidzip - assume it is the same as the nereast property. \n",
    "#As mentioned above, this is ok if there's a property very nearby to the one with missing values (I leave it up to the reader to check if this is the case!)\n",
    "fillna_knn( df = df_train,\n",
    "                  base = [ 'latitude', 'longitude' ] ,\n",
    "                  target = 'regionidcity', fraction = 0.15, n_neighbors = 1 )\n",
    "\n",
    "fillna_knn( df = df_train,\n",
    "                  base = [ 'latitude', 'longitude' ] ,\n",
    "                  target = 'regionidneighborhood', fraction = 0.15, n_neighbors = 1 )\n",
    "\n",
    "fillna_knn( df = df_train,\n",
    "                  base = [ 'latitude', 'longitude' ] ,\n",
    "                  target = 'regionidzip', fraction = 0.15, n_neighbors = 1 )\n",
    "\n",
    "#unitcnt - the number of structures the unit is built into. Assume it is the same as the nearest properties. If the property with missing values is in a block of flats or in a terrace street then this is probably ok - but again I leave it up to the reader to check if this is the case!\n",
    "fillna_knn( df = df_train,\n",
    "                  base = [ 'latitude', 'longitude' ] ,\n",
    "                  target = 'unitcnt', fraction = 0.15, n_neighbors = 1 )\n",
    "\n",
    "#yearbuilt - assume it is the same as the nearest property. This assumes properties all near to each other were built around the same time\n",
    "fillna_knn( df = df_train,\n",
    "                  base = [ 'latitude', 'longitude' ] ,\n",
    "                  target = 'yearbuilt', fraction = 0.15, n_neighbors = 1 )\n",
    "\n",
    "#lot size square feet - not sure what to do about this one. Lets use nearest neighbours. Assume it has same lot size as property closest to it\n",
    "fillna_knn( df = df_train,\n",
    "                  base = [ 'latitude', 'longitude' ] ,\n",
    "                  target = 'lotsizesquarefeet', fraction = 0.15, n_neighbors = 1 )\n"
   ]
  },
  {
   "cell_type": "markdown",
   "metadata": {
    "_cell_guid": "153ec1b7-e08f-4a26-9757-dd797bf9894b",
    "_uuid": "cd1d629aee2dbceb360839ee1c6b90b42fc7ceee"
   },
   "source": [
    "**finishedfloor1squarefeet** - this is most correlated with calculatedfinishedsquarefeet according to the heatmap so lets see if we can use calculatedfinishedsquarefeet to fill in some of the finishedfloor1squarefeet\n"
   ]
  },
  {
   "cell_type": "code",
   "execution_count": 29,
   "metadata": {
    "_cell_guid": "90385b15-18c9-4897-b7e2-106c3ce5ad2b",
    "_uuid": "17b5fdc42d0a3d9ad6a6c968e6fcc75e1a417893"
   },
   "outputs": [
    {
     "data": {
      "text/plain": [
       "<matplotlib.figure.Figure at 0x7fbebf9ef0d0>"
      ]
     },
     "metadata": {},
     "output_type": "display_data"
    },
    {
     "data": {
      "image/png": "[encoded data removed]",
      "text/plain": [
       "<matplotlib.figure.Figure at 0x7fbebfa99690>"
      ]
     },
     "metadata": {},
     "output_type": "display_data"
    },
    {
     "name": "stdout",
     "output_type": "stream",
     "text": [
      "       logerror  airconditioningtypeid  bathroomcnt  bedroomcnt  \\\n",
      "46088    0.0980                    1.0          2.0         3.0   \n",
      "58830   -0.0377                    1.0          1.0         2.0   \n",
      "\n",
      "       buildingqualitytypeid  finishedfloor1squarefeet  \\\n",
      "46088                    NaN                    1821.0   \n",
      "58830                    NaN                    1130.0   \n",
      "\n",
      "       calculatedfinishedsquarefeet    fips  fireplacecnt  garagecarcnt  \\\n",
      "46088                        1654.0  6111.0           1.0           1.0   \n",
      "58830                         800.0  6111.0           0.0           2.0   \n",
      "\n",
      "              ...           yearbuilt numberofstories  fireplaceflag  \\\n",
      "46088         ...              1945.0             1.0            Yes   \n",
      "58830         ...              1960.0             1.0             No   \n",
      "\n",
      "       structuretaxvaluedollarcnt  taxvaluedollarcnt  assessmentyear  \\\n",
      "46088                    137697.0           433491.0          2015.0   \n",
      "58830                     58000.0           205000.0          2015.0   \n",
      "\n",
      "       landtaxvaluedollarcnt    taxamount  taxdelinquencyflag  \\\n",
      "46088               295794.0  5289.759766                None   \n",
      "58830               147000.0  2607.379883                None   \n",
      "\n",
      "       censustractandblock  \n",
      "46088         6.111001e+13  \n",
      "58830         6.111007e+13  \n",
      "\n",
      "[2 rows x 41 columns]\n"
     ]
    }
   ],
   "source": [
    "plt.figure(figsize=(12,12))\n",
    "sns.jointplot(x=df_train.finishedfloor1squarefeet.values, y=df_train.calculatedfinishedsquarefeet.values)\n",
    "plt.ylabel('calculatedfinishedsquarefeet', fontsize=12)\n",
    "plt.xlabel('finishedfloor1squarefeet', fontsize=12)\n",
    "plt.title(\"finishedfloor1squarefeet Vs calculatedfinishedsquarefeet\", fontsize=15)\n",
    "plt.show()\n",
    "\n",
    "#There are some properties where finishedfloor1squarefeet and calculatedfinishedsquarefeetare are both exactly the same - probably because its a studio flat of some sort so that the area on the first floor is equivalent to the total area, lets see how many there are\n",
    "#For now assume if the number of stories is 1 then the finishedfloor1squarefeet is the same as calculatedfinishedsquarefeet\n",
    "df_train.loc[(df_train['finishedfloor1squarefeet'].isnull()) & (df_train['numberofstories']==1),'finishedfloor1squarefeet'] = df_train.loc[(df_train['finishedfloor1squarefeet'].isnull()) & (df_train['numberofstories']==1),'calculatedfinishedsquarefeet']\n",
    "\n",
    "#I also discovered that there seems to be two properties that have finishedfloor1squarefeet greater than calculated finishedsquarefeet. Notice also that they have big logerrors aswell - my guess is that the Zillow House price model found it difficult to predict these points due to the fact that they probably had potentially 'incorrect' data input values?\n",
    "#Discussion point - should we be removing these points or leave them in as they are or 'fix' them? I think it really depends on whether the test data has similar points which may be wrong as we'll want to predict big log errors for these incorrect points aswell I guess...\n",
    "#For now just remove them.\n",
    "print(df_train.loc[df_train['calculatedfinishedsquarefeet']<df_train['finishedfloor1squarefeet']])\n",
    "droprows = df_train.loc[df_train['calculatedfinishedsquarefeet']<df_train['finishedfloor1squarefeet']].index\n",
    "df_train = df_train.drop(droprows)\n",
    "\n"
   ]
  },
  {
   "cell_type": "code",
   "execution_count": 30,
   "metadata": {
    "_cell_guid": "ae914ab2-c294-4e11-bfbf-433591d30dc0",
    "_uuid": "3296aad59fbdcd940ccea85b38348c0450eee2ce"
   },
   "outputs": [
    {
     "name": "stdout",
     "output_type": "stream",
     "text": [
      "logerror                            0\n",
      "airconditioningtypeid               0\n",
      "bathroomcnt                         0\n",
      "bedroomcnt                          0\n",
      "buildingqualitytypeid           32909\n",
      "finishedfloor1squarefeet        74971\n",
      "calculatedfinishedsquarefeet      661\n",
      "fips                                0\n",
      "fireplacecnt                        0\n",
      "garagecarcnt                        0\n",
      "garagetotalsqft                     0\n",
      "hashottuborspa                      0\n",
      "heatingorsystemtypeid               0\n",
      "latitude                            0\n",
      "longitude                           0\n",
      "lotsizesquarefeet                   0\n",
      "poolcnt                             0\n",
      "poolsizesum                         0\n",
      "pooltypeid2                         0\n",
      "pooltypeid7                         0\n",
      "propertycountylandusecode           0\n",
      "propertylandusetypeid               0\n",
      "propertyzoningdesc                  0\n",
      "rawcensustractandblock              0\n",
      "regionidcity                        0\n",
      "regionidcounty                      0\n",
      "regionidneighborhood                0\n",
      "regionidzip                         0\n",
      "roomcnt                             0\n",
      "threequarterbathnbr                 0\n",
      "unitcnt                         31920\n",
      "yearbuilt                           0\n",
      "numberofstories                 69705\n",
      "fireplaceflag                       0\n",
      "structuretaxvaluedollarcnt        380\n",
      "taxvaluedollarcnt                   1\n",
      "assessmentyear                      0\n",
      "landtaxvaluedollarcnt               1\n",
      "taxamount                           6\n",
      "taxdelinquencyflag                  0\n",
      "censustractandblock               605\n",
      "dtype: int64\n"
     ]
    }
   ],
   "source": [
    "#Let's check whats missing still\n",
    "print(df_train.isnull().sum())\n"
   ]
  },
  {
   "cell_type": "markdown",
   "metadata": {
    "_cell_guid": "b5e5b193-2326-4ef9-b863-225b3e7898b1",
    "_uuid": "c5b2985f5ae8fa7b8db663d8c2856a8aaf825567"
   },
   "source": [
    "Let's look at filling in some of the tax related variables"
   ]
  },
  {
   "cell_type": "code",
   "execution_count": 31,
   "metadata": {
    "_cell_guid": "8dcea82a-ddaa-48ca-a429-733aa8da9bb1",
    "_uuid": "8af32ada2025abea0f22956dc8aaf3572e4f3ffb"
   },
   "outputs": [
    {
     "name": "stdout",
     "output_type": "stream",
     "text": [
      "structuretaxvaluedollarcnt      1.000000\n",
      "taxvaluedollarcnt               0.826052\n",
      "taxamount                       0.795013\n",
      "calculatedfinishedsquarefeet    0.716487\n",
      "landtaxvaluedollarcnt           0.623292\n",
      "bathroomcnt                     0.586639\n",
      "finishedfloor1squarefeet        0.560661\n",
      "bedroomcnt                      0.305401\n",
      "yearbuilt                       0.297487\n",
      "numberofstories                 0.222932\n",
      "poolsizesum                     0.212777\n",
      "poolcnt                         0.210389\n",
      "pooltypeid2                     0.205170\n",
      "threequarterbathnbr             0.196258\n",
      "garagetotalsqft                 0.182972\n",
      "pooltypeid7                     0.155389\n",
      "garagecarcnt                    0.126714\n",
      "fireplacecnt                    0.075147\n",
      "censustractandblock             0.038538\n",
      "rawcensustractandblock          0.038140\n",
      "fips                            0.038011\n",
      "logerror                        0.022084\n",
      "lotsizesquarefeet               0.013136\n",
      "regionidneighborhood            0.010707\n",
      "propertylandusetypeid           0.006931\n",
      "propertyzoningdesc              0.002831\n",
      "regionidzip                     0.002086\n",
      "airconditioningtypeid           0.000260\n",
      "unitcnt                        -0.000967\n",
      "propertycountylandusecode      -0.002117\n",
      "latitude                       -0.013538\n",
      "regionidcounty                 -0.018234\n",
      "regionidcity                   -0.028775\n",
      "roomcnt                        -0.028804\n",
      "longitude                      -0.059825\n",
      "buildingqualitytypeid          -0.105382\n",
      "heatingorsystemtypeid          -0.158705\n",
      "assessmentyear                       NaN\n",
      "Name: structuretaxvaluedollarcnt, dtype: float64\n"
     ]
    },
    {
     "data": {
      "text/plain": [
       "<matplotlib.figure.Figure at 0x7fbebf63dfd0>"
      ]
     },
     "metadata": {},
     "output_type": "display_data"
    },
    {
     "data": {
      "image/png": "[encoded data removed]",
      "text/plain": [
       "<matplotlib.figure.Figure at 0x7fbebfba39d0>"
      ]
     },
     "metadata": {},
     "output_type": "display_data"
    },
    {
     "name": "stdout",
     "output_type": "stream",
     "text": [
      "count    3.800000e+02\n",
      "mean     2.918108e+05\n",
      "std      5.095444e+05\n",
      "min      2.200000e+01\n",
      "25%      3.760475e+04\n",
      "50%      1.256650e+05\n",
      "75%      2.529950e+05\n",
      "max      4.477220e+06\n",
      "Name: taxvaluedollarcnt, dtype: float64\n",
      "count    9.027300e+04\n",
      "mean     4.576706e+05\n",
      "std      5.548889e+05\n",
      "min      2.200000e+01\n",
      "25%      1.990020e+05\n",
      "50%      3.428720e+05\n",
      "75%      5.405890e+05\n",
      "max      2.775000e+07\n",
      "Name: taxvaluedollarcnt, dtype: float64\n",
      "logerror                            0\n",
      "airconditioningtypeid               0\n",
      "bathroomcnt                         0\n",
      "bedroomcnt                          0\n",
      "buildingqualitytypeid           32909\n",
      "finishedfloor1squarefeet        74971\n",
      "calculatedfinishedsquarefeet      661\n",
      "fips                                0\n",
      "fireplacecnt                        0\n",
      "garagecarcnt                        0\n",
      "garagetotalsqft                     0\n",
      "hashottuborspa                      0\n",
      "heatingorsystemtypeid               0\n",
      "latitude                            0\n",
      "longitude                           0\n",
      "lotsizesquarefeet                   0\n",
      "poolcnt                             0\n",
      "poolsizesum                         0\n",
      "pooltypeid2                         0\n",
      "pooltypeid7                         0\n",
      "propertycountylandusecode           0\n",
      "propertylandusetypeid               0\n",
      "propertyzoningdesc                  0\n",
      "rawcensustractandblock              0\n",
      "regionidcity                        0\n",
      "regionidcounty                      0\n",
      "regionidneighborhood                0\n",
      "regionidzip                         0\n",
      "roomcnt                             0\n",
      "threequarterbathnbr                 0\n",
      "unitcnt                         31920\n",
      "yearbuilt                           0\n",
      "numberofstories                 69705\n",
      "fireplaceflag                       0\n",
      "structuretaxvaluedollarcnt          0\n",
      "taxvaluedollarcnt                   0\n",
      "assessmentyear                      0\n",
      "landtaxvaluedollarcnt               0\n",
      "taxamount                           0\n",
      "taxdelinquencyflag                  0\n",
      "censustractandblock               605\n",
      "dtype: int64\n"
     ]
    }
   ],
   "source": [
    "#taxvaluedollarcnt & landtaxvaluedollarcnt - set it equal to the tax amount (most correlated value). Single story property so assume they are all the same\n",
    "df_train.loc[df_train.taxvaluedollarcnt.isnull(),'taxvaluedollarcnt'] = df_train.loc[df_train.taxvaluedollarcnt.isnull(),'taxamount']\n",
    "df_train.loc[df_train.landtaxvaluedollarcnt.isnull(),'landtaxvaluedollarcnt'] = df_train.loc[df_train.landtaxvaluedollarcnt.isnull(),'taxamount']\n",
    "\n",
    "#structure tax value dollar - fill this in using its most correlated variable\n",
    "x =  df_train.corr()\n",
    "print(x.structuretaxvaluedollarcnt.sort_values(ascending = False))\n",
    "\n",
    "#taxvaluedollarcnt is most correlated variable, let's see how they are related \n",
    "plt.figure(figsize=(12,12))\n",
    "sns.jointplot(x=df_train.structuretaxvaluedollarcnt.values, y=df_train.taxvaluedollarcnt.values)\n",
    "plt.ylabel('taxvaluedollarcnt', fontsize=12)\n",
    "plt.xlabel('structuretaxvaluedollarcnt', fontsize=12)\n",
    "plt.title(\"structuretaxvaluedollarcnt Vs taxvaluedollarcnt\", fontsize=15)\n",
    "plt.show()\n",
    "\n",
    "#Lets look at the distribution of taxvaluedollar cnt where structuretaxvaluedollarcnt is missing just to make sure we are predicting missing values in the body of the taxvaluedollarcnt distribution\n",
    "print(df_train.loc[df_train['structuretaxvaluedollarcnt'].isnull(),'taxvaluedollarcnt'].describe())\n",
    "print(df_train['taxvaluedollarcnt'].describe())\n",
    "\n",
    "#Slightly amend the k nearest neighbour function so it works on regression\n",
    "def fillna_knn_reg( df, base, target, n_neighbors = 5 ):\n",
    "    cols = base + [target]\n",
    "    X_train = df[cols]\n",
    "    scaler = StandardScaler(with_mean=True, with_std=True).fit(X_train[base].values.reshape(-1, 1))\n",
    "    rescaledX = scaler.transform(X_train[base].values.reshape(-1, 1))\n",
    "\n",
    "    X_train = rescaledX[df[target].notnull()]\n",
    "    Y_train = df.loc[df[target].notnull(),target].values.reshape(-1, 1)\n",
    "\n",
    "    knn = KNeighborsRegressor(n_neighbors, n_jobs = -1)    \n",
    "    # fitting the model\n",
    "    knn.fit(X_train, Y_train)\n",
    "    # predict the response\n",
    "    X_test = rescaledX[df[target].isnull()]\n",
    "    pred = knn.predict(X_test)\n",
    "    df.loc[df_train[target].isnull(),target] = pred\n",
    "    return\n",
    "\n",
    "#fill in structuretaxvaluedollarcnt using taxvaluedollarcnt as per the above\n",
    "fillna_knn_reg(df = df_train, base = ['taxvaluedollarcnt'], target = 'structuretaxvaluedollarcnt')\n",
    "\n",
    "#Do the same thing for tax amount, as taxvaluedollarcnt is its most correlated variable\n",
    "fillna_knn_reg(df = df_train, base = ['taxvaluedollarcnt'], target = 'taxamount')\n",
    "print(df_train.isnull().sum())"
   ]
  },
  {
   "cell_type": "code",
   "execution_count": 32,
   "metadata": {
    "_cell_guid": "fbc8df65-eeb2-4d51-8809-fce2648bd44e",
    "_uuid": "b371e3ffa23d073a8287d37a25961e1525ccde01"
   },
   "outputs": [
    {
     "data": {
      "text/plain": [
       "logerror                            0\n",
       "airconditioningtypeid               0\n",
       "bathroomcnt                         0\n",
       "bedroomcnt                          0\n",
       "buildingqualitytypeid           32909\n",
       "finishedfloor1squarefeet        74971\n",
       "calculatedfinishedsquarefeet      661\n",
       "fips                                0\n",
       "fireplacecnt                        0\n",
       "garagecarcnt                        0\n",
       "garagetotalsqft                     0\n",
       "hashottuborspa                      0\n",
       "heatingorsystemtypeid               0\n",
       "latitude                            0\n",
       "longitude                           0\n",
       "lotsizesquarefeet                   0\n",
       "poolcnt                             0\n",
       "poolsizesum                         0\n",
       "pooltypeid2                         0\n",
       "pooltypeid7                         0\n",
       "propertycountylandusecode           0\n",
       "propertylandusetypeid               0\n",
       "propertyzoningdesc                  0\n",
       "rawcensustractandblock              0\n",
       "regionidcity                        0\n",
       "regionidcounty                      0\n",
       "regionidneighborhood                0\n",
       "regionidzip                         0\n",
       "roomcnt                             0\n",
       "threequarterbathnbr                 0\n",
       "unitcnt                         31920\n",
       "yearbuilt                           0\n",
       "numberofstories                 69705\n",
       "fireplaceflag                       0\n",
       "structuretaxvaluedollarcnt          0\n",
       "taxvaluedollarcnt                   0\n",
       "assessmentyear                      0\n",
       "landtaxvaluedollarcnt               0\n",
       "taxamount                           0\n",
       "taxdelinquencyflag                  0\n",
       "censustractandblock               605\n",
       "dtype: int64"
      ]
     },
     "execution_count": 32,
     "metadata": {},
     "output_type": "execute_result"
    }
   ],
   "source": [
    "#Let's see whats left\n",
    "df_train.isnull().sum()\n"
   ]
  },
  {
   "cell_type": "markdown",
   "metadata": {
    "_uuid": "6891bfac6c2390b4173a33591e30a396fec96994"
   },
   "source": [
    "**calculatedfinishedsquarefeet **- this is one of the most important variables (https://www.kaggle.com/nikunjm88/creating-additional-features). Some suggestions on how to fill it in:\n",
    "\n",
    "Use K nearest neighbours regressor using the number of bathroom and bedrooms (as more bathrooms and bedrooms means bigger the area) and structuretaxvaluedollarcnt (as  I'm assuming the size of the property has an impact on the tax). \n",
    "Could alternatively fit a regression model on calculated finished square feet, given its so important, such as using lasso regression for instance."
   ]
  },
  {
   "cell_type": "markdown",
   "metadata": {
    "_cell_guid": "8579787d-4480-4876-8652-9c103e2b3a00",
    "_uuid": "6f8f81d9fabf1f511e8d015fb897556e2b3f603a"
   },
   "source": [
    "So there's a couple of missing values left - I'm not going to go through all of them but I hope the above provides some ideas on how you can sensibly fill in missing values, instead of using default approaches of filling them in using the median values etc\n",
    "\n",
    "Some additional points/caveats:\n",
    "- The K nearest neighbours function might not always be able to find a nearest value and by default it will categorise it into a seperate category. \n",
    "- The K value for nearest neighbours may not be optimal - I suggest it might be a good idea to use cross-validation to find the best k value. Also don't forgot to change fraction to 1 when you run this script (I have left it as 0.15 to prevent the kernel timing out)\n",
    "- As mentioned above, it would be reasonable to check that properties with missing values being predicted using knn are close to properties with missing values. Ie make sure your not predicting missing values using properties extremely far away in different cities/neighbourhoods etc\n",
    "- The adjustments above also have to be made to the test data, so potentially combined the train and test data and make the same adjustments\n",
    "- Prior to fitting models, categorical variables need to be one-hot encoded (there are some categorical features encoded as numbers and some tree-based methods may by default assume they are ordinal!). Probably a good idea to transform some of the skewed features aswell.\n",
    "\n",
    "Just a thought - I think we need to be very careful how we treat outliers that exist in test set. We are trying to predict errors in Zillows model. Potentially bigger errors are most likely to exist if there are outliers/errors in the data - for example, in the notebook above we spotted 2 claims where the area of the first floor is bigger than the area of the total property - probably a data error and these  two properties have errors which are larger than the average (Zillows model probably found it hard to predict them due to them being outliers/erros in data entry). But we want to be able predict these big errors and correcting these outliers I don't think will help. Likewise properties with missing values may be more difficult to predict by the Zillow model and therefore have big errors  - so filling in the missing values won't neccesarily help (which contradicts the purpose of this notebook! :) )\n",
    "\n",
    "Its probably worthwhile doing doing cross-validation work after making each change to understand if the changes help \n",
    "\n",
    "Interested to hear if any of the adjustments outlined in the notebook helps improve your score, so please comment if they do! \n",
    "\n",
    "Please upvote if you found this notebook useful aswell :)\n"
   ]
  },
  {
   "cell_type": "code",
   "execution_count": 33,
   "metadata": {
    "collapsed": true
   },
   "outputs": [],
   "source": [
    "import pandas as pd"
   ]
  },
  {
   "cell_type": "code",
   "execution_count": null,
   "metadata": {
    "collapsed": true
   },
   "outputs": [],
   "source": [
    "catcols+=['longitude','latitude','assessmentyear']"
   ]
  },
  {
   "cell_type": "code",
   "execution_count": 34,
   "metadata": {
    "collapsed": true
   },
   "outputs": [],
   "source": [
    "def pd_change_category_by_names(data_frame,names):\n",
    "    for i,col_name in enumerate(data_frame.dtypes.index):\n",
    "        if col_name in names:\n",
    "            data_frame[col_name] = data_frame[col_name].astype('category')\n",
    "            print(col_name+\" is changed to category\")\n",
    "            print(\"---------------------------------\")\n",
    "    print(data_frame.dtypes)"
   ]
  },
  {
   "cell_type": "code",
   "execution_count": 41,
   "metadata": {
    "scrolled": true
   },
   "outputs": [
    {
     "name": "stdout",
     "output_type": "stream",
     "text": [
      "airconditioningtypeid is changed to category\n",
      "---------------------------------\n",
      "buildingqualitytypeid is changed to category\n",
      "---------------------------------\n",
      "fips is changed to category\n",
      "---------------------------------\n",
      "hashottuborspa is changed to category\n",
      "---------------------------------\n",
      "heatingorsystemtypeid is changed to category\n",
      "---------------------------------\n",
      "latitude is changed to category\n",
      "---------------------------------\n",
      "longitude is changed to category\n",
      "---------------------------------\n",
      "pooltypeid2 is changed to category\n",
      "---------------------------------\n",
      "pooltypeid7 is changed to category\n",
      "---------------------------------\n",
      "propertycountylandusecode is changed to category\n",
      "---------------------------------\n",
      "propertylandusetypeid is changed to category\n",
      "---------------------------------\n",
      "propertyzoningdesc is changed to category\n",
      "---------------------------------\n",
      "rawcensustractandblock is changed to category\n",
      "---------------------------------\n",
      "regionidcity is changed to category\n",
      "---------------------------------\n",
      "regionidcounty is changed to category\n",
      "---------------------------------\n",
      "regionidneighborhood is changed to category\n",
      "---------------------------------\n",
      "regionidzip is changed to category\n",
      "---------------------------------\n",
      "yearbuilt is changed to category\n",
      "---------------------------------\n",
      "assessmentyear is changed to category\n",
      "---------------------------------\n",
      "taxdelinquencyflag is changed to category\n",
      "---------------------------------\n",
      "logerror                         float64\n",
      "airconditioningtypeid           category\n",
      "bathroomcnt                      float32\n",
      "bedroomcnt                       float32\n",
      "buildingqualitytypeid           category\n",
      "finishedfloor1squarefeet         float32\n",
      "calculatedfinishedsquarefeet     float32\n",
      "fips                            category\n",
      "fireplacecnt                     float32\n",
      "garagecarcnt                     float32\n",
      "garagetotalsqft                  float32\n",
      "hashottuborspa                  category\n",
      "heatingorsystemtypeid           category\n",
      "latitude                        category\n",
      "longitude                       category\n",
      "lotsizesquarefeet                float32\n",
      "poolcnt                          float32\n",
      "poolsizesum                      float32\n",
      "pooltypeid2                     category\n",
      "pooltypeid7                     category\n",
      "propertycountylandusecode       category\n",
      "propertylandusetypeid           category\n",
      "propertyzoningdesc              category\n",
      "rawcensustractandblock          category\n",
      "regionidcity                    category\n",
      "regionidcounty                  category\n",
      "regionidneighborhood            category\n",
      "regionidzip                     category\n",
      "roomcnt                          float32\n",
      "threequarterbathnbr              float32\n",
      "unitcnt                          float32\n",
      "yearbuilt                       category\n",
      "numberofstories                  float32\n",
      "fireplaceflag                     object\n",
      "structuretaxvaluedollarcnt       float32\n",
      "taxvaluedollarcnt                float32\n",
      "assessmentyear                  category\n",
      "landtaxvaluedollarcnt            float32\n",
      "taxamount                        float32\n",
      "taxdelinquencyflag              category\n",
      "censustractandblock              float32\n",
      "dtype: object\n"
     ]
    }
   ],
   "source": [
    "pd_change_category_by_names(df_train,catcols)"
   ]
  },
  {
   "cell_type": "code",
   "execution_count": 36,
   "metadata": {
    "collapsed": true
   },
   "outputs": [],
   "source": [
    "import math"
   ]
  },
  {
   "cell_type": "code",
   "execution_count": 42,
   "metadata": {
    "scrolled": true
   },
   "outputs": [
    {
     "data": {
      "text/html": [
       "<div>\n",
       "<style>\n",
       "    .dataframe thead tr:only-child th {\n",
       "        text-align: right;\n",
       "    }\n",
       "\n",
       "    .dataframe thead th {\n",
       "        text-align: left;\n",
       "    }\n",
       "\n",
       "    .dataframe tbody tr th {\n",
       "        vertical-align: top;\n",
       "    }\n",
       "</style>\n",
       "<table border=\"1\" class=\"dataframe\">\n",
       "  <thead>\n",
       "    <tr style=\"text-align: right;\">\n",
       "      <th></th>\n",
       "      <th>logerror</th>\n",
       "      <th>airconditioningtypeid</th>\n",
       "      <th>bathroomcnt</th>\n",
       "      <th>bedroomcnt</th>\n",
       "      <th>buildingqualitytypeid</th>\n",
       "      <th>finishedfloor1squarefeet</th>\n",
       "      <th>calculatedfinishedsquarefeet</th>\n",
       "      <th>fips</th>\n",
       "      <th>fireplacecnt</th>\n",
       "      <th>garagecarcnt</th>\n",
       "      <th>...</th>\n",
       "      <th>yearbuilt</th>\n",
       "      <th>numberofstories</th>\n",
       "      <th>fireplaceflag</th>\n",
       "      <th>structuretaxvaluedollarcnt</th>\n",
       "      <th>taxvaluedollarcnt</th>\n",
       "      <th>assessmentyear</th>\n",
       "      <th>landtaxvaluedollarcnt</th>\n",
       "      <th>taxamount</th>\n",
       "      <th>taxdelinquencyflag</th>\n",
       "      <th>censustractandblock</th>\n",
       "    </tr>\n",
       "  </thead>\n",
       "  <tbody>\n",
       "    <tr>\n",
       "      <th>0</th>\n",
       "      <td>0.0276</td>\n",
       "      <td>1.0</td>\n",
       "      <td>2.0</td>\n",
       "      <td>3.0</td>\n",
       "      <td>4.0</td>\n",
       "      <td>NaN</td>\n",
       "      <td>1684.0</td>\n",
       "      <td>6037.0</td>\n",
       "      <td>0.0</td>\n",
       "      <td>0.0</td>\n",
       "      <td>...</td>\n",
       "      <td>1959.0</td>\n",
       "      <td>NaN</td>\n",
       "      <td>No</td>\n",
       "      <td>122754.0</td>\n",
       "      <td>360170.0</td>\n",
       "      <td>2015.0</td>\n",
       "      <td>237416.0</td>\n",
       "      <td>6735.879883</td>\n",
       "      <td>None</td>\n",
       "      <td>6.037107e+13</td>\n",
       "    </tr>\n",
       "    <tr>\n",
       "      <th>1</th>\n",
       "      <td>-0.1684</td>\n",
       "      <td>1.0</td>\n",
       "      <td>3.5</td>\n",
       "      <td>4.0</td>\n",
       "      <td>NaN</td>\n",
       "      <td>NaN</td>\n",
       "      <td>2263.0</td>\n",
       "      <td>6059.0</td>\n",
       "      <td>0.0</td>\n",
       "      <td>2.0</td>\n",
       "      <td>...</td>\n",
       "      <td>2014.0</td>\n",
       "      <td>NaN</td>\n",
       "      <td>No</td>\n",
       "      <td>346458.0</td>\n",
       "      <td>585529.0</td>\n",
       "      <td>2015.0</td>\n",
       "      <td>239071.0</td>\n",
       "      <td>10153.019531</td>\n",
       "      <td>None</td>\n",
       "      <td>NaN</td>\n",
       "    </tr>\n",
       "    <tr>\n",
       "      <th>2</th>\n",
       "      <td>-0.0040</td>\n",
       "      <td>1.0</td>\n",
       "      <td>3.0</td>\n",
       "      <td>2.0</td>\n",
       "      <td>4.0</td>\n",
       "      <td>NaN</td>\n",
       "      <td>2217.0</td>\n",
       "      <td>6037.0</td>\n",
       "      <td>0.0</td>\n",
       "      <td>0.0</td>\n",
       "      <td>...</td>\n",
       "      <td>1940.0</td>\n",
       "      <td>NaN</td>\n",
       "      <td>No</td>\n",
       "      <td>61994.0</td>\n",
       "      <td>119906.0</td>\n",
       "      <td>2015.0</td>\n",
       "      <td>57912.0</td>\n",
       "      <td>11484.480469</td>\n",
       "      <td>None</td>\n",
       "      <td>6.037464e+13</td>\n",
       "    </tr>\n",
       "    <tr>\n",
       "      <th>3</th>\n",
       "      <td>0.0218</td>\n",
       "      <td>1.0</td>\n",
       "      <td>2.0</td>\n",
       "      <td>2.0</td>\n",
       "      <td>4.0</td>\n",
       "      <td>NaN</td>\n",
       "      <td>839.0</td>\n",
       "      <td>6037.0</td>\n",
       "      <td>0.0</td>\n",
       "      <td>0.0</td>\n",
       "      <td>...</td>\n",
       "      <td>1987.0</td>\n",
       "      <td>NaN</td>\n",
       "      <td>No</td>\n",
       "      <td>171518.0</td>\n",
       "      <td>244880.0</td>\n",
       "      <td>2015.0</td>\n",
       "      <td>73362.0</td>\n",
       "      <td>3048.739990</td>\n",
       "      <td>None</td>\n",
       "      <td>6.037296e+13</td>\n",
       "    </tr>\n",
       "    <tr>\n",
       "      <th>4</th>\n",
       "      <td>-0.0050</td>\n",
       "      <td>1.0</td>\n",
       "      <td>2.5</td>\n",
       "      <td>4.0</td>\n",
       "      <td>NaN</td>\n",
       "      <td>NaN</td>\n",
       "      <td>2283.0</td>\n",
       "      <td>6059.0</td>\n",
       "      <td>0.0</td>\n",
       "      <td>2.0</td>\n",
       "      <td>...</td>\n",
       "      <td>1981.0</td>\n",
       "      <td>2.0</td>\n",
       "      <td>No</td>\n",
       "      <td>169574.0</td>\n",
       "      <td>434551.0</td>\n",
       "      <td>2015.0</td>\n",
       "      <td>264977.0</td>\n",
       "      <td>5488.959961</td>\n",
       "      <td>None</td>\n",
       "      <td>6.059042e+13</td>\n",
       "    </tr>\n",
       "  </tbody>\n",
       "</table>\n",
       "<p>5 rows × 41 columns</p>\n",
       "</div>"
      ],
      "text/plain": [
       "   logerror airconditioningtypeid  bathroomcnt  bedroomcnt  \\\n",
       "0    0.0276                   1.0          2.0         3.0   \n",
       "1   -0.1684                   1.0          3.5         4.0   \n",
       "2   -0.0040                   1.0          3.0         2.0   \n",
       "3    0.0218                   1.0          2.0         2.0   \n",
       "4   -0.0050                   1.0          2.5         4.0   \n",
       "\n",
       "  buildingqualitytypeid  finishedfloor1squarefeet  \\\n",
       "0                   4.0                       NaN   \n",
       "1                   NaN                       NaN   \n",
       "2                   4.0                       NaN   \n",
       "3                   4.0                       NaN   \n",
       "4                   NaN                       NaN   \n",
       "\n",
       "   calculatedfinishedsquarefeet    fips  fireplacecnt  garagecarcnt  \\\n",
       "0                        1684.0  6037.0           0.0           0.0   \n",
       "1                        2263.0  6059.0           0.0           2.0   \n",
       "2                        2217.0  6037.0           0.0           0.0   \n",
       "3                         839.0  6037.0           0.0           0.0   \n",
       "4                        2283.0  6059.0           0.0           2.0   \n",
       "\n",
       "          ...          yearbuilt numberofstories fireplaceflag  \\\n",
       "0         ...             1959.0             NaN            No   \n",
       "1         ...             2014.0             NaN            No   \n",
       "2         ...             1940.0             NaN            No   \n",
       "3         ...             1987.0             NaN            No   \n",
       "4         ...             1981.0             2.0            No   \n",
       "\n",
       "  structuretaxvaluedollarcnt taxvaluedollarcnt  assessmentyear  \\\n",
       "0                   122754.0          360170.0          2015.0   \n",
       "1                   346458.0          585529.0          2015.0   \n",
       "2                    61994.0          119906.0          2015.0   \n",
       "3                   171518.0          244880.0          2015.0   \n",
       "4                   169574.0          434551.0          2015.0   \n",
       "\n",
       "   landtaxvaluedollarcnt     taxamount taxdelinquencyflag censustractandblock  \n",
       "0               237416.0   6735.879883               None        6.037107e+13  \n",
       "1               239071.0  10153.019531               None                 NaN  \n",
       "2                57912.0  11484.480469               None        6.037464e+13  \n",
       "3                73362.0   3048.739990               None        6.037296e+13  \n",
       "4               264977.0   5488.959961               None        6.059042e+13  \n",
       "\n",
       "[5 rows x 41 columns]"
      ]
     },
     "execution_count": 42,
     "metadata": {},
     "output_type": "execute_result"
    }
   ],
   "source": [
    "df_train.head()"
   ]
  },
  {
   "cell_type": "code",
   "execution_count": 43,
   "metadata": {
    "scrolled": false
   },
   "outputs": [
    {
     "name": "stdout",
     "output_type": "stream",
     "text": [
      "2:bathroomcnt\n",
      "3:bedroomcnt\n",
      "5:finishedfloor1squarefeet\n",
      "8:fireplacecnt\n",
      "9:garagecarcnt\n",
      "10:garagetotalsqft\n",
      "15:lotsizesquarefeet\n",
      "16:poolcnt\n",
      "17:poolsizesum\n",
      "28:roomcnt\n",
      "29:threequarterbathnbr\n",
      "30:unitcnt\n",
      "32:numberofstories\n",
      "34:structuretaxvaluedollarcnt\n",
      "35:taxvaluedollarcnt\n",
      "37:landtaxvaluedollarcnt\n",
      "38:taxamount\n",
      "40:censustractandblock\n"
     ]
    }
   ],
   "source": [
    "category=[]\n",
    "for i,value in enumerate(df_train.dtypes.index):\n",
    "    if df_train.dtypes.get(list(df_train.dtypes.index)[i])=='float32':\n",
    "        if list(df_train.dtypes.index)[i]=='calculatedfinishedsquarefeet':\n",
    "            continue\n",
    "        else:\n",
    "            print(str(i)+\":\"+value)\n",
    "            df_train=eval(\"df_train.assign(new{}=lambda x: x.{} /x.calculatedfinishedsquarefeet)\".format(value,value))\n",
    "    else:\n",
    "        category.append(i)"
   ]
  },
  {
   "cell_type": "code",
   "execution_count": 71,
   "metadata": {},
   "outputs": [],
   "source": [
    "names=list(df_train.columns)"
   ]
  },
  {
   "cell_type": "code",
   "execution_count": 72,
   "metadata": {},
   "outputs": [
    {
     "data": {
      "text/plain": [
       "28"
      ]
     },
     "execution_count": 72,
     "metadata": {},
     "output_type": "execute_result"
    }
   ],
   "source": [
    "names.index('roomcnt')"
   ]
  },
  {
   "cell_type": "code",
   "execution_count": 73,
   "metadata": {
    "collapsed": true
   },
   "outputs": [],
   "source": [
    "#roomcnt = 28\n",
    "reference=[28]"
   ]
  },
  {
   "cell_type": "code",
   "execution_count": 74,
   "metadata": {},
   "outputs": [],
   "source": [
    "new=df_train.ix[:,reference+category+list(range(42,59))]"
   ]
  },
  {
   "cell_type": "code",
   "execution_count": 95,
   "metadata": {},
   "outputs": [
    {
     "name": "stderr",
     "output_type": "stream",
     "text": [
      "/home/ghk829/miniconda2/lib/python2.7/site-packages/ipykernel_launcher.py:1: SettingWithCopyWarning: \n",
      "A value is trying to be set on a copy of a slice from a DataFrame.\n",
      "Try using .loc[row_indexer,col_indexer] = value instead\n",
      "\n",
      "See the caveats in the documentation: http://pandas.pydata.org/pandas-docs/stable/indexing.html#indexing-view-versus-copy\n",
      "  \"\"\"Entry point for launching an IPython kernel.\n"
     ]
    }
   ],
   "source": [
    "#Creating Dummy\n",
    "def f(df):\n",
    "    if df['roomcnt'] == 0:\n",
    "        val = 0\n",
    "    else:\n",
    "        val = 1\n",
    "    return val\n",
    "new['room_yn'] = new.apply(f,axis=1)"
   ]
  },
  {
   "cell_type": "code",
   "execution_count": 54,
   "metadata": {
    "collapsed": true
   },
   "outputs": [],
   "source": [
    "import h2o\n",
    "import matplotlib.pyplot as plt"
   ]
  },
  {
   "cell_type": "code",
   "execution_count": 55,
   "metadata": {},
   "outputs": [
    {
     "name": "stdout",
     "output_type": "stream",
     "text": [
      "Checking whether there is an H2O instance running at http://localhost:54321..... not found.\n",
      "Attempting to start a local H2O server...\n",
      "  Java Version: openjdk version \"1.8.0_121\"; OpenJDK Runtime Environment (Zulu 8.20.0.5-linux64) (build 1.8.0_121-b15); OpenJDK 64-Bit Server VM (Zulu 8.20.0.5-linux64) (build 25.121-b15, mixed mode)\n",
      "  Starting server from /home/ghk829/miniconda2/lib/python2.7/site-packages/h2o/backend/bin/h2o.jar\n",
      "  Ice root: /tmp/tmp1symUD\n",
      "  JVM stdout: /tmp/tmp1symUD/h2o_ghk829_started_from_python.out\n",
      "  JVM stderr: /tmp/tmp1symUD/h2o_ghk829_started_from_python.err\n",
      "  Server is running at http://127.0.0.1:54321\n",
      "Connecting to H2O server at http://127.0.0.1:54321... successful.\n",
      "Warning: Your H2O cluster version is too old (4 months and 3 days)! Please download and install the latest version from http://h2o.ai/download/\n"
     ]
    },
    {
     "data": {
      "text/html": [
       "<div style=\"overflow:auto\"><table style=\"width:50%\"><tr><td>H2O cluster uptime:</td>\n",
       "<td>04 secs</td></tr>\n",
       "<tr><td>H2O cluster version:</td>\n",
       "<td>3.10.4.8</td></tr>\n",
       "<tr><td>H2O cluster version age:</td>\n",
       "<td>4 months and 3 days !!!</td></tr>\n",
       "<tr><td>H2O cluster name:</td>\n",
       "<td>H2O_from_python_ghk829_ayfp6h</td></tr>\n",
       "<tr><td>H2O cluster total nodes:</td>\n",
       "<td>1</td></tr>\n",
       "<tr><td>H2O cluster free memory:</td>\n",
       "<td>7.111 Gb</td></tr>\n",
       "<tr><td>H2O cluster total cores:</td>\n",
       "<td>4</td></tr>\n",
       "<tr><td>H2O cluster allowed cores:</td>\n",
       "<td>4</td></tr>\n",
       "<tr><td>H2O cluster status:</td>\n",
       "<td>accepting new members, healthy</td></tr>\n",
       "<tr><td>H2O connection url:</td>\n",
       "<td>http://127.0.0.1:54321</td></tr>\n",
       "<tr><td>H2O connection proxy:</td>\n",
       "<td>None</td></tr>\n",
       "<tr><td>H2O internal security:</td>\n",
       "<td>False</td></tr>\n",
       "<tr><td>Python version:</td>\n",
       "<td>2.7.13 final</td></tr></table></div>"
      ],
      "text/plain": [
       "--------------------------  ------------------------------\n",
       "H2O cluster uptime:         04 secs\n",
       "H2O cluster version:        3.10.4.8\n",
       "H2O cluster version age:    4 months and 3 days !!!\n",
       "H2O cluster name:           H2O_from_python_ghk829_ayfp6h\n",
       "H2O cluster total nodes:    1\n",
       "H2O cluster free memory:    7.111 Gb\n",
       "H2O cluster total cores:    4\n",
       "H2O cluster allowed cores:  4\n",
       "H2O cluster status:         accepting new members, healthy\n",
       "H2O connection url:         http://127.0.0.1:54321\n",
       "H2O connection proxy:\n",
       "H2O internal security:      False\n",
       "Python version:             2.7.13 final\n",
       "--------------------------  ------------------------------"
      ]
     },
     "metadata": {},
     "output_type": "display_data"
    }
   ],
   "source": [
    "h2o.init(nthreads = -1, max_mem_size = 8)"
   ]
  },
  {
   "cell_type": "code",
   "execution_count": 56,
   "metadata": {},
   "outputs": [
    {
     "name": "stdout",
     "output_type": "stream",
     "text": [
      "Parse progress: |█████████████████████████████████████████████████████████| 100%\n"
     ]
    }
   ],
   "source": [
    "df=h2o.H2OFrame(python_obj=new.to_dict(\"list\"))"
   ]
  },
  {
   "cell_type": "code",
   "execution_count": 57,
   "metadata": {
    "collapsed": true
   },
   "outputs": [],
   "source": [
    "splits = df.split_frame(ratios=[0.7, 0.15])"
   ]
  },
  {
   "cell_type": "code",
   "execution_count": 58,
   "metadata": {
    "collapsed": true
   },
   "outputs": [],
   "source": [
    "train = splits[0]\n",
    "valid = splits[1]\n",
    "test = splits[2]"
   ]
  },
  {
   "cell_type": "code",
   "execution_count": 59,
   "metadata": {
    "collapsed": true
   },
   "outputs": [],
   "source": [
    "y_names= df.col_names[0]\n",
    "x_names = df.col_names[1:len(df.col_names)-1]"
   ]
  },
  {
   "cell_type": "code",
   "execution_count": 60,
   "metadata": {},
   "outputs": [
    {
     "data": {
      "text/plain": [
       "[u'regionidcity',\n",
       " u'regionidzip',\n",
       " u'newfinishedfloor1squarefeet',\n",
       " u'yearbuilt',\n",
       " u'newpoolsizesum',\n",
       " u'fireplaceflag',\n",
       " u'regionidcounty',\n",
       " u'taxdelinquencyflag',\n",
       " u'propertyzoningdesc',\n",
       " u'newlandtaxvaluedollarcnt',\n",
       " u'newfireplacecnt',\n",
       " u'newnumberofstories',\n",
       " u'newcensustractandblock',\n",
       " u'latitude',\n",
       " u'newbedroomcnt',\n",
       " u'newtaxvaluedollarcnt',\n",
       " u'newgaragetotalsqft',\n",
       " u'hashottuborspa',\n",
       " u'newunitcnt',\n",
       " u'newstructuretaxvaluedollarcnt',\n",
       " u'buildingqualitytypeid',\n",
       " u'newroomcnt',\n",
       " u'assessmentyear',\n",
       " u'propertylandusetypeid',\n",
       " u'propertycountylandusecode',\n",
       " u'regionidneighborhood',\n",
       " u'fips',\n",
       " u'newtaxamount',\n",
       " u'heatingorsystemtypeid',\n",
       " u'airconditioningtypeid',\n",
       " u'newlotsizesquarefeet',\n",
       " u'rawcensustractandblock',\n",
       " u'pooltypeid2',\n",
       " u'longitude',\n",
       " u'pooltypeid7',\n",
       " u'newthreequarterbathnbr',\n",
       " u'newgaragecarcnt']"
      ]
     },
     "execution_count": 60,
     "metadata": {},
     "output_type": "execute_result"
    }
   ],
   "source": [
    "x_names"
   ]
  },
  {
   "cell_type": "code",
   "execution_count": 61,
   "metadata": {
    "collapsed": true
   },
   "outputs": [],
   "source": [
    "from h2o.estimators.random_forest import H2ORandomForestEstimator"
   ]
  },
  {
   "cell_type": "code",
   "execution_count": 62,
   "metadata": {
    "collapsed": true
   },
   "outputs": [],
   "source": [
    "fit1 = H2ORandomForestEstimator(model_id = 'fit1')"
   ]
  },
  {
   "cell_type": "code",
   "execution_count": 63,
   "metadata": {
    "scrolled": true
   },
   "outputs": [
    {
     "name": "stdout",
     "output_type": "stream",
     "text": [
      "drf Model Build progress: |███████████████████████████████████████████████| 100%\n"
     ]
    }
   ],
   "source": [
    "fit1.train(x=x_names, y=y_names, training_frame=train,validation_frame=valid)"
   ]
  },
  {
   "cell_type": "code",
   "execution_count": 64,
   "metadata": {},
   "outputs": [
    {
     "name": "stdout",
     "output_type": "stream",
     "text": [
      "Model Details\n",
      "=============\n",
      "H2ORandomForestEstimator :  Distributed Random Forest\n",
      "Model Key:  fit1\n",
      "\n",
      "\n",
      "ModelMetricsRegression: drf\n",
      "** Reported on train data. **\n",
      "\n",
      "MSE: 0.026261036548\n",
      "RMSE: 0.162052573408\n",
      "MAE: 0.071778859033\n",
      "RMSLE: NaN\n",
      "Mean Residual Deviance: 0.026261036548\n",
      "\n",
      "ModelMetricsRegression: drf\n",
      "** Reported on validation data. **\n",
      "\n",
      "MSE: 0.0259404911029\n",
      "RMSE: 0.161060520001\n",
      "MAE: 0.0702132305921\n",
      "RMSLE: NaN\n",
      "Mean Residual Deviance: 0.0259404911029\n",
      "Scoring History: \n"
     ]
    },
    {
     "data": {
      "text/html": [
       "<div style=\"overflow:auto\"><table style=\"width:50%\"><tr><td><b></b></td>\n",
       "<td><b>timestamp</b></td>\n",
       "<td><b>duration</b></td>\n",
       "<td><b>number_of_trees</b></td>\n",
       "<td><b>training_rmse</b></td>\n",
       "<td><b>training_mae</b></td>\n",
       "<td><b>training_deviance</b></td>\n",
       "<td><b>validation_rmse</b></td>\n",
       "<td><b>validation_mae</b></td>\n",
       "<td><b>validation_deviance</b></td></tr>\n",
       "<tr><td></td>\n",
       "<td>2017-09-25 10:15:38</td>\n",
       "<td> 0.044 sec</td>\n",
       "<td>0.0</td>\n",
       "<td>nan</td>\n",
       "<td>nan</td>\n",
       "<td>nan</td>\n",
       "<td>nan</td>\n",
       "<td>nan</td>\n",
       "<td>nan</td></tr>\n",
       "<tr><td></td>\n",
       "<td>2017-09-25 10:15:40</td>\n",
       "<td> 2.181 sec</td>\n",
       "<td>1.0</td>\n",
       "<td>0.2104777</td>\n",
       "<td>0.0843412</td>\n",
       "<td>0.0443009</td>\n",
       "<td>0.1933219</td>\n",
       "<td>0.0817100</td>\n",
       "<td>0.0373734</td></tr>\n",
       "<tr><td></td>\n",
       "<td>2017-09-25 10:15:41</td>\n",
       "<td> 3.377 sec</td>\n",
       "<td>2.0</td>\n",
       "<td>0.2002835</td>\n",
       "<td>0.0825734</td>\n",
       "<td>0.0401135</td>\n",
       "<td>0.1780396</td>\n",
       "<td>0.0784196</td>\n",
       "<td>0.0316981</td></tr>\n",
       "<tr><td></td>\n",
       "<td>2017-09-25 10:15:45</td>\n",
       "<td> 7.447 sec</td>\n",
       "<td>11.0</td>\n",
       "<td>0.1721601</td>\n",
       "<td>0.0762679</td>\n",
       "<td>0.0296391</td>\n",
       "<td>0.1629171</td>\n",
       "<td>0.0721160</td>\n",
       "<td>0.0265420</td></tr>\n",
       "<tr><td></td>\n",
       "<td>2017-09-25 10:15:49</td>\n",
       "<td>11.629 sec</td>\n",
       "<td>23.0</td>\n",
       "<td>0.1649053</td>\n",
       "<td>0.0737397</td>\n",
       "<td>0.0271938</td>\n",
       "<td>0.1621813</td>\n",
       "<td>0.0712900</td>\n",
       "<td>0.0263028</td></tr>\n",
       "<tr><td></td>\n",
       "<td>2017-09-25 10:15:53</td>\n",
       "<td>15.693 sec</td>\n",
       "<td>38.0</td>\n",
       "<td>0.1629617</td>\n",
       "<td>0.0722918</td>\n",
       "<td>0.0265565</td>\n",
       "<td>0.1613931</td>\n",
       "<td>0.0705104</td>\n",
       "<td>0.0260477</td></tr>\n",
       "<tr><td></td>\n",
       "<td>2017-09-25 10:15:57</td>\n",
       "<td>19.559 sec</td>\n",
       "<td>50.0</td>\n",
       "<td>0.1620526</td>\n",
       "<td>0.0717789</td>\n",
       "<td>0.0262610</td>\n",
       "<td>0.1610605</td>\n",
       "<td>0.0702132</td>\n",
       "<td>0.0259405</td></tr></table></div>"
      ],
      "text/plain": [
       "    timestamp            duration    number_of_trees    training_rmse    training_mae    training_deviance    validation_rmse    validation_mae    validation_deviance\n",
       "--  -------------------  ----------  -----------------  ---------------  --------------  -------------------  -----------------  ----------------  ---------------------\n",
       "    2017-09-25 10:15:38  0.044 sec   0                  nan              nan             nan                  nan                nan               nan\n",
       "    2017-09-25 10:15:40  2.181 sec   1                  0.210478         0.0843412       0.0443009            0.193322           0.08171           0.0373734\n",
       "    2017-09-25 10:15:41  3.377 sec   2                  0.200284         0.0825734       0.0401135            0.17804            0.0784196         0.0316981\n",
       "    2017-09-25 10:15:45  7.447 sec   11                 0.17216          0.0762679       0.0296391            0.162917           0.072116          0.026542\n",
       "    2017-09-25 10:15:49  11.629 sec  23                 0.164905         0.0737397       0.0271938            0.162181           0.07129           0.0263028\n",
       "    2017-09-25 10:15:53  15.693 sec  38                 0.162962         0.0722918       0.0265565            0.161393           0.0705104         0.0260477\n",
       "    2017-09-25 10:15:57  19.559 sec  50                 0.162053         0.0717789       0.026261             0.161061           0.0702132         0.0259405"
      ]
     },
     "metadata": {},
     "output_type": "display_data"
    },
    {
     "name": "stdout",
     "output_type": "stream",
     "text": [
      "Variable Importances: \n"
     ]
    },
    {
     "data": {
      "text/html": [
       "<div style=\"overflow:auto\"><table style=\"width:50%\"><tr><td><b>variable</b></td>\n",
       "<td><b>relative_importance</b></td>\n",
       "<td><b>scaled_importance</b></td>\n",
       "<td><b>percentage</b></td></tr>\n",
       "<tr><td>newstructuretaxvaluedollarcnt</td>\n",
       "<td>1700.1613769</td>\n",
       "<td>1.0</td>\n",
       "<td>0.0719376</td></tr>\n",
       "<tr><td>newtaxamount</td>\n",
       "<td>1679.1607666</td>\n",
       "<td>0.9876479</td>\n",
       "<td>0.0710490</td></tr>\n",
       "<tr><td>newbedroomcnt</td>\n",
       "<td>1538.8630371</td>\n",
       "<td>0.9051276</td>\n",
       "<td>0.0651127</td></tr>\n",
       "<tr><td>yearbuilt</td>\n",
       "<td>1521.1374512</td>\n",
       "<td>0.8947018</td>\n",
       "<td>0.0643627</td></tr>\n",
       "<tr><td>newtaxvaluedollarcnt</td>\n",
       "<td>1494.6595459</td>\n",
       "<td>0.8791280</td>\n",
       "<td>0.0632423</td></tr>\n",
       "<tr><td>---</td>\n",
       "<td>---</td>\n",
       "<td>---</td>\n",
       "<td>---</td></tr>\n",
       "<tr><td>hashottuborspa</td>\n",
       "<td>45.9931831</td>\n",
       "<td>0.0270522</td>\n",
       "<td>0.0019461</td></tr>\n",
       "<tr><td>fireplaceflag</td>\n",
       "<td>32.9111443</td>\n",
       "<td>0.0193577</td>\n",
       "<td>0.0013925</td></tr>\n",
       "<tr><td>regionidcounty</td>\n",
       "<td>26.5354118</td>\n",
       "<td>0.0156076</td>\n",
       "<td>0.0011228</td></tr>\n",
       "<tr><td>pooltypeid2</td>\n",
       "<td>23.6055069</td>\n",
       "<td>0.0138843</td>\n",
       "<td>0.0009988</td></tr>\n",
       "<tr><td>fips</td>\n",
       "<td>18.0751705</td>\n",
       "<td>0.0106314</td>\n",
       "<td>0.0007648</td></tr></table></div>"
      ],
      "text/plain": [
       "variable                       relative_importance    scaled_importance    percentage\n",
       "-----------------------------  ---------------------  -------------------  -----------------\n",
       "newstructuretaxvaluedollarcnt  1700.16137695          1.0                  0.0719375730598\n",
       "newtaxamount                   1679.1607666           0.987647872351       0.0710489909746\n",
       "newbedroomcnt                  1538.86303711          0.90512762963        0.0651126849849\n",
       "yearbuilt                      1521.13745117          0.894701804071       0.0643626763971\n",
       "newtaxvaluedollarcnt           1494.6595459           0.879128044055       0.0632423378981\n",
       "---                            ---                    ---                  ---\n",
       "hashottuborspa                 45.993183136           0.0270522456041      0.00194607289458\n",
       "fireplaceflag                  32.9111442566          0.019357659045       0.00139254301182\n",
       "regionidcounty                 26.5354118347          0.0156075841943      0.00112277172826\n",
       "pooltypeid2                    23.605506897           0.0138842742912      0.000998800996207\n",
       "fips                           18.075170517           0.0106314440276      0.000764800281466"
      ]
     },
     "metadata": {},
     "output_type": "display_data"
    },
    {
     "name": "stdout",
     "output_type": "stream",
     "text": [
      "\n",
      "See the whole table with table.as_data_frame()\n"
     ]
    },
    {
     "data": {
      "text/plain": [
       "<bound method H2ORandomForestEstimator.cross_validation_metrics_summary of >"
      ]
     },
     "execution_count": 64,
     "metadata": {},
     "output_type": "execute_result"
    }
   ],
   "source": [
    "fit1.cross_validation_metrics_summary"
   ]
  },
  {
   "cell_type": "code",
   "execution_count": null,
   "metadata": {
    "collapsed": true
   },
   "outputs": [],
   "source": []
  }
 ],
 "metadata": {
  "kernelspec": {
   "display_name": "Python 2",
   "language": "python",
   "name": "python2"
  },
  "language_info": {
   "codemirror_mode": {
    "name": "ipython",
    "version": 2
   },
   "file_extension": ".py",
   "mimetype": "text/x-python",
   "name": "python",
   "nbconvert_exporter": "python",
   "pygments_lexer": "ipython2",
   "version": "2.7.13"
  }
 },
 "nbformat": 4,
 "nbformat_minor": 1
}
