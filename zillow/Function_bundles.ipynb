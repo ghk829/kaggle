{
 "cells": [
  {
   "cell_type": "code",
   "execution_count": 3,
   "metadata": {
    "collapsed": true
   },
   "outputs": [],
   "source": [
    "import pandas as pd\n",
    "import h2o"
   ]
  },
  {
   "cell_type": "code",
   "execution_count": 4,
   "metadata": {
    "collapsed": true
   },
   "outputs": [],
   "source": [
    "def pd_change_category_by_type(data_frame,condition):\n",
    "    for i,col_name in enumerate(data_frame.dtypes.index):\n",
    "        if data_frame.dtypes.get(col_name)==condition:\n",
    "            data_frame[col_name] = data_frame[col_name].astype('category')\n",
    "            print col_name+\" is changed to category\"\n",
    "    print data_frame.dtypes"
   ]
  },
  {
   "cell_type": "code",
   "execution_count": 5,
   "metadata": {
    "collapsed": true
   },
   "outputs": [],
   "source": [
    "def pd_change_category_by_names(data_frame,names):\n",
    "    for i,col_name in enumerate(data_frame.dtypes.index):\n",
    "        if col_name in names:\n",
    "            data_frame[col_name] = data_frame[col_name].astype('category')\n",
    "            print col_name+\" is changed to category\"\n",
    "    print data_frame.dtypes"
   ]
  },
  {
   "cell_type": "code",
   "execution_count": 6,
   "metadata": {
    "collapsed": true
   },
   "outputs": [],
   "source": [
    "def h2o_change_category_by_type(h2o_df,condition):\n",
    "    for col_name in h2o_df.types:\n",
    "        if h2o_df.types.get(col_name)==condition:\n",
    "            h2o_df[col_name]= h2o_df[col_name].asfactor()\n",
    "            print col_name+\" is changed to category\"\n",
    "    print h2o_df.types"
   ]
  },
  {
   "cell_type": "code",
   "execution_count": 7,
   "metadata": {
    "collapsed": true
   },
   "outputs": [],
   "source": [
    "def h2o_change_category_by_names(h2o_df,names):\n",
    "    for col_name in h2o_df.col_names:\n",
    "        if col_name in names:\n",
    "            h2o_df[col_name]= h2o_df[col_name].asfactor()\n",
    "            print col_name+\" is changed to category\"\n",
    "    print h2o_df.types"
   ]
  },
  {
   "cell_type": "code",
   "execution_count": 8,
   "metadata": {
    "collapsed": true
   },
   "outputs": [],
   "source": [
    "def pandas_to_h2o(pandas_df):\n",
    "    h2o_df=h2o.H2OFrame(python_obj=pandas_df.to_dict(\"list\"))\n",
    "    return h2o_df"
   ]
  },
  {
   "cell_type": "code",
   "execution_count": 1,
   "metadata": {
    "collapsed": true
   },
   "outputs": [],
   "source": [
    "def addNA(series):\n",
    "    df=series.dropna()\n",
    "    maxi=(max(df)+10)*10\n",
    "    return series.fillna(maxi)"
   ]
  },
  {
   "cell_type": "markdown",
   "metadata": {},
   "source": [
    "# Usage Example"
   ]
  },
  {
   "cell_type": "code",
   "execution_count": 9,
   "metadata": {},
   "outputs": [
    {
     "name": "stderr",
     "output_type": "stream",
     "text": [
      "/home/ghk829/miniconda2/lib/python2.7/site-packages/IPython/core/interactiveshell.py:2717: DtypeWarning: Columns (22,32,34,49,55) have mixed types. Specify dtype option on import or set low_memory=False.\n",
      "  interactivity=interactivity, compiler=compiler, result=result)\n"
     ]
    }
   ],
   "source": [
    "df_2=pd.read_csv('/home/ghk829/zillow_data/properties_2016.csv')"
   ]
  },
  {
   "cell_type": "code",
   "execution_count": 10,
   "metadata": {
    "scrolled": true
   },
   "outputs": [
    {
     "data": {
      "text/plain": [
       "parcelid                          int64\n",
       "airconditioningtypeid           float64\n",
       "architecturalstyletypeid        float64\n",
       "basementsqft                    float64\n",
       "bathroomcnt                     float64\n",
       "bedroomcnt                      float64\n",
       "buildingclasstypeid             float64\n",
       "buildingqualitytypeid           float64\n",
       "calculatedbathnbr               float64\n",
       "decktypeid                      float64\n",
       "finishedfloor1squarefeet        float64\n",
       "calculatedfinishedsquarefeet    float64\n",
       "finishedsquarefeet12            float64\n",
       "finishedsquarefeet13            float64\n",
       "finishedsquarefeet15            float64\n",
       "finishedsquarefeet50            float64\n",
       "finishedsquarefeet6             float64\n",
       "fips                            float64\n",
       "fireplacecnt                    float64\n",
       "fullbathcnt                     float64\n",
       "garagecarcnt                    float64\n",
       "garagetotalsqft                 float64\n",
       "hashottuborspa                   object\n",
       "heatingorsystemtypeid           float64\n",
       "latitude                        float64\n",
       "longitude                       float64\n",
       "lotsizesquarefeet               float64\n",
       "poolcnt                         float64\n",
       "poolsizesum                     float64\n",
       "pooltypeid10                    float64\n",
       "pooltypeid2                     float64\n",
       "pooltypeid7                     float64\n",
       "propertycountylandusecode        object\n",
       "propertylandusetypeid           float64\n",
       "propertyzoningdesc               object\n",
       "rawcensustractandblock          float64\n",
       "regionidcity                    float64\n",
       "regionidcounty                  float64\n",
       "regionidneighborhood            float64\n",
       "regionidzip                     float64\n",
       "roomcnt                         float64\n",
       "storytypeid                     float64\n",
       "threequarterbathnbr             float64\n",
       "typeconstructiontypeid          float64\n",
       "unitcnt                         float64\n",
       "yardbuildingsqft17              float64\n",
       "yardbuildingsqft26              float64\n",
       "yearbuilt                       float64\n",
       "numberofstories                 float64\n",
       "fireplaceflag                    object\n",
       "structuretaxvaluedollarcnt      float64\n",
       "taxvaluedollarcnt               float64\n",
       "assessmentyear                  float64\n",
       "landtaxvaluedollarcnt           float64\n",
       "taxamount                       float64\n",
       "taxdelinquencyflag               object\n",
       "taxdelinquencyyear              float64\n",
       "censustractandblock             float64\n",
       "dtype: object"
      ]
     },
     "execution_count": 10,
     "metadata": {},
     "output_type": "execute_result"
    }
   ],
   "source": [
    "df_2.dtypes"
   ]
  },
  {
   "cell_type": "code",
   "execution_count": 11,
   "metadata": {
    "scrolled": true
   },
   "outputs": [
    {
     "name": "stdout",
     "output_type": "stream",
     "text": [
      "parcelid is changed to category\n",
      "parcelid                        category\n",
      "airconditioningtypeid            float64\n",
      "architecturalstyletypeid         float64\n",
      "basementsqft                     float64\n",
      "bathroomcnt                      float64\n",
      "bedroomcnt                       float64\n",
      "buildingclasstypeid              float64\n",
      "buildingqualitytypeid            float64\n",
      "calculatedbathnbr                float64\n",
      "decktypeid                       float64\n",
      "finishedfloor1squarefeet         float64\n",
      "calculatedfinishedsquarefeet     float64\n",
      "finishedsquarefeet12             float64\n",
      "finishedsquarefeet13             float64\n",
      "finishedsquarefeet15             float64\n",
      "finishedsquarefeet50             float64\n",
      "finishedsquarefeet6              float64\n",
      "fips                             float64\n",
      "fireplacecnt                     float64\n",
      "fullbathcnt                      float64\n",
      "garagecarcnt                     float64\n",
      "garagetotalsqft                  float64\n",
      "hashottuborspa                    object\n",
      "heatingorsystemtypeid            float64\n",
      "latitude                         float64\n",
      "longitude                        float64\n",
      "lotsizesquarefeet                float64\n",
      "poolcnt                          float64\n",
      "poolsizesum                      float64\n",
      "pooltypeid10                     float64\n",
      "pooltypeid2                      float64\n",
      "pooltypeid7                      float64\n",
      "propertycountylandusecode         object\n",
      "propertylandusetypeid            float64\n",
      "propertyzoningdesc                object\n",
      "rawcensustractandblock           float64\n",
      "regionidcity                     float64\n",
      "regionidcounty                   float64\n",
      "regionidneighborhood             float64\n",
      "regionidzip                      float64\n",
      "roomcnt                          float64\n",
      "storytypeid                      float64\n",
      "threequarterbathnbr              float64\n",
      "typeconstructiontypeid           float64\n",
      "unitcnt                          float64\n",
      "yardbuildingsqft17               float64\n",
      "yardbuildingsqft26               float64\n",
      "yearbuilt                        float64\n",
      "numberofstories                  float64\n",
      "fireplaceflag                     object\n",
      "structuretaxvaluedollarcnt       float64\n",
      "taxvaluedollarcnt                float64\n",
      "assessmentyear                   float64\n",
      "landtaxvaluedollarcnt            float64\n",
      "taxamount                        float64\n",
      "taxdelinquencyflag                object\n",
      "taxdelinquencyyear               float64\n",
      "censustractandblock              float64\n",
      "dtype: object\n"
     ]
    }
   ],
   "source": [
    "pd_change_category_by_type(df_2,'int64')"
   ]
  },
  {
   "cell_type": "code",
   "execution_count": 13,
   "metadata": {
    "scrolled": true
   },
   "outputs": [
    {
     "name": "stdout",
     "output_type": "stream",
     "text": [
      "airconditioningtypeid is changed to category\n",
      "architecturalstyletypeid is changed to category\n",
      "parcelid                        category\n",
      "airconditioningtypeid           category\n",
      "architecturalstyletypeid        category\n",
      "basementsqft                     float64\n",
      "bathroomcnt                      float64\n",
      "bedroomcnt                       float64\n",
      "buildingclasstypeid              float64\n",
      "buildingqualitytypeid            float64\n",
      "calculatedbathnbr                float64\n",
      "decktypeid                       float64\n",
      "finishedfloor1squarefeet         float64\n",
      "calculatedfinishedsquarefeet     float64\n",
      "finishedsquarefeet12             float64\n",
      "finishedsquarefeet13             float64\n",
      "finishedsquarefeet15             float64\n",
      "finishedsquarefeet50             float64\n",
      "finishedsquarefeet6              float64\n",
      "fips                             float64\n",
      "fireplacecnt                     float64\n",
      "fullbathcnt                      float64\n",
      "garagecarcnt                     float64\n",
      "garagetotalsqft                  float64\n",
      "hashottuborspa                    object\n",
      "heatingorsystemtypeid            float64\n",
      "latitude                         float64\n",
      "longitude                        float64\n",
      "lotsizesquarefeet                float64\n",
      "poolcnt                          float64\n",
      "poolsizesum                      float64\n",
      "pooltypeid10                     float64\n",
      "pooltypeid2                      float64\n",
      "pooltypeid7                      float64\n",
      "propertycountylandusecode         object\n",
      "propertylandusetypeid            float64\n",
      "propertyzoningdesc                object\n",
      "rawcensustractandblock           float64\n",
      "regionidcity                     float64\n",
      "regionidcounty                   float64\n",
      "regionidneighborhood             float64\n",
      "regionidzip                      float64\n",
      "roomcnt                          float64\n",
      "storytypeid                      float64\n",
      "threequarterbathnbr              float64\n",
      "typeconstructiontypeid           float64\n",
      "unitcnt                          float64\n",
      "yardbuildingsqft17               float64\n",
      "yardbuildingsqft26               float64\n",
      "yearbuilt                        float64\n",
      "numberofstories                  float64\n",
      "fireplaceflag                     object\n",
      "structuretaxvaluedollarcnt       float64\n",
      "taxvaluedollarcnt                float64\n",
      "assessmentyear                   float64\n",
      "landtaxvaluedollarcnt            float64\n",
      "taxamount                        float64\n",
      "taxdelinquencyflag                object\n",
      "taxdelinquencyyear               float64\n",
      "censustractandblock              float64\n",
      "dtype: object\n"
     ]
    }
   ],
   "source": [
    "# 바꾸고 싶은 변수들을 list로 만들기\n",
    "names = ['airconditioningtypeid','architecturalstyletypeid']\n",
    "pd_change_category_by_names(df_2,names)"
   ]
  }
 ],
 "metadata": {
  "kernelspec": {
   "display_name": "Python 3",
   "language": "python",
   "name": "python3"
  },
  "language_info": {
   "codemirror_mode": {
    "name": "ipython",
    "version": 3
   },
   "file_extension": ".py",
   "mimetype": "text/x-python",
   "name": "python",
   "nbconvert_exporter": "python",
   "pygments_lexer": "ipython3",
   "version": "3.6.1"
  }
 },
 "nbformat": 4,
 "nbformat_minor": 2
}
