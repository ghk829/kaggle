{
 "cells": [
  {
   "cell_type": "code",
   "execution_count": 1,
   "metadata": {
    "collapsed": true
   },
   "outputs": [],
   "source": [
    "import numpy as np # linear algebra\n",
    "import pandas as pd # data processing, CSV file I/O (e.g. pd.read_csv)\n",
    "from sklearn import neighbors\n",
    "import seaborn as sns\n",
    "from sklearn.neighbors import KNeighborsRegressor\n",
    "from sklearn.preprocessing import OneHotEncoder\n",
    "from sklearn.preprocessing import StandardScaler\n",
    "from sklearn.preprocessing import LabelEncoder\n",
    "\n",
    "import matplotlib.pyplot as plt"
   ]
  },
  {
   "cell_type": "code",
   "execution_count": 2,
   "metadata": {
    "collapsed": true
   },
   "outputs": [],
   "source": [
    "import os\n",
    "os.getcwd()\n",
    "os.chdir('/home/ghk829/zillow')"
   ]
  },
  {
   "cell_type": "code",
   "execution_count": 3,
   "metadata": {},
   "outputs": [
    {
     "name": "stderr",
     "output_type": "stream",
     "text": [
      "/home/ghk829/miniconda2/lib/python2.7/site-packages/IPython/core/interactiveshell.py:2717: DtypeWarning: Columns (22,32,34,49,55) have mixed types. Specify dtype option on import or set low_memory=False.\n",
      "  interactivity=interactivity, compiler=compiler, result=result)\n",
      "/home/ghk829/miniconda2/lib/python2.7/site-packages/IPython/core/interactiveshell.py:2717: DtypeWarning: Columns (49) have mixed types. Specify dtype option on import or set low_memory=False.\n",
      "  interactivity=interactivity, compiler=compiler, result=result)\n"
     ]
    }
   ],
   "source": [
    "prop_2016 = pd.read_csv('./properties_2016.csv')\n",
    "train_2016 = pd.read_csv(\"./train_2016_v2.csv\")\n",
    "prop_2017 = pd.read_csv('./properties_2017.csv')\n",
    "train_2017 = pd.read_csv('./train_2017.csv')\n",
    "\n",
    "for c, dtype in zip(prop_2016.columns, prop_2016.dtypes):\t\n",
    "    if dtype == np.float64:\t\t\n",
    "        prop_2016[c] = prop_2016[c].astype(np.float32)\n",
    "        \n",
    "for c, dtype in zip(prop_2017.columns, prop_2017.dtypes):\t\n",
    "    if dtype == np.float64:\t\t\n",
    "        prop_2017[c] = prop_2017[c].astype(np.float32)\n"
   ]
  },
  {
   "cell_type": "code",
   "execution_count": 5,
   "metadata": {},
   "outputs": [
    {
     "data": {
      "text/plain": [
       "(2985217, 58)"
      ]
     },
     "execution_count": 5,
     "metadata": {},
     "output_type": "execute_result"
    }
   ],
   "source": [
    "prop_2016.shape"
   ]
  },
  {
   "cell_type": "code",
   "execution_count": 6,
   "metadata": {},
   "outputs": [
    {
     "data": {
      "text/plain": [
       "(2985217, 58)"
      ]
     },
     "execution_count": 6,
     "metadata": {},
     "output_type": "execute_result"
    }
   ],
   "source": [
    "prop_2017.shape"
   ]
  },
  {
   "cell_type": "code",
   "execution_count": 7,
   "metadata": {},
   "outputs": [
    {
     "data": {
      "text/plain": [
       "(90275, 3)"
      ]
     },
     "execution_count": 7,
     "metadata": {},
     "output_type": "execute_result"
    }
   ],
   "source": [
    "train_2016.shape"
   ]
  },
  {
   "cell_type": "code",
   "execution_count": 8,
   "metadata": {},
   "outputs": [
    {
     "data": {
      "text/plain": [
       "(77613, 3)"
      ]
     },
     "execution_count": 8,
     "metadata": {},
     "output_type": "execute_result"
    }
   ],
   "source": [
    "train_2017.shape"
   ]
  },
  {
   "cell_type": "code",
   "execution_count": 27,
   "metadata": {
    "collapsed": true
   },
   "outputs": [],
   "source": [
    "# train set은 10 11 12월 데이터가 없기 떄문에 row수가 다름"
   ]
  },
  {
   "cell_type": "code",
   "execution_count": 30,
   "metadata": {
    "scrolled": true
   },
   "outputs": [
    {
     "name": "stdout",
     "output_type": "stream",
     "text": [
      "           parcelid  airconditioningtypeid  architecturalstyletypeid  \\\n",
      "count  2.985217e+06          815362.000000               6061.000000   \n",
      "mean   1.332586e+07               1.945724                  7.202607   \n",
      "std    7.909966e+06               3.160507                  2.436291   \n",
      "min    1.071172e+07               1.000000                  2.000000   \n",
      "25%    1.164371e+07               1.000000                  7.000000   \n",
      "50%    1.254509e+07               1.000000                  7.000000   \n",
      "75%    1.409712e+07               1.000000                  7.000000   \n",
      "max    1.696019e+08              13.000000                 27.000000   \n",
      "\n",
      "       basementsqft   bathroomcnt    bedroomcnt  buildingclasstypeid  \\\n",
      "count   1627.000000  2.982260e+06  2.982272e+06         12731.000000   \n",
      "mean     647.220642  2.216196e+00  3.093362e+00             3.734742   \n",
      "std      538.787109  1.078250e+00  1.271569e+00             0.500371   \n",
      "min       20.000000  0.000000e+00  0.000000e+00             1.000000   \n",
      "25%      272.000000  2.000000e+00  2.000000e+00             3.000000   \n",
      "50%      535.000000  2.000000e+00  3.000000e+00             4.000000   \n",
      "75%      847.500000  3.000000e+00  4.000000e+00             4.000000   \n",
      "max     8516.000000  3.200000e+01  2.500000e+01             5.000000   \n",
      "\n",
      "       buildingqualitytypeid  calculatedbathnbr  decktypeid  \\\n",
      "count           1.941395e+06       2.868061e+06     17379.0   \n",
      "mean            6.280822e+00       2.303826e+00        66.0   \n",
      "std             1.729923e+00       1.003243e+00         0.0   \n",
      "min             1.000000e+00       1.000000e+00        66.0   \n",
      "25%             5.000000e+00       2.000000e+00        66.0   \n",
      "50%             6.000000e+00       2.000000e+00        66.0   \n",
      "75%             8.000000e+00       3.000000e+00        66.0   \n",
      "max             1.200000e+01       3.200000e+01        66.0   \n",
      "\n",
      "       finishedfloor1squarefeet  calculatedfinishedsquarefeet  \\\n",
      "count             203758.000000                  2.940120e+06   \n",
      "mean                1379.780518                  1.831456e+03   \n",
      "std                  634.422852                  1.954198e+03   \n",
      "min                    1.000000                  1.000000e+00   \n",
      "25%                 1010.000000                  1.215000e+03   \n",
      "50%                 1281.000000                  1.574000e+03   \n",
      "75%                 1615.000000                  2.140000e+03   \n",
      "max                31303.000000                  9.525760e+05   \n",
      "\n",
      "       finishedsquarefeet12  finishedsquarefeet13  finishedsquarefeet15  \\\n",
      "count          2.720786e+06           7671.000000         190185.000000   \n",
      "mean           1.764045e+03           1178.916748           2754.870117   \n",
      "std            1.031383e+03            357.093567           5999.379883   \n",
      "min            1.000000e+00            120.000000            112.000000   \n",
      "25%            1.198000e+03            960.000000           1696.000000   \n",
      "50%            1.542000e+03           1296.000000           2173.000000   \n",
      "75%            2.075000e+03           1440.000000           2975.000000   \n",
      "max            4.270790e+05           2688.000000         820242.000000   \n",
      "\n",
      "       finishedsquarefeet50  finishedsquarefeet6          fips   fireplacecnt  \\\n",
      "count         203758.000000         21482.000000  2.982285e+06  313124.000000   \n",
      "mean            1392.029053          2427.554199  6.048051e+03       1.168959   \n",
      "std              682.323853          7786.185059  2.024082e+01       0.461855   \n",
      "min                3.000000           117.000000  6.037000e+03       1.000000   \n",
      "25%             1012.000000          1072.000000  6.037000e+03       1.000000   \n",
      "50%             1284.000000          2008.000000  6.037000e+03       1.000000   \n",
      "75%             1619.000000          3411.000000  6.059000e+03       1.000000   \n",
      "max            41906.000000        952576.000000  6.111000e+03       9.000000   \n",
      "\n",
      "        fullbathcnt   garagecarcnt  garagetotalsqft  heatingorsystemtypeid  \\\n",
      "count  2.868061e+06  891008.000000    891008.000000           1.869164e+06   \n",
      "mean   2.248089e+00       1.826581       383.156219           4.083750e+00   \n",
      "std    9.929959e-01       0.608934       246.219421           3.286780e+00   \n",
      "min    1.000000e+00       0.000000         0.000000           1.000000e+00   \n",
      "25%    2.000000e+00       2.000000       312.000000           2.000000e+00   \n",
      "50%    2.000000e+00       2.000000       441.000000           2.000000e+00   \n",
      "75%    3.000000e+00       2.000000       494.000000           7.000000e+00   \n",
      "max    3.200000e+01      25.000000      7749.000000           2.400000e+01   \n",
      "\n",
      "           latitude     longitude  lotsizesquarefeet   poolcnt   poolsizesum  \\\n",
      "count  2.982285e+06  2.982285e+06       2.712511e+06  539632.0  27958.000000   \n",
      "mean   3.400130e+07 -1.182016e+08       2.260375e+04       1.0    519.715454   \n",
      "std    2.435157e+05  3.455918e+05       2.499836e+05       0.0    191.325867   \n",
      "min    3.332439e+07 -1.194758e+08       1.000000e+02       1.0     19.000000   \n",
      "25%    3.382740e+07 -1.183929e+08       5.683000e+03       1.0    430.000000   \n",
      "50%    3.400807e+07 -1.181721e+08       7.000000e+03       1.0    495.000000   \n",
      "75%    3.416186e+07 -1.179489e+08       9.893000e+03       1.0    594.000000   \n",
      "max    3.481965e+07 -1.175543e+08       3.710005e+08       1.0  17410.000000   \n",
      "\n",
      "       pooltypeid10  pooltypeid2  pooltypeid7  propertylandusetypeid  \\\n",
      "count       17006.0      33056.0     505895.0           2.982285e+06   \n",
      "mean            1.0          1.0          1.0           2.600509e+02   \n",
      "std             0.0          0.0          0.0           1.593121e+01   \n",
      "min             1.0          1.0          1.0           3.100000e+01   \n",
      "25%             1.0          1.0          1.0           2.610000e+02   \n",
      "50%             1.0          1.0          1.0           2.610000e+02   \n",
      "75%             1.0          1.0          1.0           2.610000e+02   \n",
      "max             1.0          1.0          1.0           2.790000e+02   \n",
      "\n",
      "       rawcensustractandblock  regionidcity  regionidcounty  \\\n",
      "count            2.982285e+06  2.923089e+06    2.982285e+06   \n",
      "mean             6.048368e+07  3.498767e+04    2.569085e+03   \n",
      "std              2.008914e+05  5.070968e+04    7.886840e+02   \n",
      "min              6.037101e+07  3.491000e+03    1.286000e+03   \n",
      "25%              6.037400e+07  1.244700e+04    1.286000e+03   \n",
      "50%              6.037571e+07  2.521800e+04    3.101000e+03   \n",
      "75%              6.059042e+07  4.545700e+04    3.101000e+03   \n",
      "max              6.111009e+07  3.965560e+05    3.101000e+03   \n",
      "\n",
      "       regionidneighborhood   regionidzip       roomcnt  storytypeid  \\\n",
      "count          1.156741e+06  2.972503e+06  2.982248e+06       1623.0   \n",
      "mean           1.935387e+05  9.655330e+04  1.474357e+00          7.0   \n",
      "std            1.657253e+05  3.680815e+03  2.839869e+00          0.0   \n",
      "min            6.952000e+03  9.598200e+04  0.000000e+00          7.0   \n",
      "25%            4.673600e+04  9.618000e+04  0.000000e+00          7.0   \n",
      "50%            1.189200e+05  9.637700e+04  0.000000e+00          7.0   \n",
      "75%            2.748000e+05  9.697400e+04  0.000000e+00          7.0   \n",
      "max            7.641670e+05  3.996750e+05  9.600000e+01          7.0   \n",
      "\n",
      "       threequarterbathnbr  typeconstructiontypeid       unitcnt  \\\n",
      "count        316357.000000             6746.000000  1.981042e+06   \n",
      "mean              1.010611                5.999555  1.180303e+00   \n",
      "std               0.120602                0.384079  2.486949e+00   \n",
      "min               1.000000                4.000000  1.000000e+00   \n",
      "25%               1.000000                6.000000  1.000000e+00   \n",
      "50%               1.000000                6.000000  1.000000e+00   \n",
      "75%               1.000000                6.000000  1.000000e+00   \n",
      "max               7.000000               13.000000  9.970000e+02   \n",
      "\n",
      "       yardbuildingsqft17  yardbuildingsqft26     yearbuilt  numberofstories  \\\n",
      "count        81588.000000         2646.000000  2.937384e+06    685676.000000   \n",
      "mean           321.541626          278.365448  1.964437e+03         1.400956   \n",
      "std            236.884781          369.784393  2.364428e+01         0.539056   \n",
      "min             10.000000           10.000000  1.801000e+03         1.000000   \n",
      "25%            190.000000           96.000000  1.950000e+03         1.000000   \n",
      "50%            270.000000          168.000000  1.963000e+03         1.000000   \n",
      "75%            390.000000          320.000000  1.981000e+03         2.000000   \n",
      "max           7983.000000         6141.000000  2.016000e+03        41.000000   \n",
      "\n",
      "       structuretaxvaluedollarcnt  taxvaluedollarcnt  assessmentyear  \\\n",
      "count                2.938753e+06       2.950951e+06    2.982284e+06   \n",
      "mean                 1.781428e+05       4.435282e+05    2.016000e+03   \n",
      "std                  4.600503e+05       8.163366e+05    6.039952e-02   \n",
      "min                  1.000000e+00       1.000000e+00    2.000000e+03   \n",
      "25%                  7.766600e+04       1.882200e+05    2.016000e+03   \n",
      "50%                  1.270660e+05       3.211610e+05    2.016000e+03   \n",
      "75%                  2.040000e+05       5.140720e+05    2.016000e+03   \n",
      "max                  2.553212e+08       3.196225e+08    2.016000e+03   \n",
      "\n",
      "       landtaxvaluedollarcnt     taxamount  taxdelinquencyyear  \\\n",
      "count           2.925291e+06  2.962465e+06        56517.000000   \n",
      "mean            2.684557e+05  5.408948e+03           13.891696   \n",
      "std             4.865097e+05  9.675566e+03            2.562172   \n",
      "min             1.000000e+00  2.400000e-01            0.000000   \n",
      "25%             7.970000e+04  2.468620e+03           14.000000   \n",
      "50%             1.766190e+05  4.007620e+03           14.000000   \n",
      "75%             3.261000e+05  6.230500e+03           15.000000   \n",
      "max             9.401108e+07  3.823176e+06           99.000000   \n",
      "\n",
      "       censustractandblock  \n",
      "count         2.910232e+06  \n",
      "mean          6.048433e+13  \n",
      "std           3.249133e+11  \n",
      "min          -1.000000e+00  \n",
      "25%           6.037400e+13  \n",
      "50%           6.037571e+13  \n",
      "75%           6.059042e+13  \n",
      "max           4.830301e+14  \n"
     ]
    }
   ],
   "source": [
    "with pd.option_context('display.max_rows', None, 'display.max_columns', 58):\n",
    "    print(prop_2017.describe())"
   ]
  },
  {
   "cell_type": "code",
   "execution_count": 44,
   "metadata": {},
   "outputs": [],
   "source": [
    "ref_2017=prop_2017[prop_2017.latitude.isnull()].parcelid\n",
    "na_2017=prop_2016.query('parcelid in @ref_2017')\n",
    "prop_2017_2=prop_2017[prop_2017.latitude.notnull()].append(na_2017)"
   ]
  },
  {
   "cell_type": "code",
   "execution_count": 67,
   "metadata": {
    "scrolled": true
   },
   "outputs": [
    {
     "data": {
      "text/plain": [
       "parcelid                              0\n",
       "airconditioningtypeid           2169478\n",
       "architecturalstyletypeid        2979156\n",
       "basementsqft                    2983589\n",
       "bathroomcnt                          25\n",
       "bedroomcnt                           13\n",
       "buildingclasstypeid             2972449\n",
       "buildingqualitytypeid           1043031\n",
       "calculatedbathnbr                115941\n",
       "decktypeid                      2967836\n",
       "finishedfloor1squarefeet        2781426\n",
       "calculatedfinishedsquarefeet      42969\n",
       "finishedsquarefeet12             263965\n",
       "finishedsquarefeet13            2977545\n",
       "finishedsquarefeet15            2793373\n",
       "finishedsquarefeet50            2781426\n",
       "finishedsquarefeet6             2963733\n",
       "fips                                  0\n",
       "fireplacecnt                    2672086\n",
       "fullbathcnt                      115941\n",
       "garagecarcnt                    2094074\n",
       "garagetotalsqft                 2094074\n",
       "hashottuborspa                  2935152\n",
       "heatingorsystemtypeid           1115550\n",
       "latitude                              0\n",
       "longitude                             0\n",
       "lotsizesquarefeet                270973\n",
       "poolcnt                         2445523\n",
       "poolsizesum                     2957258\n",
       "pooltypeid10                    2968209\n",
       "pooltypeid2                     2952160\n",
       "pooltypeid7                     2479261\n",
       "propertycountylandusecode           842\n",
       "propertylandusetypeid                 0\n",
       "propertyzoningdesc              1000902\n",
       "rawcensustractandblock                0\n",
       "regionidcity                      59336\n",
       "regionidcounty                        0\n",
       "regionidneighborhood            1827159\n",
       "regionidzip                        9829\n",
       "roomcnt                              38\n",
       "storytypeid                     2983593\n",
       "threequarterbathnbr             2668768\n",
       "typeconstructiontypeid          2978470\n",
       "unitcnt                         1003002\n",
       "yardbuildingsqft17              2903629\n",
       "yardbuildingsqft26              2982570\n",
       "yearbuilt                         46476\n",
       "numberofstories                 2299462\n",
       "fireplaceflag                   2980054\n",
       "structuretaxvaluedollarcnt        44150\n",
       "taxvaluedollarcnt                 31400\n",
       "assessmentyear                        1\n",
       "landtaxvaluedollarcnt             57097\n",
       "taxamount                         20042\n",
       "taxdelinquencyflag              2928601\n",
       "taxdelinquencyyear              2928599\n",
       "censustractandblock               73528\n",
       "dtype: int64"
      ]
     },
     "execution_count": 67,
     "metadata": {},
     "output_type": "execute_result"
    }
   ],
   "source": [
    "prop_2017_2.isnull().sum()"
   ]
  },
  {
   "cell_type": "code",
   "execution_count": 55,
   "metadata": {
    "collapsed": true
   },
   "outputs": [],
   "source": [
    "ref_2016=prop_2016[prop_2016.latitude.isnull()].parcelid\n",
    "na_2016=prop_2017.query('parcelid in @ref_2016')\n",
    "prop_2016_2=prop_2016[prop_2016.latitude.notnull()].append(na_2016)"
   ]
  },
  {
   "cell_type": "code",
   "execution_count": null,
   "metadata": {
    "collapsed": true
   },
   "outputs": [],
   "source": []
  }
 ],
 "metadata": {
  "kernelspec": {
   "display_name": "Python 2",
   "language": "python",
   "name": "python2"
  },
  "language_info": {
   "codemirror_mode": {
    "name": "ipython",
    "version": 2
   },
   "file_extension": ".py",
   "mimetype": "text/x-python",
   "name": "python",
   "nbconvert_exporter": "python",
   "pygments_lexer": "ipython2",
   "version": "2.7.13"
  }
 },
 "nbformat": 4,
 "nbformat_minor": 2
}
