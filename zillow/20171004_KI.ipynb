{
 "cells": [
  {
   "cell_type": "markdown",
   "metadata": {
    "_cell_guid": "44d4651a-29cf-4270-b92d-fa6fd8edcea6",
    "_uuid": "e117e591afa2c36903fd5a581ddbbe097f1df4d4"
   },
   "source": [
    "**Dealing with Missing Values**\n",
    "\n",
    "One of the first steps in building a good predictive model is to carefully handle missing values at the start. \n",
    "There's quite a lot of missing data in this dataset, so in this kernel I've illustrated various ways that we can impute missing values by carefully using the data we already have and I've outlined some key assumptions and rationale made in filling these missing values.\n",
    "\n",
    "I think some of these approaches are better than filling in missing values with the medians for the fields (for example) or letting models deal with them in their default manner (xgboost for instance will have all the missing values as another category)\n",
    "\n",
    "After investigating the data in some detail there also appears to be some fields which represent similar if not the same information which I think we can probably be remove as they are redundant. \n",
    "\n",
    "There are also potentially some inconsistent fields and potentially incorrect data that I discovered on the way and outlined this in this notebook\n",
    "\n",
    "The approaches use to deal with missing values also have to be made to the test data consistently - but I've not illustrated here in the interest of the kernel speed.\n",
    "\n",
    "Ideally after each step taken to deal with missing values you would probably want to carry out some cross-validation to see if it has helped improve your model - I haven't done this here but it would be interested to know if any of the adjustments do help improve the score so please comment if they do!\n",
    "\n",
    "As always if you found the kernel useful please upvote :) "
   ]
  },
  {
   "cell_type": "code",
   "execution_count": 1,
   "metadata": {
    "_cell_guid": "859bd85e-a886-4a5a-bb18-a6efee0010c7",
    "_uuid": "b71062412ed7a39b993a20b756b9d4fdb9a78426",
    "collapsed": true
   },
   "outputs": [],
   "source": [
    "# This Python 3 environment comes with many helpful analytics libraries installed\n",
    "# It is defined by the kaggle/python docker image: https://github.com/kaggle/docker-python\n",
    "# For example, here's several helpful packages to load in \n",
    "\n",
    "import numpy as np # linear algebra\n",
    "import pandas as pd # data processing, CSV file I/O (e.g. pd.read_csv)\n",
    "from sklearn import neighbors\n",
    "import seaborn as sns\n",
    "from sklearn.neighbors import KNeighborsRegressor\n",
    "from sklearn.preprocessing import OneHotEncoder\n",
    "from sklearn.preprocessing import StandardScaler\n",
    "from sklearn.preprocessing import LabelEncoder\n",
    "\n",
    "import matplotlib.pyplot as plt\n",
    "# Input data files are available in the \"../input/\" directory.\n",
    "# For example, running this (by clicking run or pressing Shift+Enter) will list the files in the input directory\n",
    "\n",
    "\n",
    "# Any results you write to the current directory are saved as output."
   ]
  },
  {
   "cell_type": "code",
   "execution_count": 2,
   "metadata": {
    "collapsed": true
   },
   "outputs": [],
   "source": [
    "import os\n",
    "os.getcwd()\n",
    "os.chdir('/home/ghk829/zillow')"
   ]
  },
  {
   "cell_type": "code",
   "execution_count": 3,
   "metadata": {
    "_cell_guid": "fb6663ad-72aa-4224-9585-79cad44bb0a3",
    "_uuid": "136942079e1bb90fbb48402ea0a4c4537a69a7b8",
    "scrolled": true
   },
   "outputs": [
    {
     "name": "stderr",
     "output_type": "stream",
     "text": [
      "/home/ghk829/miniconda2/lib/python2.7/site-packages/IPython/core/interactiveshell.py:2717: DtypeWarning: Columns (49) have mixed types. Specify dtype option on import or set low_memory=False.\n",
      "  interactivity=interactivity, compiler=compiler, result=result)\n"
     ]
    }
   ],
   "source": [
    "#Start of by reading in the data and merging the datasets\n",
    "prop = pd.read_csv('./properties_2017.csv')\n",
    "train = pd.read_csv(\"./train_2017.csv\")\n",
    "\n",
    "for c, dtype in zip(prop.columns, prop.dtypes):\t\n",
    "    if dtype == np.float64:\t\t\n",
    "        prop[c] = prop[c].astype(np.float32)\n",
    "\n",
    "df_train = train.merge(prop, how='left', on='parcelid')\n",
    "df_train = df_train.drop(['parcelid', 'transactiondate'], axis=1)\n"
   ]
  },
  {
   "cell_type": "code",
   "execution_count": 57,
   "metadata": {
    "scrolled": true
   },
   "outputs": [
    {
     "data": {
      "text/html": [
       "<table>\n",
       "<thead>\n",
       "<tr><th style=\"text-align: right;\">   logerror</th><th style=\"text-align: right;\">  regionidcity</th><th style=\"text-align: right;\">  regionidzip</th><th style=\"text-align: right;\">  newfinishedfloor1squarefeet</th><th style=\"text-align: right;\">  yearbuilt</th><th style=\"text-align: right;\">  newpoolsizesum</th><th>fireplaceflag  </th><th style=\"text-align: right;\">  regionidcounty</th><th>taxdelinquencyflag  </th><th>propertyzoningdesc  </th><th>roomyn  </th><th style=\"text-align: right;\">  newfireplacecnt</th><th style=\"text-align: right;\">  newnumberofstories</th><th style=\"text-align: right;\">  censustractandblock</th><th style=\"text-align: right;\">  newthreequarterbathnbr</th><th style=\"text-align: right;\">   latitude</th><th style=\"text-align: right;\">  roomcnt</th><th style=\"text-align: right;\">  newbedroomcnt</th><th style=\"text-align: right;\">  newtaxvaluedollarcnt</th><th style=\"text-align: right;\">  newgaragetotalsqft</th><th>hashottuborspa  </th><th style=\"text-align: right;\">   newunitcnt</th><th style=\"text-align: right;\">  newstructuretaxvaluedollarcnt</th><th style=\"text-align: right;\">  buildingqualitytypeid</th><th style=\"text-align: right;\">  newroomcnt</th><th style=\"text-align: right;\">  assessmentyear</th><th style=\"text-align: right;\">  room_yn</th><th style=\"text-align: right;\">  propertylandusetypeid</th><th style=\"text-align: right;\">  propertycountylandusecode</th><th style=\"text-align: right;\">  regionidneighborhood</th><th style=\"text-align: right;\">  fips</th><th style=\"text-align: right;\">  heatingorsystemtypeid</th><th style=\"text-align: right;\">  newyardbuildingsqft17</th><th style=\"text-align: right;\">  airconditioningtypeid</th><th style=\"text-align: right;\">  newlotsizesquarefeet</th><th style=\"text-align: right;\">  rawcensustractandblock</th><th style=\"text-align: right;\">  pooltypeid2</th><th style=\"text-align: right;\">   longitude</th><th style=\"text-align: right;\">  pooltypeid7</th><th style=\"text-align: right;\">  newbathroomcnt</th><th style=\"text-align: right;\">  newgaragecarcnt</th><th style=\"text-align: right;\">  newpoolcnt</th></tr>\n",
       "</thead>\n",
       "<tbody>\n",
       "<tr><td style=\"text-align: right;\"> 0.0255949 </td><td style=\"text-align: right;\">         53571</td><td style=\"text-align: right;\">        96978</td><td style=\"text-align: right;\">                          nan</td><td style=\"text-align: right;\">       1998</td><td style=\"text-align: right;\">        0       </td><td>No             </td><td style=\"text-align: right;\">            1286</td><td>None                </td><td>nan                 </td><td>False   </td><td style=\"text-align: right;\">      0          </td><td style=\"text-align: right;\">       nan          </td><td style=\"text-align: right;\">          6.05906e+13</td><td style=\"text-align: right;\">             0.000322581</td><td style=\"text-align: right;\">3.36349e+07</td><td style=\"text-align: right;\">        0</td><td style=\"text-align: right;\">     0.00129032</td><td style=\"text-align: right;\">              330.091 </td><td style=\"text-align: right;\">            0.204194</td><td>None            </td><td style=\"text-align: right;\">nan          </td><td style=\"text-align: right;\">                       156.682 </td><td style=\"text-align: right;\">                    nan</td><td style=\"text-align: right;\">  0         </td><td style=\"text-align: right;\">            2016</td><td style=\"text-align: right;\">        0</td><td style=\"text-align: right;\">                    261</td><td style=\"text-align: right;\">                        122</td><td style=\"text-align: right;\">                   nan</td><td style=\"text-align: right;\">  6059</td><td style=\"text-align: right;\">                      2</td><td style=\"text-align: right;\">                    nan</td><td style=\"text-align: right;\">                      1</td><td style=\"text-align: right;\">               1.45355</td><td style=\"text-align: right;\">             6.05906e+07</td><td style=\"text-align: right;\">            0</td><td style=\"text-align: right;\">-1.17869e+08</td><td style=\"text-align: right;\">            0</td><td style=\"text-align: right;\">     0.00112903 </td><td style=\"text-align: right;\">      0.000645161</td><td style=\"text-align: right;\"> 0          </td></tr>\n",
       "<tr><td style=\"text-align: right;\"> 0.0556191 </td><td style=\"text-align: right;\">         13091</td><td style=\"text-align: right;\">        97099</td><td style=\"text-align: right;\">                            1</td><td style=\"text-align: right;\">       1967</td><td style=\"text-align: right;\">        0       </td><td>Yes            </td><td style=\"text-align: right;\">            2061</td><td>None                </td><td>nan                 </td><td>True    </td><td style=\"text-align: right;\">      0.000682594</td><td style=\"text-align: right;\">         0.000682594</td><td style=\"text-align: right;\">          6.111e+13  </td><td style=\"text-align: right;\">             0.000682594</td><td style=\"text-align: right;\">3.44493e+07</td><td style=\"text-align: right;\">        5</td><td style=\"text-align: right;\">     0.00136519</td><td style=\"text-align: right;\">              316.724 </td><td style=\"text-align: right;\">            0       </td><td>None            </td><td style=\"text-align: right;\">nan          </td><td style=\"text-align: right;\">                        60.0683</td><td style=\"text-align: right;\">                    nan</td><td style=\"text-align: right;\">  0.00341297</td><td style=\"text-align: right;\">            2016</td><td style=\"text-align: right;\">        1</td><td style=\"text-align: right;\">                    261</td><td style=\"text-align: right;\">                       1110</td><td style=\"text-align: right;\">                   nan</td><td style=\"text-align: right;\">  6111</td><td style=\"text-align: right;\">                      2</td><td style=\"text-align: right;\">                    nan</td><td style=\"text-align: right;\">                      1</td><td style=\"text-align: right;\">               8.63276</td><td style=\"text-align: right;\">             6.111e+07  </td><td style=\"text-align: right;\">            0</td><td style=\"text-align: right;\">-1.19282e+08</td><td style=\"text-align: right;\">            0</td><td style=\"text-align: right;\">     0.000682594</td><td style=\"text-align: right;\">      0.000682594</td><td style=\"text-align: right;\"> 0          </td></tr>\n",
       "<tr><td style=\"text-align: right;\"> 0.00538285</td><td style=\"text-align: right;\">         21412</td><td style=\"text-align: right;\">        97078</td><td style=\"text-align: right;\">                            1</td><td style=\"text-align: right;\">       1962</td><td style=\"text-align: right;\">        0.402253</td><td>No             </td><td style=\"text-align: right;\">            1286</td><td>None                </td><td>nan                 </td><td>True    </td><td style=\"text-align: right;\">      0          </td><td style=\"text-align: right;\">         0.000804505</td><td style=\"text-align: right;\">          6.05902e+13</td><td style=\"text-align: right;\">             0.000804505</td><td style=\"text-align: right;\">3.38862e+07</td><td style=\"text-align: right;\">        6</td><td style=\"text-align: right;\">     0.00241352</td><td style=\"text-align: right;\">              454.367 </td><td style=\"text-align: right;\">            0.353982</td><td>None            </td><td style=\"text-align: right;\">nan          </td><td style=\"text-align: right;\">                        68.6154</td><td style=\"text-align: right;\">                    nan</td><td style=\"text-align: right;\">  0.00482703</td><td style=\"text-align: right;\">            2016</td><td style=\"text-align: right;\">        1</td><td style=\"text-align: right;\">                    261</td><td style=\"text-align: right;\">                        122</td><td style=\"text-align: right;\">                   nan</td><td style=\"text-align: right;\">  6059</td><td style=\"text-align: right;\">                      2</td><td style=\"text-align: right;\">                    nan</td><td style=\"text-align: right;\">                      1</td><td style=\"text-align: right;\">               6.78359</td><td style=\"text-align: right;\">             6.05902e+07</td><td style=\"text-align: right;\">            0</td><td style=\"text-align: right;\">-1.17823e+08</td><td style=\"text-align: right;\">            1</td><td style=\"text-align: right;\">     0.00160901 </td><td style=\"text-align: right;\">      0.00160901 </td><td style=\"text-align: right;\"> 0.000804505</td></tr>\n",
       "<tr><td style=\"text-align: right;\">-0.10341   </td><td style=\"text-align: right;\">        396551</td><td style=\"text-align: right;\">        96330</td><td style=\"text-align: right;\">                          nan</td><td style=\"text-align: right;\">       1970</td><td style=\"text-align: right;\">        0.210438</td><td>No             </td><td style=\"text-align: right;\">            3101</td><td>None                </td><td>LCR110000*          </td><td>False   </td><td style=\"text-align: right;\">      0          </td><td style=\"text-align: right;\">       nan          </td><td style=\"text-align: right;\">          6.0373e+13 </td><td style=\"text-align: right;\">             0.000420875</td><td style=\"text-align: right;\">3.42452e+07</td><td style=\"text-align: right;\">        0</td><td style=\"text-align: right;\">     0.0016835 </td><td style=\"text-align: right;\">               61.0871</td><td style=\"text-align: right;\">            0       </td><td>None            </td><td style=\"text-align: right;\">  0.000420875</td><td style=\"text-align: right;\">                        45.8409</td><td style=\"text-align: right;\">                      8</td><td style=\"text-align: right;\">  0         </td><td style=\"text-align: right;\">            2016</td><td style=\"text-align: right;\">        0</td><td style=\"text-align: right;\">                    261</td><td style=\"text-align: right;\">                        101</td><td style=\"text-align: right;\">                   nan</td><td style=\"text-align: right;\">  6037</td><td style=\"text-align: right;\">                      2</td><td style=\"text-align: right;\">                    nan</td><td style=\"text-align: right;\">                      1</td><td style=\"text-align: right;\">               5.48737</td><td style=\"text-align: right;\">             6.0373e+07 </td><td style=\"text-align: right;\">            0</td><td style=\"text-align: right;\">-1.18241e+08</td><td style=\"text-align: right;\">            1</td><td style=\"text-align: right;\">     0.00126263 </td><td style=\"text-align: right;\">      0          </td><td style=\"text-align: right;\"> 0.000420875</td></tr>\n",
       "<tr><td style=\"text-align: right;\"> 0.00694036</td><td style=\"text-align: right;\">         12447</td><td style=\"text-align: right;\">        96451</td><td style=\"text-align: right;\">                          nan</td><td style=\"text-align: right;\">       1964</td><td style=\"text-align: right;\">        0.381098</td><td>No             </td><td style=\"text-align: right;\">            3101</td><td>None                </td><td>LAR3                </td><td>False   </td><td style=\"text-align: right;\">      0          </td><td style=\"text-align: right;\">       nan          </td><td style=\"text-align: right;\">          6.03712e+13</td><td style=\"text-align: right;\">             0.000762195</td><td style=\"text-align: right;\">3.41851e+07</td><td style=\"text-align: right;\">        0</td><td style=\"text-align: right;\">     0.00228659</td><td style=\"text-align: right;\">               91.0114</td><td style=\"text-align: right;\">            0       </td><td>None            </td><td style=\"text-align: right;\">  0.000762195</td><td style=\"text-align: right;\">                        56.1593</td><td style=\"text-align: right;\">                      8</td><td style=\"text-align: right;\">  0         </td><td style=\"text-align: right;\">            2016</td><td style=\"text-align: right;\">        0</td><td style=\"text-align: right;\">                    266</td><td style=\"text-align: right;\">                        nan</td><td style=\"text-align: right;\">                268548</td><td style=\"text-align: right;\">  6037</td><td style=\"text-align: right;\">                      2</td><td style=\"text-align: right;\">                    nan</td><td style=\"text-align: right;\">                      1</td><td style=\"text-align: right;\">             212.333  </td><td style=\"text-align: right;\">             6.03712e+07</td><td style=\"text-align: right;\">            0</td><td style=\"text-align: right;\">-1.18415e+08</td><td style=\"text-align: right;\">            1</td><td style=\"text-align: right;\">     0.00228659 </td><td style=\"text-align: right;\">      0          </td><td style=\"text-align: right;\"> 0.000762195</td></tr>\n",
       "<tr><td style=\"text-align: right;\"> 0.101723  </td><td style=\"text-align: right;\">         45457</td><td style=\"text-align: right;\">        96325</td><td style=\"text-align: right;\">                          nan</td><td style=\"text-align: right;\">       1922</td><td style=\"text-align: right;\">        0       </td><td>No             </td><td style=\"text-align: right;\">            3101</td><td>None                </td><td>GLR4YY              </td><td>False   </td><td style=\"text-align: right;\">      0          </td><td style=\"text-align: right;\">       nan          </td><td style=\"text-align: right;\">          6.0373e+13 </td><td style=\"text-align: right;\">             0.00135501 </td><td style=\"text-align: right;\">3.41492e+07</td><td style=\"text-align: right;\">        0</td><td style=\"text-align: right;\">     0.00271003</td><td style=\"text-align: right;\">              296.141 </td><td style=\"text-align: right;\">            0       </td><td>None            </td><td style=\"text-align: right;\">  0.00135501 </td><td style=\"text-align: right;\">                        25.5962</td><td style=\"text-align: right;\">                      5</td><td style=\"text-align: right;\">  0         </td><td style=\"text-align: right;\">            2016</td><td style=\"text-align: right;\">        0</td><td style=\"text-align: right;\">                    261</td><td style=\"text-align: right;\">                        100</td><td style=\"text-align: right;\">                276258</td><td style=\"text-align: right;\">  6037</td><td style=\"text-align: right;\">                      2</td><td style=\"text-align: right;\">                    nan</td><td style=\"text-align: right;\">                      1</td><td style=\"text-align: right;\">               5.71003</td><td style=\"text-align: right;\">             6.0373e+07 </td><td style=\"text-align: right;\">            0</td><td style=\"text-align: right;\">-1.18239e+08</td><td style=\"text-align: right;\">            0</td><td style=\"text-align: right;\">     0.00135501 </td><td style=\"text-align: right;\">      0          </td><td style=\"text-align: right;\"> 0          </td></tr>\n",
       "<tr><td style=\"text-align: right;\">-0.0409656 </td><td style=\"text-align: right;\">         14634</td><td style=\"text-align: right;\">        96173</td><td style=\"text-align: right;\">                          nan</td><td style=\"text-align: right;\">       1970</td><td style=\"text-align: right;\">        0       </td><td>No             </td><td style=\"text-align: right;\">            3101</td><td>None                </td><td>WHRE20000*          </td><td>False   </td><td style=\"text-align: right;\">      0          </td><td style=\"text-align: right;\">       nan          </td><td style=\"text-align: right;\">          6.0375e+13 </td><td style=\"text-align: right;\">             0.000329056</td><td style=\"text-align: right;\">3.39602e+07</td><td style=\"text-align: right;\">        0</td><td style=\"text-align: right;\">     0.00131622</td><td style=\"text-align: right;\">               72.5841</td><td style=\"text-align: right;\">            0       </td><td>None            </td><td style=\"text-align: right;\">  0.000329056</td><td style=\"text-align: right;\">                        58.4163</td><td style=\"text-align: right;\">                      9</td><td style=\"text-align: right;\">  0         </td><td style=\"text-align: right;\">            2016</td><td style=\"text-align: right;\">        0</td><td style=\"text-align: right;\">                    261</td><td style=\"text-align: right;\">                        100</td><td style=\"text-align: right;\">                   nan</td><td style=\"text-align: right;\">  6037</td><td style=\"text-align: right;\">                      2</td><td style=\"text-align: right;\">                    nan</td><td style=\"text-align: right;\">                      1</td><td style=\"text-align: right;\">               6.59033</td><td style=\"text-align: right;\">             6.0375e+07 </td><td style=\"text-align: right;\">            0</td><td style=\"text-align: right;\">-1.18007e+08</td><td style=\"text-align: right;\">            0</td><td style=\"text-align: right;\">     0.000987167</td><td style=\"text-align: right;\">      0          </td><td style=\"text-align: right;\"> 0          </td></tr>\n",
       "<tr><td style=\"text-align: right;\">-0.147997  </td><td style=\"text-align: right;\">           nan</td><td style=\"text-align: right;\">        96956</td><td style=\"text-align: right;\">                          nan</td><td style=\"text-align: right;\">       1973</td><td style=\"text-align: right;\">        0       </td><td>No             </td><td style=\"text-align: right;\">            1286</td><td>None                </td><td>nan                 </td><td>False   </td><td style=\"text-align: right;\">      0          </td><td style=\"text-align: right;\">         0.000805802</td><td style=\"text-align: right;\">          6.05904e+13</td><td style=\"text-align: right;\">             0.000402901</td><td style=\"text-align: right;\">3.34549e+07</td><td style=\"text-align: right;\">        0</td><td style=\"text-align: right;\">     0         </td><td style=\"text-align: right;\">              190.004 </td><td style=\"text-align: right;\">            0       </td><td>None            </td><td style=\"text-align: right;\">  0.000805802</td><td style=\"text-align: right;\">                        65.1374</td><td style=\"text-align: right;\">                    nan</td><td style=\"text-align: right;\">  0         </td><td style=\"text-align: right;\">            2016</td><td style=\"text-align: right;\">        0</td><td style=\"text-align: right;\">                    246</td><td style=\"text-align: right;\">                         38</td><td style=\"text-align: right;\">                   nan</td><td style=\"text-align: right;\">  6059</td><td style=\"text-align: right;\">                      2</td><td style=\"text-align: right;\">                    nan</td><td style=\"text-align: right;\">                      1</td><td style=\"text-align: right;\">               2.18815</td><td style=\"text-align: right;\">             6.05904e+07</td><td style=\"text-align: right;\">            0</td><td style=\"text-align: right;\">-1.1766e+08 </td><td style=\"text-align: right;\">            0</td><td style=\"text-align: right;\">     0          </td><td style=\"text-align: right;\">      0          </td><td style=\"text-align: right;\"> 0          </td></tr>\n",
       "<tr><td style=\"text-align: right;\">-0.0288352 </td><td style=\"text-align: right;\">         25218</td><td style=\"text-align: right;\">        96966</td><td style=\"text-align: right;\">                          nan</td><td style=\"text-align: right;\">       1989</td><td style=\"text-align: right;\">        0       </td><td>No             </td><td style=\"text-align: right;\">            1286</td><td>None                </td><td>nan                 </td><td>False   </td><td style=\"text-align: right;\">      0          </td><td style=\"text-align: right;\">       nan          </td><td style=\"text-align: right;\">          6.0591e+13 </td><td style=\"text-align: right;\">             0.000747943</td><td style=\"text-align: right;\">3.36637e+07</td><td style=\"text-align: right;\">        0</td><td style=\"text-align: right;\">     0.00224383</td><td style=\"text-align: right;\">              435.311 </td><td style=\"text-align: right;\">            0       </td><td>None            </td><td style=\"text-align: right;\">nan          </td><td style=\"text-align: right;\">                        88.285 </td><td style=\"text-align: right;\">                    nan</td><td style=\"text-align: right;\">  0         </td><td style=\"text-align: right;\">            2016</td><td style=\"text-align: right;\">        0</td><td style=\"text-align: right;\">                    266</td><td style=\"text-align: right;\">                         34</td><td style=\"text-align: right;\">                   nan</td><td style=\"text-align: right;\">  6059</td><td style=\"text-align: right;\">                      2</td><td style=\"text-align: right;\">                    nan</td><td style=\"text-align: right;\">                      1</td><td style=\"text-align: right;\">               7.47868</td><td style=\"text-align: right;\">             6.0591e+07 </td><td style=\"text-align: right;\">            0</td><td style=\"text-align: right;\">-1.17997e+08</td><td style=\"text-align: right;\">            0</td><td style=\"text-align: right;\">     0.00186986 </td><td style=\"text-align: right;\">      0.000747943</td><td style=\"text-align: right;\"> 0          </td></tr>\n",
       "<tr><td style=\"text-align: right;\">-0.00893478</td><td style=\"text-align: right;\">          8384</td><td style=\"text-align: right;\">        97008</td><td style=\"text-align: right;\">                          nan</td><td style=\"text-align: right;\">       1989</td><td style=\"text-align: right;\">        0       </td><td>No             </td><td style=\"text-align: right;\">            1286</td><td>None                </td><td>nan                 </td><td>False   </td><td style=\"text-align: right;\">      0          </td><td style=\"text-align: right;\">       nan          </td><td style=\"text-align: right;\">          6.0591e+13 </td><td style=\"text-align: right;\">             0.00103093 </td><td style=\"text-align: right;\">3.37156e+07</td><td style=\"text-align: right;\">        0</td><td style=\"text-align: right;\">     0.00206186</td><td style=\"text-align: right;\">              136.521 </td><td style=\"text-align: right;\">            0       </td><td>None            </td><td style=\"text-align: right;\">nan          </td><td style=\"text-align: right;\">                       120.684 </td><td style=\"text-align: right;\">                    nan</td><td style=\"text-align: right;\">  0         </td><td style=\"text-align: right;\">            2016</td><td style=\"text-align: right;\">        0</td><td style=\"text-align: right;\">                    266</td><td style=\"text-align: right;\">                         34</td><td style=\"text-align: right;\">                   nan</td><td style=\"text-align: right;\">  6059</td><td style=\"text-align: right;\">                      2</td><td style=\"text-align: right;\">                    nan</td><td style=\"text-align: right;\">                      1</td><td style=\"text-align: right;\">             nan      </td><td style=\"text-align: right;\">             6.0591e+07 </td><td style=\"text-align: right;\">            0</td><td style=\"text-align: right;\">-1.17926e+08</td><td style=\"text-align: right;\">            0</td><td style=\"text-align: right;\">     0.00206186 </td><td style=\"text-align: right;\">      0.00103093 </td><td style=\"text-align: right;\"> 0          </td></tr>\n",
       "</tbody>\n",
       "</table>"
      ]
     },
     "metadata": {},
     "output_type": "display_data"
    },
    {
     "data": {
      "text/plain": []
     },
     "execution_count": 57,
     "metadata": {},
     "output_type": "execute_result"
    }
   ],
   "source": [
    "train."
   ]
  },
  {
   "cell_type": "code",
   "execution_count": 58,
   "metadata": {
    "collapsed": true
   },
   "outputs": [],
   "source": [
    "sam=pd.read_csv('./sample_submission.csv')"
   ]
  },
  {
   "cell_type": "code",
   "execution_count": 6,
   "metadata": {},
   "outputs": [
    {
     "data": {
      "text/html": [
       "<div>\n",
       "<style>\n",
       "    .dataframe thead tr:only-child th {\n",
       "        text-align: right;\n",
       "    }\n",
       "\n",
       "    .dataframe thead th {\n",
       "        text-align: left;\n",
       "    }\n",
       "\n",
       "    .dataframe tbody tr th {\n",
       "        vertical-align: top;\n",
       "    }\n",
       "</style>\n",
       "<table border=\"1\" class=\"dataframe\">\n",
       "  <thead>\n",
       "    <tr style=\"text-align: right;\">\n",
       "      <th></th>\n",
       "      <th>ParcelId</th>\n",
       "      <th>201610</th>\n",
       "      <th>201611</th>\n",
       "      <th>201612</th>\n",
       "      <th>201710</th>\n",
       "      <th>201711</th>\n",
       "      <th>201712</th>\n",
       "    </tr>\n",
       "  </thead>\n",
       "  <tbody>\n",
       "    <tr>\n",
       "      <th>0</th>\n",
       "      <td>10754147</td>\n",
       "      <td>0</td>\n",
       "      <td>0</td>\n",
       "      <td>0</td>\n",
       "      <td>0</td>\n",
       "      <td>0</td>\n",
       "      <td>0</td>\n",
       "    </tr>\n",
       "    <tr>\n",
       "      <th>1</th>\n",
       "      <td>10759547</td>\n",
       "      <td>0</td>\n",
       "      <td>0</td>\n",
       "      <td>0</td>\n",
       "      <td>0</td>\n",
       "      <td>0</td>\n",
       "      <td>0</td>\n",
       "    </tr>\n",
       "    <tr>\n",
       "      <th>2</th>\n",
       "      <td>10843547</td>\n",
       "      <td>0</td>\n",
       "      <td>0</td>\n",
       "      <td>0</td>\n",
       "      <td>0</td>\n",
       "      <td>0</td>\n",
       "      <td>0</td>\n",
       "    </tr>\n",
       "    <tr>\n",
       "      <th>3</th>\n",
       "      <td>10859147</td>\n",
       "      <td>0</td>\n",
       "      <td>0</td>\n",
       "      <td>0</td>\n",
       "      <td>0</td>\n",
       "      <td>0</td>\n",
       "      <td>0</td>\n",
       "    </tr>\n",
       "    <tr>\n",
       "      <th>4</th>\n",
       "      <td>10879947</td>\n",
       "      <td>0</td>\n",
       "      <td>0</td>\n",
       "      <td>0</td>\n",
       "      <td>0</td>\n",
       "      <td>0</td>\n",
       "      <td>0</td>\n",
       "    </tr>\n",
       "    <tr>\n",
       "      <th>5</th>\n",
       "      <td>10898347</td>\n",
       "      <td>0</td>\n",
       "      <td>0</td>\n",
       "      <td>0</td>\n",
       "      <td>0</td>\n",
       "      <td>0</td>\n",
       "      <td>0</td>\n",
       "    </tr>\n",
       "    <tr>\n",
       "      <th>6</th>\n",
       "      <td>10933547</td>\n",
       "      <td>0</td>\n",
       "      <td>0</td>\n",
       "      <td>0</td>\n",
       "      <td>0</td>\n",
       "      <td>0</td>\n",
       "      <td>0</td>\n",
       "    </tr>\n",
       "    <tr>\n",
       "      <th>7</th>\n",
       "      <td>10940747</td>\n",
       "      <td>0</td>\n",
       "      <td>0</td>\n",
       "      <td>0</td>\n",
       "      <td>0</td>\n",
       "      <td>0</td>\n",
       "      <td>0</td>\n",
       "    </tr>\n",
       "    <tr>\n",
       "      <th>8</th>\n",
       "      <td>10954547</td>\n",
       "      <td>0</td>\n",
       "      <td>0</td>\n",
       "      <td>0</td>\n",
       "      <td>0</td>\n",
       "      <td>0</td>\n",
       "      <td>0</td>\n",
       "    </tr>\n",
       "    <tr>\n",
       "      <th>9</th>\n",
       "      <td>10976347</td>\n",
       "      <td>0</td>\n",
       "      <td>0</td>\n",
       "      <td>0</td>\n",
       "      <td>0</td>\n",
       "      <td>0</td>\n",
       "      <td>0</td>\n",
       "    </tr>\n",
       "    <tr>\n",
       "      <th>10</th>\n",
       "      <td>11073947</td>\n",
       "      <td>0</td>\n",
       "      <td>0</td>\n",
       "      <td>0</td>\n",
       "      <td>0</td>\n",
       "      <td>0</td>\n",
       "      <td>0</td>\n",
       "    </tr>\n",
       "    <tr>\n",
       "      <th>11</th>\n",
       "      <td>11114347</td>\n",
       "      <td>0</td>\n",
       "      <td>0</td>\n",
       "      <td>0</td>\n",
       "      <td>0</td>\n",
       "      <td>0</td>\n",
       "      <td>0</td>\n",
       "    </tr>\n",
       "    <tr>\n",
       "      <th>12</th>\n",
       "      <td>11116947</td>\n",
       "      <td>0</td>\n",
       "      <td>0</td>\n",
       "      <td>0</td>\n",
       "      <td>0</td>\n",
       "      <td>0</td>\n",
       "      <td>0</td>\n",
       "    </tr>\n",
       "    <tr>\n",
       "      <th>13</th>\n",
       "      <td>11142747</td>\n",
       "      <td>0</td>\n",
       "      <td>0</td>\n",
       "      <td>0</td>\n",
       "      <td>0</td>\n",
       "      <td>0</td>\n",
       "      <td>0</td>\n",
       "    </tr>\n",
       "    <tr>\n",
       "      <th>14</th>\n",
       "      <td>11193347</td>\n",
       "      <td>0</td>\n",
       "      <td>0</td>\n",
       "      <td>0</td>\n",
       "      <td>0</td>\n",
       "      <td>0</td>\n",
       "      <td>0</td>\n",
       "    </tr>\n",
       "    <tr>\n",
       "      <th>15</th>\n",
       "      <td>11215747</td>\n",
       "      <td>0</td>\n",
       "      <td>0</td>\n",
       "      <td>0</td>\n",
       "      <td>0</td>\n",
       "      <td>0</td>\n",
       "      <td>0</td>\n",
       "    </tr>\n",
       "    <tr>\n",
       "      <th>16</th>\n",
       "      <td>11229347</td>\n",
       "      <td>0</td>\n",
       "      <td>0</td>\n",
       "      <td>0</td>\n",
       "      <td>0</td>\n",
       "      <td>0</td>\n",
       "      <td>0</td>\n",
       "    </tr>\n",
       "    <tr>\n",
       "      <th>17</th>\n",
       "      <td>11287347</td>\n",
       "      <td>0</td>\n",
       "      <td>0</td>\n",
       "      <td>0</td>\n",
       "      <td>0</td>\n",
       "      <td>0</td>\n",
       "      <td>0</td>\n",
       "    </tr>\n",
       "    <tr>\n",
       "      <th>18</th>\n",
       "      <td>11288547</td>\n",
       "      <td>0</td>\n",
       "      <td>0</td>\n",
       "      <td>0</td>\n",
       "      <td>0</td>\n",
       "      <td>0</td>\n",
       "      <td>0</td>\n",
       "    </tr>\n",
       "    <tr>\n",
       "      <th>19</th>\n",
       "      <td>11324547</td>\n",
       "      <td>0</td>\n",
       "      <td>0</td>\n",
       "      <td>0</td>\n",
       "      <td>0</td>\n",
       "      <td>0</td>\n",
       "      <td>0</td>\n",
       "    </tr>\n",
       "    <tr>\n",
       "      <th>20</th>\n",
       "      <td>11391347</td>\n",
       "      <td>0</td>\n",
       "      <td>0</td>\n",
       "      <td>0</td>\n",
       "      <td>0</td>\n",
       "      <td>0</td>\n",
       "      <td>0</td>\n",
       "    </tr>\n",
       "    <tr>\n",
       "      <th>21</th>\n",
       "      <td>11395747</td>\n",
       "      <td>0</td>\n",
       "      <td>0</td>\n",
       "      <td>0</td>\n",
       "      <td>0</td>\n",
       "      <td>0</td>\n",
       "      <td>0</td>\n",
       "    </tr>\n",
       "    <tr>\n",
       "      <th>22</th>\n",
       "      <td>11404347</td>\n",
       "      <td>0</td>\n",
       "      <td>0</td>\n",
       "      <td>0</td>\n",
       "      <td>0</td>\n",
       "      <td>0</td>\n",
       "      <td>0</td>\n",
       "    </tr>\n",
       "    <tr>\n",
       "      <th>23</th>\n",
       "      <td>11405747</td>\n",
       "      <td>0</td>\n",
       "      <td>0</td>\n",
       "      <td>0</td>\n",
       "      <td>0</td>\n",
       "      <td>0</td>\n",
       "      <td>0</td>\n",
       "    </tr>\n",
       "    <tr>\n",
       "      <th>24</th>\n",
       "      <td>11417147</td>\n",
       "      <td>0</td>\n",
       "      <td>0</td>\n",
       "      <td>0</td>\n",
       "      <td>0</td>\n",
       "      <td>0</td>\n",
       "      <td>0</td>\n",
       "    </tr>\n",
       "    <tr>\n",
       "      <th>25</th>\n",
       "      <td>11457547</td>\n",
       "      <td>0</td>\n",
       "      <td>0</td>\n",
       "      <td>0</td>\n",
       "      <td>0</td>\n",
       "      <td>0</td>\n",
       "      <td>0</td>\n",
       "    </tr>\n",
       "    <tr>\n",
       "      <th>26</th>\n",
       "      <td>11488147</td>\n",
       "      <td>0</td>\n",
       "      <td>0</td>\n",
       "      <td>0</td>\n",
       "      <td>0</td>\n",
       "      <td>0</td>\n",
       "      <td>0</td>\n",
       "    </tr>\n",
       "    <tr>\n",
       "      <th>27</th>\n",
       "      <td>11520747</td>\n",
       "      <td>0</td>\n",
       "      <td>0</td>\n",
       "      <td>0</td>\n",
       "      <td>0</td>\n",
       "      <td>0</td>\n",
       "      <td>0</td>\n",
       "    </tr>\n",
       "    <tr>\n",
       "      <th>28</th>\n",
       "      <td>11524947</td>\n",
       "      <td>0</td>\n",
       "      <td>0</td>\n",
       "      <td>0</td>\n",
       "      <td>0</td>\n",
       "      <td>0</td>\n",
       "      <td>0</td>\n",
       "    </tr>\n",
       "    <tr>\n",
       "      <th>29</th>\n",
       "      <td>11544747</td>\n",
       "      <td>0</td>\n",
       "      <td>0</td>\n",
       "      <td>0</td>\n",
       "      <td>0</td>\n",
       "      <td>0</td>\n",
       "      <td>0</td>\n",
       "    </tr>\n",
       "    <tr>\n",
       "      <th>...</th>\n",
       "      <td>...</td>\n",
       "      <td>...</td>\n",
       "      <td>...</td>\n",
       "      <td>...</td>\n",
       "      <td>...</td>\n",
       "      <td>...</td>\n",
       "      <td>...</td>\n",
       "    </tr>\n",
       "    <tr>\n",
       "      <th>2985187</th>\n",
       "      <td>167636430</td>\n",
       "      <td>0</td>\n",
       "      <td>0</td>\n",
       "      <td>0</td>\n",
       "      <td>0</td>\n",
       "      <td>0</td>\n",
       "      <td>0</td>\n",
       "    </tr>\n",
       "    <tr>\n",
       "      <th>2985188</th>\n",
       "      <td>167690630</td>\n",
       "      <td>0</td>\n",
       "      <td>0</td>\n",
       "      <td>0</td>\n",
       "      <td>0</td>\n",
       "      <td>0</td>\n",
       "      <td>0</td>\n",
       "    </tr>\n",
       "    <tr>\n",
       "      <th>2985189</th>\n",
       "      <td>167636630</td>\n",
       "      <td>0</td>\n",
       "      <td>0</td>\n",
       "      <td>0</td>\n",
       "      <td>0</td>\n",
       "      <td>0</td>\n",
       "      <td>0</td>\n",
       "    </tr>\n",
       "    <tr>\n",
       "      <th>2985190</th>\n",
       "      <td>10834030</td>\n",
       "      <td>0</td>\n",
       "      <td>0</td>\n",
       "      <td>0</td>\n",
       "      <td>0</td>\n",
       "      <td>0</td>\n",
       "      <td>0</td>\n",
       "    </tr>\n",
       "    <tr>\n",
       "      <th>2985191</th>\n",
       "      <td>167637430</td>\n",
       "      <td>0</td>\n",
       "      <td>0</td>\n",
       "      <td>0</td>\n",
       "      <td>0</td>\n",
       "      <td>0</td>\n",
       "      <td>0</td>\n",
       "    </tr>\n",
       "    <tr>\n",
       "      <th>2985192</th>\n",
       "      <td>167637630</td>\n",
       "      <td>0</td>\n",
       "      <td>0</td>\n",
       "      <td>0</td>\n",
       "      <td>0</td>\n",
       "      <td>0</td>\n",
       "      <td>0</td>\n",
       "    </tr>\n",
       "    <tr>\n",
       "      <th>2985193</th>\n",
       "      <td>167637230</td>\n",
       "      <td>0</td>\n",
       "      <td>0</td>\n",
       "      <td>0</td>\n",
       "      <td>0</td>\n",
       "      <td>0</td>\n",
       "      <td>0</td>\n",
       "    </tr>\n",
       "    <tr>\n",
       "      <th>2985194</th>\n",
       "      <td>11645030</td>\n",
       "      <td>0</td>\n",
       "      <td>0</td>\n",
       "      <td>0</td>\n",
       "      <td>0</td>\n",
       "      <td>0</td>\n",
       "      <td>0</td>\n",
       "    </tr>\n",
       "    <tr>\n",
       "      <th>2985195</th>\n",
       "      <td>167689030</td>\n",
       "      <td>0</td>\n",
       "      <td>0</td>\n",
       "      <td>0</td>\n",
       "      <td>0</td>\n",
       "      <td>0</td>\n",
       "      <td>0</td>\n",
       "    </tr>\n",
       "    <tr>\n",
       "      <th>2985196</th>\n",
       "      <td>167638630</td>\n",
       "      <td>0</td>\n",
       "      <td>0</td>\n",
       "      <td>0</td>\n",
       "      <td>0</td>\n",
       "      <td>0</td>\n",
       "      <td>0</td>\n",
       "    </tr>\n",
       "    <tr>\n",
       "      <th>2985197</th>\n",
       "      <td>167638430</td>\n",
       "      <td>0</td>\n",
       "      <td>0</td>\n",
       "      <td>0</td>\n",
       "      <td>0</td>\n",
       "      <td>0</td>\n",
       "      <td>0</td>\n",
       "    </tr>\n",
       "    <tr>\n",
       "      <th>2985198</th>\n",
       "      <td>14342030</td>\n",
       "      <td>0</td>\n",
       "      <td>0</td>\n",
       "      <td>0</td>\n",
       "      <td>0</td>\n",
       "      <td>0</td>\n",
       "      <td>0</td>\n",
       "    </tr>\n",
       "    <tr>\n",
       "      <th>2985199</th>\n",
       "      <td>167638230</td>\n",
       "      <td>0</td>\n",
       "      <td>0</td>\n",
       "      <td>0</td>\n",
       "      <td>0</td>\n",
       "      <td>0</td>\n",
       "      <td>0</td>\n",
       "    </tr>\n",
       "    <tr>\n",
       "      <th>2985200</th>\n",
       "      <td>167637830</td>\n",
       "      <td>0</td>\n",
       "      <td>0</td>\n",
       "      <td>0</td>\n",
       "      <td>0</td>\n",
       "      <td>0</td>\n",
       "      <td>0</td>\n",
       "    </tr>\n",
       "    <tr>\n",
       "      <th>2985201</th>\n",
       "      <td>167639230</td>\n",
       "      <td>0</td>\n",
       "      <td>0</td>\n",
       "      <td>0</td>\n",
       "      <td>0</td>\n",
       "      <td>0</td>\n",
       "      <td>0</td>\n",
       "    </tr>\n",
       "    <tr>\n",
       "      <th>2985202</th>\n",
       "      <td>14341030</td>\n",
       "      <td>0</td>\n",
       "      <td>0</td>\n",
       "      <td>0</td>\n",
       "      <td>0</td>\n",
       "      <td>0</td>\n",
       "      <td>0</td>\n",
       "    </tr>\n",
       "    <tr>\n",
       "      <th>2985203</th>\n",
       "      <td>14341630</td>\n",
       "      <td>0</td>\n",
       "      <td>0</td>\n",
       "      <td>0</td>\n",
       "      <td>0</td>\n",
       "      <td>0</td>\n",
       "      <td>0</td>\n",
       "    </tr>\n",
       "    <tr>\n",
       "      <th>2985204</th>\n",
       "      <td>14367630</td>\n",
       "      <td>0</td>\n",
       "      <td>0</td>\n",
       "      <td>0</td>\n",
       "      <td>0</td>\n",
       "      <td>0</td>\n",
       "      <td>0</td>\n",
       "    </tr>\n",
       "    <tr>\n",
       "      <th>2985205</th>\n",
       "      <td>167638830</td>\n",
       "      <td>0</td>\n",
       "      <td>0</td>\n",
       "      <td>0</td>\n",
       "      <td>0</td>\n",
       "      <td>0</td>\n",
       "      <td>0</td>\n",
       "    </tr>\n",
       "    <tr>\n",
       "      <th>2985206</th>\n",
       "      <td>12572230</td>\n",
       "      <td>0</td>\n",
       "      <td>0</td>\n",
       "      <td>0</td>\n",
       "      <td>0</td>\n",
       "      <td>0</td>\n",
       "      <td>0</td>\n",
       "    </tr>\n",
       "    <tr>\n",
       "      <th>2985207</th>\n",
       "      <td>14460030</td>\n",
       "      <td>0</td>\n",
       "      <td>0</td>\n",
       "      <td>0</td>\n",
       "      <td>0</td>\n",
       "      <td>0</td>\n",
       "      <td>0</td>\n",
       "    </tr>\n",
       "    <tr>\n",
       "      <th>2985208</th>\n",
       "      <td>14284830</td>\n",
       "      <td>0</td>\n",
       "      <td>0</td>\n",
       "      <td>0</td>\n",
       "      <td>0</td>\n",
       "      <td>0</td>\n",
       "      <td>0</td>\n",
       "    </tr>\n",
       "    <tr>\n",
       "      <th>2985209</th>\n",
       "      <td>14285230</td>\n",
       "      <td>0</td>\n",
       "      <td>0</td>\n",
       "      <td>0</td>\n",
       "      <td>0</td>\n",
       "      <td>0</td>\n",
       "      <td>0</td>\n",
       "    </tr>\n",
       "    <tr>\n",
       "      <th>2985210</th>\n",
       "      <td>14455630</td>\n",
       "      <td>0</td>\n",
       "      <td>0</td>\n",
       "      <td>0</td>\n",
       "      <td>0</td>\n",
       "      <td>0</td>\n",
       "      <td>0</td>\n",
       "    </tr>\n",
       "    <tr>\n",
       "      <th>2985211</th>\n",
       "      <td>11117630</td>\n",
       "      <td>0</td>\n",
       "      <td>0</td>\n",
       "      <td>0</td>\n",
       "      <td>0</td>\n",
       "      <td>0</td>\n",
       "      <td>0</td>\n",
       "    </tr>\n",
       "    <tr>\n",
       "      <th>2985212</th>\n",
       "      <td>168176230</td>\n",
       "      <td>0</td>\n",
       "      <td>0</td>\n",
       "      <td>0</td>\n",
       "      <td>0</td>\n",
       "      <td>0</td>\n",
       "      <td>0</td>\n",
       "    </tr>\n",
       "    <tr>\n",
       "      <th>2985213</th>\n",
       "      <td>14273630</td>\n",
       "      <td>0</td>\n",
       "      <td>0</td>\n",
       "      <td>0</td>\n",
       "      <td>0</td>\n",
       "      <td>0</td>\n",
       "      <td>0</td>\n",
       "    </tr>\n",
       "    <tr>\n",
       "      <th>2985214</th>\n",
       "      <td>168040630</td>\n",
       "      <td>0</td>\n",
       "      <td>0</td>\n",
       "      <td>0</td>\n",
       "      <td>0</td>\n",
       "      <td>0</td>\n",
       "      <td>0</td>\n",
       "    </tr>\n",
       "    <tr>\n",
       "      <th>2985215</th>\n",
       "      <td>168040830</td>\n",
       "      <td>0</td>\n",
       "      <td>0</td>\n",
       "      <td>0</td>\n",
       "      <td>0</td>\n",
       "      <td>0</td>\n",
       "      <td>0</td>\n",
       "    </tr>\n",
       "    <tr>\n",
       "      <th>2985216</th>\n",
       "      <td>168040430</td>\n",
       "      <td>0</td>\n",
       "      <td>0</td>\n",
       "      <td>0</td>\n",
       "      <td>0</td>\n",
       "      <td>0</td>\n",
       "      <td>0</td>\n",
       "    </tr>\n",
       "  </tbody>\n",
       "</table>\n",
       "<p>2985217 rows × 7 columns</p>\n",
       "</div>"
      ],
      "text/plain": [
       "          ParcelId  201610  201611  201612  201710  201711  201712\n",
       "0         10754147       0       0       0       0       0       0\n",
       "1         10759547       0       0       0       0       0       0\n",
       "2         10843547       0       0       0       0       0       0\n",
       "3         10859147       0       0       0       0       0       0\n",
       "4         10879947       0       0       0       0       0       0\n",
       "5         10898347       0       0       0       0       0       0\n",
       "6         10933547       0       0       0       0       0       0\n",
       "7         10940747       0       0       0       0       0       0\n",
       "8         10954547       0       0       0       0       0       0\n",
       "9         10976347       0       0       0       0       0       0\n",
       "10        11073947       0       0       0       0       0       0\n",
       "11        11114347       0       0       0       0       0       0\n",
       "12        11116947       0       0       0       0       0       0\n",
       "13        11142747       0       0       0       0       0       0\n",
       "14        11193347       0       0       0       0       0       0\n",
       "15        11215747       0       0       0       0       0       0\n",
       "16        11229347       0       0       0       0       0       0\n",
       "17        11287347       0       0       0       0       0       0\n",
       "18        11288547       0       0       0       0       0       0\n",
       "19        11324547       0       0       0       0       0       0\n",
       "20        11391347       0       0       0       0       0       0\n",
       "21        11395747       0       0       0       0       0       0\n",
       "22        11404347       0       0       0       0       0       0\n",
       "23        11405747       0       0       0       0       0       0\n",
       "24        11417147       0       0       0       0       0       0\n",
       "25        11457547       0       0       0       0       0       0\n",
       "26        11488147       0       0       0       0       0       0\n",
       "27        11520747       0       0       0       0       0       0\n",
       "28        11524947       0       0       0       0       0       0\n",
       "29        11544747       0       0       0       0       0       0\n",
       "...            ...     ...     ...     ...     ...     ...     ...\n",
       "2985187  167636430       0       0       0       0       0       0\n",
       "2985188  167690630       0       0       0       0       0       0\n",
       "2985189  167636630       0       0       0       0       0       0\n",
       "2985190   10834030       0       0       0       0       0       0\n",
       "2985191  167637430       0       0       0       0       0       0\n",
       "2985192  167637630       0       0       0       0       0       0\n",
       "2985193  167637230       0       0       0       0       0       0\n",
       "2985194   11645030       0       0       0       0       0       0\n",
       "2985195  167689030       0       0       0       0       0       0\n",
       "2985196  167638630       0       0       0       0       0       0\n",
       "2985197  167638430       0       0       0       0       0       0\n",
       "2985198   14342030       0       0       0       0       0       0\n",
       "2985199  167638230       0       0       0       0       0       0\n",
       "2985200  167637830       0       0       0       0       0       0\n",
       "2985201  167639230       0       0       0       0       0       0\n",
       "2985202   14341030       0       0       0       0       0       0\n",
       "2985203   14341630       0       0       0       0       0       0\n",
       "2985204   14367630       0       0       0       0       0       0\n",
       "2985205  167638830       0       0       0       0       0       0\n",
       "2985206   12572230       0       0       0       0       0       0\n",
       "2985207   14460030       0       0       0       0       0       0\n",
       "2985208   14284830       0       0       0       0       0       0\n",
       "2985209   14285230       0       0       0       0       0       0\n",
       "2985210   14455630       0       0       0       0       0       0\n",
       "2985211   11117630       0       0       0       0       0       0\n",
       "2985212  168176230       0       0       0       0       0       0\n",
       "2985213   14273630       0       0       0       0       0       0\n",
       "2985214  168040630       0       0       0       0       0       0\n",
       "2985215  168040830       0       0       0       0       0       0\n",
       "2985216  168040430       0       0       0       0       0       0\n",
       "\n",
       "[2985217 rows x 7 columns]"
      ]
     },
     "execution_count": 6,
     "metadata": {},
     "output_type": "execute_result"
    }
   ],
   "source": [
    "sam"
   ]
  },
  {
   "cell_type": "code",
   "execution_count": 7,
   "metadata": {
    "collapsed": true
   },
   "outputs": [],
   "source": [
    "prop2=prop.drop('parcelid',axis=1)"
   ]
  },
  {
   "cell_type": "code",
   "execution_count": 8,
   "metadata": {},
   "outputs": [
    {
     "data": {
      "text/plain": [
       "0          False\n",
       "1          False\n",
       "2          False\n",
       "3          False\n",
       "4          False\n",
       "5          False\n",
       "6          False\n",
       "7          False\n",
       "8          False\n",
       "9          False\n",
       "10         False\n",
       "11         False\n",
       "12         False\n",
       "13         False\n",
       "14         False\n",
       "15         False\n",
       "16         False\n",
       "17         False\n",
       "18         False\n",
       "19         False\n",
       "20         False\n",
       "21         False\n",
       "22         False\n",
       "23         False\n",
       "24         False\n",
       "25         False\n",
       "26         False\n",
       "27         False\n",
       "28         False\n",
       "29         False\n",
       "           ...  \n",
       "2985187     True\n",
       "2985188     True\n",
       "2985189     True\n",
       "2985190     True\n",
       "2985191     True\n",
       "2985192     True\n",
       "2985193     True\n",
       "2985194     True\n",
       "2985195     True\n",
       "2985196     True\n",
       "2985197     True\n",
       "2985198     True\n",
       "2985199     True\n",
       "2985200     True\n",
       "2985201     True\n",
       "2985202     True\n",
       "2985203     True\n",
       "2985204     True\n",
       "2985205     True\n",
       "2985206     True\n",
       "2985207     True\n",
       "2985208     True\n",
       "2985209     True\n",
       "2985210     True\n",
       "2985211     True\n",
       "2985212     True\n",
       "2985213     True\n",
       "2985214     True\n",
       "2985215     True\n",
       "2985216     True\n",
       "Length: 2985217, dtype: bool"
      ]
     },
     "execution_count": 8,
     "metadata": {},
     "output_type": "execute_result"
    }
   ],
   "source": [
    "prop2.isnull().all(axis=1)"
   ]
  },
  {
   "cell_type": "code",
   "execution_count": 9,
   "metadata": {
    "_cell_guid": "45797c73-0fca-44ee-9dd1-33948cc8aad7",
    "_uuid": "5776538d8b966a732582288a2d9abc3c07646e6d"
   },
   "outputs": [
    {
     "data": {
      "image/png": "[encoded data removed]",
      "text/plain": [
       "<matplotlib.figure.Figure at 0x7f9e11754a10>"
      ]
     },
     "metadata": {},
     "output_type": "display_data"
    }
   ],
   "source": [
    "#Identify numerical columns to produce a heatmap\n",
    "catcols = ['airconditioningtypeid','architecturalstyletypeid','buildingqualitytypeid','buildingclasstypeid','decktypeid','fips','hashottuborspa','heatingorsystemtypeid','pooltypeid10','pooltypeid2','pooltypeid7','propertycountylandusecode','propertylandusetypeid','propertyzoningdesc','rawcensustractandblock','regionidcity','regionidcounty','regionidneighborhood','regionidzip','storytypeid','typeconstructiontypeid','yearbuilt','taxdelinquencyflag']\n",
    "numcols = [x for x in df_train.columns if x not in catcols]\n",
    "\n",
    "#Lets start by plotting a heatmap to determine if any variables are correlated\n",
    "plt.figure(figsize = (12,8))\n",
    "sns.heatmap(data=df_train[numcols].corr())\n",
    "plt.show()\n",
    "plt.gcf().clear()"
   ]
  },
  {
   "cell_type": "markdown",
   "metadata": {
    "_cell_guid": "4c59783b-3781-4157-a5ce-ab71984c138a",
    "_uuid": "11315617471102d30266a6e8533d640a7c02843d"
   },
   "source": [
    "Let's start by removing some 'potentially' redundant variables\n",
    "\n",
    "The following are all very strongly correlated as can be seen by the dark red path in the heatmap:\n",
    "'calculatedfinishedsquarefeet'\n",
    "'finishedsquarefeet12'\n",
    "'finishedsquarefeet13'\n",
    "'finishedsquarefeet15'\n",
    "'finishedsquarefeet6'\n",
    "\n",
    "By looking at the claims description they represent very similair pieces of information (the area of the property) lets pick the one with the fewest number of missing values and drop the rest. Let's plot the missing values first."
   ]
  },
  {
   "cell_type": "code",
   "execution_count": 10,
   "metadata": {
    "_cell_guid": "7288c403-6102-45b1-98c3-9132ef508404",
    "_uuid": "d27835fce1f19a272e0b8e617fd2552c0f4c489a"
   },
   "outputs": [
    {
     "data": {
      "text/plain": [
       "<matplotlib.figure.Figure at 0x7f9e137184d0>"
      ]
     },
     "metadata": {},
     "output_type": "display_data"
    },
    {
     "data": {
      "image/png": "[encoded data removed]",
      "text/plain": [
       "<matplotlib.figure.Figure at 0x7f9e133c3050>"
      ]
     },
     "metadata": {},
     "output_type": "display_data"
    }
   ],
   "source": [
    "missing_df = df_train.isnull().sum(axis=0).reset_index()\n",
    "missing_df.columns = ['column_name', 'missing_count']\n",
    "missing_df = missing_df.loc[missing_df['missing_count']>0]\n",
    "missing_df = missing_df.sort_values(by='missing_count')\n",
    "\n",
    "ind = np.arange(missing_df.shape[0])\n",
    "width = 0.9\n",
    "fig, ax = plt.subplots(figsize=(12,18))\n",
    "rects = ax.barh(ind, missing_df.missing_count.values, color='blue')\n",
    "ax.set_yticks(ind)\n",
    "ax.set_yticklabels(missing_df.column_name.values, rotation='horizontal')\n",
    "ax.set_xlabel(\"Count of missing values\")\n",
    "ax.set_title(\"Number of missing values in each column\")\n",
    "plt.show()\n",
    "\n"
   ]
  },
  {
   "cell_type": "markdown",
   "metadata": {
    "_cell_guid": "3d372276-4896-4274-a69c-b51c5c349c74",
    "_uuid": "726fe3068e09a859762f966e9cd80e30f4dd9025"
   },
   "source": [
    "Let's start off by potentially removing some 'redundant' variables and then some others ones which are 'easy' to fix"
   ]
  },
  {
   "cell_type": "code",
   "execution_count": 11,
   "metadata": {
    "_cell_guid": "372ddaed-762d-461c-a749-3f40f20bccc8",
    "_uuid": "e57adcb28509ce9834423f16dd3ef0a4e592493f",
    "collapsed": true
   },
   "outputs": [],
   "source": [
    "#'calculatedfinishedsquarefeet' has the fewest missing values so lets remove the others, note also that except for 'finishedsquarefeet12' the rest have large amount of missing values anyways. \n",
    "#Also if you look at my script in https://www.kaggle.com/nikunjm88/creating-additional-features 'calculatedfinishedsquarefeet' appears to be the most important variable\n",
    "dropcols = ['finishedsquarefeet12','finishedsquarefeet13', 'finishedsquarefeet15','finishedsquarefeet6']\n",
    "\n",
    "#finishedsquarefeet50 and finishedfloor1squarefeet are the exactly the same information according to the dictionary descriptions, lets remove finishedsquarefeet50 as it has more missing values\n",
    "dropcols.append('finishedsquarefeet50')\n",
    "\n",
    "#'bathroomcnt' and 'calculatedbathnbr' and 'fullbathcnt' seem to be the same information aswell according to the dictionary descriptions. Choose 'bathroomcnt' as has no missing values, so remove the other two\n",
    "dropcols.append('calculatedbathnbr')\n",
    "dropcols.append('fullbathcnt')\n"
   ]
  },
  {
   "cell_type": "code",
   "execution_count": 12,
   "metadata": {
    "_cell_guid": "8698a8f6-5061-49b7-b122-460db1ba8fa1",
    "_uuid": "1743b92255a9258b4cd537f51223372b060e2128"
   },
   "outputs": [
    {
     "name": "stdout",
     "output_type": "stream",
     "text": [
      "None    76074\n",
      "True     1539\n",
      "Name: hashottuborspa, dtype: int64\n",
      "1.0    465\n",
      "Name: pooltypeid10, dtype: int64\n"
     ]
    }
   ],
   "source": [
    "#The below variables are flags and lets assume if they are NA's it means the object does not exist so lets fix this\n",
    "index = df_train.hashottuborspa.isnull()\n",
    "df_train.loc[index,'hashottuborspa'] = \"None\"\n",
    "\n",
    "# pooltypeid10(does home have a Spa or hot tub) seems to be inconcistent with the 'hashottuborspa' field - these two fields should have the same information I assume?\n",
    "print(df_train.hashottuborspa.value_counts())\n",
    "print(df_train.pooltypeid10.value_counts())\n",
    "\n",
    "#lets remove 'pooltypeid10' as has more missing values\n",
    "dropcols.append('pooltypeid10')\n",
    "\n",
    "#Assume if the pooltype id is null then pool/hottub doesnt exist \n",
    "index = df_train.pooltypeid2.isnull()\n",
    "df_train.loc[index,'pooltypeid2'] = 0\n",
    "\n",
    "index = df_train.pooltypeid7.isnull()\n",
    "df_train.loc[index,'pooltypeid7'] = 0\n",
    "\n",
    "index = df_train.poolcnt.isnull()\n",
    "df_train.loc[index,'poolcnt'] = 0\n",
    "\n"
   ]
  },
  {
   "cell_type": "code",
   "execution_count": 13,
   "metadata": {
    "_cell_guid": "f40db0e5-3c6c-4cd9-9b03-3b41574835b6",
    "_uuid": "4a9a888d63f91aa17b0708c430acd0839d8d7115"
   },
   "outputs": [
    {
     "name": "stdout",
     "output_type": "stream",
     "text": [
      "76744\n",
      "0.0    61439\n",
      "1.0    16174\n",
      "Name: poolcnt, dtype: int64\n"
     ]
    }
   ],
   "source": [
    "#Theres more missing values in the 'poolsizesum' then in 'poolcnt', Let's fill in median values for poolsizesum where pool count is >0 and missing. I think this is sensible assumption as residential pool sizes are fairly standard size I guess in the U.S.\n",
    "#Also the poolsizesum doesn't seem to be much of an important variable (https://www.kaggle.com/nikunjm88/creating-additional-features) so imputing with the median hopefully won't cause too much of an issue\n",
    "print(df_train.poolsizesum.isnull().sum())\n",
    "print(df_train.poolcnt.value_counts())\n",
    "\n",
    "#Fill in those properties that have a pool with median pool value\n",
    "poolsizesum_median = df_train.loc[df_train['poolcnt'] > 0, 'poolsizesum'].median()\n",
    "df_train.loc[(df_train['poolcnt'] > 0) & (df_train['poolsizesum'].isnull()), 'poolsizesum'] = poolsizesum_median\n",
    "\n",
    "#If it doesn't have a pool then poolsizesum is 0 by default\n",
    "df_train.loc[(df_train['poolcnt'] == 0), 'poolsizesum'] = 0\n",
    "\n"
   ]
  },
  {
   "cell_type": "code",
   "execution_count": 14,
   "metadata": {
    "_cell_guid": "2ecdb041-57e0-4155-aaea-e3bde9215e0a",
    "_uuid": "d852f1724594e9eb035f946cb5356453fa7286c9"
   },
   "outputs": [
    {
     "name": "stdout",
     "output_type": "stream",
     "text": [
      "77441\n",
      "69324\n"
     ]
    }
   ],
   "source": [
    "#There seems to be inconsistency between the fireplaceflag and fireplace cnt - my guess is that these should be the same\n",
    "print(df_train.fireplaceflag.isnull().sum())\n",
    "print(df_train.fireplacecnt.isnull().sum())\n",
    "\n",
    "#There seems to be 80668 properties without fireplace according to the 'fireplacecnt' but the 'fireplace flag' says they are 90053 missing values\n",
    "#Lets instead create the fireplaceflag from scratch using 'fireplacecnt' as there are less missing values here\n",
    "df_train['fireplaceflag']= \"No\"\n",
    "df_train.loc[df_train['fireplacecnt']>0,'fireplaceflag']= \"Yes\"\n",
    "\n",
    "index = df_train.fireplacecnt.isnull()\n",
    "df_train.loc[index,'fireplacecnt'] = 0\n",
    "\n",
    "#Tax deliquency flag - assume if it is null then doesn't exist\n",
    "index = df_train.taxdelinquencyflag.isnull()\n",
    "df_train.loc[index,'taxdelinquencyflag'] = \"None\"\n",
    "\n"
   ]
  },
  {
   "cell_type": "code",
   "execution_count": 15,
   "metadata": {
    "_cell_guid": "9674a6c7-d5dd-4ba2-9866-4a39934cb728",
    "_uuid": "ce5bc928baed8b4d2a46279ea6345a1ac79dc122"
   },
   "outputs": [
    {
     "name": "stdout",
     "output_type": "stream",
     "text": [
      "52093\n",
      "52093\n"
     ]
    }
   ],
   "source": [
    "#Same number of missing values between garage count and garage size - assume this is because when there are properties with no garages then both variables are NA\n",
    "print(df_train.garagecarcnt.isnull().sum())\n",
    "print(df_train.garagetotalsqft.isnull().sum())\n",
    "\n",
    "#Assume if Null in garage count it means there are no garages\n",
    "index = df_train.garagecarcnt.isnull()\n",
    "df_train.loc[index,'garagecarcnt'] = 0\n",
    "\n",
    "#Likewise no garage means the size is 0 by default\n",
    "index = df_train.garagetotalsqft.isnull()\n",
    "df_train.loc[index,'garagetotalsqft'] = 0\n",
    "\n",
    "#Let's fill in some missing values using the most common value for those variables where this might be a sensible approach\n",
    "#AC Type - Mostly 1's, which corresponds to central AC. Reasonable to assume most other properties are similar.\n",
    "df_train['airconditioningtypeid'].value_counts()\n",
    "index = df_train.airconditioningtypeid.isnull()\n",
    "df_train.loc[index,'airconditioningtypeid'] = 1\n",
    "\n"
   ]
  },
  {
   "cell_type": "code",
   "execution_count": 16,
   "metadata": {
    "_cell_guid": "d5727552-cacd-4d50-9284-3276788d4f03",
    "_uuid": "c8bbfe333cfde2aed9bea575bb2bd7a5673bcd35"
   },
   "outputs": [
    {
     "name": "stdout",
     "output_type": "stream",
     "text": [
      "2.0     33633\n",
      "7.0     14107\n",
      "24.0      850\n",
      "6.0       777\n",
      "20.0      104\n",
      "13.0       60\n",
      "18.0       23\n",
      "1.0        13\n",
      "10.0        3\n",
      "11.0        1\n",
      "Name: heatingorsystemtypeid, dtype: int64\n"
     ]
    }
   ],
   "source": [
    "#heating or system - Mostly 2, which corresponds to central heating so seems reasonable to assume most other properties have central heating  \n",
    "print(df_train['heatingorsystemtypeid'].value_counts())\n",
    "index = df_train.heatingorsystemtypeid.isnull()\n",
    "df_train.loc[index,'heatingorsystemtypeid'] = 2\n"
   ]
  },
  {
   "cell_type": "code",
   "execution_count": 17,
   "metadata": {
    "_cell_guid": "04636d05-72c0-4766-99ef-2a7db515766d",
    "_uuid": "54996bd68351778f614f612513a297b1e114e1b4"
   },
   "outputs": [
    {
     "name": "stdout",
     "output_type": "stream",
     "text": [
      "1.0    10022\n",
      "2.0       75\n",
      "3.0        8\n",
      "7.0        1\n",
      "Name: threequarterbathnbr, dtype: int64\n"
     ]
    }
   ],
   "source": [
    "# 'threequarterbathnbr' - not an important variable according to https://www.kaggle.com/nikunjm88/creating-additional-features, so fill with most common value\n",
    "print(df_train['threequarterbathnbr'].value_counts())\n",
    "index = df_train.threequarterbathnbr.isnull()\n",
    "df_train.loc[index,'threequarterbathnbr'] = 1\n"
   ]
  },
  {
   "cell_type": "markdown",
   "metadata": {
    "_cell_guid": "27512eb2-9e9c-4cb7-84b7-9da3485011b8",
    "_uuid": "5c7641cf7542f07da457e0c4f268d12ff1e2dbe1"
   },
   "source": [
    "There's still fields with alot of data missing. Let's remove fields that have 97% missing values. 97% is quite subjective, but if you look at https://www.kaggle.com/nikunjm88/creating-additional-features, the variables with more than 97% missing values do not appear to be that important anyways\n"
   ]
  },
  {
   "cell_type": "code",
   "execution_count": 18,
   "metadata": {
    "_cell_guid": "b7152b0e-c1e8-4ad2-991e-e6b66f970e56",
    "_uuid": "17e0eb07baaceea33c0d980d1584b100e996a8ec"
   },
   "outputs": [
    {
     "name": "stdout",
     "output_type": "stream",
     "text": [
      "                           field  proportion\n",
      "6            buildingclasstypeid    0.999807\n",
      "13          finishedsquarefeet13    0.999459\n",
      "3                   basementsqft    0.999356\n",
      "41                   storytypeid    0.999356\n",
      "46            yardbuildingsqft26    0.999098\n",
      "2       architecturalstyletypeid    0.997333\n",
      "43        typeconstructiontypeid    0.997127\n",
      "16           finishedsquarefeet6    0.995027\n",
      "29                  pooltypeid10    0.994009\n",
      "9                     decktypeid    0.992089\n",
      "45            yardbuildingsqft17    0.969168\n",
      "56            taxdelinquencyyear    0.962635\n",
      "14          finishedsquarefeet15    0.960999\n",
      "10      finishedfloor1squarefeet    0.922217\n",
      "15          finishedsquarefeet50    0.922217\n",
      "48               numberofstories    0.773247\n",
      "38          regionidneighborhood    0.600917\n",
      "7          buildingqualitytypeid    0.358239\n",
      "34            propertyzoningdesc    0.349645\n",
      "44                       unitcnt    0.346720\n",
      "26             lotsizesquarefeet    0.106838\n",
      "12          finishedsquarefeet12    0.047544\n",
      "36                  regionidcity    0.019404\n",
      "8              calculatedbathnbr    0.008375\n",
      "19                   fullbathcnt    0.008375\n",
      "47                     yearbuilt    0.003917\n",
      "57           censustractandblock    0.003621\n",
      "11  calculatedfinishedsquarefeet    0.003028\n",
      "50    structuretaxvaluedollarcnt    0.001920\n",
      "39                   regionidzip    0.001082\n",
      "54                     taxamount    0.000502\n",
      "53         landtaxvaluedollarcnt    0.000464\n",
      "51             taxvaluedollarcnt    0.000451\n",
      "37                regionidcounty    0.000438\n",
      "5                     bedroomcnt    0.000438\n",
      "52                assessmentyear    0.000438\n",
      "40                       roomcnt    0.000438\n",
      "17                          fips    0.000438\n",
      "24                      latitude    0.000438\n",
      "35        rawcensustractandblock    0.000438\n",
      "25                     longitude    0.000438\n",
      "33         propertylandusetypeid    0.000438\n",
      "32     propertycountylandusecode    0.000438\n",
      "4                    bathroomcnt    0.000438\n",
      "55            taxdelinquencyflag    0.000000\n",
      "49                 fireplaceflag    0.000000\n",
      "27                       poolcnt    0.000000\n",
      "42           threequarterbathnbr    0.000000\n",
      "18                  fireplacecnt    0.000000\n",
      "20                  garagecarcnt    0.000000\n",
      "21               garagetotalsqft    0.000000\n",
      "28                   poolsizesum    0.000000\n",
      "22                hashottuborspa    0.000000\n",
      "23         heatingorsystemtypeid    0.000000\n",
      "31                   pooltypeid7    0.000000\n",
      "30                   pooltypeid2    0.000000\n",
      "1          airconditioningtypeid    0.000000\n",
      "0                       logerror    0.000000\n"
     ]
    }
   ],
   "source": [
    "missingvalues_prop = (df_train.isnull().sum()/len(df_train)).reset_index()\n",
    "missingvalues_prop.columns = ['field','proportion']\n",
    "missingvalues_prop = missingvalues_prop.sort_values(by = 'proportion', ascending = False)\n",
    "print(missingvalues_prop)\n",
    "missingvaluescols = missingvalues_prop[missingvalues_prop['proportion'] > 0.97].field.tolist()\n",
    "dropcols = dropcols + missingvaluescols\n",
    "df_train = df_train.drop(dropcols, axis=1)\n"
   ]
  },
  {
   "cell_type": "markdown",
   "metadata": {
    "_cell_guid": "d93fd263-f885-49f1-9e29-57cd8cebda74",
    "_uuid": "f8fe7ae25b399ef0b5dd15a1233bae4990f158b7"
   },
   "source": [
    "There's quite a few variables which are probably dependant on longtitude and latitude data\n",
    "Lets try fill in some of the missing variables using geographically nearby properties (by using the longtitude and latitude information)\n",
    "I've used the k-nearest neighbours function from https://www.kaggle.com/auroralht/restoring-the-missing-geo-data with some minor amendments\n"
   ]
  },
  {
   "cell_type": "code",
   "execution_count": 19,
   "metadata": {
    "_cell_guid": "b633784e-8eff-4a7e-ad9f-449da175365d",
    "_uuid": "24f8fa12310191b6c9f6d8a55afd3204ca8d58c1",
    "collapsed": true
   },
   "outputs": [],
   "source": [
    "def fillna_knn( df, base, target, fraction = 1, threshold = 10, n_neighbors = 5 ):\n",
    "    assert isinstance( base , list ) or isinstance( base , np.ndarray ) and isinstance( target, str ) \n",
    "    whole = [ target ] + base\n",
    "    \n",
    "    miss = df[target].isnull()\n",
    "    notmiss = ~miss \n",
    "    nummiss = miss.sum()\n",
    "    \n",
    "    enc = OneHotEncoder()\n",
    "    X_target = df.loc[ notmiss, whole ].sample( frac = fraction )\n",
    "    \n",
    "    enc.fit( X_target[ target ].unique().reshape( (-1,1) ) )\n",
    "    \n",
    "    Y = enc.transform( X_target[ target ].values.reshape((-1,1)) ).toarray()\n",
    "    X = X_target[ base  ]\n",
    "    \n",
    "    print( 'fitting' )\n",
    "    n_neighbors = n_neighbors\n",
    "    clf = neighbors.KNeighborsClassifier( n_neighbors, weights = 'uniform' )\n",
    "    clf.fit( X, Y )\n",
    "    \n",
    "    print( 'the shape of active features: ' ,enc.active_features_.shape )\n",
    "    \n",
    "    print( 'predicting' )\n",
    "    Z = clf.predict(df.loc[miss, base])\n",
    "    \n",
    "    numunperdicted = Z[:,0].sum()\n",
    "    if numunperdicted / nummiss *100 < threshold :\n",
    "        print( 'writing result to df' )    \n",
    "        df.loc[ miss, target ]  = np.dot( Z , enc.active_features_ )\n",
    "        print( 'num of unperdictable data: ', numunperdicted )\n",
    "        return enc\n",
    "    else:\n",
    "        print( 'out of threshold: {}% > {}%'.format( numunperdicted / nummiss *100 , threshold ) )\n",
    "\n",
    "#function to deal with variables that are actually string/categories\n",
    "def zoningcode2int( df, target ):\n",
    "    storenull = df[ target ].isnull()\n",
    "    enc = LabelEncoder( )\n",
    "    df[ target ] = df[ target ].astype( str )\n",
    "\n",
    "    print('fit and transform')\n",
    "    df[ target ]= enc.fit_transform( df[ target ].values )\n",
    "    print( 'num of categories: ', enc.classes_.shape  )\n",
    "    df.loc[ storenull, target ] = np.nan\n",
    "    print('recover the nan value')\n",
    "    return enc\n"
   ]
  },
  {
   "cell_type": "markdown",
   "metadata": {
    "_cell_guid": "75be2967-4996-4e9a-912d-469575167c3e",
    "_uuid": "1cbd428072e5721579fed3f64adc09d9f82a027c"
   },
   "source": [
    "We use k nearest neighbours to fill in blanks for some of the variables that might be be able to be filled in using geographically nearby properties \n",
    "Please note - I've put fraction size as 0.15 so the kernel does not time out. In reality I suspect you probably want to use fraction = 1 (all the data)\n",
    "You will also probably want to use some sort of cross validation technique to select the appropriate value of k. I've used k=1 so its quick to run.\n"
   ]
  },
  {
   "cell_type": "code",
   "execution_count": 20,
   "metadata": {
    "_cell_guid": "7e75eb17-2c18-465a-9ad0-192d37e36311",
    "_uuid": "69bfec676ce1b03959ef57970b2f26b317f62539"
   },
   "outputs": [
    {
     "name": "stdout",
     "output_type": "stream",
     "text": [
      "fitting\n",
      "('the shape of active features: ', (11,))\n",
      "predicting\n"
     ]
    },
    {
     "ename": "ValueError",
     "evalue": "Input contains NaN, infinity or a value too large for dtype('float32').",
     "output_type": "error",
     "traceback": [
      "\u001b[0;31m---------------------------------------------------------------------------\u001b[0m",
      "\u001b[0;31mValueError\u001b[0m                                Traceback (most recent call last)",
      "\u001b[0;32m<ipython-input-20-e816bcaa7ba6>\u001b[0m in \u001b[0;36m<module>\u001b[0;34m()\u001b[0m\n\u001b[1;32m      5\u001b[0m fillna_knn( df = df_train,\n\u001b[1;32m      6\u001b[0m                   \u001b[0mbase\u001b[0m \u001b[0;34m=\u001b[0m \u001b[0;34m[\u001b[0m \u001b[0;34m'latitude'\u001b[0m\u001b[0;34m,\u001b[0m \u001b[0;34m'longitude'\u001b[0m \u001b[0;34m]\u001b[0m \u001b[0;34m,\u001b[0m\u001b[0;34m\u001b[0m\u001b[0m\n\u001b[0;32m----> 7\u001b[0;31m                   target = 'buildingqualitytypeid', fraction = 0.15, n_neighbors = 1 )\n\u001b[0m\u001b[1;32m      8\u001b[0m \u001b[0;34m\u001b[0m\u001b[0m\n\u001b[1;32m      9\u001b[0m \u001b[0;34m\u001b[0m\u001b[0m\n",
      "\u001b[0;32m<ipython-input-19-f253b06407df>\u001b[0m in \u001b[0;36mfillna_knn\u001b[0;34m(df, base, target, fraction, threshold, n_neighbors)\u001b[0m\n\u001b[1;32m     23\u001b[0m \u001b[0;34m\u001b[0m\u001b[0m\n\u001b[1;32m     24\u001b[0m     \u001b[0;32mprint\u001b[0m\u001b[0;34m(\u001b[0m \u001b[0;34m'predicting'\u001b[0m \u001b[0;34m)\u001b[0m\u001b[0;34m\u001b[0m\u001b[0m\n\u001b[0;32m---> 25\u001b[0;31m     \u001b[0mZ\u001b[0m \u001b[0;34m=\u001b[0m \u001b[0mclf\u001b[0m\u001b[0;34m.\u001b[0m\u001b[0mpredict\u001b[0m\u001b[0;34m(\u001b[0m\u001b[0mdf\u001b[0m\u001b[0;34m.\u001b[0m\u001b[0mloc\u001b[0m\u001b[0;34m[\u001b[0m\u001b[0mmiss\u001b[0m\u001b[0;34m,\u001b[0m \u001b[0mbase\u001b[0m\u001b[0;34m]\u001b[0m\u001b[0;34m)\u001b[0m\u001b[0;34m\u001b[0m\u001b[0m\n\u001b[0m\u001b[1;32m     26\u001b[0m \u001b[0;34m\u001b[0m\u001b[0m\n\u001b[1;32m     27\u001b[0m     \u001b[0mnumunperdicted\u001b[0m \u001b[0;34m=\u001b[0m \u001b[0mZ\u001b[0m\u001b[0;34m[\u001b[0m\u001b[0;34m:\u001b[0m\u001b[0;34m,\u001b[0m\u001b[0;36m0\u001b[0m\u001b[0;34m]\u001b[0m\u001b[0;34m.\u001b[0m\u001b[0msum\u001b[0m\u001b[0;34m(\u001b[0m\u001b[0;34m)\u001b[0m\u001b[0;34m\u001b[0m\u001b[0m\n",
      "\u001b[0;32m/home/ghk829/miniconda2/lib/python2.7/site-packages/sklearn/neighbors/classification.pyc\u001b[0m in \u001b[0;36mpredict\u001b[0;34m(self, X)\u001b[0m\n\u001b[1;32m    141\u001b[0m             \u001b[0mClass\u001b[0m \u001b[0mlabels\u001b[0m \u001b[0;32mfor\u001b[0m \u001b[0meach\u001b[0m \u001b[0mdata\u001b[0m \u001b[0msample\u001b[0m\u001b[0;34m.\u001b[0m\u001b[0;34m\u001b[0m\u001b[0m\n\u001b[1;32m    142\u001b[0m         \"\"\"\n\u001b[0;32m--> 143\u001b[0;31m         \u001b[0mX\u001b[0m \u001b[0;34m=\u001b[0m \u001b[0mcheck_array\u001b[0m\u001b[0;34m(\u001b[0m\u001b[0mX\u001b[0m\u001b[0;34m,\u001b[0m \u001b[0maccept_sparse\u001b[0m\u001b[0;34m=\u001b[0m\u001b[0;34m'csr'\u001b[0m\u001b[0;34m)\u001b[0m\u001b[0;34m\u001b[0m\u001b[0m\n\u001b[0m\u001b[1;32m    144\u001b[0m \u001b[0;34m\u001b[0m\u001b[0m\n\u001b[1;32m    145\u001b[0m         \u001b[0mneigh_dist\u001b[0m\u001b[0;34m,\u001b[0m \u001b[0mneigh_ind\u001b[0m \u001b[0;34m=\u001b[0m \u001b[0mself\u001b[0m\u001b[0;34m.\u001b[0m\u001b[0mkneighbors\u001b[0m\u001b[0;34m(\u001b[0m\u001b[0mX\u001b[0m\u001b[0;34m)\u001b[0m\u001b[0;34m\u001b[0m\u001b[0m\n",
      "\u001b[0;32m/home/ghk829/miniconda2/lib/python2.7/site-packages/sklearn/utils/validation.pyc\u001b[0m in \u001b[0;36mcheck_array\u001b[0;34m(array, accept_sparse, dtype, order, copy, force_all_finite, ensure_2d, allow_nd, ensure_min_samples, ensure_min_features, warn_on_dtype, estimator)\u001b[0m\n\u001b[1;32m    420\u001b[0m                              % (array.ndim, estimator_name))\n\u001b[1;32m    421\u001b[0m         \u001b[0;32mif\u001b[0m \u001b[0mforce_all_finite\u001b[0m\u001b[0;34m:\u001b[0m\u001b[0;34m\u001b[0m\u001b[0m\n\u001b[0;32m--> 422\u001b[0;31m             \u001b[0m_assert_all_finite\u001b[0m\u001b[0;34m(\u001b[0m\u001b[0marray\u001b[0m\u001b[0;34m)\u001b[0m\u001b[0;34m\u001b[0m\u001b[0m\n\u001b[0m\u001b[1;32m    423\u001b[0m \u001b[0;34m\u001b[0m\u001b[0m\n\u001b[1;32m    424\u001b[0m     \u001b[0mshape_repr\u001b[0m \u001b[0;34m=\u001b[0m \u001b[0m_shape_repr\u001b[0m\u001b[0;34m(\u001b[0m\u001b[0marray\u001b[0m\u001b[0;34m.\u001b[0m\u001b[0mshape\u001b[0m\u001b[0;34m)\u001b[0m\u001b[0;34m\u001b[0m\u001b[0m\n",
      "\u001b[0;32m/home/ghk829/miniconda2/lib/python2.7/site-packages/sklearn/utils/validation.pyc\u001b[0m in \u001b[0;36m_assert_all_finite\u001b[0;34m(X)\u001b[0m\n\u001b[1;32m     41\u001b[0m             and not np.isfinite(X).all()):\n\u001b[1;32m     42\u001b[0m         raise ValueError(\"Input contains NaN, infinity\"\n\u001b[0;32m---> 43\u001b[0;31m                          \" or a value too large for %r.\" % X.dtype)\n\u001b[0m\u001b[1;32m     44\u001b[0m \u001b[0;34m\u001b[0m\u001b[0m\n\u001b[1;32m     45\u001b[0m \u001b[0;34m\u001b[0m\u001b[0m\n",
      "\u001b[0;31mValueError\u001b[0m: Input contains NaN, infinity or a value too large for dtype('float32')."
     ]
    }
   ],
   "source": [
    "#buildingqualitytypeid - assume it is the similar to the nearest property. Probably makes senses if its a property in a block of flats, i.e if block was built all at the same time and therefore all flats will have similar quality \n",
    "#Use the same logic for propertycountylandusecode (assume it is same as nearest property i.e two properties right next to each other are likely to have the same code) & propertyzoningdesc. \n",
    "#These assumptions are only reasonable if you actually have nearby properties to the one with the missing value\n",
    "\n",
    "fillna_knn( df = df_train,\n",
    "                  base = [ 'latitude', 'longitude' ] ,\n",
    "                  target = 'buildingqualitytypeid', fraction = 0.15, n_neighbors = 1 )\n",
    "\n",
    "\n",
    "zoningcode2int( df = df_train,\n",
    "                            target = 'propertycountylandusecode' )\n",
    "fillna_knn( df = df_train,\n",
    "                  base = [ 'latitude', 'longitude' ] ,\n",
    "                  target = 'propertycountylandusecode', fraction = 0.15, n_neighbors = 1 )\n",
    "\n",
    "zoningcode2int( df = df_train,\n",
    "                            target = 'propertyzoningdesc' )\n",
    "\n",
    "fillna_knn( df = df_train,\n",
    "                  base = [ 'latitude', 'longitude' ] ,\n",
    "                  target = 'propertyzoningdesc', fraction = 0.15, n_neighbors = 1 )\n",
    "\n",
    "#regionidcity, regionidneighborhood & regionidzip - assume it is the same as the nereast property. \n",
    "#As mentioned above, this is ok if there's a property very nearby to the one with missing values (I leave it up to the reader to check if this is the case!)\n",
    "fillna_knn( df = df_train,\n",
    "                  base = [ 'latitude', 'longitude' ] ,\n",
    "                  target = 'regionidcity', fraction = 0.15, n_neighbors = 1 )\n",
    "\n",
    "fillna_knn( df = df_train,\n",
    "                  base = [ 'latitude', 'longitude' ] ,\n",
    "                  target = 'regionidneighborhood', fraction = 0.15, n_neighbors = 1 )\n",
    "\n",
    "fillna_knn( df = df_train,\n",
    "                  base = [ 'latitude', 'longitude' ] ,\n",
    "                  target = 'regionidzip', fraction = 0.15, n_neighbors = 1 )\n",
    "\n",
    "#unitcnt - the number of structures the unit is built into. Assume it is the same as the nearest properties. If the property with missing values is in a block of flats or in a terrace street then this is probably ok - but again I leave it up to the reader to check if this is the case!\n",
    "fillna_knn( df = df_train,\n",
    "                  base = [ 'latitude', 'longitude' ] ,\n",
    "                  target = 'unitcnt', fraction = 0.15, n_neighbors = 1 )\n",
    "\n",
    "#yearbuilt - assume it is the same as the nearest property. This assumes properties all near to each other were built around the same time\n",
    "fillna_knn( df = df_train,\n",
    "                  base = [ 'latitude', 'longitude' ] ,\n",
    "                  target = 'yearbuilt', fraction = 0.15, n_neighbors = 1 )\n",
    "\n",
    "#lot size square feet - not sure what to do about this one. Lets use nearest neighbours. Assume it has same lot size as property closest to it\n",
    "fillna_knn( df = df_train,\n",
    "                  base = [ 'latitude', 'longitude' ] ,\n",
    "                  target = 'lotsizesquarefeet', fraction = 0.15, n_neighbors = 1 )\n"
   ]
  },
  {
   "cell_type": "markdown",
   "metadata": {
    "_cell_guid": "153ec1b7-e08f-4a26-9757-dd797bf9894b",
    "_uuid": "cd1d629aee2dbceb360839ee1c6b90b42fc7ceee"
   },
   "source": [
    "**finishedfloor1squarefeet** - this is most correlated with calculatedfinishedsquarefeet according to the heatmap so lets see if we can use calculatedfinishedsquarefeet to fill in some of the finishedfloor1squarefeet\n"
   ]
  },
  {
   "cell_type": "code",
   "execution_count": 21,
   "metadata": {
    "_cell_guid": "90385b15-18c9-4897-b7e2-106c3ce5ad2b",
    "_uuid": "17b5fdc42d0a3d9ad6a6c968e6fcc75e1a417893"
   },
   "outputs": [
    {
     "data": {
      "text/plain": [
       "<matplotlib.figure.Figure at 0x7f9e12eb6d10>"
      ]
     },
     "metadata": {},
     "output_type": "display_data"
    },
    {
     "data": {
      "image/png": "[encoded data removed]",
      "text/plain": [
       "<matplotlib.figure.Figure at 0x7f9dc4cbd310>"
      ]
     },
     "metadata": {},
     "output_type": "display_data"
    },
    {
     "name": "stdout",
     "output_type": "stream",
     "text": [
      "Empty DataFrame\n",
      "Columns: [logerror, airconditioningtypeid, bathroomcnt, bedroomcnt, buildingqualitytypeid, finishedfloor1squarefeet, calculatedfinishedsquarefeet, fips, fireplacecnt, garagecarcnt, garagetotalsqft, hashottuborspa, heatingorsystemtypeid, latitude, longitude, lotsizesquarefeet, poolcnt, poolsizesum, pooltypeid2, pooltypeid7, propertycountylandusecode, propertylandusetypeid, propertyzoningdesc, rawcensustractandblock, regionidcity, regionidcounty, regionidneighborhood, regionidzip, roomcnt, threequarterbathnbr, unitcnt, yardbuildingsqft17, yearbuilt, numberofstories, fireplaceflag, structuretaxvaluedollarcnt, taxvaluedollarcnt, assessmentyear, landtaxvaluedollarcnt, taxamount, taxdelinquencyflag, taxdelinquencyyear, censustractandblock]\n",
      "Index: []\n",
      "\n",
      "[0 rows x 43 columns]\n"
     ]
    }
   ],
   "source": [
    "plt.figure(figsize=(12,12))\n",
    "sns.jointplot(x=df_train.finishedfloor1squarefeet.values, y=df_train.calculatedfinishedsquarefeet.values)\n",
    "plt.ylabel('calculatedfinishedsquarefeet', fontsize=12)\n",
    "plt.xlabel('finishedfloor1squarefeet', fontsize=12)\n",
    "plt.title(\"finishedfloor1squarefeet Vs calculatedfinishedsquarefeet\", fontsize=15)\n",
    "plt.show()\n",
    "\n",
    "#There are some properties where finishedfloor1squarefeet and calculatedfinishedsquarefeetare are both exactly the same - probably because its a studio flat of some sort so that the area on the first floor is equivalent to the total area, lets see how many there are\n",
    "#For now assume if the number of stories is 1 then the finishedfloor1squarefeet is the same as calculatedfinishedsquarefeet\n",
    "df_train.loc[(df_train['finishedfloor1squarefeet'].isnull()) & (df_train['numberofstories']==1),'finishedfloor1squarefeet'] = df_train.loc[(df_train['finishedfloor1squarefeet'].isnull()) & (df_train['numberofstories']==1),'calculatedfinishedsquarefeet']\n",
    "\n",
    "#I also discovered that there seems to be two properties that have finishedfloor1squarefeet greater than calculated finishedsquarefeet. Notice also that they have big logerrors aswell - my guess is that the Zillow House price model found it difficult to predict these points due to the fact that they probably had potentially 'incorrect' data input values?\n",
    "#Discussion point - should we be removing these points or leave them in as they are or 'fix' them? I think it really depends on whether the test data has similar points which may be wrong as we'll want to predict big log errors for these incorrect points aswell I guess...\n",
    "#For now just remove them.\n",
    "print(df_train.loc[df_train['calculatedfinishedsquarefeet']<df_train['finishedfloor1squarefeet']])\n",
    "droprows = df_train.loc[df_train['calculatedfinishedsquarefeet']<df_train['finishedfloor1squarefeet']].index\n",
    "df_train = df_train.drop(droprows)\n",
    "\n"
   ]
  },
  {
   "cell_type": "code",
   "execution_count": 22,
   "metadata": {
    "_cell_guid": "ae914ab2-c294-4e11-bfbf-433591d30dc0",
    "_uuid": "3296aad59fbdcd940ccea85b38348c0450eee2ce"
   },
   "outputs": [
    {
     "name": "stdout",
     "output_type": "stream",
     "text": [
      "logerror                            0\n",
      "airconditioningtypeid               0\n",
      "bathroomcnt                        34\n",
      "bedroomcnt                         34\n",
      "buildingqualitytypeid           27804\n",
      "finishedfloor1squarefeet        64392\n",
      "calculatedfinishedsquarefeet      235\n",
      "fips                               34\n",
      "fireplacecnt                        0\n",
      "garagecarcnt                        0\n",
      "garagetotalsqft                     0\n",
      "hashottuborspa                      0\n",
      "heatingorsystemtypeid               0\n",
      "latitude                           34\n",
      "longitude                          34\n",
      "lotsizesquarefeet                8292\n",
      "poolcnt                             0\n",
      "poolsizesum                         0\n",
      "pooltypeid2                         0\n",
      "pooltypeid7                         0\n",
      "propertycountylandusecode          34\n",
      "propertylandusetypeid              34\n",
      "propertyzoningdesc              27137\n",
      "rawcensustractandblock             34\n",
      "regionidcity                     1506\n",
      "regionidcounty                     34\n",
      "regionidneighborhood            46639\n",
      "regionidzip                        84\n",
      "roomcnt                            34\n",
      "threequarterbathnbr                 0\n",
      "unitcnt                         26910\n",
      "yardbuildingsqft17              75220\n",
      "yearbuilt                         304\n",
      "numberofstories                 60014\n",
      "fireplaceflag                       0\n",
      "structuretaxvaluedollarcnt        149\n",
      "taxvaluedollarcnt                  35\n",
      "assessmentyear                     34\n",
      "landtaxvaluedollarcnt              36\n",
      "taxamount                          39\n",
      "taxdelinquencyflag                  0\n",
      "taxdelinquencyyear              74713\n",
      "censustractandblock               281\n",
      "dtype: int64\n"
     ]
    }
   ],
   "source": [
    "#Let's check whats missing still\n",
    "print(df_train.isnull().sum())\n"
   ]
  },
  {
   "cell_type": "markdown",
   "metadata": {
    "_cell_guid": "b5e5b193-2326-4ef9-b863-225b3e7898b1",
    "_uuid": "c5b2985f5ae8fa7b8db663d8c2856a8aaf825567"
   },
   "source": [
    "Let's look at filling in some of the tax related variables"
   ]
  },
  {
   "cell_type": "code",
   "execution_count": 23,
   "metadata": {
    "_cell_guid": "8dcea82a-ddaa-48ca-a429-733aa8da9bb1",
    "_uuid": "8af32ada2025abea0f22956dc8aaf3572e4f3ffb"
   },
   "outputs": [
    {
     "name": "stdout",
     "output_type": "stream",
     "text": [
      "structuretaxvaluedollarcnt      1.000000\n",
      "taxamount                       0.798992\n",
      "taxvaluedollarcnt               0.796731\n",
      "calculatedfinishedsquarefeet    0.696255\n",
      "landtaxvaluedollarcnt           0.590333\n",
      "bathroomcnt                     0.566023\n",
      "finishedfloor1squarefeet        0.537675\n",
      "buildingqualitytypeid           0.451906\n",
      "yardbuildingsqft17              0.403706\n",
      "bedroomcnt                      0.296400\n",
      "yearbuilt                       0.282562\n",
      "numberofstories                 0.223721\n",
      "poolsizesum                     0.214934\n",
      "poolcnt                         0.212128\n",
      "pooltypeid2                     0.181623\n",
      "pooltypeid7                     0.163676\n",
      "garagetotalsqft                 0.146283\n",
      "threequarterbathnbr             0.093711\n",
      "garagecarcnt                    0.093634\n",
      "fireplacecnt                    0.066283\n",
      "taxdelinquencyyear              0.060919\n",
      "rawcensustractandblock          0.025417\n",
      "fips                            0.025288\n",
      "regionidzip                     0.013794\n",
      "logerror                        0.008433\n",
      "lotsizesquarefeet               0.005641\n",
      "regionidneighborhood            0.003562\n",
      "censustractandblock             0.002554\n",
      "unitcnt                        -0.001696\n",
      "propertylandusetypeid          -0.004484\n",
      "regionidcounty                 -0.004945\n",
      "airconditioningtypeid          -0.008609\n",
      "latitude                       -0.009382\n",
      "regionidcity                   -0.033658\n",
      "roomcnt                        -0.038935\n",
      "longitude                      -0.063185\n",
      "heatingorsystemtypeid          -0.150240\n",
      "assessmentyear                       NaN\n",
      "Name: structuretaxvaluedollarcnt, dtype: float64\n"
     ]
    },
    {
     "data": {
      "text/plain": [
       "<matplotlib.figure.Figure at 0x7f9e12f71d90>"
      ]
     },
     "metadata": {},
     "output_type": "display_data"
    },
    {
     "data": {
      "image/png": "[encoded data removed]",
      "text/plain": [
       "<matplotlib.figure.Figure at 0x7f9dc4ae1b10>"
      ]
     },
     "metadata": {},
     "output_type": "display_data"
    },
    {
     "name": "stdout",
     "output_type": "stream",
     "text": [
      "count    1.150000e+02\n",
      "mean     1.169292e+06\n",
      "std      1.935918e+06\n",
      "min      3.881800e+02\n",
      "25%      1.739810e+05\n",
      "50%      7.147360e+05\n",
      "75%      1.422604e+06\n",
      "max      1.553302e+07\n",
      "Name: taxvaluedollarcnt, dtype: float64\n",
      "count    7.757900e+04\n",
      "mean     4.901443e+05\n",
      "std      6.537960e+05\n",
      "min      3.881800e+02\n",
      "25%      2.068970e+05\n",
      "50%      3.588780e+05\n",
      "75%      5.690000e+05\n",
      "max      4.906124e+07\n",
      "Name: taxvaluedollarcnt, dtype: float64\n"
     ]
    },
    {
     "ename": "ValueError",
     "evalue": "Input contains NaN, infinity or a value too large for dtype('float32').",
     "output_type": "error",
     "traceback": [
      "\u001b[0;31m---------------------------------------------------------------------------\u001b[0m",
      "\u001b[0;31mValueError\u001b[0m                                Traceback (most recent call last)",
      "\u001b[0;32m<ipython-input-23-d11427d4103d>\u001b[0m in \u001b[0;36m<module>\u001b[0;34m()\u001b[0m\n\u001b[1;32m     39\u001b[0m \u001b[0;34m\u001b[0m\u001b[0m\n\u001b[1;32m     40\u001b[0m \u001b[0;31m#fill in structuretaxvaluedollarcnt using taxvaluedollarcnt as per the above\u001b[0m\u001b[0;34m\u001b[0m\u001b[0;34m\u001b[0m\u001b[0m\n\u001b[0;32m---> 41\u001b[0;31m \u001b[0mfillna_knn_reg\u001b[0m\u001b[0;34m(\u001b[0m\u001b[0mdf\u001b[0m \u001b[0;34m=\u001b[0m \u001b[0mdf_train\u001b[0m\u001b[0;34m,\u001b[0m \u001b[0mbase\u001b[0m \u001b[0;34m=\u001b[0m \u001b[0;34m[\u001b[0m\u001b[0;34m'taxvaluedollarcnt'\u001b[0m\u001b[0;34m]\u001b[0m\u001b[0;34m,\u001b[0m \u001b[0mtarget\u001b[0m \u001b[0;34m=\u001b[0m \u001b[0;34m'structuretaxvaluedollarcnt'\u001b[0m\u001b[0;34m)\u001b[0m\u001b[0;34m\u001b[0m\u001b[0m\n\u001b[0m\u001b[1;32m     42\u001b[0m \u001b[0;34m\u001b[0m\u001b[0m\n\u001b[1;32m     43\u001b[0m \u001b[0;31m#Do the same thing for tax amount, as taxvaluedollarcnt is its most correlated variable\u001b[0m\u001b[0;34m\u001b[0m\u001b[0;34m\u001b[0m\u001b[0m\n",
      "\u001b[0;32m<ipython-input-23-d11427d4103d>\u001b[0m in \u001b[0;36mfillna_knn_reg\u001b[0;34m(df, base, target, n_neighbors)\u001b[0m\n\u001b[1;32m     23\u001b[0m     \u001b[0mcols\u001b[0m \u001b[0;34m=\u001b[0m \u001b[0mbase\u001b[0m \u001b[0;34m+\u001b[0m \u001b[0;34m[\u001b[0m\u001b[0mtarget\u001b[0m\u001b[0;34m]\u001b[0m\u001b[0;34m\u001b[0m\u001b[0m\n\u001b[1;32m     24\u001b[0m     \u001b[0mX_train\u001b[0m \u001b[0;34m=\u001b[0m \u001b[0mdf\u001b[0m\u001b[0;34m[\u001b[0m\u001b[0mcols\u001b[0m\u001b[0;34m]\u001b[0m\u001b[0;34m\u001b[0m\u001b[0m\n\u001b[0;32m---> 25\u001b[0;31m     \u001b[0mscaler\u001b[0m \u001b[0;34m=\u001b[0m \u001b[0mStandardScaler\u001b[0m\u001b[0;34m(\u001b[0m\u001b[0mwith_mean\u001b[0m\u001b[0;34m=\u001b[0m\u001b[0mTrue\u001b[0m\u001b[0;34m,\u001b[0m \u001b[0mwith_std\u001b[0m\u001b[0;34m=\u001b[0m\u001b[0mTrue\u001b[0m\u001b[0;34m)\u001b[0m\u001b[0;34m.\u001b[0m\u001b[0mfit\u001b[0m\u001b[0;34m(\u001b[0m\u001b[0mX_train\u001b[0m\u001b[0;34m[\u001b[0m\u001b[0mbase\u001b[0m\u001b[0;34m]\u001b[0m\u001b[0;34m.\u001b[0m\u001b[0mvalues\u001b[0m\u001b[0;34m.\u001b[0m\u001b[0mreshape\u001b[0m\u001b[0;34m(\u001b[0m\u001b[0;34m-\u001b[0m\u001b[0;36m1\u001b[0m\u001b[0;34m,\u001b[0m \u001b[0;36m1\u001b[0m\u001b[0;34m)\u001b[0m\u001b[0;34m)\u001b[0m\u001b[0;34m\u001b[0m\u001b[0m\n\u001b[0m\u001b[1;32m     26\u001b[0m     \u001b[0mrescaledX\u001b[0m \u001b[0;34m=\u001b[0m \u001b[0mscaler\u001b[0m\u001b[0;34m.\u001b[0m\u001b[0mtransform\u001b[0m\u001b[0;34m(\u001b[0m\u001b[0mX_train\u001b[0m\u001b[0;34m[\u001b[0m\u001b[0mbase\u001b[0m\u001b[0;34m]\u001b[0m\u001b[0;34m.\u001b[0m\u001b[0mvalues\u001b[0m\u001b[0;34m.\u001b[0m\u001b[0mreshape\u001b[0m\u001b[0;34m(\u001b[0m\u001b[0;34m-\u001b[0m\u001b[0;36m1\u001b[0m\u001b[0;34m,\u001b[0m \u001b[0;36m1\u001b[0m\u001b[0;34m)\u001b[0m\u001b[0;34m)\u001b[0m\u001b[0;34m\u001b[0m\u001b[0m\n\u001b[1;32m     27\u001b[0m \u001b[0;34m\u001b[0m\u001b[0m\n",
      "\u001b[0;32m/home/ghk829/miniconda2/lib/python2.7/site-packages/sklearn/preprocessing/data.pyc\u001b[0m in \u001b[0;36mfit\u001b[0;34m(self, X, y)\u001b[0m\n\u001b[1;32m    588\u001b[0m         \u001b[0;31m# Reset internal state before fitting\u001b[0m\u001b[0;34m\u001b[0m\u001b[0;34m\u001b[0m\u001b[0m\n\u001b[1;32m    589\u001b[0m         \u001b[0mself\u001b[0m\u001b[0;34m.\u001b[0m\u001b[0m_reset\u001b[0m\u001b[0;34m(\u001b[0m\u001b[0;34m)\u001b[0m\u001b[0;34m\u001b[0m\u001b[0m\n\u001b[0;32m--> 590\u001b[0;31m         \u001b[0;32mreturn\u001b[0m \u001b[0mself\u001b[0m\u001b[0;34m.\u001b[0m\u001b[0mpartial_fit\u001b[0m\u001b[0;34m(\u001b[0m\u001b[0mX\u001b[0m\u001b[0;34m,\u001b[0m \u001b[0my\u001b[0m\u001b[0;34m)\u001b[0m\u001b[0;34m\u001b[0m\u001b[0m\n\u001b[0m\u001b[1;32m    591\u001b[0m \u001b[0;34m\u001b[0m\u001b[0m\n\u001b[1;32m    592\u001b[0m     \u001b[0;32mdef\u001b[0m \u001b[0mpartial_fit\u001b[0m\u001b[0;34m(\u001b[0m\u001b[0mself\u001b[0m\u001b[0;34m,\u001b[0m \u001b[0mX\u001b[0m\u001b[0;34m,\u001b[0m \u001b[0my\u001b[0m\u001b[0;34m=\u001b[0m\u001b[0mNone\u001b[0m\u001b[0;34m)\u001b[0m\u001b[0;34m:\u001b[0m\u001b[0;34m\u001b[0m\u001b[0m\n",
      "\u001b[0;32m/home/ghk829/miniconda2/lib/python2.7/site-packages/sklearn/preprocessing/data.pyc\u001b[0m in \u001b[0;36mpartial_fit\u001b[0;34m(self, X, y)\u001b[0m\n\u001b[1;32m    610\u001b[0m         \"\"\"\n\u001b[1;32m    611\u001b[0m         X = check_array(X, accept_sparse=('csr', 'csc'), copy=self.copy,\n\u001b[0;32m--> 612\u001b[0;31m                         warn_on_dtype=True, estimator=self, dtype=FLOAT_DTYPES)\n\u001b[0m\u001b[1;32m    613\u001b[0m \u001b[0;34m\u001b[0m\u001b[0m\n\u001b[1;32m    614\u001b[0m         \u001b[0;31m# Even in the case of `with_mean=False`, we update the mean anyway\u001b[0m\u001b[0;34m\u001b[0m\u001b[0;34m\u001b[0m\u001b[0m\n",
      "\u001b[0;32m/home/ghk829/miniconda2/lib/python2.7/site-packages/sklearn/utils/validation.pyc\u001b[0m in \u001b[0;36mcheck_array\u001b[0;34m(array, accept_sparse, dtype, order, copy, force_all_finite, ensure_2d, allow_nd, ensure_min_samples, ensure_min_features, warn_on_dtype, estimator)\u001b[0m\n\u001b[1;32m    420\u001b[0m                              % (array.ndim, estimator_name))\n\u001b[1;32m    421\u001b[0m         \u001b[0;32mif\u001b[0m \u001b[0mforce_all_finite\u001b[0m\u001b[0;34m:\u001b[0m\u001b[0;34m\u001b[0m\u001b[0m\n\u001b[0;32m--> 422\u001b[0;31m             \u001b[0m_assert_all_finite\u001b[0m\u001b[0;34m(\u001b[0m\u001b[0marray\u001b[0m\u001b[0;34m)\u001b[0m\u001b[0;34m\u001b[0m\u001b[0m\n\u001b[0m\u001b[1;32m    423\u001b[0m \u001b[0;34m\u001b[0m\u001b[0m\n\u001b[1;32m    424\u001b[0m     \u001b[0mshape_repr\u001b[0m \u001b[0;34m=\u001b[0m \u001b[0m_shape_repr\u001b[0m\u001b[0;34m(\u001b[0m\u001b[0marray\u001b[0m\u001b[0;34m.\u001b[0m\u001b[0mshape\u001b[0m\u001b[0;34m)\u001b[0m\u001b[0;34m\u001b[0m\u001b[0m\n",
      "\u001b[0;32m/home/ghk829/miniconda2/lib/python2.7/site-packages/sklearn/utils/validation.pyc\u001b[0m in \u001b[0;36m_assert_all_finite\u001b[0;34m(X)\u001b[0m\n\u001b[1;32m     41\u001b[0m             and not np.isfinite(X).all()):\n\u001b[1;32m     42\u001b[0m         raise ValueError(\"Input contains NaN, infinity\"\n\u001b[0;32m---> 43\u001b[0;31m                          \" or a value too large for %r.\" % X.dtype)\n\u001b[0m\u001b[1;32m     44\u001b[0m \u001b[0;34m\u001b[0m\u001b[0m\n\u001b[1;32m     45\u001b[0m \u001b[0;34m\u001b[0m\u001b[0m\n",
      "\u001b[0;31mValueError\u001b[0m: Input contains NaN, infinity or a value too large for dtype('float32')."
     ]
    }
   ],
   "source": [
    "#taxvaluedollarcnt & landtaxvaluedollarcnt - set it equal to the tax amount (most correlated value). Single story property so assume they are all the same\n",
    "df_train.loc[df_train.taxvaluedollarcnt.isnull(),'taxvaluedollarcnt'] = df_train.loc[df_train.taxvaluedollarcnt.isnull(),'taxamount']\n",
    "df_train.loc[df_train.landtaxvaluedollarcnt.isnull(),'landtaxvaluedollarcnt'] = df_train.loc[df_train.landtaxvaluedollarcnt.isnull(),'taxamount']\n",
    "\n",
    "#structure tax value dollar - fill this in using its most correlated variable\n",
    "x =  df_train.corr()\n",
    "print(x.structuretaxvaluedollarcnt.sort_values(ascending = False))\n",
    "\n",
    "#taxvaluedollarcnt is most correlated variable, let's see how they are related \n",
    "plt.figure(figsize=(12,12))\n",
    "sns.jointplot(x=df_train.structuretaxvaluedollarcnt.values, y=df_train.taxvaluedollarcnt.values)\n",
    "plt.ylabel('taxvaluedollarcnt', fontsize=12)\n",
    "plt.xlabel('structuretaxvaluedollarcnt', fontsize=12)\n",
    "plt.title(\"structuretaxvaluedollarcnt Vs taxvaluedollarcnt\", fontsize=15)\n",
    "plt.show()\n",
    "\n",
    "#Lets look at the distribution of taxvaluedollar cnt where structuretaxvaluedollarcnt is missing just to make sure we are predicting missing values in the body of the taxvaluedollarcnt distribution\n",
    "print(df_train.loc[df_train['structuretaxvaluedollarcnt'].isnull(),'taxvaluedollarcnt'].describe())\n",
    "print(df_train['taxvaluedollarcnt'].describe())\n",
    "\n",
    "#Slightly amend the k nearest neighbour function so it works on regression\n",
    "def fillna_knn_reg( df, base, target, n_neighbors = 5 ):\n",
    "    cols = base + [target]\n",
    "    X_train = df[cols]\n",
    "    scaler = StandardScaler(with_mean=True, with_std=True).fit(X_train[base].values.reshape(-1, 1))\n",
    "    rescaledX = scaler.transform(X_train[base].values.reshape(-1, 1))\n",
    "\n",
    "    X_train = rescaledX[df[target].notnull()]\n",
    "    Y_train = df.loc[df[target].notnull(),target].values.reshape(-1, 1)\n",
    "\n",
    "    knn = KNeighborsRegressor(n_neighbors, n_jobs = -1)    \n",
    "    # fitting the model\n",
    "    knn.fit(X_train, Y_train)\n",
    "    # predict the response\n",
    "    X_test = rescaledX[df[target].isnull()]\n",
    "    pred = knn.predict(X_test)\n",
    "    df.loc[df_train[target].isnull(),target] = pred\n",
    "    return\n",
    "\n",
    "#fill in structuretaxvaluedollarcnt using taxvaluedollarcnt as per the above\n",
    "fillna_knn_reg(df = df_train, base = ['taxvaluedollarcnt'], target = 'structuretaxvaluedollarcnt')\n",
    "\n",
    "#Do the same thing for tax amount, as taxvaluedollarcnt is its most correlated variable\n",
    "fillna_knn_reg(df = df_train, base = ['taxvaluedollarcnt'], target = 'taxamount')\n",
    "print(df_train.isnull().sum())"
   ]
  },
  {
   "cell_type": "code",
   "execution_count": null,
   "metadata": {
    "_cell_guid": "fbc8df65-eeb2-4d51-8809-fce2648bd44e",
    "_uuid": "b371e3ffa23d073a8287d37a25961e1525ccde01",
    "collapsed": true
   },
   "outputs": [],
   "source": [
    "#Let's see whats left\n",
    "df_train.isnull().sum()"
   ]
  },
  {
   "cell_type": "markdown",
   "metadata": {
    "_uuid": "6891bfac6c2390b4173a33591e30a396fec96994"
   },
   "source": [
    "**calculatedfinishedsquarefeet **- this is one of the most important variables (https://www.kaggle.com/nikunjm88/creating-additional-features). Some suggestions on how to fill it in:\n",
    "\n",
    "Use K nearest neighbours regressor using the number of bathroom and bedrooms (as more bathrooms and bedrooms means bigger the area) and structuretaxvaluedollarcnt (as  I'm assuming the size of the property has an impact on the tax). \n",
    "Could alternatively fit a regression model on calculated finished square feet, given its so important, such as using lasso regression for instance."
   ]
  },
  {
   "cell_type": "markdown",
   "metadata": {
    "_cell_guid": "8579787d-4480-4876-8652-9c103e2b3a00",
    "_uuid": "6f8f81d9fabf1f511e8d015fb897556e2b3f603a"
   },
   "source": [
    "So there's a couple of missing values left - I'm not going to go through all of them but I hope the above provides some ideas on how you can sensibly fill in missing values, instead of using default approaches of filling them in using the median values etc\n",
    "\n",
    "Some additional points/caveats:\n",
    "- The K nearest neighbours function might not always be able to find a nearest value and by default it will categorise it into a seperate category. \n",
    "- The K value for nearest neighbours may not be optimal - I suggest it might be a good idea to use cross-validation to find the best k value. Also don't forgot to change fraction to 1 when you run this script (I have left it as 0.15 to prevent the kernel timing out)\n",
    "- As mentioned above, it would be reasonable to check that properties with missing values being predicted using knn are close to properties with missing values. Ie make sure your not predicting missing values using properties extremely far away in different cities/neighbourhoods etc\n",
    "- The adjustments above also have to be made to the test data, so potentially combined the train and test data and make the same adjustments\n",
    "- Prior to fitting models, categorical variables need to be one-hot encoded (there are some categorical features encoded as numbers and some tree-based methods may by default assume they are ordinal!). Probably a good idea to transform some of the skewed features aswell.\n",
    "\n",
    "Just a thought - I think we need to be very careful how we treat outliers that exist in test set. We are trying to predict errors in Zillows model. Potentially bigger errors are most likely to exist if there are outliers/errors in the data - for example, in the notebook above we spotted 2 claims where the area of the first floor is bigger than the area of the total property - probably a data error and these  two properties have errors which are larger than the average (Zillows model probably found it hard to predict them due to them being outliers/erros in data entry). But we want to be able predict these big errors and correcting these outliers I don't think will help. Likewise properties with missing values may be more difficult to predict by the Zillow model and therefore have big errors  - so filling in the missing values won't neccesarily help (which contradicts the purpose of this notebook! :) )\n",
    "\n",
    "Its probably worthwhile doing doing cross-validation work after making each change to understand if the changes help \n",
    "\n",
    "Interested to hear if any of the adjustments outlined in the notebook helps improve your score, so please comment if they do! \n",
    "\n",
    "Please upvote if you found this notebook useful aswell :)\n"
   ]
  },
  {
   "cell_type": "code",
   "execution_count": 24,
   "metadata": {
    "collapsed": true
   },
   "outputs": [],
   "source": [
    "import pandas as pd"
   ]
  },
  {
   "cell_type": "code",
   "execution_count": 25,
   "metadata": {
    "collapsed": true
   },
   "outputs": [],
   "source": [
    "catcols+=['longitude','latitude','assessmentyear']"
   ]
  },
  {
   "cell_type": "code",
   "execution_count": 26,
   "metadata": {
    "collapsed": true
   },
   "outputs": [],
   "source": [
    "def pd_change_category_by_names(data_frame,names):\n",
    "    for i,col_name in enumerate(data_frame.dtypes.index):\n",
    "        if col_name in names:\n",
    "            data_frame[col_name] = data_frame[col_name].astype('category')\n",
    "            print(col_name+\" is changed to category\")\n",
    "            print(\"---------------------------------\")\n",
    "    print(data_frame.dtypes)"
   ]
  },
  {
   "cell_type": "code",
   "execution_count": 27,
   "metadata": {
    "scrolled": true
   },
   "outputs": [
    {
     "name": "stdout",
     "output_type": "stream",
     "text": [
      "airconditioningtypeid is changed to category\n",
      "---------------------------------\n",
      "buildingqualitytypeid is changed to category\n",
      "---------------------------------\n",
      "fips is changed to category\n",
      "---------------------------------\n",
      "hashottuborspa is changed to category\n",
      "---------------------------------\n",
      "heatingorsystemtypeid is changed to category\n",
      "---------------------------------\n",
      "latitude is changed to category\n",
      "---------------------------------\n",
      "longitude is changed to category\n",
      "---------------------------------\n",
      "pooltypeid2 is changed to category\n",
      "---------------------------------\n",
      "pooltypeid7 is changed to category\n",
      "---------------------------------\n",
      "propertycountylandusecode is changed to category\n",
      "---------------------------------\n",
      "propertylandusetypeid is changed to category\n",
      "---------------------------------\n",
      "propertyzoningdesc is changed to category\n",
      "---------------------------------\n",
      "rawcensustractandblock is changed to category\n",
      "---------------------------------\n",
      "regionidcity is changed to category\n",
      "---------------------------------\n",
      "regionidcounty is changed to category\n",
      "---------------------------------\n",
      "regionidneighborhood is changed to category\n",
      "---------------------------------\n",
      "regionidzip is changed to category\n",
      "---------------------------------\n",
      "yearbuilt is changed to category\n",
      "---------------------------------\n",
      "assessmentyear is changed to category\n",
      "---------------------------------\n",
      "taxdelinquencyflag is changed to category\n",
      "---------------------------------\n",
      "logerror                         float64\n",
      "airconditioningtypeid           category\n",
      "bathroomcnt                      float32\n",
      "bedroomcnt                       float32\n",
      "buildingqualitytypeid           category\n",
      "finishedfloor1squarefeet         float32\n",
      "calculatedfinishedsquarefeet     float32\n",
      "fips                            category\n",
      "fireplacecnt                     float32\n",
      "garagecarcnt                     float32\n",
      "garagetotalsqft                  float32\n",
      "hashottuborspa                  category\n",
      "heatingorsystemtypeid           category\n",
      "latitude                        category\n",
      "longitude                       category\n",
      "lotsizesquarefeet                float32\n",
      "poolcnt                          float32\n",
      "poolsizesum                      float32\n",
      "pooltypeid2                     category\n",
      "pooltypeid7                     category\n",
      "propertycountylandusecode       category\n",
      "propertylandusetypeid           category\n",
      "propertyzoningdesc              category\n",
      "rawcensustractandblock          category\n",
      "regionidcity                    category\n",
      "regionidcounty                  category\n",
      "regionidneighborhood            category\n",
      "regionidzip                     category\n",
      "roomcnt                          float32\n",
      "threequarterbathnbr              float32\n",
      "unitcnt                          float32\n",
      "yardbuildingsqft17               float32\n",
      "yearbuilt                       category\n",
      "numberofstories                  float32\n",
      "fireplaceflag                     object\n",
      "structuretaxvaluedollarcnt       float32\n",
      "taxvaluedollarcnt                float32\n",
      "assessmentyear                  category\n",
      "landtaxvaluedollarcnt            float32\n",
      "taxamount                        float32\n",
      "taxdelinquencyflag              category\n",
      "taxdelinquencyyear               float32\n",
      "censustractandblock              float32\n",
      "dtype: object\n"
     ]
    }
   ],
   "source": [
    "pd_change_category_by_names(df_train,catcols)"
   ]
  },
  {
   "cell_type": "code",
   "execution_count": 28,
   "metadata": {
    "collapsed": true
   },
   "outputs": [],
   "source": [
    "import math"
   ]
  },
  {
   "cell_type": "code",
   "execution_count": 29,
   "metadata": {
    "scrolled": true
   },
   "outputs": [
    {
     "data": {
      "text/html": [
       "<div>\n",
       "<style>\n",
       "    .dataframe thead tr:only-child th {\n",
       "        text-align: right;\n",
       "    }\n",
       "\n",
       "    .dataframe thead th {\n",
       "        text-align: left;\n",
       "    }\n",
       "\n",
       "    .dataframe tbody tr th {\n",
       "        vertical-align: top;\n",
       "    }\n",
       "</style>\n",
       "<table border=\"1\" class=\"dataframe\">\n",
       "  <thead>\n",
       "    <tr style=\"text-align: right;\">\n",
       "      <th></th>\n",
       "      <th>logerror</th>\n",
       "      <th>airconditioningtypeid</th>\n",
       "      <th>bathroomcnt</th>\n",
       "      <th>bedroomcnt</th>\n",
       "      <th>buildingqualitytypeid</th>\n",
       "      <th>finishedfloor1squarefeet</th>\n",
       "      <th>calculatedfinishedsquarefeet</th>\n",
       "      <th>fips</th>\n",
       "      <th>fireplacecnt</th>\n",
       "      <th>garagecarcnt</th>\n",
       "      <th>...</th>\n",
       "      <th>numberofstories</th>\n",
       "      <th>fireplaceflag</th>\n",
       "      <th>structuretaxvaluedollarcnt</th>\n",
       "      <th>taxvaluedollarcnt</th>\n",
       "      <th>assessmentyear</th>\n",
       "      <th>landtaxvaluedollarcnt</th>\n",
       "      <th>taxamount</th>\n",
       "      <th>taxdelinquencyflag</th>\n",
       "      <th>taxdelinquencyyear</th>\n",
       "      <th>censustractandblock</th>\n",
       "    </tr>\n",
       "  </thead>\n",
       "  <tbody>\n",
       "    <tr>\n",
       "      <th>0</th>\n",
       "      <td>0.025595</td>\n",
       "      <td>1.0</td>\n",
       "      <td>3.5</td>\n",
       "      <td>4.0</td>\n",
       "      <td>NaN</td>\n",
       "      <td>NaN</td>\n",
       "      <td>3100.0</td>\n",
       "      <td>6059.0</td>\n",
       "      <td>0.0</td>\n",
       "      <td>2.0</td>\n",
       "      <td>...</td>\n",
       "      <td>NaN</td>\n",
       "      <td>No</td>\n",
       "      <td>485713.0</td>\n",
       "      <td>1023282.0</td>\n",
       "      <td>2016.0</td>\n",
       "      <td>537569.0</td>\n",
       "      <td>11013.719727</td>\n",
       "      <td>None</td>\n",
       "      <td>NaN</td>\n",
       "      <td>6.059063e+13</td>\n",
       "    </tr>\n",
       "    <tr>\n",
       "      <th>1</th>\n",
       "      <td>0.055619</td>\n",
       "      <td>1.0</td>\n",
       "      <td>1.0</td>\n",
       "      <td>2.0</td>\n",
       "      <td>NaN</td>\n",
       "      <td>1465.0</td>\n",
       "      <td>1465.0</td>\n",
       "      <td>6111.0</td>\n",
       "      <td>1.0</td>\n",
       "      <td>1.0</td>\n",
       "      <td>...</td>\n",
       "      <td>1.0</td>\n",
       "      <td>Yes</td>\n",
       "      <td>88000.0</td>\n",
       "      <td>464000.0</td>\n",
       "      <td>2016.0</td>\n",
       "      <td>376000.0</td>\n",
       "      <td>5672.479980</td>\n",
       "      <td>None</td>\n",
       "      <td>NaN</td>\n",
       "      <td>6.111001e+13</td>\n",
       "    </tr>\n",
       "    <tr>\n",
       "      <th>2</th>\n",
       "      <td>0.005383</td>\n",
       "      <td>1.0</td>\n",
       "      <td>2.0</td>\n",
       "      <td>3.0</td>\n",
       "      <td>NaN</td>\n",
       "      <td>1243.0</td>\n",
       "      <td>1243.0</td>\n",
       "      <td>6059.0</td>\n",
       "      <td>0.0</td>\n",
       "      <td>2.0</td>\n",
       "      <td>...</td>\n",
       "      <td>1.0</td>\n",
       "      <td>No</td>\n",
       "      <td>85289.0</td>\n",
       "      <td>564778.0</td>\n",
       "      <td>2016.0</td>\n",
       "      <td>479489.0</td>\n",
       "      <td>6488.299805</td>\n",
       "      <td>None</td>\n",
       "      <td>NaN</td>\n",
       "      <td>6.059022e+13</td>\n",
       "    </tr>\n",
       "    <tr>\n",
       "      <th>3</th>\n",
       "      <td>-0.103410</td>\n",
       "      <td>1.0</td>\n",
       "      <td>3.0</td>\n",
       "      <td>4.0</td>\n",
       "      <td>8.0</td>\n",
       "      <td>NaN</td>\n",
       "      <td>2376.0</td>\n",
       "      <td>6037.0</td>\n",
       "      <td>0.0</td>\n",
       "      <td>0.0</td>\n",
       "      <td>...</td>\n",
       "      <td>NaN</td>\n",
       "      <td>No</td>\n",
       "      <td>108918.0</td>\n",
       "      <td>145143.0</td>\n",
       "      <td>2016.0</td>\n",
       "      <td>36225.0</td>\n",
       "      <td>1777.510010</td>\n",
       "      <td>None</td>\n",
       "      <td>NaN</td>\n",
       "      <td>6.037300e+13</td>\n",
       "    </tr>\n",
       "    <tr>\n",
       "      <th>4</th>\n",
       "      <td>0.006940</td>\n",
       "      <td>1.0</td>\n",
       "      <td>3.0</td>\n",
       "      <td>3.0</td>\n",
       "      <td>8.0</td>\n",
       "      <td>NaN</td>\n",
       "      <td>1312.0</td>\n",
       "      <td>6037.0</td>\n",
       "      <td>0.0</td>\n",
       "      <td>0.0</td>\n",
       "      <td>...</td>\n",
       "      <td>NaN</td>\n",
       "      <td>No</td>\n",
       "      <td>73681.0</td>\n",
       "      <td>119407.0</td>\n",
       "      <td>2016.0</td>\n",
       "      <td>45726.0</td>\n",
       "      <td>1533.890015</td>\n",
       "      <td>None</td>\n",
       "      <td>NaN</td>\n",
       "      <td>6.037123e+13</td>\n",
       "    </tr>\n",
       "  </tbody>\n",
       "</table>\n",
       "<p>5 rows × 43 columns</p>\n",
       "</div>"
      ],
      "text/plain": [
       "   logerror airconditioningtypeid  bathroomcnt  bedroomcnt  \\\n",
       "0  0.025595                   1.0          3.5         4.0   \n",
       "1  0.055619                   1.0          1.0         2.0   \n",
       "2  0.005383                   1.0          2.0         3.0   \n",
       "3 -0.103410                   1.0          3.0         4.0   \n",
       "4  0.006940                   1.0          3.0         3.0   \n",
       "\n",
       "  buildingqualitytypeid  finishedfloor1squarefeet  \\\n",
       "0                   NaN                       NaN   \n",
       "1                   NaN                    1465.0   \n",
       "2                   NaN                    1243.0   \n",
       "3                   8.0                       NaN   \n",
       "4                   8.0                       NaN   \n",
       "\n",
       "   calculatedfinishedsquarefeet    fips  fireplacecnt  garagecarcnt  \\\n",
       "0                        3100.0  6059.0           0.0           2.0   \n",
       "1                        1465.0  6111.0           1.0           1.0   \n",
       "2                        1243.0  6059.0           0.0           2.0   \n",
       "3                        2376.0  6037.0           0.0           0.0   \n",
       "4                        1312.0  6037.0           0.0           0.0   \n",
       "\n",
       "          ...          numberofstories fireplaceflag  \\\n",
       "0         ...                      NaN            No   \n",
       "1         ...                      1.0           Yes   \n",
       "2         ...                      1.0            No   \n",
       "3         ...                      NaN            No   \n",
       "4         ...                      NaN            No   \n",
       "\n",
       "  structuretaxvaluedollarcnt taxvaluedollarcnt assessmentyear  \\\n",
       "0                   485713.0         1023282.0         2016.0   \n",
       "1                    88000.0          464000.0         2016.0   \n",
       "2                    85289.0          564778.0         2016.0   \n",
       "3                   108918.0          145143.0         2016.0   \n",
       "4                    73681.0          119407.0         2016.0   \n",
       "\n",
       "   landtaxvaluedollarcnt     taxamount  taxdelinquencyflag taxdelinquencyyear  \\\n",
       "0               537569.0  11013.719727                None                NaN   \n",
       "1               376000.0   5672.479980                None                NaN   \n",
       "2               479489.0   6488.299805                None                NaN   \n",
       "3                36225.0   1777.510010                None                NaN   \n",
       "4                45726.0   1533.890015                None                NaN   \n",
       "\n",
       "  censustractandblock  \n",
       "0        6.059063e+13  \n",
       "1        6.111001e+13  \n",
       "2        6.059022e+13  \n",
       "3        6.037300e+13  \n",
       "4        6.037123e+13  \n",
       "\n",
       "[5 rows x 43 columns]"
      ]
     },
     "execution_count": 29,
     "metadata": {},
     "output_type": "execute_result"
    }
   ],
   "source": [
    "df_train.head()"
   ]
  },
  {
   "cell_type": "code",
   "execution_count": 30,
   "metadata": {
    "scrolled": false
   },
   "outputs": [
    {
     "name": "stdout",
     "output_type": "stream",
     "text": [
      "2:bathroomcnt\n",
      "3:bedroomcnt\n",
      "5:finishedfloor1squarefeet\n",
      "8:fireplacecnt\n",
      "9:garagecarcnt\n",
      "10:garagetotalsqft\n",
      "15:lotsizesquarefeet\n",
      "16:poolcnt\n",
      "17:poolsizesum\n",
      "28:roomcnt\n",
      "29:threequarterbathnbr\n",
      "30:unitcnt\n",
      "31:yardbuildingsqft17\n",
      "33:numberofstories\n",
      "35:structuretaxvaluedollarcnt\n",
      "36:taxvaluedollarcnt\n",
      "38:landtaxvaluedollarcnt\n",
      "39:taxamount\n",
      "41:taxdelinquencyyear\n",
      "42:censustractandblock\n"
     ]
    }
   ],
   "source": [
    "category=[]\n",
    "for i,value in enumerate(df_train.dtypes.index):\n",
    "    if df_train.dtypes.get(list(df_train.dtypes.index)[i])=='float32':\n",
    "        if list(df_train.dtypes.index)[i]=='calculatedfinishedsquarefeet':\n",
    "            continue\n",
    "        else:\n",
    "            print(str(i)+\":\"+value)\n",
    "            df_train=eval(\"df_train.assign(new{}=lambda x: x.{} /x.calculatedfinishedsquarefeet)\".format(value,value))\n",
    "    else:\n",
    "        category.append(i)"
   ]
  },
  {
   "cell_type": "code",
   "execution_count": 31,
   "metadata": {
    "collapsed": true
   },
   "outputs": [],
   "source": [
    "names=list(df_train.columns)"
   ]
  },
  {
   "cell_type": "code",
   "execution_count": 32,
   "metadata": {},
   "outputs": [
    {
     "data": {
      "text/plain": [
       "28"
      ]
     },
     "execution_count": 32,
     "metadata": {},
     "output_type": "execute_result"
    }
   ],
   "source": [
    "names.index('roomcnt')"
   ]
  },
  {
   "cell_type": "code",
   "execution_count": 33,
   "metadata": {
    "collapsed": true
   },
   "outputs": [],
   "source": [
    "#roomcnt = 28\n",
    "reference=[28]"
   ]
  },
  {
   "cell_type": "code",
   "execution_count": 34,
   "metadata": {},
   "outputs": [
    {
     "name": "stderr",
     "output_type": "stream",
     "text": [
      "/home/ghk829/miniconda2/lib/python2.7/site-packages/ipykernel_launcher.py:1: DeprecationWarning: \n",
      ".ix is deprecated. Please use\n",
      ".loc for label based indexing or\n",
      ".iloc for positional indexing\n",
      "\n",
      "See the documentation here:\n",
      "http://pandas.pydata.org/pandas-docs/stable/indexing.html#ix-indexer-is-deprecated\n",
      "  \"\"\"Entry point for launching an IPython kernel.\n"
     ]
    }
   ],
   "source": [
    "new=df_train.ix[:,reference+category+list(range(42,59))]"
   ]
  },
  {
   "cell_type": "code",
   "execution_count": 35,
   "metadata": {
    "collapsed": true
   },
   "outputs": [],
   "source": [
    "new=new.assign(roomyn=lambda x: x.roomcnt>0)"
   ]
  },
  {
   "cell_type": "code",
   "execution_count": 36,
   "metadata": {
    "collapsed": true
   },
   "outputs": [],
   "source": [
    "#Creating Dummy\n",
    "def f(df):\n",
    "    if df['roomcnt'] == 0:\n",
    "        val = 0\n",
    "    else:\n",
    "        val = 1\n",
    "    return val\n",
    "new['room_yn'] = new.apply(f,axis=1)"
   ]
  },
  {
   "cell_type": "code",
   "execution_count": 37,
   "metadata": {
    "collapsed": true
   },
   "outputs": [],
   "source": [
    "import h2o\n",
    "import matplotlib.pyplot as plt"
   ]
  },
  {
   "cell_type": "code",
   "execution_count": 38,
   "metadata": {},
   "outputs": [
    {
     "name": "stdout",
     "output_type": "stream",
     "text": [
      "Checking whether there is an H2O instance running at http://localhost:54321. connected.\n",
      "Warning: Your H2O cluster version is too old (4 months and 17 days)! Please download and install the latest version from http://h2o.ai/download/\n"
     ]
    },
    {
     "data": {
      "text/html": [
       "<div style=\"overflow:auto\"><table style=\"width:50%\"><tr><td>H2O cluster uptime:</td>\n",
       "<td>5 days 1 hour 39 mins</td></tr>\n",
       "<tr><td>H2O cluster version:</td>\n",
       "<td>3.10.4.8</td></tr>\n",
       "<tr><td>H2O cluster version age:</td>\n",
       "<td>4 months and 17 days !!!</td></tr>\n",
       "<tr><td>H2O cluster name:</td>\n",
       "<td>H2O_from_python_ghk829_qcer8n</td></tr>\n",
       "<tr><td>H2O cluster total nodes:</td>\n",
       "<td>1</td></tr>\n",
       "<tr><td>H2O cluster free memory:</td>\n",
       "<td>6.892 Gb</td></tr>\n",
       "<tr><td>H2O cluster total cores:</td>\n",
       "<td>4</td></tr>\n",
       "<tr><td>H2O cluster allowed cores:</td>\n",
       "<td>4</td></tr>\n",
       "<tr><td>H2O cluster status:</td>\n",
       "<td>locked, healthy</td></tr>\n",
       "<tr><td>H2O connection url:</td>\n",
       "<td>http://localhost:54321</td></tr>\n",
       "<tr><td>H2O connection proxy:</td>\n",
       "<td>None</td></tr>\n",
       "<tr><td>H2O internal security:</td>\n",
       "<td>False</td></tr>\n",
       "<tr><td>Python version:</td>\n",
       "<td>2.7.13 final</td></tr></table></div>"
      ],
      "text/plain": [
       "--------------------------  -----------------------------\n",
       "H2O cluster uptime:         5 days 1 hour 39 mins\n",
       "H2O cluster version:        3.10.4.8\n",
       "H2O cluster version age:    4 months and 17 days !!!\n",
       "H2O cluster name:           H2O_from_python_ghk829_qcer8n\n",
       "H2O cluster total nodes:    1\n",
       "H2O cluster free memory:    6.892 Gb\n",
       "H2O cluster total cores:    4\n",
       "H2O cluster allowed cores:  4\n",
       "H2O cluster status:         locked, healthy\n",
       "H2O connection url:         http://localhost:54321\n",
       "H2O connection proxy:\n",
       "H2O internal security:      False\n",
       "Python version:             2.7.13 final\n",
       "--------------------------  -----------------------------"
      ]
     },
     "metadata": {},
     "output_type": "display_data"
    }
   ],
   "source": [
    "h2o.init(nthreads = -1, max_mem_size = 8)"
   ]
  },
  {
   "cell_type": "code",
   "execution_count": 39,
   "metadata": {},
   "outputs": [
    {
     "name": "stdout",
     "output_type": "stream",
     "text": [
      "Parse progress: |█████████████████████████████████████████████████████████| 100%\n"
     ]
    }
   ],
   "source": [
    "df=h2o.H2OFrame(python_obj=new.to_dict(\"list\"))"
   ]
  },
  {
   "cell_type": "code",
   "execution_count": 43,
   "metadata": {
    "collapsed": true
   },
   "outputs": [],
   "source": [
    "splits = df.split_frame(ratios=[0.7, 0.15])"
   ]
  },
  {
   "cell_type": "code",
   "execution_count": 44,
   "metadata": {
    "collapsed": true
   },
   "outputs": [],
   "source": [
    "train = splits[0]\n",
    "valid = splits[1]"
   ]
  },
  {
   "cell_type": "code",
   "execution_count": 45,
   "metadata": {
    "collapsed": true
   },
   "outputs": [],
   "source": [
    "y_names= df.col_names[0]\n",
    "x_names = df.col_names[1:len(df.col_names)-1]"
   ]
  },
  {
   "cell_type": "code",
   "execution_count": 46,
   "metadata": {},
   "outputs": [
    {
     "data": {
      "text/plain": [
       "[u'regionidcity',\n",
       " u'regionidzip',\n",
       " u'newfinishedfloor1squarefeet',\n",
       " u'yearbuilt',\n",
       " u'newpoolsizesum',\n",
       " u'fireplaceflag',\n",
       " u'regionidcounty',\n",
       " u'taxdelinquencyflag',\n",
       " u'propertyzoningdesc',\n",
       " u'roomyn',\n",
       " u'newfireplacecnt',\n",
       " u'newnumberofstories',\n",
       " u'censustractandblock',\n",
       " u'newthreequarterbathnbr',\n",
       " u'latitude',\n",
       " u'roomcnt',\n",
       " u'newbedroomcnt',\n",
       " u'newtaxvaluedollarcnt',\n",
       " u'newgaragetotalsqft',\n",
       " u'hashottuborspa',\n",
       " u'newunitcnt',\n",
       " u'newstructuretaxvaluedollarcnt',\n",
       " u'buildingqualitytypeid',\n",
       " u'newroomcnt',\n",
       " u'assessmentyear',\n",
       " u'room_yn',\n",
       " u'propertylandusetypeid',\n",
       " u'propertycountylandusecode',\n",
       " u'regionidneighborhood',\n",
       " u'fips',\n",
       " u'heatingorsystemtypeid',\n",
       " u'newyardbuildingsqft17',\n",
       " u'airconditioningtypeid',\n",
       " u'newlotsizesquarefeet',\n",
       " u'rawcensustractandblock',\n",
       " u'pooltypeid2',\n",
       " u'longitude',\n",
       " u'pooltypeid7',\n",
       " u'newbathroomcnt',\n",
       " u'newgaragecarcnt']"
      ]
     },
     "execution_count": 46,
     "metadata": {},
     "output_type": "execute_result"
    }
   ],
   "source": [
    "x_names"
   ]
  },
  {
   "cell_type": "code",
   "execution_count": 47,
   "metadata": {
    "collapsed": true
   },
   "outputs": [],
   "source": [
    "from h2o.estimators.random_forest import H2ORandomForestEstimator"
   ]
  },
  {
   "cell_type": "code",
   "execution_count": 48,
   "metadata": {
    "collapsed": true
   },
   "outputs": [],
   "source": [
    "fit1 = H2ORandomForestEstimator(model_id = 'fit1')"
   ]
  },
  {
   "cell_type": "code",
   "execution_count": 49,
   "metadata": {
    "scrolled": true
   },
   "outputs": [
    {
     "name": "stdout",
     "output_type": "stream",
     "text": [
      "drf Model Build progress: |███████████████████████████████████████████████| 100%\n"
     ]
    }
   ],
   "source": [
    "fit1.train(x=x_names, y=y_names, training_frame=train,validation_frame=valid)"
   ]
  },
  {
   "cell_type": "code",
   "execution_count": 50,
   "metadata": {},
   "outputs": [
    {
     "name": "stdout",
     "output_type": "stream",
     "text": [
      "Model Details\n",
      "=============\n",
      "H2ORandomForestEstimator :  Distributed Random Forest\n",
      "Model Key:  fit1\n",
      "\n",
      "\n",
      "ModelMetricsRegression: drf\n",
      "** Reported on train data. **\n",
      "\n",
      "MSE: 0.0301576738909\n",
      "RMSE: 0.173659649576\n",
      "MAE: 0.0760479271844\n",
      "RMSLE: NaN\n",
      "Mean Residual Deviance: 0.0301576738909\n",
      "\n",
      "ModelMetricsRegression: drf\n",
      "** Reported on validation data. **\n",
      "\n",
      "MSE: 0.0320787785036\n",
      "RMSE: 0.179105495459\n",
      "MAE: 0.0741592305563\n",
      "RMSLE: NaN\n",
      "Mean Residual Deviance: 0.0320787785036\n",
      "Scoring History: \n"
     ]
    },
    {
     "data": {
      "text/html": [
       "<div style=\"overflow:auto\"><table style=\"width:50%\"><tr><td><b></b></td>\n",
       "<td><b>timestamp</b></td>\n",
       "<td><b>duration</b></td>\n",
       "<td><b>number_of_trees</b></td>\n",
       "<td><b>training_rmse</b></td>\n",
       "<td><b>training_mae</b></td>\n",
       "<td><b>training_deviance</b></td>\n",
       "<td><b>validation_rmse</b></td>\n",
       "<td><b>validation_mae</b></td>\n",
       "<td><b>validation_deviance</b></td></tr>\n",
       "<tr><td></td>\n",
       "<td>2017-10-09 05:29:24</td>\n",
       "<td> 0.006 sec</td>\n",
       "<td>0.0</td>\n",
       "<td>nan</td>\n",
       "<td>nan</td>\n",
       "<td>nan</td>\n",
       "<td>nan</td>\n",
       "<td>nan</td>\n",
       "<td>nan</td></tr>\n",
       "<tr><td></td>\n",
       "<td>2017-10-09 05:29:25</td>\n",
       "<td> 0.731 sec</td>\n",
       "<td>1.0</td>\n",
       "<td>0.2120997</td>\n",
       "<td>0.0860677</td>\n",
       "<td>0.0449863</td>\n",
       "<td>0.2125667</td>\n",
       "<td>0.0851678</td>\n",
       "<td>0.0451846</td></tr>\n",
       "<tr><td></td>\n",
       "<td>2017-10-09 05:29:26</td>\n",
       "<td> 1.273 sec</td>\n",
       "<td>2.0</td>\n",
       "<td>0.2118683</td>\n",
       "<td>0.0866891</td>\n",
       "<td>0.0448882</td>\n",
       "<td>0.1987806</td>\n",
       "<td>0.0834583</td>\n",
       "<td>0.0395137</td></tr>\n",
       "<tr><td></td>\n",
       "<td>2017-10-09 05:29:26</td>\n",
       "<td> 1.813 sec</td>\n",
       "<td>3.0</td>\n",
       "<td>0.2059039</td>\n",
       "<td>0.0857646</td>\n",
       "<td>0.0423964</td>\n",
       "<td>0.1920421</td>\n",
       "<td>0.0814788</td>\n",
       "<td>0.0368802</td></tr>\n",
       "<tr><td></td>\n",
       "<td>2017-10-09 05:29:27</td>\n",
       "<td> 2.203 sec</td>\n",
       "<td>4.0</td>\n",
       "<td>0.2000282</td>\n",
       "<td>0.0842731</td>\n",
       "<td>0.0400113</td>\n",
       "<td>0.1878563</td>\n",
       "<td>0.0796264</td>\n",
       "<td>0.0352900</td></tr>\n",
       "<tr><td></td>\n",
       "<td>2017-10-09 05:29:27</td>\n",
       "<td> 2.836 sec</td>\n",
       "<td>5.0</td>\n",
       "<td>0.1968371</td>\n",
       "<td>0.0836821</td>\n",
       "<td>0.0387449</td>\n",
       "<td>0.1860638</td>\n",
       "<td>0.0789623</td>\n",
       "<td>0.0346197</td></tr>\n",
       "<tr><td></td>\n",
       "<td>2017-10-09 05:29:28</td>\n",
       "<td> 3.320 sec</td>\n",
       "<td>6.0</td>\n",
       "<td>0.1937308</td>\n",
       "<td>0.0831243</td>\n",
       "<td>0.0375316</td>\n",
       "<td>0.1845870</td>\n",
       "<td>0.0780481</td>\n",
       "<td>0.0340724</td></tr>\n",
       "<tr><td></td>\n",
       "<td>2017-10-09 05:29:28</td>\n",
       "<td> 3.709 sec</td>\n",
       "<td>7.0</td>\n",
       "<td>0.1923659</td>\n",
       "<td>0.0827370</td>\n",
       "<td>0.0370046</td>\n",
       "<td>0.1846109</td>\n",
       "<td>0.0779602</td>\n",
       "<td>0.0340812</td></tr>\n",
       "<tr><td></td>\n",
       "<td>2017-10-09 05:29:32</td>\n",
       "<td> 7.759 sec</td>\n",
       "<td>17.0</td>\n",
       "<td>0.1799833</td>\n",
       "<td>0.0794669</td>\n",
       "<td>0.0323940</td>\n",
       "<td>0.1802252</td>\n",
       "<td>0.0754518</td>\n",
       "<td>0.0324811</td></tr>\n",
       "<tr><td></td>\n",
       "<td>2017-10-09 05:29:36</td>\n",
       "<td>11.816 sec</td>\n",
       "<td>26.0</td>\n",
       "<td>0.1762760</td>\n",
       "<td>0.0778107</td>\n",
       "<td>0.0310732</td>\n",
       "<td>0.1797316</td>\n",
       "<td>0.0748578</td>\n",
       "<td>0.0323034</td></tr>\n",
       "<tr><td></td>\n",
       "<td>2017-10-09 05:29:40</td>\n",
       "<td>16.073 sec</td>\n",
       "<td>35.0</td>\n",
       "<td>0.1746108</td>\n",
       "<td>0.0769328</td>\n",
       "<td>0.0304889</td>\n",
       "<td>0.1791692</td>\n",
       "<td>0.0744207</td>\n",
       "<td>0.0321016</td></tr>\n",
       "<tr><td></td>\n",
       "<td>2017-10-09 05:29:45</td>\n",
       "<td>20.362 sec</td>\n",
       "<td>45.0</td>\n",
       "<td>0.1738160</td>\n",
       "<td>0.0762346</td>\n",
       "<td>0.0302120</td>\n",
       "<td>0.1789879</td>\n",
       "<td>0.0741279</td>\n",
       "<td>0.0320367</td></tr>\n",
       "<tr><td></td>\n",
       "<td>2017-10-09 05:29:47</td>\n",
       "<td>22.644 sec</td>\n",
       "<td>50.0</td>\n",
       "<td>0.1736596</td>\n",
       "<td>0.0760479</td>\n",
       "<td>0.0301577</td>\n",
       "<td>0.1791055</td>\n",
       "<td>0.0741592</td>\n",
       "<td>0.0320788</td></tr></table></div>"
      ],
      "text/plain": [
       "    timestamp            duration    number_of_trees    training_rmse    training_mae    training_deviance    validation_rmse    validation_mae    validation_deviance\n",
       "--  -------------------  ----------  -----------------  ---------------  --------------  -------------------  -----------------  ----------------  ---------------------\n",
       "    2017-10-09 05:29:24  0.006 sec   0                  nan              nan             nan                  nan                nan               nan\n",
       "    2017-10-09 05:29:25  0.731 sec   1                  0.2121           0.0860677       0.0449863            0.212567           0.0851678         0.0451846\n",
       "    2017-10-09 05:29:26  1.273 sec   2                  0.211868         0.0866891       0.0448882            0.198781           0.0834583         0.0395137\n",
       "    2017-10-09 05:29:26  1.813 sec   3                  0.205904         0.0857646       0.0423964            0.192042           0.0814788         0.0368802\n",
       "    2017-10-09 05:29:27  2.203 sec   4                  0.200028         0.0842731       0.0400113            0.187856           0.0796264         0.03529\n",
       "    2017-10-09 05:29:27  2.836 sec   5                  0.196837         0.0836821       0.0387449            0.186064           0.0789623         0.0346197\n",
       "    2017-10-09 05:29:28  3.320 sec   6                  0.193731         0.0831243       0.0375316            0.184587           0.0780481         0.0340724\n",
       "    2017-10-09 05:29:28  3.709 sec   7                  0.192366         0.082737        0.0370046            0.184611           0.0779602         0.0340812\n",
       "    2017-10-09 05:29:32  7.759 sec   17                 0.179983         0.0794669       0.032394             0.180225           0.0754518         0.0324811\n",
       "    2017-10-09 05:29:36  11.816 sec  26                 0.176276         0.0778107       0.0310732            0.179732           0.0748578         0.0323034\n",
       "    2017-10-09 05:29:40  16.073 sec  35                 0.174611         0.0769328       0.0304889            0.179169           0.0744207         0.0321016\n",
       "    2017-10-09 05:29:45  20.362 sec  45                 0.173816         0.0762346       0.030212             0.178988           0.0741279         0.0320367\n",
       "    2017-10-09 05:29:47  22.644 sec  50                 0.17366          0.0760479       0.0301577            0.179105           0.0741592         0.0320788"
      ]
     },
     "metadata": {},
     "output_type": "display_data"
    },
    {
     "name": "stdout",
     "output_type": "stream",
     "text": [
      "Variable Importances: \n"
     ]
    },
    {
     "data": {
      "text/html": [
       "<div style=\"overflow:auto\"><table style=\"width:50%\"><tr><td><b>variable</b></td>\n",
       "<td><b>relative_importance</b></td>\n",
       "<td><b>scaled_importance</b></td>\n",
       "<td><b>percentage</b></td></tr>\n",
       "<tr><td>regionidneighborhood</td>\n",
       "<td>3074.9167481</td>\n",
       "<td>1.0</td>\n",
       "<td>0.1139330</td></tr>\n",
       "<tr><td>newtaxvaluedollarcnt</td>\n",
       "<td>2108.4130859</td>\n",
       "<td>0.6856814</td>\n",
       "<td>0.0781217</td></tr>\n",
       "<tr><td>newstructuretaxvaluedollarcnt</td>\n",
       "<td>1803.2237549</td>\n",
       "<td>0.5864301</td>\n",
       "<td>0.0668138</td></tr>\n",
       "<tr><td>yearbuilt</td>\n",
       "<td>1754.3446045</td>\n",
       "<td>0.5705340</td>\n",
       "<td>0.0650027</td></tr>\n",
       "<tr><td>newbathroomcnt</td>\n",
       "<td>1650.7015381</td>\n",
       "<td>0.5368280</td>\n",
       "<td>0.0611624</td></tr>\n",
       "<tr><td>---</td>\n",
       "<td>---</td>\n",
       "<td>---</td>\n",
       "<td>---</td></tr>\n",
       "<tr><td>airconditioningtypeid</td>\n",
       "<td>38.3926277</td>\n",
       "<td>0.0124857</td>\n",
       "<td>0.0014225</td></tr>\n",
       "<tr><td>regionidcounty</td>\n",
       "<td>35.0831528</td>\n",
       "<td>0.0114095</td>\n",
       "<td>0.0012999</td></tr>\n",
       "<tr><td>pooltypeid2</td>\n",
       "<td>33.5742073</td>\n",
       "<td>0.0109187</td>\n",
       "<td>0.0012440</td></tr>\n",
       "<tr><td>roomyn</td>\n",
       "<td>33.5106354</td>\n",
       "<td>0.0108981</td>\n",
       "<td>0.0012416</td></tr>\n",
       "<tr><td>fips</td>\n",
       "<td>31.8199196</td>\n",
       "<td>0.0103482</td>\n",
       "<td>0.0011790</td></tr></table></div>"
      ],
      "text/plain": [
       "variable                       relative_importance    scaled_importance    percentage\n",
       "-----------------------------  ---------------------  -------------------  ----------------\n",
       "regionidneighborhood           3074.91674805          1.0                  0.113933023082\n",
       "newtaxvaluedollarcnt           2108.41308594          0.685681356179       0.0781217497804\n",
       "newstructuretaxvaluedollarcnt  1803.22375488          0.586430106125       0.0668137548171\n",
       "yearbuilt                      1754.34460449          0.570534017094       0.0650026653386\n",
       "newbathroomcnt                 1650.70153809          0.536828042299       0.0611624417343\n",
       "---                            ---                    ---                  ---\n",
       "airconditioningtypeid          38.3926277161          0.012485745424       0.00142253872159\n",
       "regionidcounty                 35.083152771           0.0114094642703      0.00129991475606\n",
       "pooltypeid2                    33.5742073059          0.0109187370121      0.00124400471602\n",
       "roomyn                         33.510635376           0.010898062654       0.0012416492239\n",
       "fips                           31.8199195862          0.0103482214946      0.0011790041584"
      ]
     },
     "metadata": {},
     "output_type": "display_data"
    },
    {
     "name": "stdout",
     "output_type": "stream",
     "text": [
      "\n",
      "See the whole table with table.as_data_frame()\n"
     ]
    },
    {
     "data": {
      "text/plain": [
       "<bound method H2ORandomForestEstimator.cross_validation_metrics_summary of >"
      ]
     },
     "execution_count": 50,
     "metadata": {},
     "output_type": "execute_result"
    }
   ],
   "source": [
    "fit1.cross_validation_metrics_summary"
   ]
  },
  {
   "cell_type": "code",
   "execution_count": 51,
   "metadata": {},
   "outputs": [
    {
     "data": {
      "image/png": "[encoded data removed]",
      "text/plain": [
       "<matplotlib.figure.Figure at 0x7f9dc4a1a550>"
      ]
     },
     "metadata": {},
     "output_type": "display_data"
    }
   ],
   "source": [
    "fit1.varimp_plot()"
   ]
  },
  {
   "cell_type": "code",
   "execution_count": 52,
   "metadata": {
    "collapsed": true
   },
   "outputs": [],
   "source": []
  },
  {
   "cell_type": "code",
   "execution_count": 53,
   "metadata": {
    "collapsed": true
   },
   "outputs": [],
   "source": [
    "var=fit1.varimp()\n",
    "x_names=[]\n",
    "for i,value in enumerate(var):\n",
    "    if var[i][2] > 0.5:\n",
    "        x_names.append(var[i][0])"
   ]
  },
  {
   "cell_type": "code",
   "execution_count": 54,
   "metadata": {},
   "outputs": [
    {
     "data": {
      "text/plain": [
       "[u'regionidneighborhood',\n",
       " u'newtaxvaluedollarcnt',\n",
       " u'newstructuretaxvaluedollarcnt',\n",
       " u'yearbuilt',\n",
       " u'newbathroomcnt',\n",
       " u'newthreequarterbathnbr']"
      ]
     },
     "execution_count": 54,
     "metadata": {},
     "output_type": "execute_result"
    }
   ],
   "source": [
    "x_names"
   ]
  },
  {
   "cell_type": "code",
   "execution_count": 55,
   "metadata": {},
   "outputs": [
    {
     "name": "stdout",
     "output_type": "stream",
     "text": [
      "drf Model Build progress: |███████████████████████████████████████████████| 100%\n"
     ]
    }
   ],
   "source": [
    "fit1.train(x=x_names, y=y_names, training_frame=train,validation_frame=valid)"
   ]
  },
  {
   "cell_type": "code",
   "execution_count": 56,
   "metadata": {
    "scrolled": true
   },
   "outputs": [
    {
     "name": "stdout",
     "output_type": "stream",
     "text": [
      "Model Details\n",
      "=============\n",
      "H2ORandomForestEstimator :  Distributed Random Forest\n",
      "Model Key:  fit1\n",
      "\n",
      "\n",
      "ModelMetricsRegression: drf\n",
      "** Reported on train data. **\n",
      "\n",
      "MSE: 0.0300726787505\n",
      "RMSE: 0.173414759321\n",
      "MAE: 0.0762196533395\n",
      "RMSLE: NaN\n",
      "Mean Residual Deviance: 0.0300726787505\n",
      "\n",
      "ModelMetricsRegression: drf\n",
      "** Reported on validation data. **\n",
      "\n",
      "MSE: 0.0320799677044\n",
      "RMSE: 0.179108815262\n",
      "MAE: 0.0741262262123\n",
      "RMSLE: NaN\n",
      "Mean Residual Deviance: 0.0320799677044\n",
      "Scoring History: \n"
     ]
    },
    {
     "data": {
      "text/html": [
       "<div style=\"overflow:auto\"><table style=\"width:50%\"><tr><td><b></b></td>\n",
       "<td><b>timestamp</b></td>\n",
       "<td><b>duration</b></td>\n",
       "<td><b>number_of_trees</b></td>\n",
       "<td><b>training_rmse</b></td>\n",
       "<td><b>training_mae</b></td>\n",
       "<td><b>training_deviance</b></td>\n",
       "<td><b>validation_rmse</b></td>\n",
       "<td><b>validation_mae</b></td>\n",
       "<td><b>validation_deviance</b></td></tr>\n",
       "<tr><td></td>\n",
       "<td>2017-10-09 05:29:49</td>\n",
       "<td> 0.002 sec</td>\n",
       "<td>0.0</td>\n",
       "<td>nan</td>\n",
       "<td>nan</td>\n",
       "<td>nan</td>\n",
       "<td>nan</td>\n",
       "<td>nan</td>\n",
       "<td>nan</td></tr>\n",
       "<tr><td></td>\n",
       "<td>2017-10-09 05:29:49</td>\n",
       "<td> 0.217 sec</td>\n",
       "<td>1.0</td>\n",
       "<td>0.2100317</td>\n",
       "<td>0.0920924</td>\n",
       "<td>0.0441133</td>\n",
       "<td>0.2185837</td>\n",
       "<td>0.0910897</td>\n",
       "<td>0.0477788</td></tr>\n",
       "<tr><td></td>\n",
       "<td>2017-10-09 05:29:49</td>\n",
       "<td> 0.346 sec</td>\n",
       "<td>2.0</td>\n",
       "<td>0.2033069</td>\n",
       "<td>0.0882813</td>\n",
       "<td>0.0413337</td>\n",
       "<td>0.2019834</td>\n",
       "<td>0.0850849</td>\n",
       "<td>0.0407973</td></tr>\n",
       "<tr><td></td>\n",
       "<td>2017-10-09 05:29:49</td>\n",
       "<td> 0.482 sec</td>\n",
       "<td>3.0</td>\n",
       "<td>0.2005186</td>\n",
       "<td>0.0868923</td>\n",
       "<td>0.0402077</td>\n",
       "<td>0.1912449</td>\n",
       "<td>0.0814245</td>\n",
       "<td>0.0365746</td></tr>\n",
       "<tr><td></td>\n",
       "<td>2017-10-09 05:29:49</td>\n",
       "<td> 0.644 sec</td>\n",
       "<td>4.0</td>\n",
       "<td>0.1996196</td>\n",
       "<td>0.0865729</td>\n",
       "<td>0.0398480</td>\n",
       "<td>0.1878783</td>\n",
       "<td>0.0805704</td>\n",
       "<td>0.0352982</td></tr>\n",
       "<tr><td>---</td>\n",
       "<td>---</td>\n",
       "<td>---</td>\n",
       "<td>---</td>\n",
       "<td>---</td>\n",
       "<td>---</td>\n",
       "<td>---</td>\n",
       "<td>---</td>\n",
       "<td>---</td>\n",
       "<td>---</td></tr>\n",
       "<tr><td></td>\n",
       "<td>2017-10-09 05:29:52</td>\n",
       "<td> 3.289 sec</td>\n",
       "<td>17.0</td>\n",
       "<td>0.1784259</td>\n",
       "<td>0.0794475</td>\n",
       "<td>0.0318358</td>\n",
       "<td>0.1809506</td>\n",
       "<td>0.0758127</td>\n",
       "<td>0.0327431</td></tr>\n",
       "<tr><td></td>\n",
       "<td>2017-10-09 05:29:52</td>\n",
       "<td> 3.526 sec</td>\n",
       "<td>18.0</td>\n",
       "<td>0.1780552</td>\n",
       "<td>0.0792145</td>\n",
       "<td>0.0317037</td>\n",
       "<td>0.1807609</td>\n",
       "<td>0.0756566</td>\n",
       "<td>0.0326745</td></tr>\n",
       "<tr><td></td>\n",
       "<td>2017-10-09 05:29:52</td>\n",
       "<td> 3.775 sec</td>\n",
       "<td>19.0</td>\n",
       "<td>0.1775994</td>\n",
       "<td>0.0789665</td>\n",
       "<td>0.0315416</td>\n",
       "<td>0.1806884</td>\n",
       "<td>0.0755424</td>\n",
       "<td>0.0326483</td></tr>\n",
       "<tr><td></td>\n",
       "<td>2017-10-09 05:29:56</td>\n",
       "<td> 7.807 sec</td>\n",
       "<td>48.0</td>\n",
       "<td>0.1735608</td>\n",
       "<td>0.0763625</td>\n",
       "<td>0.0301234</td>\n",
       "<td>0.1791045</td>\n",
       "<td>0.0741774</td>\n",
       "<td>0.0320784</td></tr>\n",
       "<tr><td></td>\n",
       "<td>2017-10-09 05:29:57</td>\n",
       "<td> 8.314 sec</td>\n",
       "<td>50.0</td>\n",
       "<td>0.1734148</td>\n",
       "<td>0.0762197</td>\n",
       "<td>0.0300727</td>\n",
       "<td>0.1791088</td>\n",
       "<td>0.0741262</td>\n",
       "<td>0.0320800</td></tr></table></div>"
      ],
      "text/plain": [
       "     timestamp            duration    number_of_trees    training_rmse    training_mae     training_deviance    validation_rmse    validation_mae    validation_deviance\n",
       "---  -------------------  ----------  -----------------  ---------------  ---------------  -------------------  -----------------  ----------------  ---------------------\n",
       "     2017-10-09 05:29:49  0.002 sec   0.0                nan              nan              nan                  nan                nan               nan\n",
       "     2017-10-09 05:29:49  0.217 sec   1.0                0.210031722922   0.0920923933575  0.0441133246334      0.218583691937     0.0910897316433   0.0477788303807\n",
       "     2017-10-09 05:29:49  0.346 sec   2.0                0.203306893968   0.0882813387895  0.0413336931347      0.20198338106      0.0850848886916   0.0407972862243\n",
       "     2017-10-09 05:29:49  0.482 sec   3.0                0.200518557956   0.086892325002   0.0402076920848      0.191244868554     0.0814244646253   0.0365745997481\n",
       "     2017-10-09 05:29:49  0.644 sec   4.0                0.1996196424     0.0865729379247  0.0398480016317      0.187878283451     0.0805703557551   0.0352982493926\n",
       "---  ---                  ---         ---                ---              ---              ---                  ---                ---               ---\n",
       "     2017-10-09 05:29:52  3.289 sec   17.0               0.178425924225   0.0794475147771  0.0318358104355      0.180950607071     0.0758127009928   0.0327431221994\n",
       "     2017-10-09 05:29:52  3.526 sec   18.0               0.178055202452   0.079214518963   0.0317036551204      0.180760879124     0.0756565583038   0.0326744954217\n",
       "     2017-10-09 05:29:52  3.775 sec   19.0               0.177599431348   0.0789665147705  0.0315415580151      0.180688374327     0.0755424127937   0.032648288617\n",
       "     2017-10-09 05:29:56  7.807 sec   48.0               0.173560830619   0.0763625454521  0.0301233619251      0.179104464422     0.0741773738607   0.0320784091759\n",
       "     2017-10-09 05:29:57  8.314 sec   50.0               0.173414759321   0.0762196533395  0.0300726787505      0.179108815262     0.0741262262123   0.0320799677044"
      ]
     },
     "metadata": {},
     "output_type": "display_data"
    },
    {
     "name": "stdout",
     "output_type": "stream",
     "text": [
      "\n",
      "See the whole table with table.as_data_frame()\n",
      "Variable Importances: \n"
     ]
    },
    {
     "data": {
      "text/html": [
       "<div style=\"overflow:auto\"><table style=\"width:50%\"><tr><td><b>variable</b></td>\n",
       "<td><b>relative_importance</b></td>\n",
       "<td><b>scaled_importance</b></td>\n",
       "<td><b>percentage</b></td></tr>\n",
       "<tr><td>regionidneighborhood</td>\n",
       "<td>5098.1835938</td>\n",
       "<td>1.0</td>\n",
       "<td>0.1900429</td></tr>\n",
       "<tr><td>newstructuretaxvaluedollarcnt</td>\n",
       "<td>4466.1103516</td>\n",
       "<td>0.8760199</td>\n",
       "<td>0.1664814</td></tr>\n",
       "<tr><td>yearbuilt</td>\n",
       "<td>4454.9755859</td>\n",
       "<td>0.8738358</td>\n",
       "<td>0.1660663</td></tr>\n",
       "<tr><td>newtaxvaluedollarcnt</td>\n",
       "<td>4440.8828125</td>\n",
       "<td>0.8710716</td>\n",
       "<td>0.1655410</td></tr>\n",
       "<tr><td>newthreequarterbathnbr</td>\n",
       "<td>4409.2680664</td>\n",
       "<td>0.8648704</td>\n",
       "<td>0.1643625</td></tr>\n",
       "<tr><td>newbathroomcnt</td>\n",
       "<td>3957.0642090</td>\n",
       "<td>0.7761714</td>\n",
       "<td>0.1475059</td></tr></table></div>"
      ],
      "text/plain": [
       "variable                       relative_importance    scaled_importance    percentage\n",
       "-----------------------------  ---------------------  -------------------  ------------\n",
       "regionidneighborhood           5098.18                1                    0.190043\n",
       "newstructuretaxvaluedollarcnt  4466.11                0.87602              0.166481\n",
       "yearbuilt                      4454.98                0.873836             0.166066\n",
       "newtaxvaluedollarcnt           4440.88                0.871072             0.165541\n",
       "newthreequarterbathnbr         4409.27                0.86487              0.164362\n",
       "newbathroomcnt                 3957.06                0.776171             0.147506"
      ]
     },
     "metadata": {},
     "output_type": "display_data"
    },
    {
     "data": {
      "text/plain": [
       "<bound method H2ORandomForestEstimator.cross_validation_metrics_summary of >"
      ]
     },
     "execution_count": 56,
     "metadata": {},
     "output_type": "execute_result"
    }
   ],
   "source": [
    "fit1.cross_validation_metrics_summary"
   ]
  },
  {
   "cell_type": "code",
   "execution_count": 166,
   "metadata": {},
   "outputs": [
    {
     "name": "stdout",
     "output_type": "stream",
     "text": [
      "drf prediction progress: |████████████████████████████████████████████████| 100%\n"
     ]
    }
   ],
   "source": [
    "pred=fit1.predict(df)"
   ]
  }
 ],
 "metadata": {
  "kernelspec": {
   "display_name": "Python 3",
   "language": "python",
   "name": "python3"
  },
  "language_info": {
   "codemirror_mode": {
    "name": "ipython",
    "version": 3
   },
   "file_extension": ".py",
   "mimetype": "text/x-python",
   "name": "python",
   "nbconvert_exporter": "python",
   "pygments_lexer": "ipython3",
   "version": "3.6.1"
  }
 },
 "nbformat": 4,
 "nbformat_minor": 1
}
