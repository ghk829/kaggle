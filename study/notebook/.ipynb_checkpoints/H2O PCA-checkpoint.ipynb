{
 "cells": [
  {
   "cell_type": "code",
   "execution_count": 1,
   "metadata": {},
   "outputs": [
    {
     "name": "stdout",
     "output_type": "stream",
     "text": [
      "Checking whether there is an H2O instance running at http://localhost:54321. connected.\n"
     ]
    },
    {
     "data": {
      "text/html": [
       "<div style=\"overflow:auto\"><table style=\"width:50%\"><tr><td>H2O cluster uptime:</td>\n",
       "<td>10 mins 45 secs</td></tr>\n",
       "<tr><td>H2O cluster version:</td>\n",
       "<td>3.14.0.2</td></tr>\n",
       "<tr><td>H2O cluster version age:</td>\n",
       "<td>13 days </td></tr>\n",
       "<tr><td>H2O cluster name:</td>\n",
       "<td>H2O_from_python_ghk829_hrd3wq</td></tr>\n",
       "<tr><td>H2O cluster total nodes:</td>\n",
       "<td>1</td></tr>\n",
       "<tr><td>H2O cluster free memory:</td>\n",
       "<td>7.683 Gb</td></tr>\n",
       "<tr><td>H2O cluster total cores:</td>\n",
       "<td>1</td></tr>\n",
       "<tr><td>H2O cluster allowed cores:</td>\n",
       "<td>1</td></tr>\n",
       "<tr><td>H2O cluster status:</td>\n",
       "<td>locked, healthy</td></tr>\n",
       "<tr><td>H2O connection url:</td>\n",
       "<td>http://localhost:54321</td></tr>\n",
       "<tr><td>H2O connection proxy:</td>\n",
       "<td>None</td></tr>\n",
       "<tr><td>H2O internal security:</td>\n",
       "<td>False</td></tr>\n",
       "<tr><td>H2O API Extensions:</td>\n",
       "<td>XGBoost, Algos, AutoML, Core V3, Core V4</td></tr>\n",
       "<tr><td>Python version:</td>\n",
       "<td>2.7.13 final</td></tr></table></div>"
      ],
      "text/plain": [
       "--------------------------  ----------------------------------------\n",
       "H2O cluster uptime:         10 mins 45 secs\n",
       "H2O cluster version:        3.14.0.2\n",
       "H2O cluster version age:    13 days\n",
       "H2O cluster name:           H2O_from_python_ghk829_hrd3wq\n",
       "H2O cluster total nodes:    1\n",
       "H2O cluster free memory:    7.683 Gb\n",
       "H2O cluster total cores:    1\n",
       "H2O cluster allowed cores:  1\n",
       "H2O cluster status:         locked, healthy\n",
       "H2O connection url:         http://localhost:54321\n",
       "H2O connection proxy:\n",
       "H2O internal security:      False\n",
       "H2O API Extensions:         XGBoost, Algos, AutoML, Core V3, Core V4\n",
       "Python version:             2.7.13 final\n",
       "--------------------------  ----------------------------------------"
      ]
     },
     "metadata": {},
     "output_type": "display_data"
    },
    {
     "name": "stdout",
     "output_type": "stream",
     "text": [
      "Parse progress: |█████████████████████████████████████████████████████████| 100%\n"
     ]
    }
   ],
   "source": [
    "import h2o\n",
    "h2o.init(nthreads = -1, max_mem_size = 8)\n",
    "url = \"https://archive.ics.uci.edu/ml/machine-learning-databases/pima-indians-diabetes/pima-indians-diabetes.data\"\n",
    "df = h2o.import_file(url)"
   ]
  },
  {
   "cell_type": "code",
   "execution_count": 15,
   "metadata": {},
   "outputs": [
    {
     "name": "stdout",
     "output_type": "stream",
     "text": [
      "pca Model Build progress: |███████████████████████████████████████████████| 100%\n",
      "pca prediction progress: |████████████████████████████████████████████████| 100%\n"
     ]
    },
    {
     "data": {
      "text/html": [
       "<table>\n",
       "<thead>\n",
       "<tr><th style=\"text-align: right;\">      PC1</th><th style=\"text-align: right;\">       PC2</th><th style=\"text-align: right;\">       PC3</th><th style=\"text-align: right;\">      PC4</th></tr>\n",
       "</thead>\n",
       "<tbody>\n",
       "<tr><td style=\"text-align: right;\">-133.433 </td><td style=\"text-align: right;\">-116.926  </td><td style=\"text-align: right;\"> -5.37914 </td><td style=\"text-align: right;\">-14.9414 </td></tr>\n",
       "<tr><td style=\"text-align: right;\"> -87.4812</td><td style=\"text-align: right;\"> -76.9301 </td><td style=\"text-align: right;\"> 19.6622  </td><td style=\"text-align: right;\"> -9.62483</td></tr>\n",
       "<tr><td style=\"text-align: right;\">-143.883 </td><td style=\"text-align: right;\">-127.322  </td><td style=\"text-align: right;\">-44.9505  </td><td style=\"text-align: right;\">  6.46603</td></tr>\n",
       "<tr><td style=\"text-align: right;\">-150.119 </td><td style=\"text-align: right;\">  -7.16366</td><td style=\"text-align: right;\"> 15.7451  </td><td style=\"text-align: right;\"> -2.08178</td></tr>\n",
       "<tr><td style=\"text-align: right;\">-225.655 </td><td style=\"text-align: right;\">  26.6858 </td><td style=\"text-align: right;\">-22.0045  </td><td style=\"text-align: right;\">-20.3022 </td></tr>\n",
       "<tr><td style=\"text-align: right;\">-105.789 </td><td style=\"text-align: right;\"> -94.9666 </td><td style=\"text-align: right;\"> -0.788249</td><td style=\"text-align: right;\"> 15.131  </td></tr>\n",
       "<tr><td style=\"text-align: right;\">-136.251 </td><td style=\"text-align: right;\">  -2.09589</td><td style=\"text-align: right;\"> 13.4739  </td><td style=\"text-align: right;\">-13.1739 </td></tr>\n",
       "<tr><td style=\"text-align: right;\"> -81.5622</td><td style=\"text-align: right;\"> -71.2763 </td><td style=\"text-align: right;\">-54.3987  </td><td style=\"text-align: right;\"> -9.67111</td></tr>\n",
       "<tr><td style=\"text-align: right;\">-523.564 </td><td style=\"text-align: right;\"> 262.918  </td><td style=\"text-align: right;\">-25.8254  </td><td style=\"text-align: right;\">  6.42052</td></tr>\n",
       "<tr><td style=\"text-align: right;\">-118.672 </td><td style=\"text-align: right;\">-107.64   </td><td style=\"text-align: right;\">  8.89774 </td><td style=\"text-align: right;\"> 33.3483 </td></tr>\n",
       "</tbody>\n",
       "</table>"
      ]
     },
     "metadata": {},
     "output_type": "display_data"
    },
    {
     "data": {
      "text/plain": []
     },
     "execution_count": 15,
     "metadata": {},
     "output_type": "execute_result"
    }
   ],
   "source": [
    "from h2o.estimators.pca import H2OPrincipalComponentAnalysisEstimator\n",
    "pca_decomp = H2OPrincipalComponentAnalysisEstimator(k=4, transform=\"NONE\", pca_method=\"Power\")\n",
    "pca_decomp.train(x=x_names, training_frame=df)\n"
   ]
  },
  {
   "cell_type": "code",
   "execution_count": 16,
   "metadata": {},
   "outputs": [
    {
     "name": "stdout",
     "output_type": "stream",
     "text": [
      "pca prediction progress: |████████████████████████████████████████████████| 100%\n"
     ]
    }
   ],
   "source": [
    "pca_df=pca_decomp.predict(df)"
   ]
  },
  {
   "cell_type": "code",
   "execution_count": 17,
   "metadata": {},
   "outputs": [
    {
     "data": {
      "text/plain": [
       "[u'PC1', u'PC2', u'PC3', u'PC4']"
      ]
     },
     "execution_count": 17,
     "metadata": {},
     "output_type": "execute_result"
    }
   ],
   "source": [
    "pca_df.col_names['PC1']"
   ]
  },
  {
   "cell_type": "code",
   "execution_count": null,
   "metadata": {
    "collapsed": true
   },
   "outputs": [],
   "source": [
    "from h2o.estimators.random_forest import H2ORandomForestEstimator\n",
    "fit1 = H2ORandomForestEstimator(model_id = 'fit1')\n",
    "fit1.train(x=x_names, y=y_names, training_frame=pca_df)"
   ]
  },
  {
   "cell_type": "code",
   "execution_count": 23,
   "metadata": {},
   "outputs": [
    {
     "data": {
      "text/html": [
       "<table>\n",
       "<thead>\n",
       "<tr><th style=\"text-align: right;\">      PC1</th><th style=\"text-align: right;\">       PC2</th><th style=\"text-align: right;\">       PC3</th><th style=\"text-align: right;\">      PC4</th><th style=\"text-align: right;\">  C1</th><th style=\"text-align: right;\">  C2</th><th style=\"text-align: right;\">  C3</th><th style=\"text-align: right;\">  C4</th><th style=\"text-align: right;\">  C5</th><th style=\"text-align: right;\">  C6</th><th style=\"text-align: right;\">   C7</th><th style=\"text-align: right;\">  C8</th><th style=\"text-align: right;\">  C9</th></tr>\n",
       "</thead>\n",
       "<tbody>\n",
       "<tr><td style=\"text-align: right;\">-133.433 </td><td style=\"text-align: right;\">-116.926  </td><td style=\"text-align: right;\"> -5.37914 </td><td style=\"text-align: right;\">-14.9414 </td><td style=\"text-align: right;\">   6</td><td style=\"text-align: right;\"> 148</td><td style=\"text-align: right;\">  72</td><td style=\"text-align: right;\">  35</td><td style=\"text-align: right;\">   0</td><td style=\"text-align: right;\">33.6</td><td style=\"text-align: right;\">0.627</td><td style=\"text-align: right;\">  50</td><td style=\"text-align: right;\">   1</td></tr>\n",
       "<tr><td style=\"text-align: right;\"> -87.4812</td><td style=\"text-align: right;\"> -76.9301 </td><td style=\"text-align: right;\"> 19.6622  </td><td style=\"text-align: right;\"> -9.62483</td><td style=\"text-align: right;\">   1</td><td style=\"text-align: right;\">  85</td><td style=\"text-align: right;\">  66</td><td style=\"text-align: right;\">  29</td><td style=\"text-align: right;\">   0</td><td style=\"text-align: right;\">26.6</td><td style=\"text-align: right;\">0.351</td><td style=\"text-align: right;\">  31</td><td style=\"text-align: right;\">   0</td></tr>\n",
       "<tr><td style=\"text-align: right;\">-143.883 </td><td style=\"text-align: right;\">-127.322  </td><td style=\"text-align: right;\">-44.9505  </td><td style=\"text-align: right;\">  6.46603</td><td style=\"text-align: right;\">   8</td><td style=\"text-align: right;\"> 183</td><td style=\"text-align: right;\">  64</td><td style=\"text-align: right;\">   0</td><td style=\"text-align: right;\">   0</td><td style=\"text-align: right;\">23.3</td><td style=\"text-align: right;\">0.672</td><td style=\"text-align: right;\">  32</td><td style=\"text-align: right;\">   1</td></tr>\n",
       "<tr><td style=\"text-align: right;\">-150.119 </td><td style=\"text-align: right;\">  -7.16366</td><td style=\"text-align: right;\"> 15.7451  </td><td style=\"text-align: right;\"> -2.08178</td><td style=\"text-align: right;\">   1</td><td style=\"text-align: right;\">  89</td><td style=\"text-align: right;\">  66</td><td style=\"text-align: right;\">  23</td><td style=\"text-align: right;\">  94</td><td style=\"text-align: right;\">28.1</td><td style=\"text-align: right;\">0.167</td><td style=\"text-align: right;\">  21</td><td style=\"text-align: right;\">   0</td></tr>\n",
       "<tr><td style=\"text-align: right;\">-225.655 </td><td style=\"text-align: right;\">  26.6858 </td><td style=\"text-align: right;\">-22.0045  </td><td style=\"text-align: right;\">-20.3022 </td><td style=\"text-align: right;\">   0</td><td style=\"text-align: right;\"> 137</td><td style=\"text-align: right;\">  40</td><td style=\"text-align: right;\">  35</td><td style=\"text-align: right;\"> 168</td><td style=\"text-align: right;\">43.1</td><td style=\"text-align: right;\">2.288</td><td style=\"text-align: right;\">  33</td><td style=\"text-align: right;\">   1</td></tr>\n",
       "<tr><td style=\"text-align: right;\">-105.789 </td><td style=\"text-align: right;\"> -94.9666 </td><td style=\"text-align: right;\"> -0.788249</td><td style=\"text-align: right;\"> 15.131  </td><td style=\"text-align: right;\">   5</td><td style=\"text-align: right;\"> 116</td><td style=\"text-align: right;\">  74</td><td style=\"text-align: right;\">   0</td><td style=\"text-align: right;\">   0</td><td style=\"text-align: right;\">25.6</td><td style=\"text-align: right;\">0.201</td><td style=\"text-align: right;\">  30</td><td style=\"text-align: right;\">   0</td></tr>\n",
       "<tr><td style=\"text-align: right;\">-136.251 </td><td style=\"text-align: right;\">  -2.09589</td><td style=\"text-align: right;\"> 13.4739  </td><td style=\"text-align: right;\">-13.1739 </td><td style=\"text-align: right;\">   3</td><td style=\"text-align: right;\">  78</td><td style=\"text-align: right;\">  50</td><td style=\"text-align: right;\">  32</td><td style=\"text-align: right;\">  88</td><td style=\"text-align: right;\">31  </td><td style=\"text-align: right;\">0.248</td><td style=\"text-align: right;\">  26</td><td style=\"text-align: right;\">   1</td></tr>\n",
       "<tr><td style=\"text-align: right;\"> -81.5622</td><td style=\"text-align: right;\"> -71.2763 </td><td style=\"text-align: right;\">-54.3987  </td><td style=\"text-align: right;\"> -9.67111</td><td style=\"text-align: right;\">  10</td><td style=\"text-align: right;\"> 115</td><td style=\"text-align: right;\">   0</td><td style=\"text-align: right;\">   0</td><td style=\"text-align: right;\">   0</td><td style=\"text-align: right;\">35.3</td><td style=\"text-align: right;\">0.134</td><td style=\"text-align: right;\">  29</td><td style=\"text-align: right;\">   0</td></tr>\n",
       "<tr><td style=\"text-align: right;\">-523.564 </td><td style=\"text-align: right;\"> 262.918  </td><td style=\"text-align: right;\">-25.8254  </td><td style=\"text-align: right;\">  6.42052</td><td style=\"text-align: right;\">   2</td><td style=\"text-align: right;\"> 197</td><td style=\"text-align: right;\">  70</td><td style=\"text-align: right;\">  45</td><td style=\"text-align: right;\"> 543</td><td style=\"text-align: right;\">30.5</td><td style=\"text-align: right;\">0.158</td><td style=\"text-align: right;\">  53</td><td style=\"text-align: right;\">   1</td></tr>\n",
       "<tr><td style=\"text-align: right;\">-118.672 </td><td style=\"text-align: right;\">-107.64   </td><td style=\"text-align: right;\">  8.89774 </td><td style=\"text-align: right;\"> 33.3483 </td><td style=\"text-align: right;\">   8</td><td style=\"text-align: right;\"> 125</td><td style=\"text-align: right;\">  96</td><td style=\"text-align: right;\">   0</td><td style=\"text-align: right;\">   0</td><td style=\"text-align: right;\"> 0  </td><td style=\"text-align: right;\">0.232</td><td style=\"text-align: right;\">  54</td><td style=\"text-align: right;\">   1</td></tr>\n",
       "</tbody>\n",
       "</table>"
      ]
     },
     "metadata": {},
     "output_type": "display_data"
    },
    {
     "data": {
      "text/plain": []
     },
     "execution_count": 23,
     "metadata": {},
     "output_type": "execute_result"
    }
   ],
   "source": [
    "pca_df.cbind(df)"
   ]
  },
  {
   "cell_type": "code",
   "execution_count": 24,
   "metadata": {
    "collapsed": true
   },
   "outputs": [],
   "source": [
    "dff=pca_df.as_data_frame()"
   ]
  }
 ],
 "metadata": {
  "kernelspec": {
   "display_name": "Python 2",
   "language": "python",
   "name": "python2"
  },
  "language_info": {
   "codemirror_mode": {
    "name": "ipython",
    "version": 2
   },
   "file_extension": ".py",
   "mimetype": "text/x-python",
   "name": "python",
   "nbconvert_exporter": "python",
   "pygments_lexer": "ipython2",
   "version": "2.7.13"
  }
 },
 "nbformat": 4,
 "nbformat_minor": 2
}
