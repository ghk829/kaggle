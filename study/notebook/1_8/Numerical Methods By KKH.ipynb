{
 "cells": [
  {
   "cell_type": "markdown",
   "metadata": {},
   "source": [
    "# CH1 : Python에서의 자료형은 모두 객체다."
   ]
  },
  {
   "cell_type": "markdown",
   "metadata": {},
   "source": [
    "## 1. Numeric"
   ]
  },
  {
   "cell_type": "code",
   "execution_count": 1,
   "metadata": {},
   "outputs": [
    {
     "name": "stdout",
     "output_type": "stream",
     "text": [
      "2.0\n"
     ]
    }
   ],
   "source": [
    "# Integer\n",
    "a = 2;\n",
    "# float\n",
    "a= a*1.0;\n",
    "print(a);\n",
    "## print할 때 변수가 출력됨"
   ]
  },
  {
   "cell_type": "markdown",
   "metadata": {},
   "source": [
    "### 문장이 완성될 때 세미클론을 붙이는 습관."
   ]
  },
  {
   "cell_type": "markdown",
   "metadata": {},
   "source": [
    "## 2. String"
   ]
  },
  {
   "cell_type": "code",
   "execution_count": 2,
   "metadata": {},
   "outputs": [
    {
     "name": "stdout",
     "output_type": "stream",
     "text": [
      "abcdefgh\n",
      "['abcd', 'fgh']\n"
     ]
    }
   ],
   "source": [
    "str1 = 'abcd';\n",
    "str2 = 'efgh';\n",
    "## concat\n",
    "constr1 = str1+str2\n",
    "print(constr1);\n",
    "# Method in String\n",
    "# tab을 누르면서 각각의 method를 살펴볼 수 있음\n",
    "list1 = constr1.split('e');\n",
    "print(list1);"
   ]
  },
  {
   "cell_type": "markdown",
   "metadata": {},
   "source": [
    "## 3. Tuple, Array"
   ]
  },
  {
   "cell_type": "code",
   "execution_count": 3,
   "metadata": {},
   "outputs": [
    {
     "name": "stdout",
     "output_type": "stream",
     "text": [
      "(1,)\n"
     ]
    }
   ],
   "source": [
    "tuple1 = (1,);\n",
    "print(tuple1);"
   ]
  },
  {
   "cell_type": "code",
   "execution_count": 4,
   "metadata": {
    "scrolled": true
   },
   "outputs": [
    {
     "name": "stdout",
     "output_type": "stream",
     "text": [
      "1\n"
     ]
    }
   ],
   "source": [
    "print(tuple1[0]);"
   ]
  },
  {
   "cell_type": "code",
   "execution_count": 5,
   "metadata": {},
   "outputs": [
    {
     "name": "stdout",
     "output_type": "stream",
     "text": [
      "0\n"
     ]
    }
   ],
   "source": [
    "print(tuple1.count('1'));"
   ]
  },
  {
   "cell_type": "code",
   "execution_count": 6,
   "metadata": {},
   "outputs": [
    {
     "name": "stdout",
     "output_type": "stream",
     "text": [
      "0\n"
     ]
    }
   ],
   "source": [
    "print(tuple1.index(1));"
   ]
  },
  {
   "cell_type": "markdown",
   "metadata": {},
   "source": [
    "## tuple in tuple == 바뀔 수 없는 matrix"
   ]
  },
  {
   "cell_type": "code",
   "execution_count": 7,
   "metadata": {},
   "outputs": [
    {
     "name": "stdout",
     "output_type": "stream",
     "text": [
      "(1, 2, 3) 1\n",
      "(1, 2, 3) 2\n",
      "(1, 2, 3) 3\n",
      "(4, 5, 6) 4\n",
      "(4, 5, 6) 5\n",
      "(4, 5, 6) 6\n",
      "(7, 8, 9) 7\n",
      "(7, 8, 9) 8\n",
      "(7, 8, 9) 9\n"
     ]
    }
   ],
   "source": [
    "mat1 = ((1,2,3),(4,5,6),(7,8,9));\n",
    "for i in mat1:\n",
    "    for j in i:\n",
    "        print(i,j);"
   ]
  },
  {
   "cell_type": "markdown",
   "metadata": {},
   "source": [
    "## len"
   ]
  },
  {
   "cell_type": "code",
   "execution_count": 8,
   "metadata": {},
   "outputs": [
    {
     "name": "stdout",
     "output_type": "stream",
     "text": [
      "4\n",
      "3\n"
     ]
    }
   ],
   "source": [
    "# len : 말 그대로 개수를 세는 함수.\n",
    "print(len(str1));\n",
    "print(len(mat1));"
   ]
  },
  {
   "cell_type": "code",
   "execution_count": 9,
   "metadata": {
    "collapsed": true
   },
   "outputs": [],
   "source": [
    "# range(Start,End,Jump) : from Start until End by Jump==> Sequence 반환"
   ]
  },
  {
   "cell_type": "code",
   "execution_count": 10,
   "metadata": {},
   "outputs": [
    {
     "name": "stdout",
     "output_type": "stream",
     "text": [
      "1\n",
      "2\n"
     ]
    }
   ],
   "source": [
    "for i in range(1,3):\n",
    "    print(i);"
   ]
  },
  {
   "cell_type": "code",
   "execution_count": 11,
   "metadata": {},
   "outputs": [
    {
     "name": "stdout",
     "output_type": "stream",
     "text": [
      "1\n",
      "3\n",
      "5\n",
      "7\n",
      "9\n"
     ]
    }
   ],
   "source": [
    "for j in range(1,10,2):\n",
    "    print(j);"
   ]
  },
  {
   "cell_type": "code",
   "execution_count": 12,
   "metadata": {},
   "outputs": [
    {
     "name": "stdout",
     "output_type": "stream",
     "text": [
      "10\n",
      "8\n",
      "6\n",
      "4\n",
      "2\n"
     ]
    }
   ],
   "source": [
    "for k in range(10,1,-2):\n",
    "    print(k);"
   ]
  },
  {
   "cell_type": "markdown",
   "metadata": {},
   "source": [
    "### Q1 : 주어진 mat1에서 len과 range를 이용하여 tuple in tuple 구현"
   ]
  },
  {
   "cell_type": "code",
   "execution_count": 14,
   "metadata": {},
   "outputs": [
    {
     "name": "stdout",
     "output_type": "stream",
     "text": [
      "(1, 2, 3) 1\n",
      "(1, 2, 3) 2\n",
      "(1, 2, 3) 3\n",
      "(4, 5, 6) 4\n",
      "(4, 5, 6) 5\n",
      "(4, 5, 6) 6\n",
      "(7, 8, 9) 7\n",
      "(7, 8, 9) 8\n",
      "(7, 8, 9) 9\n"
     ]
    }
   ],
   "source": [
    "for i in range(len(mat1)):\n",
    "    for j in range(len(mat1[i])):\n",
    "        print(mat1[i],mat1[i][j])"
   ]
  },
  {
   "cell_type": "markdown",
   "metadata": {},
   "source": [
    "## 4. List // Method 및 Reference"
   ]
  },
  {
   "cell_type": "markdown",
   "metadata": {},
   "source": [
    "## 외워야 할 Method\n",
    "### append\n",
    "## insert\n",
    "## slicing\n",
    "## remove\n",
    "## concat +로"
   ]
  },
  {
   "cell_type": "code",
   "execution_count": 15,
   "metadata": {},
   "outputs": [
    {
     "name": "stdout",
     "output_type": "stream",
     "text": [
      "[1, 2, 3]\n",
      "[10, 2, 3, 4, 5, 6]\n",
      "[1, 2, 3, 4, 5, 6]\n",
      "[2, 3, 4, 5, 6, 1]\n"
     ]
    }
   ],
   "source": [
    "a=[1,2,3];\n",
    "b=[4,5,6];\n",
    "c=a+b;\n",
    "d=c;\n",
    "e=c[:];\n",
    "d[0] = 10;\n",
    "print(a);\n",
    "print(c);\n",
    "print(e);\n",
    "e.append(1);\n",
    "e.remove(1);\n",
    "print(e);"
   ]
  },
  {
   "cell_type": "markdown",
   "metadata": {},
   "source": [
    "## 5. Class // Instance // Constructor == 설계도// 객체// 생성을 위한 파라미터"
   ]
  },
  {
   "cell_type": "code",
   "execution_count": 16,
   "metadata": {
    "collapsed": true
   },
   "outputs": [],
   "source": [
    "class A:\n",
    "    def __init__(self):\n",
    "        ;\n",
    "class B:\n",
    "    # properties\n",
    "    b = 'abc';\n",
    "    #constructor\n",
    "    def __init__(self,item1):\n",
    "        self.a=item1;\n",
    "class C:\n",
    "    def __init__(self,item1,item2):\n",
    "        self.a = item1;\n",
    "        self.b = item2;\n",
    "        #Method\n",
    "    def printItem(self):\n",
    "        print(self.a,self.b,sep=\"&\");"
   ]
  },
  {
   "cell_type": "code",
   "execution_count": 17,
   "metadata": {},
   "outputs": [
    {
     "name": "stdout",
     "output_type": "stream",
     "text": [
      "1&abc\n",
      "1&2\n"
     ]
    }
   ],
   "source": [
    "# a,b,c는 Instance이며 모두 객체이다.\n",
    "a = A();\n",
    "b = B(1);\n",
    "print(b.a,b.b,sep=\"&\");\n",
    "c = C(1,2);\n",
    "c.printItem();"
   ]
  },
  {
   "cell_type": "code",
   "execution_count": 18,
   "metadata": {
    "collapsed": true
   },
   "outputs": [],
   "source": [
    "# Advanced OOP __는 java의 private\n",
    "class A:\n",
    "    def __init__(self,a,b,c):\n",
    "        self.a=a;\n",
    "        self.b=b;\n",
    "        self.c=c;\n",
    "    def setterA(self,a):\n",
    "        self.a=a;\n",
    "    def setterB(self,b):\n",
    "        self.b=b;\n",
    "    def getterB(self):\n",
    "        return self.b;"
   ]
  },
  {
   "cell_type": "code",
   "execution_count": 19,
   "metadata": {},
   "outputs": [
    {
     "name": "stdout",
     "output_type": "stream",
     "text": [
      "2\n",
      "10\n"
     ]
    }
   ],
   "source": [
    "a = A(1,2,3);\n",
    "print(a.getterB());\n",
    "a.setterB(10);\n",
    "print(a.getterB());"
   ]
  },
  {
   "cell_type": "markdown",
   "metadata": {},
   "source": [
    "## 6. Inheritence"
   ]
  },
  {
   "cell_type": "code",
   "execution_count": 20,
   "metadata": {
    "collapsed": true
   },
   "outputs": [],
   "source": [
    "class D(A):\n",
    "    def __init__(self, a, b, c, d):\n",
    "        # super로 a Instance화\n",
    "        a1 = super(D, self);\n",
    "        a1.__init__(a,b,c);\n",
    "        self.d = d;\n",
    "    def getterA(self):\n",
    "        return self.a;\n",
    "    def getterD(self):\n",
    "        return self.d;"
   ]
  },
  {
   "cell_type": "code",
   "execution_count": 21,
   "metadata": {
    "collapsed": true
   },
   "outputs": [],
   "source": [
    "d=D(1,2,3,4)"
   ]
  },
  {
   "cell_type": "code",
   "execution_count": 22,
   "metadata": {
    "collapsed": true
   },
   "outputs": [],
   "source": [
    "class E(D):\n",
    "    def __init__(self,a,b,c,d):\n",
    "        d1 = super(E,self);\n",
    "        d1.__init__(a,b,c,d);\n",
    "    def getterC(self):\n",
    "        return d.c;"
   ]
  },
  {
   "cell_type": "code",
   "execution_count": 23,
   "metadata": {
    "collapsed": true
   },
   "outputs": [],
   "source": [
    "e = E(1,2,3,4);"
   ]
  },
  {
   "cell_type": "code",
   "execution_count": 24,
   "metadata": {
    "scrolled": true
   },
   "outputs": [
    {
     "data": {
      "text/plain": [
       "1"
      ]
     },
     "execution_count": 24,
     "metadata": {},
     "output_type": "execute_result"
    }
   ],
   "source": [
    "e.getterA()"
   ]
  },
  {
   "cell_type": "code",
   "execution_count": 29,
   "metadata": {
    "collapsed": true
   },
   "outputs": [],
   "source": [
    "# Q2: list의 remove는 하나밖에 지우지 못 해 너무 불편하다. list를 상속하여 모두 지울 수 있는 메소드를 만들어보자. hint : try, except\n",
    "class Mylist(list):\n",
    "    flag = True;\n",
    "    def removeAll(self,item):\n",
    "        while(self.flag):\n",
    "            try:\n",
    "                self.remove(item);\n",
    "            except:\n",
    "                self.flag=False;"
   ]
  },
  {
   "cell_type": "code",
   "execution_count": 30,
   "metadata": {
    "collapsed": true
   },
   "outputs": [],
   "source": [
    "mylist = Mylist();"
   ]
  },
  {
   "cell_type": "code",
   "execution_count": 31,
   "metadata": {},
   "outputs": [
    {
     "data": {
      "text/plain": [
       "[1, 1, 2, 1]"
      ]
     },
     "execution_count": 31,
     "metadata": {},
     "output_type": "execute_result"
    }
   ],
   "source": [
    "mylist.append(1);\n",
    "mylist.append(1);\n",
    "mylist.append(2);\n",
    "mylist.append(1);\n",
    "mylist"
   ]
  },
  {
   "cell_type": "code",
   "execution_count": 32,
   "metadata": {},
   "outputs": [
    {
     "data": {
      "text/plain": [
       "[2]"
      ]
     },
     "execution_count": 32,
     "metadata": {},
     "output_type": "execute_result"
    }
   ],
   "source": [
    "mylist.removeAll(1);\n",
    "mylist"
   ]
  }
 ],
 "metadata": {
  "kernelspec": {
   "display_name": "Python 3",
   "language": "python",
   "name": "python3"
  },
  "language_info": {
   "codemirror_mode": {
    "name": "ipython",
    "version": 3
   },
   "file_extension": ".py",
   "mimetype": "text/x-python",
   "name": "python",
   "nbconvert_exporter": "python",
   "pygments_lexer": "ipython3",
   "version": "3.6.3"
  }
 },
 "nbformat": 4,
 "nbformat_minor": 2
}
