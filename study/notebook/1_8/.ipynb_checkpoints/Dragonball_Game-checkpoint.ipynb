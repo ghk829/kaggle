{
 "cells": [
  {
   "cell_type": "code",
   "execution_count": 5,
   "metadata": {
    "collapsed": true
   },
   "outputs": [],
   "source": [
    "class User1:\n",
    "    attacks = [1,3,5];\n",
    "    properties = {\"name\":\"KKH\",\"status\":0,\"energy\":0}\n",
    "    # -1 :막기\n",
    "    # 0 : 으\n",
    "    # 1 : 파\n",
    "    # 3 : 에너지파 3>>1 그러나,막기로 막을 수 있음\n",
    "    # 5 : 원기옥 \n",
    "    # 기 상태\n",
    "    strategy = [0,0,0,3,0];\n",
    "    def __init__(self):\n",
    "        pass\n",
    "    def next_step(self,step):\n",
    "        # 정의해야 할 Method\n",
    "        self.properties['status'] = self.strategy[step]\n",
    "        if self.properties['status'] == 0:\n",
    "            self.properties['energy']+=1;\n",
    "        elif self.properties['status'] in self.attacks:\n",
    "            if self.properties['energy'] < self.properties['status']:\n",
    "                self.properties['status'] = 0;\n",
    "                self.properties['energy']+=1;\n",
    "            else:\n",
    "                self.properties['energy']-=self.properties['status'];\n",
    "    def setOther(self,other):\n",
    "        self.otherProperties = other.properties"
   ]
  },
  {
   "cell_type": "code",
   "execution_count": 6,
   "metadata": {
    "collapsed": true
   },
   "outputs": [],
   "source": [
    "class User2:\n",
    "    attacks = [1,3,5];\n",
    "    properties = {\"name\":\"SHS\",\"status\":0,\"energy\":0}\n",
    "    # -1 :막기\n",
    "    # 0 : 으\n",
    "    # 1 : 파\n",
    "    # 3 : 에너지파 3>>1 그러나,막기로 막을 수 있음\n",
    "    # 5 : 원기옥 \n",
    "    # 기 상태\n",
    "    strategy = [0,0,0,-1,1,0];\n",
    "    def __init__(self):\n",
    "        pass\n",
    "    def next_step(self,step):\n",
    "        # 정의해야 할 Method\n",
    "        self.properties['status'] = self.strategy[step]\n",
    "        if self.properties['status'] == 0:\n",
    "            self.properties['energy']+=1;\n",
    "        elif self.properties['status'] in self.attacks:\n",
    "            if self.properties['energy'] < self.properties['status']:\n",
    "                self.properties['status'] = 0;\n",
    "                self.properties['energy']+=1;\n",
    "            else:\n",
    "                self.properties['energy']-=self.properties['status'];\n",
    "    def setOther(self,other):\n",
    "        self.otherProperties = other.properties"
   ]
  },
  {
   "cell_type": "code",
   "execution_count": 7,
   "metadata": {
    "collapsed": true
   },
   "outputs": [],
   "source": [
    "user1 = User1();\n",
    "user2 = User2();\n",
    "user1.setOther(user2);\n",
    "user2.setOther(user1);"
   ]
  },
  {
   "cell_type": "code",
   "execution_count": 4,
   "metadata": {},
   "outputs": [
    {
     "name": "stdout",
     "output_type": "stream",
     "text": [
      "SHS Win!\n"
     ]
    }
   ],
   "source": [
    "# main\n",
    "attacks = [1,3,5];\n",
    "for i in range(5):\n",
    "    user1.next_step(i);\n",
    "    user2.next_step(i);\n",
    "    if user1.properties['status'] == 5:\n",
    "        print(user1.properties['name']+\" Win!\");\n",
    "    elif user2.properties['status'] ==5:\n",
    "        print(user2.properties['name']+\" Win!\")\n",
    "        \n",
    "    if(user1.properties['status'] in attacks)and(user2.properties['status'] in attacks):\n",
    "        if user1.properties['status'] < user2.properties['status']:\n",
    "            print(user2.properties['name']+\" Win!\");\n",
    "            break;\n",
    "        elif user1.properties['status'] > user2.properties['status']:\n",
    "            print(user1.properties['name']+\" Win!\")\n",
    "            break;\n",
    "        else :\n",
    "            pass\n",
    "    if (user1.properties['status'] ==0 and (user2.properties['status'] in attacks))|((user1.properties['status'] in attacks) and user2.properties['status']==0):\n",
    "        if user1.properties['status'] ==0:\n",
    "            print(user2.properties['name']+\" Win!\")\n",
    "            break;\n",
    "        else:\n",
    "            print(user1.properties['name']+\" Win!\")\n",
    "            break;"
   ]
  },
  {
   "cell_type": "code",
   "execution_count": null,
   "metadata": {
    "collapsed": true
   },
   "outputs": [],
   "source": []
  }
 ],
 "metadata": {
  "kernelspec": {
   "display_name": "Python 3",
   "language": "python",
   "name": "python3"
  },
  "language_info": {
   "codemirror_mode": {
    "name": "ipython",
    "version": 3
   },
   "file_extension": ".py",
   "mimetype": "text/x-python",
   "name": "python",
   "nbconvert_exporter": "python",
   "pygments_lexer": "ipython3",
   "version": "3.6.3"
  }
 },
 "nbformat": 4,
 "nbformat_minor": 2
}
