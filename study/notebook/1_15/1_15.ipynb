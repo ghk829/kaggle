{
 "cells": [
  {
   "cell_type": "code",
   "execution_count": 2,
   "metadata": {},
   "outputs": [],
   "source": [
    "from numpy import *\n",
    "import numpy as np"
   ]
  },
  {
   "cell_type": "code",
   "execution_count": null,
   "metadata": {
    "collapsed": true
   },
   "outputs": [],
   "source": [
    "# 알아야 할 함수\n",
    "#1. Zip\n",
    "#2. type\n",
    "#3. isinstance(instance,class)"
   ]
  },
  {
   "cell_type": "code",
   "execution_count": 18,
   "metadata": {},
   "outputs": [],
   "source": [
    "# numpy 자료형부터 vectorto matrix\n",
    "v1 = array([1,2,3]);\n",
    "v2 = array([3,2,1]);"
   ]
  },
  {
   "cell_type": "code",
   "execution_count": 68,
   "metadata": {},
   "outputs": [
    {
     "name": "stdout",
     "output_type": "stream",
     "text": [
      "10\n",
      "10\n",
      "10\n",
      "(3,)\n",
      "int32\n",
      "[[1 2]\n",
      " [3 4]]\n",
      "[10  2  3  4]\n",
      "[1 2 3 4]\n"
     ]
    }
   ],
   "source": [
    "# 제일 많이 쓸 함수 ! \n",
    "# dot\n",
    "print(dot(v1,v2));\n",
    "print(v1.dot(v2));\n",
    "print(v1 @ v2);"
   ]
  },
  {
   "cell_type": "code",
   "execution_count": 66,
   "metadata": {},
   "outputs": [
    {
     "data": {
      "text/plain": [
       "array([10,  2,  3,  4])"
      ]
     },
     "execution_count": 66,
     "metadata": {},
     "output_type": "execute_result"
    }
   ],
   "source": [
    "# shape\n",
    "print(v1.shape);\n",
    "M = array([v1.tolist(),v2.tolist()]);"
   ]
  },
  {
   "cell_type": "code",
   "execution_count": 69,
   "metadata": {},
   "outputs": [
    {
     "name": "stdout",
     "output_type": "stream",
     "text": [
      "int32\n"
     ]
    }
   ],
   "source": [
    "# dtype\n",
    "print(M.dtype);"
   ]
  },
  {
   "cell_type": "code",
   "execution_count": 100,
   "metadata": {},
   "outputs": [
    {
     "name": "stdout",
     "output_type": "stream",
     "text": [
      "[[1 2]\n",
      " [3 3]\n",
      " [2 1]]\n",
      "[[1 2]\n",
      " [3 4]]\n",
      "[10  2  3  4]\n",
      "[1 2 3 4]\n"
     ]
    }
   ],
   "source": [
    "# reshape : Copy를 하지 않고, Reference.. 동일한 메모리 주소, view만 다름 ! copy method로 문제해결\n",
    "print(M.reshape(3,-1));\n",
    "v3 = array([1,2,3,4]);\n",
    "reshaped_v3 = v3.reshape(2,2);\n",
    "print(reshaped_v3);\n",
    "old_v3 = v3.copy();\n",
    "reshaped_v3[0,0]=10;\n",
    "print(v3);\n",
    "print(old_v3);"
   ]
  },
  {
   "cell_type": "code",
   "execution_count": 99,
   "metadata": {},
   "outputs": [
    {
     "data": {
      "text/plain": [
       "array([[1, 2],\n",
       "       [3, 3],\n",
       "       [2, 1]])"
      ]
     },
     "execution_count": 99,
     "metadata": {},
     "output_type": "execute_result"
    }
   ],
   "source": []
  },
  {
   "cell_type": "code",
   "execution_count": 89,
   "metadata": {},
   "outputs": [
    {
     "name": "stdout",
     "output_type": "stream",
     "text": [
      "True\n",
      "True\n",
      "False\n"
     ]
    }
   ],
   "source": [
    "print(old_v3.base is None);\n",
    "print(v3.base is None);\n",
    "print(reshaped_v3.base is None);"
   ]
  },
  {
   "cell_type": "code",
   "execution_count": 77,
   "metadata": {},
   "outputs": [
    {
     "name": "stdout",
     "output_type": "stream",
     "text": [
      "[1 2 3 3 2 1]\n",
      "[[1 2 3]\n",
      " [3 2 1]]\n",
      "[[1 3]\n",
      " [2 2]\n",
      " [3 1]]\n"
     ]
    }
   ],
   "source": [
    "# stacking\n",
    "print(hstack([v1,v2]))\n",
    "print(vstack([v1,v2]));\n",
    "print(column_stack([v1,v2]));"
   ]
  },
  {
   "cell_type": "code",
   "execution_count": 83,
   "metadata": {},
   "outputs": [
    {
     "name": "stdout",
     "output_type": "stream",
     "text": [
      "[4 4 4]\n",
      "[6 6]\n"
     ]
    }
   ],
   "source": [
    "# sum\n",
    "print(M.sum(axis=0));\n",
    "print(M.sum(axis=1));"
   ]
  },
  {
   "cell_type": "code",
   "execution_count": 50,
   "metadata": {},
   "outputs": [
    {
     "name": "stdout",
     "output_type": "stream",
     "text": [
      "2\n",
      "2\n",
      "[1 2 3]\n",
      "[1 3]\n"
     ]
    }
   ],
   "source": [
    "# page 74 & 75\n",
    "print(M[0][1]);\n",
    "print(M[0,1]);\n",
    "print(M[0,:]);\n",
    "print(M[:,0]);"
   ]
  },
  {
   "cell_type": "code",
   "execution_count": 56,
   "metadata": {},
   "outputs": [
    {
     "name": "stdout",
     "output_type": "stream",
     "text": [
      "(2, 3)\n",
      "(3, 2)\n",
      "[[14 10]\n",
      " [10 14]]\n"
     ]
    }
   ],
   "source": [
    "# tanspose도 view임\n",
    "print(M.shape);\n",
    "print(M.transpose().shape);\n",
    "print(M @ M.transpose());"
   ]
  },
  {
   "cell_type": "code",
   "execution_count": 97,
   "metadata": {},
   "outputs": [
    {
     "name": "stdout",
     "output_type": "stream",
     "text": [
      "[1 2 3]\n",
      "[False  True  True]\n",
      "[2 3]\n",
      "[0 2 3]\n"
     ]
    }
   ],
   "source": [
    "# condition\n",
    "print(v1);\n",
    "print(array([0.1,0.2,0.3])>=0.2);\n",
    "print(v1[array([0.1,0.2,0.3])>=0.2]);\n",
    "#type casting\n",
    "print(where(v1>=2,v1,False));"
   ]
  },
  {
   "cell_type": "code",
   "execution_count": null,
   "metadata": {
    "collapsed": true
   },
   "outputs": [],
   "source": [
    "# page 77,97,98쪽은 왠만하면 외우기"
   ]
  }
 ],
 "metadata": {
  "kernelspec": {
   "display_name": "Python 3",
   "language": "python",
   "name": "python3"
  },
  "language_info": {
   "codemirror_mode": {
    "name": "ipython",
    "version": 3
   },
   "file_extension": ".py",
   "mimetype": "text/x-python",
   "name": "python",
   "nbconvert_exporter": "python",
   "pygments_lexer": "ipython3",
   "version": "3.6.3"
  }
 },
 "nbformat": 4,
 "nbformat_minor": 2
}
