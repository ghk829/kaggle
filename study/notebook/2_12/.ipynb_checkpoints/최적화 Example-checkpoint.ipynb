{
 "cells": [
  {
   "cell_type": "code",
   "execution_count": 1,
   "metadata": {},
   "outputs": [
    {
     "data": {
      "text/plain": [
       "'\\n추가할 파일경로를 밑에 넣으면 됨\\n'"
      ]
     },
     "execution_count": 1,
     "metadata": {},
     "output_type": "execute_result"
    }
   ],
   "source": [
    "import sys\n",
    "import os\n",
    "\"\"\"\n",
    "추가할 파일경로를 밑에 넣으면 됨\n",
    "\"\"\""
   ]
  },
  {
   "cell_type": "code",
   "execution_count": 2,
   "metadata": {
    "collapsed": true
   },
   "outputs": [],
   "source": [
    "from scipy.sparse.linalg import cg\n",
    "import numpy as np"
   ]
  },
  {
   "cell_type": "markdown",
   "metadata": {},
   "source": [
    "## Conjugate example with scipy"
   ]
  },
  {
   "cell_type": "code",
   "execution_count": 3,
   "metadata": {},
   "outputs": [
    {
     "data": {
      "text/plain": [
       "(array([ 3.,  1.,  1.]), 0)"
      ]
     },
     "execution_count": 3,
     "metadata": {},
     "output_type": "execute_result"
    }
   ],
   "source": [
    "A=np.array([[4,-1,1],[-1,4,-2],[1,-2,4]]).astype(float);\n",
    "b=np.array([12,-1,5]).astype(float)\n",
    "x0 = np.array([0,0,0]).astype(float);\n",
    "cg(A=A,b=b,x0=x0)"
   ]
  },
  {
   "cell_type": "markdown",
   "metadata": {},
   "source": [
    "### 수치해석의 진가"
   ]
  },
  {
   "cell_type": "code",
   "execution_count": 4,
   "metadata": {
    "scrolled": false
   },
   "outputs": [
    {
     "name": "stdout",
     "output_type": "stream",
     "text": [
      "Warning: Desired error not necessarily achieved due to precision loss.\n",
      "         Current function value: 1.248241\n",
      "         Iterations: 7\n",
      "         Function evaluations: 677\n",
      "         Gradient evaluations: 133\n",
      "Optimization terminated successfully.\n",
      "         Current function value: 1.198452\n",
      "         Iterations: 116\n",
      "         Function evaluations: 212\n",
      "estimater parameters in cg:  [ 0.10908339  0.87204886  0.64805412]\n",
      "estimater parameters in cg:  [ 0.12251835  0.73999037  0.81625913]\n",
      "real parameters:  [ 0.10991755  0.81254248  0.75408249]\n"
     ]
    },
    {
     "data": {
      "image/png": "[encoded data removed]",
      "text/plain": [
       "<matplotlib.figure.Figure at 0x9c380f0>"
      ]
     },
     "metadata": {},
     "output_type": "display_data"
    }
   ],
   "source": [
    "from pylab import *\n",
    "from numpy import *\n",
    "from numpy.random import normal\n",
    "from scipy.optimize import fmin\n",
    "from scipy.optimize import fmin_cg\n",
    "\n",
    "# parametric function, x is the independent variable\n",
    "# and c are the parameters.\n",
    "# it's a polynomial of degree 2\n",
    "fp = lambda c, x: c[0]+c[1]*x+c[2]*x*x\n",
    "real_p = rand(3)\n",
    "\n",
    "# error function to minimize\n",
    "e = lambda p, x, y: (abs((fp(p,x)-y))).sum()\n",
    "\n",
    "# generating data with noise\n",
    "n = 30\n",
    "x = linspace(0,1,n)\n",
    "y = fp(real_p,x) + normal(0,0.05,n)\n",
    "\n",
    "# fitting the data with fmin\n",
    "p0 = rand(3) # initial parameter value\n",
    "\"\"\"\n",
    "parameter c0 c1 c2를 찾는다\n",
    "\"\"\"\n",
    "p_cg = fmin_cg(e, p0, args=(x,y))\n",
    "p_justmin = fmin(e,p0,args=(x,y)) \n",
    "print('estimater parameters in cg: ', p_cg)\n",
    "print('estimater parameters in cg: ', p_justmin)\n",
    "print('real parameters: ', real_p)\n",
    "\n",
    "xx = linspace(0,1,n*3)\n",
    "plot(x,y,'bo', xx,fp(real_p,xx),'g', xx, fp(p_cg,xx),'r',xx,fp(p_justmin,xx),'y')\n",
    "\n",
    "show()"
   ]
  },
  {
   "cell_type": "markdown",
   "metadata": {},
   "source": [
    "## Linear Regression Version"
   ]
  },
  {
   "cell_type": "code",
   "execution_count": 5,
   "metadata": {
    "scrolled": true
   },
   "outputs": [
    {
     "name": "stdout",
     "output_type": "stream",
     "text": [
      "Warning: Desired error not necessarily achieved due to precision loss.\n",
      "         Current function value: 0.218562\n",
      "         Iterations: 2\n",
      "         Function evaluations: 244\n",
      "         Gradient evaluations: 58\n",
      "Optimization terminated successfully.\n",
      "         Current function value: 0.218562\n",
      "         Iterations: 61\n",
      "         Function evaluations: 117\n",
      "estimater parameters in cg:  [ 0.99854465  1.0001381 ]\n",
      "estimater parameters in cg:  [ 0.99857798  1.00013781]\n",
      "real parameters:  [1, 1]\n"
     ]
    },
    {
     "data": {
      "image/png": "[encoded data removed]",
      "text/plain": [
       "<matplotlib.figure.Figure at 0x9f51240>"
      ]
     },
     "metadata": {},
     "output_type": "display_data"
    }
   ],
   "source": [
    "from scipy.optimize import fmin_cg\n",
    "\n",
    "f = lambda c,x: c[0] + c[1]*x\n",
    "real_p = [1,1];\n",
    "e = lambda p,x,y : ((f(p,x)-y)**2).sum();\n",
    "n = 100;\n",
    "x = np.arange(1,101)\n",
    "y = f(real_p,x) + normal(0,0.05,n);\n",
    "\n",
    "p0 = rand(2);\n",
    "\n",
    "p_cg = fmin_cg(e, p0, args=(x,y))\n",
    "p_justmin = fmin(e,p0,args=(x,y)) \n",
    "\n",
    "print('estimater parameters in cg: ', p_cg)\n",
    "print('estimater parameters in cg: ', p_justmin)\n",
    "print('real parameters: ', real_p)\n",
    "\n",
    "xx = linspace(0,1,n*3)\n",
    "plot(x,y,'bo', xx,f(real_p,xx),'g', xx, f(p_cg,xx),'r',xx,f(p_justmin,xx),'y')\n",
    "\n",
    "show()"
   ]
  },
  {
   "cell_type": "markdown",
   "metadata": {},
   "source": [
    "## example 2.15"
   ]
  },
  {
   "cell_type": "code",
   "execution_count": 6,
   "metadata": {
    "collapsed": true
   },
   "outputs": [],
   "source": [
    "f = lambda c,x: c[0]*x[0] + c[1]*x[1] + c[2]*x[2]"
   ]
  },
  {
   "cell_type": "code",
   "execution_count": 7,
   "metadata": {
    "collapsed": true
   },
   "outputs": [],
   "source": [
    "real_p = np.array([3,1,1])\n",
    "x = np.array([[4,-1,1],[-1,4,-2],[1,-2,4]])\n",
    "y=f(real_p,x)\n",
    "e= lambda p,x,y : 1/2*((np.transpose(p)@x)@p) - (y@p)"
   ]
  },
  {
   "cell_type": "code",
   "execution_count": 8,
   "metadata": {},
   "outputs": [
    {
     "name": "stdout",
     "output_type": "stream",
     "text": [
      "Optimization terminated successfully.\n",
      "         Current function value: -20.000000\n",
      "         Iterations: 3\n",
      "         Function evaluations: 35\n",
      "         Gradient evaluations: 7\n"
     ]
    },
    {
     "data": {
      "text/plain": [
       "array([ 3.00000005,  0.99999994,  1.00000001])"
      ]
     },
     "execution_count": 8,
     "metadata": {},
     "output_type": "execute_result"
    }
   ],
   "source": [
    "fmin_cg(e,np.array([0.0,0,0]),args=(x,y))"
   ]
  }
 ],
 "metadata": {
  "kernelspec": {
   "display_name": "Python 3",
   "language": "python",
   "name": "python3"
  },
  "language_info": {
   "codemirror_mode": {
    "name": "ipython",
    "version": 3
   },
   "file_extension": ".py",
   "mimetype": "text/x-python",
   "name": "python",
   "nbconvert_exporter": "python",
   "pygments_lexer": "ipython3",
   "version": "3.6.3"
  }
 },
 "nbformat": 4,
 "nbformat_minor": 2
}
