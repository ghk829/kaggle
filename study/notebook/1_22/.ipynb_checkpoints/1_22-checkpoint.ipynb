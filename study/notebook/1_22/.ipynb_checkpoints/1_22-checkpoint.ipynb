{
 "cells": [
  {
   "cell_type": "code",
   "execution_count": 1,
   "metadata": {
    "collapsed": true
   },
   "outputs": [],
   "source": [
    "from numpy import *\n",
    "import numpy as np"
   ]
  },
  {
   "cell_type": "code",
   "execution_count": 2,
   "metadata": {
    "collapsed": true
   },
   "outputs": [],
   "source": [
    "# 알아야 할 함수\n",
    "#1. Zip\n",
    "#2. type\n",
    "#3. isinstance(instance,class)"
   ]
  },
  {
   "cell_type": "markdown",
   "metadata": {},
   "source": [
    "### Q1: zip는 return값이 iteration이다. while loop를 이용하여 [1,2,3,4]와 [2,3,4,5]를 zip한 객체의 값들을 print해보자"
   ]
  },
  {
   "cell_type": "code",
   "execution_count": 3,
   "metadata": {},
   "outputs": [
    {
     "name": "stdout",
     "output_type": "stream",
     "text": [
      "(1, 2)\n",
      "(2, 3)\n",
      "(3, 4)\n",
      "(4, 5)\n"
     ]
    }
   ],
   "source": [
    "#Q1\n",
    "a = zip([1,2,3,4],[2,3,4,5]);\n",
    "flag =False;\n",
    "while(not flag):\n",
    "    try:\n",
    "        print(next(a));\n",
    "    except:\n",
    "        flag=True;"
   ]
  },
  {
   "cell_type": "markdown",
   "metadata": {},
   "source": [
    "### Q2 : 여닫이 기능과 숫자들을 하나씩 넣을 수 있는 container라는 class를 만들고, data는 list! 1,2,3을 차례차례 넣어보자"
   ]
  },
  {
   "cell_type": "code",
   "execution_count": 4,
   "metadata": {
    "collapsed": true
   },
   "outputs": [],
   "source": [
    "##Q2\n",
    "class container:\n",
    "    isOpen = False;\n",
    "    data = [];\n",
    "    def __init__(self):\n",
    "        pass;\n",
    "    def openOrShut(self):\n",
    "        self.isOpen = not self.isOpen;\n",
    "    def insertData(self,x):\n",
    "        if self.isOpen:\n",
    "            self.data.append(x);\n",
    "            print(self.data);\n",
    "        else:\n",
    "            print(\"Please Open the gate\")"
   ]
  },
  {
   "cell_type": "markdown",
   "metadata": {},
   "source": [
    "### Q3: isinstance를 통해 인스턴스화된 객체가 container class와 같은 지 확인해보자"
   ]
  },
  {
   "cell_type": "code",
   "execution_count": 5,
   "metadata": {},
   "outputs": [
    {
     "data": {
      "text/plain": [
       "True"
      ]
     },
     "execution_count": 5,
     "metadata": {},
     "output_type": "execute_result"
    }
   ],
   "source": [
    "#Q3\n",
    "con = container()\n",
    "type(con)\n",
    "isinstance(con,container)"
   ]
  },
  {
   "cell_type": "code",
   "execution_count": 6,
   "metadata": {
    "collapsed": true
   },
   "outputs": [],
   "source": [
    " # numpy 자료형부터 vectorto matrix\n",
    "v1 = array([1,2,3]);\n",
    "v2 = array([3,2,1]);"
   ]
  },
  {
   "cell_type": "code",
   "execution_count": 7,
   "metadata": {
    "scrolled": true
   },
   "outputs": [
    {
     "name": "stdout",
     "output_type": "stream",
     "text": [
      "10\n",
      "10\n",
      "10\n"
     ]
    }
   ],
   "source": [
    "# 제일 많이 쓸 함수 ! \n",
    "# dot\n",
    "print(dot(v1,v2));\n",
    "print(v1.dot(v2));\n",
    "print(v1 @ v2);"
   ]
  },
  {
   "cell_type": "markdown",
   "metadata": {},
   "source": [
    "### Q4 : for문을 이용하여 list와 list에 대한 dot product 함수 만들기"
   ]
  },
  {
   "cell_type": "code",
   "execution_count": 8,
   "metadata": {
    "collapsed": true
   },
   "outputs": [],
   "source": [
    "# Q4\n",
    "from functools import reduce\n",
    "def dot_product(list1,list2):\n",
    "    if len(list1)!=len(list2):\n",
    "        print(\"You can't do it\")\n",
    "    else:\n",
    "        return reduce(lambda x,y : x+y ,[com[0]*com[1] for com in zip(list1,list2)])"
   ]
  },
  {
   "cell_type": "code",
   "execution_count": 9,
   "metadata": {},
   "outputs": [
    {
     "name": "stdout",
     "output_type": "stream",
     "text": [
      "(3,)\n"
     ]
    }
   ],
   "source": [
    "# shape\n",
    "print(v1.shape);\n",
    "M = array([v1.tolist(),v2.tolist()]);"
   ]
  },
  {
   "cell_type": "code",
   "execution_count": 10,
   "metadata": {},
   "outputs": [
    {
     "name": "stdout",
     "output_type": "stream",
     "text": [
      "int32\n"
     ]
    }
   ],
   "source": [
    "# dtype\n",
    "print(M.dtype);"
   ]
  },
  {
   "cell_type": "code",
   "execution_count": 11,
   "metadata": {},
   "outputs": [
    {
     "name": "stdout",
     "output_type": "stream",
     "text": [
      "[[1 2]\n",
      " [3 3]\n",
      " [2 1]]\n",
      "[[1 2]\n",
      " [3 4]]\n",
      "[10  2  3  4]\n",
      "[1 2 3 4]\n"
     ]
    }
   ],
   "source": [
    "# reshape : Copy를 하지 않고, Reference.. 동일한 메모리 주소, view만 다름 ! copy method로 문제해결\n",
    "print(M.reshape(3,-1));\n",
    "v3 = array([1,2,3,4]);\n",
    "reshaped_v3 = v3.reshape(2,2);\n",
    "print(reshaped_v3);\n",
    "old_v3 = v3.copy();\n",
    "reshaped_v3[0,0]=10;\n",
    "print(v3);\n",
    "print(old_v3);"
   ]
  },
  {
   "cell_type": "code",
   "execution_count": 12,
   "metadata": {},
   "outputs": [
    {
     "name": "stdout",
     "output_type": "stream",
     "text": [
      "True\n",
      "True\n",
      "False\n"
     ]
    }
   ],
   "source": [
    "print(old_v3.base is None);\n",
    "print(v3.base is None);\n",
    "print(reshaped_v3.base is None);"
   ]
  },
  {
   "cell_type": "code",
   "execution_count": 13,
   "metadata": {},
   "outputs": [
    {
     "name": "stdout",
     "output_type": "stream",
     "text": [
      "[1 2 3 3 2 1]\n",
      "[[1 2 3]\n",
      " [3 2 1]]\n",
      "[[1 3]\n",
      " [2 2]\n",
      " [3 1]]\n"
     ]
    }
   ],
   "source": [
    "# stacking\n",
    "print(hstack([v1,v2]))\n",
    "print(vstack([v1,v2]));\n",
    "print(column_stack([v1,v2]));"
   ]
  },
  {
   "cell_type": "code",
   "execution_count": 14,
   "metadata": {},
   "outputs": [
    {
     "name": "stdout",
     "output_type": "stream",
     "text": [
      "[4 4 4]\n",
      "[6 6]\n"
     ]
    }
   ],
   "source": [
    "# sum\n",
    "print(M.sum(axis=0));\n",
    "print(M.sum(axis=1));"
   ]
  },
  {
   "cell_type": "code",
   "execution_count": 15,
   "metadata": {},
   "outputs": [
    {
     "name": "stdout",
     "output_type": "stream",
     "text": [
      "2\n",
      "2\n",
      "[1 2 3]\n",
      "[1 3]\n"
     ]
    }
   ],
   "source": [
    "# page 74 & 75\n",
    "print(M[0][1]);\n",
    "print(M[0,1]);\n",
    "print(M[0,:]);\n",
    "print(M[:,0]);"
   ]
  },
  {
   "cell_type": "code",
   "execution_count": 16,
   "metadata": {},
   "outputs": [
    {
     "name": "stdout",
     "output_type": "stream",
     "text": [
      "(2, 3)\n",
      "(3, 2)\n",
      "[[14 10]\n",
      " [10 14]]\n"
     ]
    }
   ],
   "source": [
    "# tanspose도 view임\n",
    "print(M.shape);\n",
    "print(M.transpose().shape);\n",
    "print(M @ M.transpose());"
   ]
  },
  {
   "cell_type": "code",
   "execution_count": 17,
   "metadata": {},
   "outputs": [
    {
     "name": "stdout",
     "output_type": "stream",
     "text": [
      "[1 2 3]\n",
      "[False  True  True]\n",
      "[2 3]\n",
      "[0 2 3]\n"
     ]
    }
   ],
   "source": [
    "# condition\n",
    "print(v1);\n",
    "print(array([0.1,0.2,0.3])>=0.2);\n",
    "print(v1[array([0.1,0.2,0.3])>=0.2]);\n",
    "#type casting\n",
    "print(where(v1>=2,v1,False));"
   ]
  },
  {
   "cell_type": "code",
   "execution_count": 18,
   "metadata": {
    "collapsed": true
   },
   "outputs": [],
   "source": [
    "# page 77,97,98쪽은 왠만하면 외우기"
   ]
  },
  {
   "cell_type": "code",
   "execution_count": 19,
   "metadata": {
    "collapsed": true
   },
   "outputs": [],
   "source": [
    "# Notebook에서 matplot 켤 때 inline으로 하면 좋음\n",
    "from matplotlib.pyplot import *\n",
    "%matplotlib inline"
   ]
  },
  {
   "cell_type": "code",
   "execution_count": 20,
   "metadata": {},
   "outputs": [
    {
     "data": {
      "image/png": "[encoded data removed]",
      "text/plain": [
       "<matplotlib.figure.Figure at 0x8b93048>"
      ]
     },
     "metadata": {},
     "output_type": "display_data"
    }
   ],
   "source": [
    "# red start로 찍는다\n",
    "x = linspace(-2*pi,2*pi,200)\n",
    "plot(x,sin(x))\n",
    "samples = x[::4]\n",
    "plot(samples,sin(samples),'r*')\n",
    "title('sin(x)')\n",
    "grid()"
   ]
  },
  {
   "cell_type": "code",
   "execution_count": 21,
   "metadata": {},
   "outputs": [
    {
     "data": {
      "text/plain": [
       "<matplotlib.legend.Legend at 0x94fce10>"
      ]
     },
     "execution_count": 21,
     "metadata": {},
     "output_type": "execute_result"
    },
    {
     "data": {
      "image/png": "[encoded data removed]",
      "text/plain": [
       "<matplotlib.figure.Figure at 0x5c24198>"
      ]
     },
     "metadata": {},
     "output_type": "display_data"
    }
   ],
   "source": [
    "# blue start로 찍는다\n",
    "x = range(5)\n",
    "y = [1,2,1,3,5]\n",
    "p2 = polyfit(x,y,2)\n",
    "p4 = polyfit(x,y,4)\n",
    "# plot the polynomials and points\n",
    "xx = linspace(-1,5,200)\n",
    "plot(xx, polyval(p2, xx), label='fitting polynomial of degree 2')\n",
    "plot(xx, polyval(p4, xx),label='interpolating polynomial of degree 4')\n",
    "plot(x,y,'b*')\n",
    "# set the axis and legend\n",
    "axis([-1,5,0,6])\n",
    "legend(loc='upper left', fontsize='small')"
   ]
  },
  {
   "cell_type": "markdown",
   "metadata": {},
   "source": [
    "# page 125쪽에서 plotting format 찾아서 하기"
   ]
  },
  {
   "cell_type": "markdown",
   "metadata": {},
   "source": [
    "# Function in OOP"
   ]
  },
  {
   "cell_type": "markdown",
   "metadata": {},
   "source": [
    "## Function args kwargs \n",
    "## generic \n",
    "## function Overloading \n",
    "## Object page : 173"
   ]
  },
  {
   "cell_type": "code",
   "execution_count": 22,
   "metadata": {
    "collapsed": true
   },
   "outputs": [],
   "source": [
    "from functools import singledispatch\n",
    "\n",
    "@singledispatch\n",
    "def fun(*args):\n",
    "    if args:\n",
    "        print(args);\n",
    "\n",
    "\n",
    "@fun.register(int)\n",
    "## x가 정수타입인 경우에는 fun은 아래 코드를 실행하게된다.\n",
    "def _(*args):\n",
    "    if args:\n",
    "        s = 0;\n",
    "        for a in args:\n",
    "            s+=a;\n",
    "        return s\n",
    "\n",
    "@fun.register(str)\n",
    "def _(*args):\n",
    "    if args:\n",
    "        s = \"\";\n",
    "        for a in args:\n",
    "            s+=a;\n",
    "        return s\n",
    "\n",
    "@fun.register(float)\n",
    "def _(*args):\n",
    "    if args:\n",
    "        s = 1.0;\n",
    "        for a in args:\n",
    "            s*=a;\n",
    "        return s"
   ]
  },
  {
   "cell_type": "markdown",
   "metadata": {},
   "source": [
    "# 함수형 프로그래밍 : 다음에 기회되면 Currying이랑 partial function"
   ]
  },
  {
   "cell_type": "markdown",
   "metadata": {},
   "source": [
    "## lambda"
   ]
  },
  {
   "cell_type": "code",
   "execution_count": 23,
   "metadata": {},
   "outputs": [
    {
     "name": "stdout",
     "output_type": "stream",
     "text": [
      "2\n",
      "8\n",
      "18\n"
     ]
    }
   ],
   "source": [
    "#Map & iterators\n",
    "result =map(lambda x,y : x**2 + y**2,[1,2,3],[1,2,3])\n",
    "for i in result:\n",
    "    print(i);"
   ]
  },
  {
   "cell_type": "code",
   "execution_count": 24,
   "metadata": {},
   "outputs": [
    {
     "name": "stdout",
     "output_type": "stream",
     "text": [
      "2\n",
      "8\n",
      "18\n"
     ]
    }
   ],
   "source": [
    "result =map(lambda x,y : x**2 + y**2,[1,2,3],[1,2,3])\n",
    "flag = True\n",
    "while(flag):\n",
    "    try:\n",
    "        print(next(result));\n",
    "    except:\n",
    "        flag=False;"
   ]
  },
  {
   "cell_type": "code",
   "execution_count": 25,
   "metadata": {},
   "outputs": [
    {
     "name": "stdout",
     "output_type": "stream",
     "text": [
      "15\n",
      "10\n"
     ]
    }
   ],
   "source": [
    "# reduce\n",
    "from functools import reduce\n",
    "\n",
    "result1 =reduce(lambda x,y:x+y,[1,2,3,4,5])\n",
    "print(result1)\n",
    "result2 = reduce(lambda a,b: a if a > b else b ,[1,10,2,3,4,5])\n",
    "print(result2)"
   ]
  },
  {
   "cell_type": "markdown",
   "metadata": {},
   "source": [
    "### Q5 : reduce를 이용하여 max 함수 구현하기"
   ]
  },
  {
   "cell_type": "code",
   "execution_count": 26,
   "metadata": {},
   "outputs": [
    {
     "data": {
      "text/plain": [
       "100"
      ]
     },
     "execution_count": 26,
     "metadata": {},
     "output_type": "execute_result"
    }
   ],
   "source": [
    "reduce(lambda x,y : x if x >y else y, [1,3,10,2,-1,100,5,2])"
   ]
  },
  {
   "cell_type": "code",
   "execution_count": 27,
   "metadata": {},
   "outputs": [
    {
     "name": "stdout",
     "output_type": "stream",
     "text": [
      "1\n",
      "3\n"
     ]
    }
   ],
   "source": [
    "# filter\n",
    "result = filter(lambda x : x >0,[-1,-2,1,3])\n",
    "for i in result:\n",
    "    print(i)"
   ]
  },
  {
   "cell_type": "markdown",
   "metadata": {},
   "source": [
    "### Q6 list를 이용하여 filter 함수 구현"
   ]
  },
  {
   "cell_type": "code",
   "execution_count": 28,
   "metadata": {},
   "outputs": [
    {
     "data": {
      "text/plain": [
       "[3, 4]"
      ]
     },
     "execution_count": 28,
     "metadata": {},
     "output_type": "execute_result"
    }
   ],
   "source": [
    "#Q6\n",
    "def filter2(func,list1):\n",
    "    a = [];\n",
    "    for index, dat in enumerate(list1):\n",
    "        if func(dat) :\n",
    "            a.append(dat);\n",
    "    return a;\n",
    "filter2(lambda x : x>2,[1,2,3,4])"
   ]
  },
  {
   "cell_type": "code",
   "execution_count": 29,
   "metadata": {},
   "outputs": [
    {
     "name": "stdout",
     "output_type": "stream",
     "text": [
      "2\n",
      "False\n",
      "4\n",
      "-----------------\n",
      "2\n",
      "4\n"
     ]
    }
   ],
   "source": [
    "# generators\n",
    "\n",
    "for i in map(lambda x: x if x % 2 == 0 else False,[2,3,4]):\n",
    "    print(i)\n",
    "print(\"-----------------\")\n",
    "for i in map(lambda x: (yield x) if x % 2 == 0 else False,[2,3,4]):\n",
    "    for key in i:\n",
    "        print(key);"
   ]
  },
  {
   "cell_type": "code",
   "execution_count": 30,
   "metadata": {
    "collapsed": true
   },
   "outputs": [],
   "source": [
    "def fibonacci(u0, u1):\n",
    "    yield u0\n",
    "    yield u1\n",
    "    while True:\n",
    "        u0, u1 = u1, u0+u1\n",
    "        yield u1"
   ]
  },
  {
   "cell_type": "code",
   "execution_count": 31,
   "metadata": {
    "scrolled": true
   },
   "outputs": [
    {
     "data": {
      "text/plain": [
       "[0, 1, 1, 2, 3, 5, 8, 13, 21, 34]"
      ]
     },
     "execution_count": 31,
     "metadata": {},
     "output_type": "execute_result"
    }
   ],
   "source": [
    "import itertools\n",
    "list(itertools.islice(fibonacci(0,1),10))"
   ]
  },
  {
   "cell_type": "markdown",
   "metadata": {
    "collapsed": true
   },
   "source": [
    "### Q7 : Lambda & Reduce 버전으로 fibonacci 함수 작성해보기 hint : reduce 세번째 parameter initial"
   ]
  },
  {
   "cell_type": "code",
   "execution_count": 32,
   "metadata": {
    "collapsed": true
   },
   "outputs": [],
   "source": [
    "def reduce(function, iterable, initializer=None):\n",
    "    it = iter(iterable)\n",
    "    if initializer is None:\n",
    "        value = next(it)\n",
    "    else:\n",
    "        value = initializer\n",
    "    for element in it:\n",
    "        value = function(value, element)\n",
    "    return value"
   ]
  },
  {
   "cell_type": "markdown",
   "metadata": {},
   "source": [
    "![fibonacci](https://images.fineartamerica.com/images-medium-large-5/fibonacci-sequence-equation-science-photo-library.jpg)"
   ]
  },
  {
   "cell_type": "code",
   "execution_count": 33,
   "metadata": {
    "collapsed": true
   },
   "outputs": [],
   "source": [
    "f=lambda n : reduce(lambda x,_ : x+[x[-1]+x[-2]],['_']*(n-2),[0,1])"
   ]
  },
  {
   "cell_type": "markdown",
   "metadata": {},
   "source": [
    "# Class Property 성질 : page 178"
   ]
  },
  {
   "cell_type": "markdown",
   "metadata": {},
   "source": [
    "# enumerate : index, element loop"
   ]
  },
  {
   "cell_type": "markdown",
   "metadata": {},
   "source": [
    "# try catch finally raise"
   ]
  },
  {
   "cell_type": "code",
   "execution_count": 34,
   "metadata": {},
   "outputs": [
    {
     "name": "stdout",
     "output_type": "stream",
     "text": [
      "못해요~\n"
     ]
    }
   ],
   "source": [
    "try:\n",
    "    list(object)\n",
    "except:\n",
    "    print(\"못해요~\")"
   ]
  },
  {
   "cell_type": "code",
   "execution_count": 35,
   "metadata": {
    "collapsed": true
   },
   "outputs": [],
   "source": [
    "def listPrint(list1):\n",
    "    try:\n",
    "        if len(list1) <2:\n",
    "            raise Exception(\"숫자가 너무 적어요;;~\")\n",
    "        else:\n",
    "            for i in list1:\n",
    "                print(i);\n",
    "    except Exception:\n",
    "        raise Exception(\"뭔가 이상해...\")\n",
    "        \n",
    "    finally:\n",
    "        print(\"끄읏~\")"
   ]
  },
  {
   "cell_type": "code",
   "execution_count": 36,
   "metadata": {},
   "outputs": [
    {
     "name": "stdout",
     "output_type": "stream",
     "text": [
      "끄읏~\n"
     ]
    },
    {
     "ename": "Exception",
     "evalue": "뭔가 이상해...",
     "output_type": "error",
     "traceback": [
      "\u001b[1;31m---------------------------------------------------------------------------\u001b[0m",
      "\u001b[1;31mException\u001b[0m                                 Traceback (most recent call last)",
      "\u001b[1;32m<ipython-input-35-ab80bda155c0>\u001b[0m in \u001b[0;36mlistPrint\u001b[1;34m(list1)\u001b[0m\n\u001b[0;32m      3\u001b[0m         \u001b[1;32mif\u001b[0m \u001b[0mlen\u001b[0m\u001b[1;33m(\u001b[0m\u001b[0mlist1\u001b[0m\u001b[1;33m)\u001b[0m \u001b[1;33m<\u001b[0m\u001b[1;36m2\u001b[0m\u001b[1;33m:\u001b[0m\u001b[1;33m\u001b[0m\u001b[0m\n\u001b[1;32m----> 4\u001b[1;33m             \u001b[1;32mraise\u001b[0m \u001b[0mException\u001b[0m\u001b[1;33m(\u001b[0m\u001b[1;34m\"숫자가 너무 적어요;;~\"\u001b[0m\u001b[1;33m)\u001b[0m\u001b[1;33m\u001b[0m\u001b[0m\n\u001b[0m\u001b[0;32m      5\u001b[0m         \u001b[1;32melse\u001b[0m\u001b[1;33m:\u001b[0m\u001b[1;33m\u001b[0m\u001b[0m\n",
      "\u001b[1;31mException\u001b[0m: 숫자가 너무 적어요;;~",
      "\nDuring handling of the above exception, another exception occurred:\n",
      "\u001b[1;31mException\u001b[0m                                 Traceback (most recent call last)",
      "\u001b[1;32m<ipython-input-36-22d68aa951ff>\u001b[0m in \u001b[0;36m<module>\u001b[1;34m()\u001b[0m\n\u001b[1;32m----> 1\u001b[1;33m \u001b[0mlistPrint\u001b[0m\u001b[1;33m(\u001b[0m\u001b[1;33m[\u001b[0m\u001b[1;36m1\u001b[0m\u001b[1;33m]\u001b[0m\u001b[1;33m)\u001b[0m\u001b[1;33m\u001b[0m\u001b[0m\n\u001b[0m",
      "\u001b[1;32m<ipython-input-35-ab80bda155c0>\u001b[0m in \u001b[0;36mlistPrint\u001b[1;34m(list1)\u001b[0m\n\u001b[0;32m      7\u001b[0m                 \u001b[0mprint\u001b[0m\u001b[1;33m(\u001b[0m\u001b[0mi\u001b[0m\u001b[1;33m)\u001b[0m\u001b[1;33m;\u001b[0m\u001b[1;33m\u001b[0m\u001b[0m\n\u001b[0;32m      8\u001b[0m     \u001b[1;32mexcept\u001b[0m \u001b[0mException\u001b[0m\u001b[1;33m:\u001b[0m\u001b[1;33m\u001b[0m\u001b[0m\n\u001b[1;32m----> 9\u001b[1;33m         \u001b[1;32mraise\u001b[0m \u001b[0mException\u001b[0m\u001b[1;33m(\u001b[0m\u001b[1;34m\"뭔가 이상해...\"\u001b[0m\u001b[1;33m)\u001b[0m\u001b[1;33m\u001b[0m\u001b[0m\n\u001b[0m\u001b[0;32m     10\u001b[0m \u001b[1;33m\u001b[0m\u001b[0m\n\u001b[0;32m     11\u001b[0m     \u001b[1;32mfinally\u001b[0m\u001b[1;33m:\u001b[0m\u001b[1;33m\u001b[0m\u001b[0m\n",
      "\u001b[1;31mException\u001b[0m: 뭔가 이상해..."
     ]
    }
   ],
   "source": [
    "listPrint([1])"
   ]
  },
  {
   "cell_type": "code",
   "execution_count": 37,
   "metadata": {},
   "outputs": [
    {
     "name": "stdout",
     "output_type": "stream",
     "text": [
      "끄읏~\n"
     ]
    },
    {
     "ename": "Exception",
     "evalue": "뭔가 이상해...",
     "output_type": "error",
     "traceback": [
      "\u001b[1;31m---------------------------------------------------------------------------\u001b[0m",
      "\u001b[1;31mTypeError\u001b[0m                                 Traceback (most recent call last)",
      "\u001b[1;32m<ipython-input-35-ab80bda155c0>\u001b[0m in \u001b[0;36mlistPrint\u001b[1;34m(list1)\u001b[0m\n\u001b[0;32m      2\u001b[0m     \u001b[1;32mtry\u001b[0m\u001b[1;33m:\u001b[0m\u001b[1;33m\u001b[0m\u001b[0m\n\u001b[1;32m----> 3\u001b[1;33m         \u001b[1;32mif\u001b[0m \u001b[0mlen\u001b[0m\u001b[1;33m(\u001b[0m\u001b[0mlist1\u001b[0m\u001b[1;33m)\u001b[0m \u001b[1;33m<\u001b[0m\u001b[1;36m2\u001b[0m\u001b[1;33m:\u001b[0m\u001b[1;33m\u001b[0m\u001b[0m\n\u001b[0m\u001b[0;32m      4\u001b[0m             \u001b[1;32mraise\u001b[0m \u001b[0mException\u001b[0m\u001b[1;33m(\u001b[0m\u001b[1;34m\"숫자가 너무 적어요;;~\"\u001b[0m\u001b[1;33m)\u001b[0m\u001b[1;33m\u001b[0m\u001b[0m\n",
      "\u001b[1;31mTypeError\u001b[0m: object of type 'int' has no len()",
      "\nDuring handling of the above exception, another exception occurred:\n",
      "\u001b[1;31mException\u001b[0m                                 Traceback (most recent call last)",
      "\u001b[1;32m<ipython-input-37-4cd379e148f5>\u001b[0m in \u001b[0;36m<module>\u001b[1;34m()\u001b[0m\n\u001b[1;32m----> 1\u001b[1;33m \u001b[0mlistPrint\u001b[0m\u001b[1;33m(\u001b[0m\u001b[1;36m3\u001b[0m\u001b[1;33m)\u001b[0m\u001b[1;33m\u001b[0m\u001b[0m\n\u001b[0m",
      "\u001b[1;32m<ipython-input-35-ab80bda155c0>\u001b[0m in \u001b[0;36mlistPrint\u001b[1;34m(list1)\u001b[0m\n\u001b[0;32m      7\u001b[0m                 \u001b[0mprint\u001b[0m\u001b[1;33m(\u001b[0m\u001b[0mi\u001b[0m\u001b[1;33m)\u001b[0m\u001b[1;33m;\u001b[0m\u001b[1;33m\u001b[0m\u001b[0m\n\u001b[0;32m      8\u001b[0m     \u001b[1;32mexcept\u001b[0m \u001b[0mException\u001b[0m\u001b[1;33m:\u001b[0m\u001b[1;33m\u001b[0m\u001b[0m\n\u001b[1;32m----> 9\u001b[1;33m         \u001b[1;32mraise\u001b[0m \u001b[0mException\u001b[0m\u001b[1;33m(\u001b[0m\u001b[1;34m\"뭔가 이상해...\"\u001b[0m\u001b[1;33m)\u001b[0m\u001b[1;33m\u001b[0m\u001b[0m\n\u001b[0m\u001b[0;32m     10\u001b[0m \u001b[1;33m\u001b[0m\u001b[0m\n\u001b[0;32m     11\u001b[0m     \u001b[1;32mfinally\u001b[0m\u001b[1;33m:\u001b[0m\u001b[1;33m\u001b[0m\u001b[0m\n",
      "\u001b[1;31mException\u001b[0m: 뭔가 이상해..."
     ]
    }
   ],
   "source": [
    "listPrint(3)"
   ]
  },
  {
   "cell_type": "code",
   "execution_count": 38,
   "metadata": {},
   "outputs": [
    {
     "name": "stdout",
     "output_type": "stream",
     "text": [
      "1\n",
      "2\n",
      "3\n",
      "끄읏~\n"
     ]
    }
   ],
   "source": [
    "listPrint([1,2,3])"
   ]
  },
  {
   "cell_type": "markdown",
   "metadata": {},
   "source": [
    "# page 216쪽 error Handling"
   ]
  },
  {
   "cell_type": "markdown",
   "metadata": {},
   "source": [
    "# scope"
   ]
  },
  {
   "cell_type": "code",
   "execution_count": 39,
   "metadata": {
    "collapsed": true
   },
   "outputs": [],
   "source": [
    "a = 1;\n",
    "def func1():\n",
    "    print(a);\n",
    "    print(dir())"
   ]
  },
  {
   "cell_type": "code",
   "execution_count": 40,
   "metadata": {},
   "outputs": [
    {
     "name": "stdout",
     "output_type": "stream",
     "text": [
      "1\n",
      "[]\n"
     ]
    }
   ],
   "source": [
    "func1()"
   ]
  },
  {
   "cell_type": "code",
   "execution_count": 41,
   "metadata": {
    "collapsed": true
   },
   "outputs": [],
   "source": [
    "def func2():\n",
    "    a=2;\n",
    "    print(a)\n",
    "    print(dir())"
   ]
  },
  {
   "cell_type": "code",
   "execution_count": 42,
   "metadata": {
    "collapsed": true
   },
   "outputs": [],
   "source": [
    "del a"
   ]
  },
  {
   "cell_type": "code",
   "execution_count": 43,
   "metadata": {
    "collapsed": true
   },
   "outputs": [],
   "source": [
    "a = 1;\n",
    "def func3():\n",
    "    a=2;\n",
    "    def func4():\n",
    "        a=3;\n",
    "        print(a);\n",
    "    print(a);\n",
    "    func4();"
   ]
  },
  {
   "cell_type": "code",
   "execution_count": 44,
   "metadata": {},
   "outputs": [
    {
     "name": "stdout",
     "output_type": "stream",
     "text": [
      "2\n",
      "3\n"
     ]
    }
   ],
   "source": [
    "func3()"
   ]
  },
  {
   "cell_type": "code",
   "execution_count": 45,
   "metadata": {
    "collapsed": true
   },
   "outputs": [],
   "source": [
    "a=1\n",
    "def func4():\n",
    "    global a;\n",
    "    a=2\n",
    "    print(a);"
   ]
  },
  {
   "cell_type": "code",
   "execution_count": 46,
   "metadata": {},
   "outputs": [
    {
     "name": "stdout",
     "output_type": "stream",
     "text": [
      "2\n"
     ]
    },
    {
     "data": {
      "text/plain": [
       "2"
      ]
     },
     "execution_count": 46,
     "metadata": {},
     "output_type": "execute_result"
    }
   ],
   "source": [
    "func4();\n",
    "a"
   ]
  },
  {
   "cell_type": "code",
   "execution_count": null,
   "metadata": {
    "collapsed": true
   },
   "outputs": [],
   "source": []
  }
 ],
 "metadata": {
  "kernelspec": {
   "display_name": "Python 3",
   "language": "python",
   "name": "python3"
  },
  "language_info": {
   "codemirror_mode": {
    "name": "ipython",
    "version": 3
   },
   "file_extension": ".py",
   "mimetype": "text/x-python",
   "name": "python",
   "nbconvert_exporter": "python",
   "pygments_lexer": "ipython3",
   "version": "3.6.3"
  }
 },
 "nbformat": 4,
 "nbformat_minor": 2
}
