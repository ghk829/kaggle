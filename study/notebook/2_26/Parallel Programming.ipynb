{
 "cells": [
  {
   "cell_type": "markdown",
   "metadata": {},
   "source": [
    "# NewtonRaphson Method\n",
    "## 초기값에 따라 Return하는 X의 값이 다름\n",
    "### 이를 해결하는데 여러가지 솔루션이 제시될 수 있으나, 컴퓨팅 파워가 좋다는 전제하에 병렬처리 제시"
   ]
  },
  {
   "cell_type": "code",
   "execution_count": 18,
   "metadata": {
    "collapsed": true
   },
   "outputs": [],
   "source": [
    "#Override\n",
    "def newtonRaphson(x,tol=1.0e-9):\n",
    "    # Python에서 arguments로 function을 활용하기가 힘든 것 같음...\n",
    "    def f(x):\n",
    "        return x*x-1\n",
    "    def jacobian(f,x):\n",
    "        h = 1.0e-4\n",
    "        n = len(x)\n",
    "        jac = np.zeros((n,n))\n",
    "        f0 = f(x)\n",
    "        for i in range(n):\n",
    "            temp = x[i]\n",
    "            x[i] = temp + h\n",
    "            f1 = f(x)\n",
    "            x[i] = temp\n",
    "            jac[:,i] = (f1 - f0)/h\n",
    "        return jac,f0\n",
    "    \n",
    "    for i in range(30):\n",
    "        jac,f0 = jacobian(f,x)\n",
    "        if math.sqrt(np.dot(f0,f0)/len(x)) < tol:\n",
    "            print(x)\n",
    "        dx = gaussPivot(jac,-f0)\n",
    "        x = x + dx\n",
    "        if math.sqrt(np.dot(dx,dx)) < tol*max(max(abs(x)),1.0): return x\n",
    "    print('Too many iterations')"
   ]
  },
  {
   "cell_type": "code",
   "execution_count": 20,
   "metadata": {},
   "outputs": [],
   "source": [
    "# 병렬처리 Main\n",
    "numbers = [np.array([-100.0]),np.array([100.0])]\n",
    "procs = []\n",
    "\n",
    "for index, number in enumerate(numbers):\n",
    "    proc = Process(target=newtonRaphson, args=(number,))\n",
    "    procs.append(proc)\n",
    "    proc.start()\n",
    "\n",
    "for proc in procs:\n",
    "    proc.join()"
   ]
  },
  {
   "cell_type": "code",
   "execution_count": 56,
   "metadata": {
    "collapsed": true
   },
   "outputs": [],
   "source": [
    "?Process"
   ]
  },
  {
   "cell_type": "code",
   "execution_count": null,
   "metadata": {
    "collapsed": true
   },
   "outputs": [],
   "source": []
  }
 ],
 "metadata": {
  "kernelspec": {
   "display_name": "Python 3",
   "language": "python",
   "name": "python3"
  },
  "language_info": {
   "codemirror_mode": {
    "name": "ipython",
    "version": 3
   },
   "file_extension": ".py",
   "mimetype": "text/x-python",
   "name": "python",
   "nbconvert_exporter": "python",
   "pygments_lexer": "ipython3",
   "version": "3.6.3"
  }
 },
 "nbformat": 4,
 "nbformat_minor": 2
}
