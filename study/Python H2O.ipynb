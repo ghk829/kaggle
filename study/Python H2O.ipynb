{
 "cells": [
  {
   "cell_type": "code",
   "execution_count": 3,
   "metadata": {},
   "outputs": [],
   "source": [
    "import h2o\n",
    "import matplotlib.pyplot as plt"
   ]
  },
  {
   "cell_type": "code",
   "execution_count": 4,
   "metadata": {},
   "outputs": [
    {
     "name": "stdout",
     "output_type": "stream",
     "text": [
      "Checking whether there is an H2O instance running at http://localhost:54321. connected.\n"
     ]
    },
    {
     "data": {
      "text/html": [
       "<div style=\"overflow:auto\"><table style=\"width:50%\"><tr><td>H2O cluster uptime:</td>\n",
       "<td>2 hours 6 mins</td></tr>\n",
       "<tr><td>H2O cluster version:</td>\n",
       "<td>3.14.0.2</td></tr>\n",
       "<tr><td>H2O cluster version age:</td>\n",
       "<td>13 days </td></tr>\n",
       "<tr><td>H2O cluster name:</td>\n",
       "<td>H2O_from_python_ghk829_ibliv1</td></tr>\n",
       "<tr><td>H2O cluster total nodes:</td>\n",
       "<td>1</td></tr>\n",
       "<tr><td>H2O cluster free memory:</td>\n",
       "<td>7.680 Gb</td></tr>\n",
       "<tr><td>H2O cluster total cores:</td>\n",
       "<td>1</td></tr>\n",
       "<tr><td>H2O cluster allowed cores:</td>\n",
       "<td>1</td></tr>\n",
       "<tr><td>H2O cluster status:</td>\n",
       "<td>locked, healthy</td></tr>\n",
       "<tr><td>H2O connection url:</td>\n",
       "<td>http://localhost:54321</td></tr>\n",
       "<tr><td>H2O connection proxy:</td>\n",
       "<td>None</td></tr>\n",
       "<tr><td>H2O internal security:</td>\n",
       "<td>False</td></tr>\n",
       "<tr><td>H2O API Extensions:</td>\n",
       "<td>XGBoost, Algos, AutoML, Core V3, Core V4</td></tr>\n",
       "<tr><td>Python version:</td>\n",
       "<td>2.7.13 final</td></tr></table></div>"
      ],
      "text/plain": [
       "--------------------------  ----------------------------------------\n",
       "H2O cluster uptime:         2 hours 6 mins\n",
       "H2O cluster version:        3.14.0.2\n",
       "H2O cluster version age:    13 days\n",
       "H2O cluster name:           H2O_from_python_ghk829_ibliv1\n",
       "H2O cluster total nodes:    1\n",
       "H2O cluster free memory:    7.680 Gb\n",
       "H2O cluster total cores:    1\n",
       "H2O cluster allowed cores:  1\n",
       "H2O cluster status:         locked, healthy\n",
       "H2O connection url:         http://localhost:54321\n",
       "H2O connection proxy:\n",
       "H2O internal security:      False\n",
       "H2O API Extensions:         XGBoost, Algos, AutoML, Core V3, Core V4\n",
       "Python version:             2.7.13 final\n",
       "--------------------------  ----------------------------------------"
      ]
     },
     "metadata": {},
     "output_type": "display_data"
    }
   ],
   "source": [
    "h2o.init(nthreads = -1, max_mem_size = 8)"
   ]
  },
  {
   "cell_type": "code",
   "execution_count": 5,
   "metadata": {
    "collapsed": true
   },
   "outputs": [],
   "source": [
    "url = \"https://archive.ics.uci.edu/ml/machine-learning-databases/pima-indians-diabetes/pima-indians-diabetes.data\""
   ]
  },
  {
   "cell_type": "code",
   "execution_count": 6,
   "metadata": {},
   "outputs": [
    {
     "name": "stdout",
     "output_type": "stream",
     "text": [
      "Parse progress: |█████████████████████████████████████████████████████████| 100%\n"
     ]
    }
   ],
   "source": [
    "df = h2o.import_file(url)"
   ]
  },
  {
   "cell_type": "code",
   "execution_count": 7,
   "metadata": {
    "collapsed": true
   },
   "outputs": [],
   "source": [
    "df['C9'] = df['C9'].asfactor()"
   ]
  },
  {
   "cell_type": "code",
   "execution_count": 8,
   "metadata": {},
   "outputs": [
    {
     "data": {
      "text/plain": [
       "[['0', '1']]"
      ]
     },
     "execution_count": 8,
     "metadata": {},
     "output_type": "execute_result"
    }
   ],
   "source": [
    "df['C9'].levels()"
   ]
  },
  {
   "cell_type": "code",
   "execution_count": 9,
   "metadata": {
    "collapsed": true
   },
   "outputs": [],
   "source": [
    "splits = df.split_frame(ratios=[0.7, 0.15]) "
   ]
  },
  {
   "cell_type": "code",
   "execution_count": 10,
   "metadata": {
    "collapsed": true
   },
   "outputs": [],
   "source": [
    "train = splits[0]\n",
    "valid = splits[1]\n",
    "test = splits[2]"
   ]
  },
  {
   "cell_type": "code",
   "execution_count": 11,
   "metadata": {
    "collapsed": true
   },
   "outputs": [],
   "source": [
    "x_names= df.col_names[0:8]\n",
    "y_names = df.col_names[8]"
   ]
  },
  {
   "cell_type": "code",
   "execution_count": 12,
   "metadata": {
    "collapsed": true
   },
   "outputs": [],
   "source": [
    "from h2o.estimators.random_forest import H2ORandomForestEstimator"
   ]
  },
  {
   "cell_type": "code",
   "execution_count": 13,
   "metadata": {
    "collapsed": true
   },
   "outputs": [],
   "source": [
    "fit1 = H2ORandomForestEstimator(model_id = 'fit1')"
   ]
  },
  {
   "cell_type": "code",
   "execution_count": 14,
   "metadata": {},
   "outputs": [
    {
     "name": "stdout",
     "output_type": "stream",
     "text": [
      "drf Model Build progress: |███████████████████████████████████████████████| 100%\n"
     ]
    }
   ],
   "source": [
    "fit1.train(x=x_names, y=y_names, training_frame=train)"
   ]
  },
  {
   "cell_type": "code",
   "execution_count": 16,
   "metadata": {
    "scrolled": true
   },
   "outputs": [
    {
     "name": "stdout",
     "output_type": "stream",
     "text": [
      "\n",
      "ModelMetricsBinomial: drf\n",
      "** Reported on train data. **\n",
      "\n",
      "MSE: 0.166322744229\n",
      "RMSE: 0.407826855698\n",
      "LogLoss: 0.616820703646\n",
      "Mean Per-Class Error: 0.24445937389\n",
      "AUC: 0.815209501305\n",
      "Gini: 0.63041900261\n",
      "Confusion Matrix (Act/Pred) for max f1 @ threshold = 0.428571428571: \n"
     ]
    },
    {
     "data": {
      "text/html": [
       "<div style=\"overflow:auto\"><table style=\"width:50%\"><tr><td><b></b></td>\n",
       "<td><b>0</b></td>\n",
       "<td><b>1</b></td>\n",
       "<td><b>Error</b></td>\n",
       "<td><b>Rate</b></td></tr>\n",
       "<tr><td>0</td>\n",
       "<td>262.0</td>\n",
       "<td>77.0</td>\n",
       "<td>0.2271</td>\n",
       "<td> (77.0/339.0)</td></tr>\n",
       "<tr><td>1</td>\n",
       "<td>50.0</td>\n",
       "<td>141.0</td>\n",
       "<td>0.2618</td>\n",
       "<td> (50.0/191.0)</td></tr>\n",
       "<tr><td>Total</td>\n",
       "<td>312.0</td>\n",
       "<td>218.0</td>\n",
       "<td>0.2396</td>\n",
       "<td> (127.0/530.0)</td></tr></table></div>"
      ],
      "text/plain": [
       "       0    1    Error    Rate\n",
       "-----  ---  ---  -------  -------------\n",
       "0      262  77   0.2271   (77.0/339.0)\n",
       "1      50   141  0.2618   (50.0/191.0)\n",
       "Total  312  218  0.2396   (127.0/530.0)"
      ]
     },
     "metadata": {},
     "output_type": "display_data"
    },
    {
     "name": "stdout",
     "output_type": "stream",
     "text": [
      "Maximum Metrics: Maximum metrics at their respective thresholds\n",
      "\n"
     ]
    },
    {
     "data": {
      "text/html": [
       "<div style=\"overflow:auto\"><table style=\"width:50%\"><tr><td><b>metric</b></td>\n",
       "<td><b>threshold</b></td>\n",
       "<td><b>value</b></td>\n",
       "<td><b>idx</b></td></tr>\n",
       "<tr><td>max f1</td>\n",
       "<td>0.4285714</td>\n",
       "<td>0.6894866</td>\n",
       "<td>99.0</td></tr>\n",
       "<tr><td>max f2</td>\n",
       "<td>0.2105933</td>\n",
       "<td>0.7959744</td>\n",
       "<td>152.0</td></tr>\n",
       "<tr><td>max f0point5</td>\n",
       "<td>0.5454545</td>\n",
       "<td>0.6859206</td>\n",
       "<td>75.0</td></tr>\n",
       "<tr><td>max accuracy</td>\n",
       "<td>0.5263158</td>\n",
       "<td>0.7698113</td>\n",
       "<td>81.0</td></tr>\n",
       "<tr><td>max precision</td>\n",
       "<td>1.0</td>\n",
       "<td>1.0</td>\n",
       "<td>0.0</td></tr>\n",
       "<tr><td>max recall</td>\n",
       "<td>0.0</td>\n",
       "<td>1.0</td>\n",
       "<td>211.0</td></tr>\n",
       "<tr><td>max specificity</td>\n",
       "<td>1.0</td>\n",
       "<td>1.0</td>\n",
       "<td>0.0</td></tr>\n",
       "<tr><td>max absolute_mcc</td>\n",
       "<td>0.4666667</td>\n",
       "<td>0.5054772</td>\n",
       "<td>89.0</td></tr>\n",
       "<tr><td>max min_per_class_accuracy</td>\n",
       "<td>0.4</td>\n",
       "<td>0.7486911</td>\n",
       "<td>105.0</td></tr>\n",
       "<tr><td>max mean_per_class_accuracy</td>\n",
       "<td>0.4285714</td>\n",
       "<td>0.7555406</td>\n",
       "<td>99.0</td></tr></table></div>"
      ],
      "text/plain": [
       "metric                       threshold    value     idx\n",
       "---------------------------  -----------  --------  -----\n",
       "max f1                       0.428571     0.689487  99\n",
       "max f2                       0.210593     0.795974  152\n",
       "max f0point5                 0.545455     0.685921  75\n",
       "max accuracy                 0.526316     0.769811  81\n",
       "max precision                1            1         0\n",
       "max recall                   0            1         211\n",
       "max specificity              1            1         0\n",
       "max absolute_mcc             0.466667     0.505477  89\n",
       "max min_per_class_accuracy   0.4          0.748691  105\n",
       "max mean_per_class_accuracy  0.428571     0.755541  99"
      ]
     },
     "metadata": {},
     "output_type": "display_data"
    },
    {
     "name": "stdout",
     "output_type": "stream",
     "text": [
      "Gains/Lift Table: Avg response rate: 36.04 %\n",
      "\n"
     ]
    },
    {
     "data": {
      "text/html": [
       "<div style=\"overflow:auto\"><table style=\"width:50%\"><tr><td><b></b></td>\n",
       "<td><b>group</b></td>\n",
       "<td><b>cumulative_data_fraction</b></td>\n",
       "<td><b>lower_threshold</b></td>\n",
       "<td><b>lift</b></td>\n",
       "<td><b>cumulative_lift</b></td>\n",
       "<td><b>response_rate</b></td>\n",
       "<td><b>cumulative_response_rate</b></td>\n",
       "<td><b>capture_rate</b></td>\n",
       "<td><b>cumulative_capture_rate</b></td>\n",
       "<td><b>gain</b></td>\n",
       "<td><b>cumulative_gain</b></td></tr>\n",
       "<tr><td></td>\n",
       "<td>1</td>\n",
       "<td>0.0245283</td>\n",
       "<td>0.96</td>\n",
       "<td>2.7748691</td>\n",
       "<td>2.7748691</td>\n",
       "<td>1.0</td>\n",
       "<td>1.0</td>\n",
       "<td>0.0680628</td>\n",
       "<td>0.0680628</td>\n",
       "<td>177.4869110</td>\n",
       "<td>177.4869110</td></tr>\n",
       "<tr><td></td>\n",
       "<td>2</td>\n",
       "<td>0.0528302</td>\n",
       "<td>0.94</td>\n",
       "<td>2.7748691</td>\n",
       "<td>2.7748691</td>\n",
       "<td>1.0</td>\n",
       "<td>1.0</td>\n",
       "<td>0.0785340</td>\n",
       "<td>0.1465969</td>\n",
       "<td>177.4869110</td>\n",
       "<td>177.4869110</td></tr>\n",
       "<tr><td></td>\n",
       "<td>3</td>\n",
       "<td>0.1018868</td>\n",
       "<td>0.9</td>\n",
       "<td>2.7748691</td>\n",
       "<td>2.7748691</td>\n",
       "<td>1.0</td>\n",
       "<td>1.0</td>\n",
       "<td>0.1361257</td>\n",
       "<td>0.2827225</td>\n",
       "<td>177.4869110</td>\n",
       "<td>177.4869110</td></tr>\n",
       "<tr><td></td>\n",
       "<td>4</td>\n",
       "<td>0.1792453</td>\n",
       "<td>0.86</td>\n",
       "<td>2.7748691</td>\n",
       "<td>2.7748691</td>\n",
       "<td>1.0</td>\n",
       "<td>1.0</td>\n",
       "<td>0.2146597</td>\n",
       "<td>0.4973822</td>\n",
       "<td>177.4869110</td>\n",
       "<td>177.4869110</td></tr>\n",
       "<tr><td></td>\n",
       "<td>5</td>\n",
       "<td>0.2</td>\n",
       "<td>0.8357131</td>\n",
       "<td>2.7748691</td>\n",
       "<td>2.7748691</td>\n",
       "<td>1.0</td>\n",
       "<td>1.0</td>\n",
       "<td>0.0575916</td>\n",
       "<td>0.5549738</td>\n",
       "<td>177.4869110</td>\n",
       "<td>177.4869110</td></tr>\n",
       "<tr><td></td>\n",
       "<td>6</td>\n",
       "<td>0.3</td>\n",
       "<td>0.7353333</td>\n",
       "<td>2.7748691</td>\n",
       "<td>2.7748691</td>\n",
       "<td>1.0</td>\n",
       "<td>1.0</td>\n",
       "<td>0.2774869</td>\n",
       "<td>0.8324607</td>\n",
       "<td>177.4869110</td>\n",
       "<td>177.4869110</td></tr>\n",
       "<tr><td></td>\n",
       "<td>7</td>\n",
       "<td>0.4094340</td>\n",
       "<td>0.26</td>\n",
       "<td>1.5309623</td>\n",
       "<td>2.4423963</td>\n",
       "<td>0.5517241</td>\n",
       "<td>0.8801843</td>\n",
       "<td>0.1675393</td>\n",
       "<td>1.0</td>\n",
       "<td>53.0962268</td>\n",
       "<td>144.2396313</td></tr>\n",
       "<tr><td></td>\n",
       "<td>8</td>\n",
       "<td>0.5037736</td>\n",
       "<td>0.16</td>\n",
       "<td>0.0</td>\n",
       "<td>1.9850187</td>\n",
       "<td>0.0</td>\n",
       "<td>0.7153558</td>\n",
       "<td>0.0</td>\n",
       "<td>1.0</td>\n",
       "<td>-100.0</td>\n",
       "<td>98.5018727</td></tr>\n",
       "<tr><td></td>\n",
       "<td>9</td>\n",
       "<td>0.6264151</td>\n",
       "<td>0.1</td>\n",
       "<td>0.0</td>\n",
       "<td>1.5963855</td>\n",
       "<td>0.0</td>\n",
       "<td>0.5753012</td>\n",
       "<td>0.0</td>\n",
       "<td>1.0</td>\n",
       "<td>-100.0</td>\n",
       "<td>59.6385542</td></tr>\n",
       "<tr><td></td>\n",
       "<td>10</td>\n",
       "<td>0.7207547</td>\n",
       "<td>0.06</td>\n",
       "<td>0.0</td>\n",
       "<td>1.3874346</td>\n",
       "<td>0.0</td>\n",
       "<td>0.5</td>\n",
       "<td>0.0</td>\n",
       "<td>1.0</td>\n",
       "<td>-100.0</td>\n",
       "<td>38.7434555</td></tr>\n",
       "<tr><td></td>\n",
       "<td>11</td>\n",
       "<td>0.8</td>\n",
       "<td>0.0383203</td>\n",
       "<td>0.0</td>\n",
       "<td>1.25</td>\n",
       "<td>0.0</td>\n",
       "<td>0.4504717</td>\n",
       "<td>0.0</td>\n",
       "<td>1.0</td>\n",
       "<td>-100.0</td>\n",
       "<td>25.0</td></tr>\n",
       "<tr><td></td>\n",
       "<td>12</td>\n",
       "<td>0.9132075</td>\n",
       "<td>0.0030303</td>\n",
       "<td>0.0</td>\n",
       "<td>1.0950413</td>\n",
       "<td>0.0</td>\n",
       "<td>0.3946281</td>\n",
       "<td>0.0</td>\n",
       "<td>1.0</td>\n",
       "<td>-100.0</td>\n",
       "<td>9.5041322</td></tr>\n",
       "<tr><td></td>\n",
       "<td>13</td>\n",
       "<td>1.0</td>\n",
       "<td>0.0</td>\n",
       "<td>0.0</td>\n",
       "<td>1.0</td>\n",
       "<td>0.0</td>\n",
       "<td>0.3603774</td>\n",
       "<td>0.0</td>\n",
       "<td>1.0</td>\n",
       "<td>-100.0</td>\n",
       "<td>0.0</td></tr></table></div>"
      ],
      "text/plain": [
       "    group    cumulative_data_fraction    lower_threshold    lift     cumulative_lift    response_rate    cumulative_response_rate    capture_rate    cumulative_capture_rate    gain     cumulative_gain\n",
       "--  -------  --------------------------  -----------------  -------  -----------------  ---------------  --------------------------  --------------  -------------------------  -------  -----------------\n",
       "    1        0.0245283                   0.96               2.77487  2.77487            1                1                           0.0680628       0.0680628                  177.487  177.487\n",
       "    2        0.0528302                   0.94               2.77487  2.77487            1                1                           0.078534        0.146597                   177.487  177.487\n",
       "    3        0.101887                    0.9                2.77487  2.77487            1                1                           0.136126        0.282723                   177.487  177.487\n",
       "    4        0.179245                    0.86               2.77487  2.77487            1                1                           0.21466         0.497382                   177.487  177.487\n",
       "    5        0.2                         0.835713           2.77487  2.77487            1                1                           0.0575916       0.554974                   177.487  177.487\n",
       "    6        0.3                         0.735333           2.77487  2.77487            1                1                           0.277487        0.832461                   177.487  177.487\n",
       "    7        0.409434                    0.26               1.53096  2.4424             0.551724         0.880184                    0.167539        1                          53.0962  144.24\n",
       "    8        0.503774                    0.16               0        1.98502            0                0.715356                    0               1                          -100     98.5019\n",
       "    9        0.626415                    0.1                0        1.59639            0                0.575301                    0               1                          -100     59.6386\n",
       "    10       0.720755                    0.06               0        1.38743            0                0.5                         0               1                          -100     38.7435\n",
       "    11       0.8                         0.0383203          0        1.25               0                0.450472                    0               1                          -100     25\n",
       "    12       0.913208                    0.0030303          0        1.09504            0                0.394628                    0               1                          -100     9.50413\n",
       "    13       1                           0                  0        1                  0                0.360377                    0               1                          -100     0"
      ]
     },
     "metadata": {},
     "output_type": "display_data"
    },
    {
     "name": "stdout",
     "output_type": "stream",
     "text": [
      "\n"
     ]
    },
    {
     "data": {
      "text/plain": []
     },
     "execution_count": 16,
     "metadata": {},
     "output_type": "execute_result"
    }
   ],
   "source": [
    "fit1.model_performance()"
   ]
  },
  {
   "cell_type": "markdown",
   "metadata": {},
   "source": [
    "# Pandas to H2o"
   ]
  },
  {
   "cell_type": "code",
   "execution_count": 18,
   "metadata": {},
   "outputs": [],
   "source": [
    "import pandas as pd\n",
    "df=pd.read_csv(url,header=None,names=['col1','col2','col3','col4','col5','col6','col7','col8'])"
   ]
  },
  {
   "cell_type": "code",
   "execution_count": 23,
   "metadata": {},
   "outputs": [
    {
     "name": "stdout",
     "output_type": "stream",
     "text": [
      "Parse progress: |█████████████████████████████████████████████████████████| 100%\n"
     ]
    }
   ],
   "source": [
    "df=h2o.H2OFrame(python_obj=df.to_dict(\"list\"))"
   ]
  },
  {
   "cell_type": "code",
   "execution_count": null,
   "metadata": {
    "collapsed": true
   },
   "outputs": [],
   "source": []
  }
 ],
 "metadata": {
  "kernelspec": {
   "display_name": "Python 2",
   "language": "python",
   "name": "python2"
  },
  "language_info": {
   "codemirror_mode": {
    "name": "ipython",
    "version": 2
   },
   "file_extension": ".py",
   "mimetype": "text/x-python",
   "name": "python",
   "nbconvert_exporter": "python",
   "pygments_lexer": "ipython2",
   "version": "2.7.13"
  }
 },
 "nbformat": 4,
 "nbformat_minor": 2
}
